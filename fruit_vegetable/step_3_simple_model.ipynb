{
 "cells": [
  {
   "cell_type": "code",
   "execution_count": 1,
   "id": "cac404c2",
   "metadata": {},
   "outputs": [
    {
     "name": "stderr",
     "output_type": "stream",
     "text": [
      "Using TensorFlow backend.\n"
     ]
    }
   ],
   "source": [
    "import numpy as np\n",
    "import pandas as pd\n",
    "import matplotlib.pyplot as plt\n",
    "# import keras library\n",
    "import keras\n",
    "# import Sequential from the keras models module\n",
    "from keras import Sequential\n",
    "# import Dense, Dropout, Flatten, Conv2D, MaxPooling2D from the keras layers module\n",
    "from keras.layers import Dense,Flatten, Conv2D, MaxPooling2D\n",
    "from keras.optimizers import Adam\n",
    "from keras.callbacks import EarlyStopping, ModelCheckpoint"
   ]
  },
  {
   "cell_type": "code",
   "execution_count": 2,
   "id": "a67f989a",
   "metadata": {},
   "outputs": [
    {
     "name": "stdout",
     "output_type": "stream",
     "text": [
      "(336, 2)\n",
      "x_train shape: (241, 200, 200, 3)\n",
      "241 train samples\n",
      "61 test samples\n",
      "34 validation samples\n"
     ]
    }
   ],
   "source": [
    "import numpy as np\n",
    "import pandas as pd\n",
    "y = pd.read_csv(\"C:/Users/david/Documents/0_kul/1_ma_stds_1/1_advanced_analytics/assignment_2/data/fruit_vegetable/y.csv\",delimiter=',')\n",
    "x = np.load('C:/Users/david/Documents/0_kul/1_ma_stds_1/1_advanced_analytics/assignment_2/data/fruit_vegetable/image_pixel_200.npy') # loading it\n",
    "from sklearn.model_selection import train_test_split\n",
    "x_tra,x_val,y_tra,y_val = train_test_split(x,y,test_size=0.1,random_state=42)\n",
    "x_train,x_test,y_train,y_test = train_test_split(x_tra,y_tra,test_size=0.2,random_state=42)\n",
    "# examine number of samples in train, test, and validation sets\n",
    "print(y.shape)\n",
    "print('x_train shape:', x_train.shape)\n",
    "print(x_train.shape[0], 'train samples')\n",
    "print(x_test.shape[0], 'test samples')\n",
    "print(x_val.shape[0], 'validation samples')"
   ]
  },
  {
   "cell_type": "code",
   "execution_count": 3,
   "id": "11a50036",
   "metadata": {},
   "outputs": [],
   "source": [
    "def plot_loss(loss,val_loss):\n",
    "  plt.figure()\n",
    "  plt.plot(loss)\n",
    "  plt.plot(val_loss)\n",
    "  plt.title('Model loss')\n",
    "  plt.ylabel('Loss')\n",
    "  plt.xlabel('Epoch')\n",
    "  plt.legend(['Train', 'Test'], loc='upper right')\n",
    "  plt.show()"
   ]
  },
  {
   "cell_type": "code",
   "execution_count": 4,
   "id": "9af6a6ac",
   "metadata": {},
   "outputs": [],
   "source": [
    "def plot_accuracy(acc,val_acc):\n",
    "  # Plot training & validation accuracy values\n",
    "  plt.figure()\n",
    "  plt.plot(acc)\n",
    "  plt.plot(val_acc)\n",
    "  plt.title('Model accuracy')\n",
    "  plt.ylabel('Accuracy')\n",
    "  plt.xlabel('Epoch')\n",
    "  plt.legend(['Train', 'Test'], loc='upper left')\n",
    "  plt.show()"
   ]
  },
  {
   "cell_type": "code",
   "execution_count": 5,
   "id": "edbdbd17",
   "metadata": {},
   "outputs": [],
   "source": [
    "early_stopping = EarlyStopping(monitor='val_loss',patience=5)\n",
    "modelCheckpoint = ModelCheckpoint('best_model_simple.hdf5',save_best_only=True)"
   ]
  },
  {
   "cell_type": "code",
   "execution_count": 6,
   "id": "ebb46cf8",
   "metadata": {},
   "outputs": [],
   "source": [
    "def create_model(learning_rate,kernel,acti_function,acti_output,loss_f):\n",
    "    opt = Adam(lr=learning_rate)\n",
    "    model = Sequential()\n",
    "    model.add(Conv2D(50,kernel_size=kernel,activation=acti_function,input_shape=(200,200,3)))\n",
    "    model.add(MaxPooling2D(4))\n",
    "    model.add(Conv2D(25,kernel_size=kernel,activation=acti_function))\n",
    "    model.add(MaxPooling2D(3))\n",
    "    model.add(Flatten())\n",
    "    model.add(Dense(2,activation=acti_output))\n",
    "    model.compile(optimizer = opt, loss=loss_f,metrics=['accuracy'])\n",
    "    return model"
   ]
  },
  {
   "cell_type": "code",
   "execution_count": 7,
   "id": "6e420cb1",
   "metadata": {},
   "outputs": [],
   "source": [
    "best_model = create_model(learning_rate = 0.001 , kernel = 2, acti_function = 'sigmoid',\n",
    "                          acti_output = 'sigmoid', loss_f = 'binary_crossentropy')"
   ]
  },
  {
   "cell_type": "code",
   "execution_count": 8,
   "id": "308be52f",
   "metadata": {},
   "outputs": [
    {
     "name": "stdout",
     "output_type": "stream",
     "text": [
      "Train on 168 samples, validate on 73 samples\n",
      "Epoch 1/100\n",
      "168/168 [==============================] - 3s 20ms/step - loss: 0.8482 - accuracy: 0.5536 - val_loss: 0.7601 - val_accuracy: 0.6438\n",
      "Epoch 2/100\n",
      "168/168 [==============================] - 3s 17ms/step - loss: 0.8160 - accuracy: 0.4375 - val_loss: 0.6610 - val_accuracy: 0.6438\n",
      "Epoch 3/100\n",
      "168/168 [==============================] - 3s 17ms/step - loss: 0.7285 - accuracy: 0.5327 - val_loss: 0.7564 - val_accuracy: 0.3562\n",
      "Epoch 4/100\n",
      "168/168 [==============================] - 3s 17ms/step - loss: 0.6988 - accuracy: 0.5030 - val_loss: 0.6410 - val_accuracy: 0.6438\n",
      "Epoch 5/100\n",
      "168/168 [==============================] - 3s 17ms/step - loss: 0.6896 - accuracy: 0.4792 - val_loss: 0.6643 - val_accuracy: 0.7055\n",
      "Epoch 6/100\n",
      "168/168 [==============================] - 3s 17ms/step - loss: 0.6631 - accuracy: 0.5923 - val_loss: 0.6380 - val_accuracy: 0.6370\n",
      "Epoch 7/100\n",
      "168/168 [==============================] - 3s 17ms/step - loss: 0.6557 - accuracy: 0.6518 - val_loss: 0.6384 - val_accuracy: 0.6438\n",
      "Epoch 8/100\n",
      "168/168 [==============================] - 3s 18ms/step - loss: 0.6532 - accuracy: 0.6101 - val_loss: 0.6180 - val_accuracy: 0.6370\n",
      "Epoch 9/100\n",
      "168/168 [==============================] - 3s 17ms/step - loss: 0.6714 - accuracy: 0.5952 - val_loss: 0.7168 - val_accuracy: 0.4110\n",
      "Epoch 10/100\n",
      "168/168 [==============================] - 3s 17ms/step - loss: 0.6333 - accuracy: 0.6042 - val_loss: 0.6351 - val_accuracy: 0.6438\n",
      "Epoch 11/100\n",
      "168/168 [==============================] - 3s 17ms/step - loss: 0.7016 - accuracy: 0.5417 - val_loss: 0.6653 - val_accuracy: 0.6233\n",
      "Epoch 12/100\n",
      "168/168 [==============================] - 3s 18ms/step - loss: 0.6879 - accuracy: 0.6071 - val_loss: 0.6028 - val_accuracy: 0.6986\n",
      "Epoch 13/100\n",
      "168/168 [==============================] - 3s 18ms/step - loss: 0.6625 - accuracy: 0.5476 - val_loss: 0.5997 - val_accuracy: 0.6849\n",
      "Epoch 14/100\n",
      "168/168 [==============================] - 3s 18ms/step - loss: 0.6056 - accuracy: 0.6220 - val_loss: 0.5994 - val_accuracy: 0.7055\n",
      "Epoch 15/100\n",
      "168/168 [==============================] - 3s 18ms/step - loss: 0.5875 - accuracy: 0.7292 - val_loss: 0.5820 - val_accuracy: 0.7123\n",
      "Epoch 16/100\n",
      "168/168 [==============================] - 3s 17ms/step - loss: 0.5691 - accuracy: 0.6815 - val_loss: 0.5828 - val_accuracy: 0.7534\n",
      "Epoch 17/100\n",
      "168/168 [==============================] - 3s 17ms/step - loss: 0.5891 - accuracy: 0.6964 - val_loss: 0.5739 - val_accuracy: 0.7671\n",
      "Epoch 18/100\n",
      "168/168 [==============================] - 3s 18ms/step - loss: 0.5768 - accuracy: 0.7024 - val_loss: 0.5617 - val_accuracy: 0.7603\n",
      "Epoch 19/100\n",
      "168/168 [==============================] - 3s 18ms/step - loss: 0.5337 - accuracy: 0.7946 - val_loss: 0.5647 - val_accuracy: 0.7671\n",
      "Epoch 20/100\n",
      "168/168 [==============================] - 3s 17ms/step - loss: 0.5214 - accuracy: 0.7887 - val_loss: 0.5370 - val_accuracy: 0.7192\n",
      "Epoch 21/100\n",
      "168/168 [==============================] - 3s 18ms/step - loss: 0.5168 - accuracy: 0.7589 - val_loss: 0.5838 - val_accuracy: 0.6781\n",
      "Epoch 22/100\n",
      "168/168 [==============================] - 3s 18ms/step - loss: 0.5284 - accuracy: 0.7440 - val_loss: 0.7902 - val_accuracy: 0.4795\n",
      "Epoch 23/100\n",
      "168/168 [==============================] - 3s 18ms/step - loss: 0.5837 - accuracy: 0.6935 - val_loss: 0.5439 - val_accuracy: 0.7055\n",
      "Epoch 24/100\n",
      "168/168 [==============================] - 3s 17ms/step - loss: 0.5274 - accuracy: 0.7024 - val_loss: 0.5440 - val_accuracy: 0.6918\n",
      "Epoch 25/100\n",
      "168/168 [==============================] - 3s 18ms/step - loss: 0.5299 - accuracy: 0.6726 - val_loss: 0.6159 - val_accuracy: 0.7192\n"
     ]
    }
   ],
   "source": [
    "h_callback = best_model.fit(x_train, y_train,epochs = 100, batch_size = 20,\n",
    "                    callbacks = [early_stopping,modelCheckpoint],\n",
    "                    validation_split = 0.3)"
   ]
  },
  {
   "cell_type": "code",
   "execution_count": 9,
   "id": "837db0ee",
   "metadata": {},
   "outputs": [
    {
     "name": "stdout",
     "output_type": "stream",
     "text": [
      "241/241 [==============================] - 1s 4ms/step\n"
     ]
    },
    {
     "data": {
      "text/plain": [
       "[0.5396231954523142, 0.7634854912757874]"
      ]
     },
     "execution_count": 9,
     "metadata": {},
     "output_type": "execute_result"
    }
   ],
   "source": [
    "best_model.evaluate(x_train,y_train)"
   ]
  },
  {
   "cell_type": "code",
   "execution_count": 10,
   "id": "1441dea2",
   "metadata": {},
   "outputs": [
    {
     "name": "stdout",
     "output_type": "stream",
     "text": [
      "61/61 [==============================] - 0s 4ms/step\n"
     ]
    },
    {
     "data": {
      "text/plain": [
       "[0.5839521718806908, 0.7049180269241333]"
      ]
     },
     "execution_count": 10,
     "metadata": {},
     "output_type": "execute_result"
    }
   ],
   "source": [
    "best_model.evaluate(x_test,y_test)"
   ]
  },
  {
   "cell_type": "code",
   "execution_count": 11,
   "id": "b67f4f59",
   "metadata": {},
   "outputs": [
    {
     "data": {
      "image/png": "[encoded data removed]",
      "text/plain": [
       "<Figure size 432x288 with 1 Axes>"
      ]
     },
     "metadata": {
      "needs_background": "light"
     },
     "output_type": "display_data"
    },
    {
     "data": {
      "image/png": "[encoded data removed]",
      "text/plain": [
       "<Figure size 432x288 with 1 Axes>"
      ]
     },
     "metadata": {
      "needs_background": "light"
     },
     "output_type": "display_data"
    }
   ],
   "source": [
    "# Plot train vs test loss during training\n",
    "plot_loss(h_callback.history['loss'], h_callback.history['val_loss'])\n",
    "# Plot train vs test accuracy during training\n",
    "plot_accuracy(h_callback.history['accuracy'], h_callback.history['val_accuracy'])"
   ]
  },
  {
   "cell_type": "code",
   "execution_count": 12,
   "id": "bd4cc201",
   "metadata": {},
   "outputs": [
    {
     "name": "stdout",
     "output_type": "stream",
     "text": [
      "Saved model to disk\n"
     ]
    }
   ],
   "source": [
    "from keras.models import model_from_json\n",
    "#serialize model to JSON\n",
    "model_json = best_model.to_json()\n",
    "with open(\"model_simple.json\", \"w\") as json_file:\n",
    "    json_file.write(model_json)\n",
    "# serialize weights to HDF5\n",
    "best_model.save_weights(\"model_simple.h5\")\n",
    "print(\"Saved model to disk\")"
   ]
  }
 ],
 "metadata": {
  "kernelspec": {
   "display_name": "Python 3",
   "language": "python",
   "name": "python3"
  },
  "language_info": {
   "codemirror_mode": {
    "name": "ipython",
    "version": 3
   },
   "file_extension": ".py",
   "mimetype": "text/x-python",
   "name": "python",
   "nbconvert_exporter": "python",
   "pygments_lexer": "ipython3",
   "version": "3.6.13"
  }
 },
 "nbformat": 4,
 "nbformat_minor": 5
}
