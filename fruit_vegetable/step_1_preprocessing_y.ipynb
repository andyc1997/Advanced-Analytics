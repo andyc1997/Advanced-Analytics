{
 "cells": [
  {
   "cell_type": "markdown",
   "id": "fdb3a2f3",
   "metadata": {},
   "source": [
    "Here we basically preprocess the y variable a bit and try to merge some hashtags together to have less predictors and more consistent predictors"
   ]
  },
  {
   "cell_type": "code",
   "execution_count": 1,
   "id": "c80a62f0",
   "metadata": {},
   "outputs": [],
   "source": [
    "import pandas as pd\n",
    "import numpy as np\n",
    "df = pd.read_csv('C:/Users/david/Documents/0_kul/1_ma_stds_1/1_advanced_analytics/assignment_2/data/fruit_vegetable/recipe_without_empty.csv')\n",
    "only_tags = df.iloc[:,7:]"
   ]
  },
  {
   "cell_type": "code",
   "execution_count": 2,
   "id": "fb59e280",
   "metadata": {},
   "outputs": [],
   "source": [
    "keep = ['photo_id', 'url', 'may_be', 'likes', 'timestamp', 'scraped_at',\n",
    "       'diff','tag_fruit','tag_vegetables']"
   ]
  },
  {
   "cell_type": "code",
   "execution_count": 3,
   "id": "a1ce70ee",
   "metadata": {},
   "outputs": [],
   "source": [
    "df = df[keep]"
   ]
  },
  {
   "cell_type": "markdown",
   "id": "fdcf3283",
   "metadata": {},
   "source": [
    "<h2> 3 Inspecting tags again </h2>"
   ]
  },
  {
   "cell_type": "code",
   "execution_count": 4,
   "id": "764d7d6d",
   "metadata": {},
   "outputs": [],
   "source": [
    "only_tags_2 = df.iloc[:,7:]"
   ]
  },
  {
   "cell_type": "code",
   "execution_count": 5,
   "id": "d661f266",
   "metadata": {},
   "outputs": [
    {
     "data": {
      "text/plain": [
       "tag_vegetables    191\n",
       "tag_fruit         157\n",
       "dtype: int64"
      ]
     },
     "execution_count": 5,
     "metadata": {},
     "output_type": "execute_result"
    }
   ],
   "source": [
    "frequency_tags = only_tags_2.apply(sum,axis=0)\n",
    "frequency_tags.sort_values(ascending=False).head(50)"
   ]
  },
  {
   "cell_type": "code",
   "execution_count": 6,
   "id": "77087e23",
   "metadata": {},
   "outputs": [
    {
     "data": {
      "text/plain": [
       "count    11685.000000\n",
       "mean         0.029782\n",
       "std          0.172987\n",
       "min          0.000000\n",
       "25%          0.000000\n",
       "50%          0.000000\n",
       "75%          0.000000\n",
       "max          2.000000\n",
       "dtype: float64"
      ]
     },
     "execution_count": 6,
     "metadata": {},
     "output_type": "execute_result"
    }
   ],
   "source": [
    "tags_per_picture = only_tags_2.apply(sum,axis=1)\n",
    "tags_per_picture.describe()"
   ]
  },
  {
   "cell_type": "markdown",
   "id": "0807a66c",
   "metadata": {},
   "source": [
    "<h2> 3.3 How many zero tags? </h2>"
   ]
  },
  {
   "cell_type": "code",
   "execution_count": 7,
   "id": "20b4595b",
   "metadata": {},
   "outputs": [],
   "source": [
    "df['count_tags'] = df.iloc[:,7:].apply(sum,axis=1)"
   ]
  },
  {
   "cell_type": "code",
   "execution_count": 8,
   "id": "018f0a8a",
   "metadata": {},
   "outputs": [],
   "source": [
    "df = df[df['count_tags'] == 1]"
   ]
  },
  {
   "cell_type": "code",
   "execution_count": 9,
   "id": "794e3198",
   "metadata": {},
   "outputs": [],
   "source": [
    "df.drop([\"count_tags\"],axis=1,inplace=True)"
   ]
  },
  {
   "cell_type": "code",
   "execution_count": 10,
   "id": "b07cf2d5",
   "metadata": {},
   "outputs": [
    {
     "name": "stdout",
     "output_type": "stream",
     "text": [
      "(336, 2)\n"
     ]
    }
   ],
   "source": [
    "necessary_columns = df.columns[7:]\n",
    "# prepping y variable. necessary columns should be all the tags we want\n",
    "y = df[necessary_columns]\n",
    "print(y.shape)"
   ]
  },
  {
   "cell_type": "code",
   "execution_count": 11,
   "id": "f27715ef",
   "metadata": {},
   "outputs": [],
   "source": [
    "y.to_csv(\"C:/Users/david/Documents/0_kul/1_ma_stds_1/1_advanced_analytics/assignment_2/data/fruit_vegetable/y.csv\",index=False)\n",
    "df.to_csv(\"C:/Users/david/Documents/0_kul/1_ma_stds_1/1_advanced_analytics/assignment_2/data/fruit_vegetable/labels.csv\",index=False)"
   ]
  },
  {
   "cell_type": "code",
   "execution_count": 12,
   "id": "eb58f705",
   "metadata": {},
   "outputs": [
    {
     "data": {
      "text/html": [
       "<div>\n",
       "<style scoped>\n",
       "    .dataframe tbody tr th:only-of-type {\n",
       "        vertical-align: middle;\n",
       "    }\n",
       "\n",
       "    .dataframe tbody tr th {\n",
       "        vertical-align: top;\n",
       "    }\n",
       "\n",
       "    .dataframe thead th {\n",
       "        text-align: right;\n",
       "    }\n",
       "</style>\n",
       "<table border=\"1\" class=\"dataframe\">\n",
       "  <thead>\n",
       "    <tr style=\"text-align: right;\">\n",
       "      <th></th>\n",
       "      <th>photo_id</th>\n",
       "      <th>url</th>\n",
       "      <th>may_be</th>\n",
       "      <th>likes</th>\n",
       "      <th>timestamp</th>\n",
       "      <th>scraped_at</th>\n",
       "      <th>diff</th>\n",
       "      <th>tag_fruit</th>\n",
       "      <th>tag_vegetables</th>\n",
       "    </tr>\n",
       "  </thead>\n",
       "  <tbody>\n",
       "    <tr>\n",
       "      <th>0</th>\n",
       "      <td>CMPELQqh_nh</td>\n",
       "      <td>https://www.instagram.com/p/CMPELQqh_nh/</td>\n",
       "      <td>dessert and indoor</td>\n",
       "      <td>3</td>\n",
       "      <td>2021-03-10T10:47:18</td>\n",
       "      <td>2021-03-10T11:48:52</td>\n",
       "      <td>1.03</td>\n",
       "      <td>1</td>\n",
       "      <td>0</td>\n",
       "    </tr>\n",
       "    <tr>\n",
       "      <th>6</th>\n",
       "      <td>CMPD3whhZvD</td>\n",
       "      <td>https://www.instagram.com/p/CMPD3whhZvD/</td>\n",
       "      <td>strawberry, dessert and indoor</td>\n",
       "      <td>9</td>\n",
       "      <td>2021-03-10T10:45:24</td>\n",
       "      <td>2021-03-10T11:49:30</td>\n",
       "      <td>1.07</td>\n",
       "      <td>1</td>\n",
       "      <td>0</td>\n",
       "    </tr>\n",
       "    <tr>\n",
       "      <th>9</th>\n",
       "      <td>CMPDz9chdgz</td>\n",
       "      <td>https://www.instagram.com/p/CMPDz9chdgz/</td>\n",
       "      <td>dessert, strawberry and indoor</td>\n",
       "      <td>4</td>\n",
       "      <td>2021-03-10T10:44:07</td>\n",
       "      <td>2021-03-10T11:49:43</td>\n",
       "      <td>1.09</td>\n",
       "      <td>1</td>\n",
       "      <td>0</td>\n",
       "    </tr>\n",
       "    <tr>\n",
       "      <th>36</th>\n",
       "      <td>CMPCmZdHCcY</td>\n",
       "      <td>https://www.instagram.com/p/CMPCmZdHCcY/</td>\n",
       "      <td>chow mein and indoor</td>\n",
       "      <td>2</td>\n",
       "      <td>2021-03-10T10:33:32</td>\n",
       "      <td>2021-03-10T11:52:49</td>\n",
       "      <td>1.32</td>\n",
       "      <td>0</td>\n",
       "      <td>1</td>\n",
       "    </tr>\n",
       "    <tr>\n",
       "      <th>48</th>\n",
       "      <td>CMPB6_2sNhg</td>\n",
       "      <td>https://www.instagram.com/p/CMPB6_2sNhg/</td>\n",
       "      <td>food and indoor</td>\n",
       "      <td>7</td>\n",
       "      <td>2021-03-10T10:44:25</td>\n",
       "      <td>2021-03-10T11:54:45</td>\n",
       "      <td>1.17</td>\n",
       "      <td>0</td>\n",
       "      <td>1</td>\n",
       "    </tr>\n",
       "    <tr>\n",
       "      <th>...</th>\n",
       "      <td>...</td>\n",
       "      <td>...</td>\n",
       "      <td>...</td>\n",
       "      <td>...</td>\n",
       "      <td>...</td>\n",
       "      <td>...</td>\n",
       "      <td>...</td>\n",
       "      <td>...</td>\n",
       "      <td>...</td>\n",
       "    </tr>\n",
       "    <tr>\n",
       "      <th>11583</th>\n",
       "      <td>CMsRYSLJw9a</td>\n",
       "      <td>https://www.instagram.com/p/CMsRYSLJw9a/</td>\n",
       "      <td>food and indoor</td>\n",
       "      <td>4</td>\n",
       "      <td>2021-03-21T19:00:39</td>\n",
       "      <td>2021-03-22T09:58:40</td>\n",
       "      <td>14.97</td>\n",
       "      <td>0</td>\n",
       "      <td>1</td>\n",
       "    </tr>\n",
       "    <tr>\n",
       "      <th>11600</th>\n",
       "      <td>CMsQ6bfhSgI</td>\n",
       "      <td>https://www.instagram.com/p/CMsQ6bfhSgI/</td>\n",
       "      <td>dessert and indoor</td>\n",
       "      <td>40</td>\n",
       "      <td>2021-03-21T19:59:16</td>\n",
       "      <td>2021-03-22T10:00:26</td>\n",
       "      <td>14.02</td>\n",
       "      <td>1</td>\n",
       "      <td>0</td>\n",
       "    </tr>\n",
       "    <tr>\n",
       "      <th>11615</th>\n",
       "      <td>CMsQitEphAH</td>\n",
       "      <td>https://www.instagram.com/p/CMsQitEphAH/</td>\n",
       "      <td>food and indoor</td>\n",
       "      <td>20</td>\n",
       "      <td>2021-03-21T19:03:17</td>\n",
       "      <td>2021-03-22T10:01:42</td>\n",
       "      <td>14.97</td>\n",
       "      <td>0</td>\n",
       "      <td>1</td>\n",
       "    </tr>\n",
       "    <tr>\n",
       "      <th>11624</th>\n",
       "      <td>CMsQZ2zBhxM</td>\n",
       "      <td>https://www.instagram.com/p/CMsQZ2zBhxM/</td>\n",
       "      <td>food and indoor</td>\n",
       "      <td>18</td>\n",
       "      <td>2021-03-21T19:15:39</td>\n",
       "      <td>2021-03-22T10:02:31</td>\n",
       "      <td>14.78</td>\n",
       "      <td>1</td>\n",
       "      <td>0</td>\n",
       "    </tr>\n",
       "    <tr>\n",
       "      <th>11661</th>\n",
       "      <td>CMsPIKSFtG-</td>\n",
       "      <td>https://www.instagram.com/p/CMsPIKSFtG-/</td>\n",
       "      <td>food</td>\n",
       "      <td>25</td>\n",
       "      <td>2021-03-21T19:37:51</td>\n",
       "      <td>2021-03-22T10:06:50</td>\n",
       "      <td>14.48</td>\n",
       "      <td>1</td>\n",
       "      <td>0</td>\n",
       "    </tr>\n",
       "  </tbody>\n",
       "</table>\n",
       "<p>336 rows × 9 columns</p>\n",
       "</div>"
      ],
      "text/plain": [
       "          photo_id                                       url  \\\n",
       "0      CMPELQqh_nh  https://www.instagram.com/p/CMPELQqh_nh/   \n",
       "6      CMPD3whhZvD  https://www.instagram.com/p/CMPD3whhZvD/   \n",
       "9      CMPDz9chdgz  https://www.instagram.com/p/CMPDz9chdgz/   \n",
       "36     CMPCmZdHCcY  https://www.instagram.com/p/CMPCmZdHCcY/   \n",
       "48     CMPB6_2sNhg  https://www.instagram.com/p/CMPB6_2sNhg/   \n",
       "...            ...                                       ...   \n",
       "11583  CMsRYSLJw9a  https://www.instagram.com/p/CMsRYSLJw9a/   \n",
       "11600  CMsQ6bfhSgI  https://www.instagram.com/p/CMsQ6bfhSgI/   \n",
       "11615  CMsQitEphAH  https://www.instagram.com/p/CMsQitEphAH/   \n",
       "11624  CMsQZ2zBhxM  https://www.instagram.com/p/CMsQZ2zBhxM/   \n",
       "11661  CMsPIKSFtG-  https://www.instagram.com/p/CMsPIKSFtG-/   \n",
       "\n",
       "                               may_be  likes            timestamp  \\\n",
       "0                  dessert and indoor      3  2021-03-10T10:47:18   \n",
       "6      strawberry, dessert and indoor      9  2021-03-10T10:45:24   \n",
       "9      dessert, strawberry and indoor      4  2021-03-10T10:44:07   \n",
       "36               chow mein and indoor      2  2021-03-10T10:33:32   \n",
       "48                    food and indoor      7  2021-03-10T10:44:25   \n",
       "...                               ...    ...                  ...   \n",
       "11583                 food and indoor      4  2021-03-21T19:00:39   \n",
       "11600              dessert and indoor     40  2021-03-21T19:59:16   \n",
       "11615                 food and indoor     20  2021-03-21T19:03:17   \n",
       "11624                 food and indoor     18  2021-03-21T19:15:39   \n",
       "11661                            food     25  2021-03-21T19:37:51   \n",
       "\n",
       "                scraped_at   diff  tag_fruit  tag_vegetables  \n",
       "0      2021-03-10T11:48:52   1.03          1               0  \n",
       "6      2021-03-10T11:49:30   1.07          1               0  \n",
       "9      2021-03-10T11:49:43   1.09          1               0  \n",
       "36     2021-03-10T11:52:49   1.32          0               1  \n",
       "48     2021-03-10T11:54:45   1.17          0               1  \n",
       "...                    ...    ...        ...             ...  \n",
       "11583  2021-03-22T09:58:40  14.97          0               1  \n",
       "11600  2021-03-22T10:00:26  14.02          1               0  \n",
       "11615  2021-03-22T10:01:42  14.97          0               1  \n",
       "11624  2021-03-22T10:02:31  14.78          1               0  \n",
       "11661  2021-03-22T10:06:50  14.48          1               0  \n",
       "\n",
       "[336 rows x 9 columns]"
      ]
     },
     "execution_count": 12,
     "metadata": {},
     "output_type": "execute_result"
    }
   ],
   "source": [
    "df"
   ]
  }
 ],
 "metadata": {
  "kernelspec": {
   "display_name": "Python 3",
   "language": "python",
   "name": "python3"
  },
  "language_info": {
   "codemirror_mode": {
    "name": "ipython",
    "version": 3
   },
   "file_extension": ".py",
   "mimetype": "text/x-python",
   "name": "python",
   "nbconvert_exporter": "python",
   "pygments_lexer": "ipython3",
   "version": "3.6.13"
  }
 },
 "nbformat": 4,
 "nbformat_minor": 5
}
