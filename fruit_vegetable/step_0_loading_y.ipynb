{
 "cells": [
  {
   "cell_type": "markdown",
   "id": "2322ce96",
   "metadata": {},
   "source": [
    "Basically here we delete \"manually\" the images that are found to be empty/ zero values and save the document as <b> recipe_without_empty </b>"
   ]
  },
  {
   "cell_type": "code",
   "execution_count": 1,
   "id": "3803412b",
   "metadata": {},
   "outputs": [],
   "source": [
    "import pandas as pd\n",
    "df = pd.read_csv('C:/Users/david/Documents/0_kul/1_ma_stds_1/1_advanced_analytics/assignment_2/data/recipes.csv',delimiter=';')"
   ]
  },
  {
   "cell_type": "code",
   "execution_count": 2,
   "id": "461fc788",
   "metadata": {},
   "outputs": [
    {
     "name": "stdout",
     "output_type": "stream",
     "text": [
      "(11685, 104)\n",
      "(11696, 104)\n"
     ]
    }
   ],
   "source": [
    "# Make a dataframe with unwanted rows/data.\n",
    "empty = ['CMbgB5tjSJa', 'CMbJFC-F3Tz',' CMmV2A2sBvY', 'CMMyIsZgX31', 'CMO5_RRDV5z',\n",
    "'CMO98R3n1M3', 'CMO967MAl3V','CMOOv-qh1fN', 'CMP4fSDrLhn', 'CMT_uYYFJIp', 'CMTz1OZqDAG','CMmV2A2sBvY']\n",
    "df_undesired = df[df['photo_id'].isin(empty)]\n",
    "df_undesired.index\n",
    "df_cleaned = df.drop(df_undesired.index)\n",
    "print(df_cleaned.shape)\n",
    "print(df.shape)"
   ]
  },
  {
   "cell_type": "code",
   "execution_count": 3,
   "id": "ee02f4f8",
   "metadata": {},
   "outputs": [],
   "source": [
    "df_cleaned.to_csv(\"C:/Users/david/Documents/0_kul/1_ma_stds_1/1_advanced_analytics/assignment_2/data/fruit_vegetable/recipe_without_empty.csv\",index=False)"
   ]
  }
 ],
 "metadata": {
  "kernelspec": {
   "display_name": "Python 3",
   "language": "python",
   "name": "python3"
  },
  "language_info": {
   "codemirror_mode": {
    "name": "ipython",
    "version": 3
   },
   "file_extension": ".py",
   "mimetype": "text/x-python",
   "name": "python",
   "nbconvert_exporter": "python",
   "pygments_lexer": "ipython3",
   "version": "3.6.13"
  }
 },
 "nbformat": 4,
 "nbformat_minor": 5
}
