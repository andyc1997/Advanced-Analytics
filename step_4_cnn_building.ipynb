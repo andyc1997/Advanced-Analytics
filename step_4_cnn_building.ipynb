{
  "nbformat": 4,
  "nbformat_minor": 5,
  "metadata": {
    "kernelspec": {
      "display_name": "Python 3",
      "language": "python",
      "name": "python3"
    },
    "language_info": {
      "codemirror_mode": {
        "name": "ipython",
        "version": 3
      },
      "file_extension": ".py",
      "mimetype": "text/x-python",
      "name": "python",
      "nbconvert_exporter": "python",
      "pygments_lexer": "ipython3",
      "version": "3.6.13"
    },
    "colab": {
      "name": "step_4_cnn_building.ipynb",
      "provenance": [],
      "include_colab_link": true
    }
  },
  "cells": [
    {
      "cell_type": "markdown",
      "metadata": {
        "id": "view-in-github",
        "colab_type": "text"
      },
      "source": [
        "<a href=\"https://colab.research.google.com/github/andyc1997/Advanced-Analytics/blob/david/step_4_cnn_building.ipynb\" target=\"_parent\"><img src=\"https://colab.research.google.com/assets/colab-badge.svg\" alt=\"Open In Colab\"/></a>"
      ]
    },
    {
      "cell_type": "code",
      "metadata": {
        "colab": {
          "base_uri": "https://localhost:8080/"
        },
        "id": "RH_rblQB6HQ6",
        "outputId": "fd84bd7a-f35c-42ae-9bc7-b60d8962056a"
      },
      "source": [
        "from google.colab import drive\n",
        "drive.mount('/content/gdrive')\n",
        "root_path = '/My Drive/cnn/fruit_vegetable'  #change dir to your project folder"
      ],
      "id": "RH_rblQB6HQ6",
      "execution_count": 1,
      "outputs": [
        {
          "output_type": "stream",
          "text": [
            "Drive already mounted at /content/gdrive; to attempt to forcibly remount, call drive.mount(\"/content/gdrive\", force_remount=True).\n"
          ],
          "name": "stdout"
        }
      ]
    },
    {
      "cell_type": "code",
      "metadata": {
        "id": "33130f60"
      },
      "source": [
        "import numpy as np\n",
        "import pandas as pd\n",
        "import matplotlib.pyplot as plt\n",
        "# import keras library\n",
        "import keras\n",
        "# import Sequential from the keras models module\n",
        "from keras import Sequential\n",
        "# import Dense, Dropout, Flatten, Conv2D, MaxPooling2D from the keras layers module\n",
        "from keras.layers import Dense,Flatten, Conv2D, MaxPooling2D\n",
        "from keras.optimizers import Adam\n",
        "from keras.callbacks import EarlyStopping, ModelCheckpoint\n",
        "import keras\n",
        "from keras.models import Model\n",
        "from keras.layers import Dense\n",
        "from keras import optimizers\n",
        "from keras.preprocessing.image import ImageDataGenerator\n",
        "from keras.preprocessing import image\n",
        "from keras.layers import Input, ZeroPadding2D, Dropout"
      ],
      "id": "33130f60",
      "execution_count": 2,
      "outputs": []
    },
    {
      "cell_type": "code",
      "metadata": {
        "colab": {
          "base_uri": "https://localhost:8080/"
        },
        "id": "d6ff9592",
        "outputId": "6a58ea81-0d0a-4261-d645-abaf0741a8bd"
      },
      "source": [
        "import numpy as np\n",
        "import pandas as pd\n",
        "y = pd.read_csv(\"gdrive/My Drive/cnn/fruit_vegetable/y.csv\",delimiter=',')\n",
        "x = np.load('gdrive/My Drive/cnn/fruit_vegetable/image_pixel_200.npy') # loading it\n",
        "from sklearn.model_selection import train_test_split\n",
        "x_tra,x_val,y_tra,y_val = train_test_split(x,y,test_size=0.1,random_state=42)\n",
        "x_train,x_test,y_train,y_test = train_test_split(x_tra,y_tra,test_size=0.2,random_state=42)\n",
        "# examine number of samples in train, test, and validation sets\n",
        "print(y.shape)\n",
        "print('x_train shape:', x_train.shape)\n",
        "print(x_train.shape[0], 'train samples')\n",
        "print(x_test.shape[0], 'test samples')\n",
        "print(x_val.shape[0], 'validation samples')"
      ],
      "id": "d6ff9592",
      "execution_count": 3,
      "outputs": [
        {
          "output_type": "stream",
          "text": [
            "(336, 2)\n",
            "x_train shape: (241, 200, 200, 3)\n",
            "241 train samples\n",
            "61 test samples\n",
            "34 validation samples\n"
          ],
          "name": "stdout"
        }
      ]
    },
    {
      "cell_type": "code",
      "metadata": {
        "id": "2f631d82"
      },
      "source": [
        "from keras.applications.vgg16 import VGG16\n",
        "vggmodel = VGG16(weights='imagenet', include_top=False, input_shape= (200,200,3))"
      ],
      "id": "2f631d82",
      "execution_count": 4,
      "outputs": []
    },
    {
      "cell_type": "code",
      "metadata": {
        "colab": {
          "base_uri": "https://localhost:8080/"
        },
        "id": "2e434aba",
        "outputId": "e732dec9-f583-4987-e5e6-804ae216b82e"
      },
      "source": [
        "vggmodel.summary()"
      ],
      "id": "2e434aba",
      "execution_count": 5,
      "outputs": [
        {
          "output_type": "stream",
          "text": [
            "Model: \"vgg16\"\n",
            "_________________________________________________________________\n",
            "Layer (type)                 Output Shape              Param #   \n",
            "=================================================================\n",
            "input_1 (InputLayer)         [(None, 200, 200, 3)]     0         \n",
            "_________________________________________________________________\n",
            "block1_conv1 (Conv2D)        (None, 200, 200, 64)      1792      \n",
            "_________________________________________________________________\n",
            "block1_conv2 (Conv2D)        (None, 200, 200, 64)      36928     \n",
            "_________________________________________________________________\n",
            "block1_pool (MaxPooling2D)   (None, 100, 100, 64)      0         \n",
            "_________________________________________________________________\n",
            "block2_conv1 (Conv2D)        (None, 100, 100, 128)     73856     \n",
            "_________________________________________________________________\n",
            "block2_conv2 (Conv2D)        (None, 100, 100, 128)     147584    \n",
            "_________________________________________________________________\n",
            "block2_pool (MaxPooling2D)   (None, 50, 50, 128)       0         \n",
            "_________________________________________________________________\n",
            "block3_conv1 (Conv2D)        (None, 50, 50, 256)       295168    \n",
            "_________________________________________________________________\n",
            "block3_conv2 (Conv2D)        (None, 50, 50, 256)       590080    \n",
            "_________________________________________________________________\n",
            "block3_conv3 (Conv2D)        (None, 50, 50, 256)       590080    \n",
            "_________________________________________________________________\n",
            "block3_pool (MaxPooling2D)   (None, 25, 25, 256)       0         \n",
            "_________________________________________________________________\n",
            "block4_conv1 (Conv2D)        (None, 25, 25, 512)       1180160   \n",
            "_________________________________________________________________\n",
            "block4_conv2 (Conv2D)        (None, 25, 25, 512)       2359808   \n",
            "_________________________________________________________________\n",
            "block4_conv3 (Conv2D)        (None, 25, 25, 512)       2359808   \n",
            "_________________________________________________________________\n",
            "block4_pool (MaxPooling2D)   (None, 12, 12, 512)       0         \n",
            "_________________________________________________________________\n",
            "block5_conv1 (Conv2D)        (None, 12, 12, 512)       2359808   \n",
            "_________________________________________________________________\n",
            "block5_conv2 (Conv2D)        (None, 12, 12, 512)       2359808   \n",
            "_________________________________________________________________\n",
            "block5_conv3 (Conv2D)        (None, 12, 12, 512)       2359808   \n",
            "_________________________________________________________________\n",
            "block5_pool (MaxPooling2D)   (None, 6, 6, 512)         0         \n",
            "=================================================================\n",
            "Total params: 14,714,688\n",
            "Trainable params: 14,714,688\n",
            "Non-trainable params: 0\n",
            "_________________________________________________________________\n"
          ],
          "name": "stdout"
        }
      ]
    },
    {
      "cell_type": "code",
      "metadata": {
        "id": "b4e6fc2c"
      },
      "source": [
        "base_model = Model(vggmodel.input,vggmodel.get_layer(\"block5_pool\").output)"
      ],
      "id": "b4e6fc2c",
      "execution_count": 6,
      "outputs": []
    },
    {
      "cell_type": "code",
      "metadata": {
        "colab": {
          "base_uri": "https://localhost:8080/"
        },
        "id": "97f9c71a",
        "outputId": "730ef09b-1e84-41e4-8f54-a63cfc43b19e"
      },
      "source": [
        "base_model.summary()"
      ],
      "id": "97f9c71a",
      "execution_count": 7,
      "outputs": [
        {
          "output_type": "stream",
          "text": [
            "Model: \"model\"\n",
            "_________________________________________________________________\n",
            "Layer (type)                 Output Shape              Param #   \n",
            "=================================================================\n",
            "input_1 (InputLayer)         [(None, 200, 200, 3)]     0         \n",
            "_________________________________________________________________\n",
            "block1_conv1 (Conv2D)        (None, 200, 200, 64)      1792      \n",
            "_________________________________________________________________\n",
            "block1_conv2 (Conv2D)        (None, 200, 200, 64)      36928     \n",
            "_________________________________________________________________\n",
            "block1_pool (MaxPooling2D)   (None, 100, 100, 64)      0         \n",
            "_________________________________________________________________\n",
            "block2_conv1 (Conv2D)        (None, 100, 100, 128)     73856     \n",
            "_________________________________________________________________\n",
            "block2_conv2 (Conv2D)        (None, 100, 100, 128)     147584    \n",
            "_________________________________________________________________\n",
            "block2_pool (MaxPooling2D)   (None, 50, 50, 128)       0         \n",
            "_________________________________________________________________\n",
            "block3_conv1 (Conv2D)        (None, 50, 50, 256)       295168    \n",
            "_________________________________________________________________\n",
            "block3_conv2 (Conv2D)        (None, 50, 50, 256)       590080    \n",
            "_________________________________________________________________\n",
            "block3_conv3 (Conv2D)        (None, 50, 50, 256)       590080    \n",
            "_________________________________________________________________\n",
            "block3_pool (MaxPooling2D)   (None, 25, 25, 256)       0         \n",
            "_________________________________________________________________\n",
            "block4_conv1 (Conv2D)        (None, 25, 25, 512)       1180160   \n",
            "_________________________________________________________________\n",
            "block4_conv2 (Conv2D)        (None, 25, 25, 512)       2359808   \n",
            "_________________________________________________________________\n",
            "block4_conv3 (Conv2D)        (None, 25, 25, 512)       2359808   \n",
            "_________________________________________________________________\n",
            "block4_pool (MaxPooling2D)   (None, 12, 12, 512)       0         \n",
            "_________________________________________________________________\n",
            "block5_conv1 (Conv2D)        (None, 12, 12, 512)       2359808   \n",
            "_________________________________________________________________\n",
            "block5_conv2 (Conv2D)        (None, 12, 12, 512)       2359808   \n",
            "_________________________________________________________________\n",
            "block5_conv3 (Conv2D)        (None, 12, 12, 512)       2359808   \n",
            "_________________________________________________________________\n",
            "block5_pool (MaxPooling2D)   (None, 6, 6, 512)         0         \n",
            "=================================================================\n",
            "Total params: 14,714,688\n",
            "Trainable params: 14,714,688\n",
            "Non-trainable params: 0\n",
            "_________________________________________________________________\n"
          ],
          "name": "stdout"
        }
      ]
    },
    {
      "cell_type": "code",
      "metadata": {
        "colab": {
          "base_uri": "https://localhost:8080/"
        },
        "id": "aa0599ce",
        "outputId": "39df1069-a2d6-4789-91e6-d8989db169f5"
      },
      "source": [
        "for layers in (vggmodel.layers)[:19]:\n",
        "    print(layers)\n",
        "    layers.trainable = False"
      ],
      "id": "aa0599ce",
      "execution_count": 8,
      "outputs": [
        {
          "output_type": "stream",
          "text": [
            "<tensorflow.python.keras.engine.input_layer.InputLayer object at 0x7f42ac61fb50>\n",
            "<tensorflow.python.keras.layers.convolutional.Conv2D object at 0x7f42655fbd50>\n",
            "<tensorflow.python.keras.layers.convolutional.Conv2D object at 0x7f426539bf90>\n",
            "<tensorflow.python.keras.layers.pooling.MaxPooling2D object at 0x7f42652f22d0>\n",
            "<tensorflow.python.keras.layers.convolutional.Conv2D object at 0x7f4261b93f90>\n",
            "<tensorflow.python.keras.layers.convolutional.Conv2D object at 0x7f4261b99750>\n",
            "<tensorflow.python.keras.layers.pooling.MaxPooling2D object at 0x7f4261b9dfd0>\n",
            "<tensorflow.python.keras.layers.convolutional.Conv2D object at 0x7f4261ba5f10>\n",
            "<tensorflow.python.keras.layers.convolutional.Conv2D object at 0x7f4261ba9f50>\n",
            "<tensorflow.python.keras.layers.convolutional.Conv2D object at 0x7f4261bafc90>\n",
            "<tensorflow.python.keras.layers.pooling.MaxPooling2D object at 0x7f4261bb7dd0>\n",
            "<tensorflow.python.keras.layers.convolutional.Conv2D object at 0x7f4261b41b90>\n",
            "<tensorflow.python.keras.layers.convolutional.Conv2D object at 0x7f4261bb9bd0>\n",
            "<tensorflow.python.keras.layers.convolutional.Conv2D object at 0x7f4261ba1350>\n",
            "<tensorflow.python.keras.layers.pooling.MaxPooling2D object at 0x7f4261b4ac90>\n",
            "<tensorflow.python.keras.layers.convolutional.Conv2D object at 0x7f4261b53950>\n",
            "<tensorflow.python.keras.layers.convolutional.Conv2D object at 0x7f4261b4a490>\n",
            "<tensorflow.python.keras.layers.convolutional.Conv2D object at 0x7f4261b58690>\n",
            "<tensorflow.python.keras.layers.pooling.MaxPooling2D object at 0x7f4261b649d0>\n"
          ],
          "name": "stdout"
        }
      ]
    },
    {
      "cell_type": "code",
      "metadata": {
        "id": "9f4e7870"
      },
      "source": [
        "base_out = base_model.output\n",
        "top_fc0 = Flatten()(base_out)\n",
        "top_fc1 = Dense(64,activation='relu',kernel_initializer='he_uniform')(top_fc0)\n",
        "top_fc2 = Dense(32,activation='relu')(top_fc1)\n",
        "top_preds = Dense(2,activation = 'sigmoid')(top_fc2)"
      ],
      "id": "9f4e7870",
      "execution_count": 9,
      "outputs": []
    },
    {
      "cell_type": "code",
      "metadata": {
        "id": "946c1bf3"
      },
      "source": [
        "model = Model(base_model.input,top_preds)"
      ],
      "id": "946c1bf3",
      "execution_count": 10,
      "outputs": []
    },
    {
      "cell_type": "code",
      "metadata": {
        "colab": {
          "base_uri": "https://localhost:8080/"
        },
        "id": "9feff331",
        "outputId": "2c6b5459-c858-4481-cced-709c6be27f2b"
      },
      "source": [
        "model.summary()"
      ],
      "id": "9feff331",
      "execution_count": 11,
      "outputs": [
        {
          "output_type": "stream",
          "text": [
            "Model: \"model_1\"\n",
            "_________________________________________________________________\n",
            "Layer (type)                 Output Shape              Param #   \n",
            "=================================================================\n",
            "input_1 (InputLayer)         [(None, 200, 200, 3)]     0         \n",
            "_________________________________________________________________\n",
            "block1_conv1 (Conv2D)        (None, 200, 200, 64)      1792      \n",
            "_________________________________________________________________\n",
            "block1_conv2 (Conv2D)        (None, 200, 200, 64)      36928     \n",
            "_________________________________________________________________\n",
            "block1_pool (MaxPooling2D)   (None, 100, 100, 64)      0         \n",
            "_________________________________________________________________\n",
            "block2_conv1 (Conv2D)        (None, 100, 100, 128)     73856     \n",
            "_________________________________________________________________\n",
            "block2_conv2 (Conv2D)        (None, 100, 100, 128)     147584    \n",
            "_________________________________________________________________\n",
            "block2_pool (MaxPooling2D)   (None, 50, 50, 128)       0         \n",
            "_________________________________________________________________\n",
            "block3_conv1 (Conv2D)        (None, 50, 50, 256)       295168    \n",
            "_________________________________________________________________\n",
            "block3_conv2 (Conv2D)        (None, 50, 50, 256)       590080    \n",
            "_________________________________________________________________\n",
            "block3_conv3 (Conv2D)        (None, 50, 50, 256)       590080    \n",
            "_________________________________________________________________\n",
            "block3_pool (MaxPooling2D)   (None, 25, 25, 256)       0         \n",
            "_________________________________________________________________\n",
            "block4_conv1 (Conv2D)        (None, 25, 25, 512)       1180160   \n",
            "_________________________________________________________________\n",
            "block4_conv2 (Conv2D)        (None, 25, 25, 512)       2359808   \n",
            "_________________________________________________________________\n",
            "block4_conv3 (Conv2D)        (None, 25, 25, 512)       2359808   \n",
            "_________________________________________________________________\n",
            "block4_pool (MaxPooling2D)   (None, 12, 12, 512)       0         \n",
            "_________________________________________________________________\n",
            "block5_conv1 (Conv2D)        (None, 12, 12, 512)       2359808   \n",
            "_________________________________________________________________\n",
            "block5_conv2 (Conv2D)        (None, 12, 12, 512)       2359808   \n",
            "_________________________________________________________________\n",
            "block5_conv3 (Conv2D)        (None, 12, 12, 512)       2359808   \n",
            "_________________________________________________________________\n",
            "block5_pool (MaxPooling2D)   (None, 6, 6, 512)         0         \n",
            "_________________________________________________________________\n",
            "flatten (Flatten)            (None, 18432)             0         \n",
            "_________________________________________________________________\n",
            "dense (Dense)                (None, 64)                1179712   \n",
            "_________________________________________________________________\n",
            "dense_1 (Dense)              (None, 32)                2080      \n",
            "_________________________________________________________________\n",
            "dense_2 (Dense)              (None, 2)                 66        \n",
            "=================================================================\n",
            "Total params: 15,896,546\n",
            "Trainable params: 1,181,858\n",
            "Non-trainable params: 14,714,688\n",
            "_________________________________________________________________\n"
          ],
          "name": "stdout"
        }
      ]
    },
    {
      "cell_type": "code",
      "metadata": {
        "colab": {
          "base_uri": "https://localhost:8080/"
        },
        "id": "6dfcb894",
        "outputId": "844467d9-9c9a-4b44-e153-7660bee3ae66"
      },
      "source": [
        "# Make sure you have frozen the correct layers\n",
        "for i, layer in enumerate(model.layers):\n",
        "    print(i, layer.name, layer.trainable)"
      ],
      "id": "6dfcb894",
      "execution_count": 12,
      "outputs": [
        {
          "output_type": "stream",
          "text": [
            "0 input_1 False\n",
            "1 block1_conv1 False\n",
            "2 block1_conv2 False\n",
            "3 block1_pool False\n",
            "4 block2_conv1 False\n",
            "5 block2_conv2 False\n",
            "6 block2_pool False\n",
            "7 block3_conv1 False\n",
            "8 block3_conv2 False\n",
            "9 block3_conv3 False\n",
            "10 block3_pool False\n",
            "11 block4_conv1 False\n",
            "12 block4_conv2 False\n",
            "13 block4_conv3 False\n",
            "14 block4_pool False\n",
            "15 block5_conv1 False\n",
            "16 block5_conv2 False\n",
            "17 block5_conv3 False\n",
            "18 block5_pool False\n",
            "19 flatten True\n",
            "20 dense True\n",
            "21 dense_1 True\n",
            "22 dense_2 True\n"
          ],
          "name": "stdout"
        }
      ]
    },
    {
      "cell_type": "markdown",
      "metadata": {
        "id": "b652b937"
      },
      "source": [
        "<h2> new metric </h2>"
      ],
      "id": "b652b937"
    },
    {
      "cell_type": "code",
      "metadata": {
        "id": "f6592dc2"
      },
      "source": [
        "model.compile(loss = \"binary_crossentropy\", optimizer = Adam(lr=0.001), metrics=['accuracy'])"
      ],
      "id": "f6592dc2",
      "execution_count": 13,
      "outputs": []
    },
    {
      "cell_type": "markdown",
      "metadata": {
        "id": "f44b3349"
      },
      "source": [
        "<h2> Image augmentation </h2>"
      ],
      "id": "f44b3349"
    },
    {
      "cell_type": "code",
      "metadata": {
        "id": "ba3a0805"
      },
      "source": [
        "from keras.preprocessing.image import ImageDataGenerator\n",
        "gen = ImageDataGenerator(rescale=1.0/255.0)\n",
        "train_it = gen.flow(x_train,y_train,batch_size=128)\n",
        "val_it = gen.flow(x_val,y_val,batch_size = 128)"
      ],
      "id": "ba3a0805",
      "execution_count": 14,
      "outputs": []
    },
    {
      "cell_type": "markdown",
      "metadata": {
        "id": "1c96af0f"
      },
      "source": [
        "<h2> Avoiding overfit </h2>"
      ],
      "id": "1c96af0f"
    },
    {
      "cell_type": "code",
      "metadata": {
        "id": "d0908e46"
      },
      "source": [
        "early_stopping = EarlyStopping(monitor='val_loss',patience=5)\n",
        "modelCheckpoint = ModelCheckpoint('best_model_upgrade.hdf5',save_best_only=True)"
      ],
      "id": "d0908e46",
      "execution_count": 15,
      "outputs": []
    },
    {
      "cell_type": "markdown",
      "metadata": {
        "id": "ba7a0fcf"
      },
      "source": [
        "<h2> Fit Model </h2>"
      ],
      "id": "ba7a0fcf"
    },
    {
      "cell_type": "code",
      "metadata": {
        "colab": {
          "base_uri": "https://localhost:8080/"
        },
        "id": "76b258a3",
        "outputId": "3ebb8cc4-e07d-4f20-cafb-c70029f456ee"
      },
      "source": [
        "h_callback = model.fit(train_it,epochs = 50, steps_per_epoch = len(train_it), \n",
        "                                      validation_steps = len(val_it),callbacks = [early_stopping,modelCheckpoint],\n",
        "                                      validation_data = val_it, verbose = 1)"
      ],
      "id": "76b258a3",
      "execution_count": 16,
      "outputs": [
        {
          "output_type": "stream",
          "text": [
            "Epoch 1/50\n",
            "2/2 [==============================] - 109s 64s/step - loss: 0.7255 - accuracy: 0.5757 - val_loss: 0.7195 - val_accuracy: 0.5000\n",
            "Epoch 2/50\n",
            "2/2 [==============================] - 107s 57s/step - loss: 0.6368 - accuracy: 0.6177 - val_loss: 0.6372 - val_accuracy: 0.7059\n",
            "Epoch 3/50\n",
            "2/2 [==============================] - 107s 57s/step - loss: 0.6306 - accuracy: 0.7430 - val_loss: 0.6984 - val_accuracy: 0.5588\n",
            "Epoch 4/50\n",
            "2/2 [==============================] - 107s 63s/step - loss: 0.5143 - accuracy: 0.7680 - val_loss: 0.5616 - val_accuracy: 0.8235\n",
            "Epoch 5/50\n",
            "2/2 [==============================] - 107s 63s/step - loss: 0.4568 - accuracy: 0.8988 - val_loss: 0.6013 - val_accuracy: 0.7059\n",
            "Epoch 6/50\n",
            "2/2 [==============================] - 107s 57s/step - loss: 0.3747 - accuracy: 0.8509 - val_loss: 0.5256 - val_accuracy: 0.8824\n",
            "Epoch 7/50\n",
            "2/2 [==============================] - 107s 57s/step - loss: 0.3226 - accuracy: 0.9460 - val_loss: 0.5054 - val_accuracy: 0.7941\n",
            "Epoch 8/50\n",
            "2/2 [==============================] - 107s 57s/step - loss: 0.2795 - accuracy: 0.9486 - val_loss: 0.6033 - val_accuracy: 0.7353\n",
            "Epoch 9/50\n",
            "2/2 [==============================] - 107s 57s/step - loss: 0.2333 - accuracy: 0.9323 - val_loss: 0.5451 - val_accuracy: 0.8529\n",
            "Epoch 10/50\n",
            "2/2 [==============================] - 107s 57s/step - loss: 0.2000 - accuracy: 0.9891 - val_loss: 0.5312 - val_accuracy: 0.8235\n",
            "Epoch 11/50\n",
            "2/2 [==============================] - 107s 57s/step - loss: 0.1599 - accuracy: 0.9919 - val_loss: 0.6210 - val_accuracy: 0.7647\n",
            "Epoch 12/50\n",
            "2/2 [==============================] - 107s 63s/step - loss: 0.1394 - accuracy: 0.9860 - val_loss: 0.5842 - val_accuracy: 0.7941\n"
          ],
          "name": "stdout"
        }
      ]
    },
    {
      "cell_type": "markdown",
      "metadata": {
        "id": "d4a9f81f"
      },
      "source": [
        "<h2> Evaluate model </h2>"
      ],
      "id": "d4a9f81f"
    },
    {
      "cell_type": "code",
      "metadata": {
        "colab": {
          "base_uri": "https://localhost:8080/"
        },
        "id": "7253fddb",
        "outputId": "a1d23dcf-9495-4c60-a52b-bd5647956e61"
      },
      "source": [
        "model.evaluate(x_train,y_train)"
      ],
      "id": "7253fddb",
      "execution_count": 17,
      "outputs": [
        {
          "output_type": "stream",
          "text": [
            "8/8 [==============================] - 93s 12s/step - loss: 3.0022 - accuracy: 0.8838\n"
          ],
          "name": "stdout"
        },
        {
          "output_type": "execute_result",
          "data": {
            "text/plain": [
              "[3.002199649810791, 0.8838174343109131]"
            ]
          },
          "metadata": {
            "tags": []
          },
          "execution_count": 17
        }
      ]
    },
    {
      "cell_type": "code",
      "metadata": {
        "colab": {
          "base_uri": "https://localhost:8080/"
        },
        "id": "4b10aa5b",
        "outputId": "6eeab879-b2c1-404b-bbf3-1590c77f6419"
      },
      "source": [
        "model.evaluate(x_test,y_test)"
      ],
      "id": "4b10aa5b",
      "execution_count": 18,
      "outputs": [
        {
          "output_type": "stream",
          "text": [
            "2/2 [==============================] - 24s 11s/step - loss: 11.9462 - accuracy: 0.6557\n"
          ],
          "name": "stdout"
        },
        {
          "output_type": "execute_result",
          "data": {
            "text/plain": [
              "[11.94620418548584, 0.6557376980781555]"
            ]
          },
          "metadata": {
            "tags": []
          },
          "execution_count": 18
        }
      ]
    },
    {
      "cell_type": "markdown",
      "metadata": {
        "id": "524148f5"
      },
      "source": [
        "<h2> plotting </h2>"
      ],
      "id": "524148f5"
    },
    {
      "cell_type": "code",
      "metadata": {
        "id": "b31b6673"
      },
      "source": [
        "def plot_loss(loss,val_loss):\n",
        "  plt.figure()\n",
        "  plt.plot(loss)\n",
        "  plt.plot(val_loss)\n",
        "  plt.title('Model loss')\n",
        "  plt.ylabel('Loss')\n",
        "  plt.xlabel('Epoch')\n",
        "  plt.legend(['Train', 'Test'], loc='upper right')\n",
        "  plt.show()"
      ],
      "id": "b31b6673",
      "execution_count": 19,
      "outputs": []
    },
    {
      "cell_type": "code",
      "metadata": {
        "id": "d39c0a8b"
      },
      "source": [
        "def plot_accuracy(acc,val_acc):\n",
        "  # Plot training & validation accuracy values\n",
        "  plt.figure()\n",
        "  plt.plot(acc)\n",
        "  plt.plot(val_acc)\n",
        "  plt.title('Model accuracy')\n",
        "  plt.ylabel('Accuracy')\n",
        "  plt.xlabel('Epoch')\n",
        "  plt.legend(['Train', 'Test'], loc='upper left')\n",
        "  plt.show()"
      ],
      "id": "d39c0a8b",
      "execution_count": 20,
      "outputs": []
    },
    {
      "cell_type": "code",
      "metadata": {
        "colab": {
          "base_uri": "https://localhost:8080/",
          "height": 573
        },
        "id": "2c45b6a0",
        "outputId": "d82466b8-c4bf-46f4-fb87-56da520ae1a1"
      },
      "source": [
        "# Plot train vs test loss during training\n",
        "plot_loss(h_callback.history['loss'], h_callback.history['val_loss'])\n",
        "# Plot train vs test accuracy during training\n",
        "plot_accuracy(h_callback.history['accuracy'], h_callback.history['val_accuracy'])"
      ],
      "id": "2c45b6a0",
      "execution_count": 21,
      "outputs": [
        {
          "output_type": "display_data",
          "data": {
            "image/png": "[encoded data removed]",
            "text/plain": [
              "<Figure size 432x288 with 1 Axes>"
            ]
          },
          "metadata": {
            "tags": [],
            "needs_background": "light"
          }
        },
        {
          "output_type": "display_data",
          "data": {
            "image/png": "[encoded data removed]",
            "text/plain": [
              "<Figure size 432x288 with 1 Axes>"
            ]
          },
          "metadata": {
            "tags": [],
            "needs_background": "light"
          }
        }
      ]
    },
    {
      "cell_type": "markdown",
      "metadata": {
        "id": "865a2839"
      },
      "source": [
        "<h2> Saving model </h2>"
      ],
      "id": "865a2839"
    },
    {
      "cell_type": "code",
      "metadata": {
        "colab": {
          "base_uri": "https://localhost:8080/"
        },
        "id": "c9105e1a",
        "outputId": "fc724eff-bbc4-45d5-b06d-0892a88cca68"
      },
      "source": [
        "from keras.models import model_from_json\n",
        "#serialize model to JSON\n",
        "model_json = model.to_json()\n",
        "with open(\"gdrive/My Drive/cnn/fruit_vegetable/model_transfer.json\", \"w\") as json_file:\n",
        "    json_file.write(model_json)\n",
        "# serialize weights to HDF5\n",
        "model.save_weights(\"gdrive/My Drive/cnn/fruit_vegetable/model_transfer.h5\")\n",
        "print(\"Saved model to disk\")"
      ],
      "id": "c9105e1a",
      "execution_count": 24,
      "outputs": [
        {
          "output_type": "stream",
          "text": [
            "Saved model to disk\n"
          ],
          "name": "stdout"
        }
      ]
    },
    {
      "cell_type": "code",
      "metadata": {
        "id": "e932f557"
      },
      "source": [
        ""
      ],
      "id": "e932f557",
      "execution_count": 22,
      "outputs": []
    }
  ]
}