{
 "cells": [
  {
   "cell_type": "code",
   "execution_count": 109,
   "metadata": {},
   "outputs": [],
   "source": [
    "# Packages\n",
    "import numpy as np\n",
    "import pandas as pd\n",
    "from matplotlib import pyplot as plt\n",
    "import matplotlib\n",
    "import seaborn as sns\n",
    "\n",
    "from sklearn.impute import SimpleImputer\n",
    "from sklearn.pipeline import Pipeline\n",
    "from sklearn.ensemble import IsolationForest"
   ]
  },
  {
   "cell_type": "code",
   "execution_count": 110,
   "metadata": {},
   "outputs": [],
   "source": [
    "# Print more rows and columns of pandas.DataFrame\n",
    "pd.set_option('display.max_rows', 500)\n",
    "pd.set_option('display.max_columns', 500)"
   ]
  },
  {
   "cell_type": "code",
   "execution_count": 111,
   "metadata": {},
   "outputs": [],
   "source": [
    "# Change path if needed\n",
    "path = r'C:\\Users\\user\\Desktop\\KUL - Mstat\\Big Data Platforms and Technologies\\project'\n",
    "data = pd.read_csv(path + r'\\ctrain.csv')"
   ]
  },
  {
   "cell_type": "code",
   "execution_count": 113,
   "metadata": {},
   "outputs": [],
   "source": [
    "# Weight of evidence & Information value\n",
    "def get_information_value(data, features):\n",
    "    # cross tab\n",
    "    tab = pd.crosstab(data[features], data['fraud'])\n",
    "    # weight of evidence\n",
    "    tab['all'] = tab[['Y', 'N']].sum(axis = 1) \n",
    "    tab['share'] = tab['all'] / tab['all'].sum(axis = 0)\n",
    "    tab['Y_rate'] = tab['Y'] / tab['all']\n",
    "    tab['N_dist'] = tab['N'] / tab['N'].sum()\n",
    "    tab['Y_dist'] = tab['Y'] / tab['Y'].sum()\n",
    "    tab['WoE'] = np.log(tab['N_dist'] / tab['Y_dist'])\n",
    "    tab = tab.replace({'WoE': {np.inf: 0, -np.inf: 0}})\n",
    "    # information value\n",
    "    tab['IV'] = tab['WoE'] * (tab['N_dist'] - tab['Y_dist'])\n",
    "    return tab[np.abs(tab['IV']) > 0.01].index.values # threshold 0.01"
   ]
  },
  {
   "cell_type": "code",
   "execution_count": 114,
   "metadata": {},
   "outputs": [
    {
     "name": "stderr",
     "output_type": "stream",
     "text": [
      "C:\\Users\\user\\anaconda3\\lib\\site-packages\\pandas\\core\\series.py:679: RuntimeWarning: divide by zero encountered in log\n",
      "  result = getattr(ufunc, method)(*inputs, **kwargs)\n"
     ]
    }
   ],
   "source": [
    "# apply get_information_value\n",
    "claim_postal_code_list = get_information_value(data, 'claim_postal_code')\n",
    "policy_holder_postal_code_list = get_information_value(data, 'policy_holder_postal_code')\n",
    "driver_postal_code_list = get_information_value(data, 'driver_postal_code')\n",
    "third_party_1_postal_code_list = get_information_value(data, 'third_party_1_postal_code')\n",
    "third_party_2_postal_code_list = get_information_value(data, 'third_party_2_postal_code')\n",
    "repair_postal_code_list = get_information_value(data, 'repair_postal_code')\n",
    "claim_vehicle_brand_list = get_information_value(data, 'claim_vehicle_brand')\n",
    "policy_coverage_type_list = get_information_value(data, 'policy_coverage_type')"
   ]
  },
  {
   "cell_type": "code",
   "execution_count": 115,
   "metadata": {},
   "outputs": [],
   "source": [
    "def handle_age(value):\n",
    "    # A simple program to discretize age\n",
    "    if pd.isna(value):\n",
    "        return 'unknown'\n",
    "    else:\n",
    "        if value <= 20:\n",
    "            return '<=20'\n",
    "#        elif value <= 30:\n",
    "#            return '<=30'\n",
    "        elif value <= 40:\n",
    "            return '<=40'\n",
    "#        elif value <= 50:\n",
    "#            return '<=50'\n",
    "        elif value <= 60:\n",
    "            return '<=60'\n",
    " #       elif value <= 70:\n",
    " #           return '<=70'\n",
    "        elif value <= 80:\n",
    "            return '<=80'\n",
    "        else:\n",
    "            return '>80'\n",
    "\n",
    "def handle_policy_coverage(value):\n",
    "    # A simple program to discretize policy_coverage_1000\n",
    "    if pd.isna(value):\n",
    "        return 'unknown'\n",
    "    else:\n",
    "        if value <= 20:\n",
    "            return '<=20'\n",
    "        elif value <= 40:\n",
    "            return '<=40'\n",
    "        elif value <= 60:\n",
    "            return '<=60'\n",
    "        elif value <= 80:\n",
    "            return '<=80'\n",
    "        else:\n",
    "            return '>80'\n",
    "\n",
    "def handle_categorical_grouping(value, grouping_list):\n",
    "        if value == 'unknown':\n",
    "            return value\n",
    "        elif value in grouping_list:\n",
    "            return str(value)\n",
    "        else:\n",
    "            return 'other'\n",
    "        \n",
    "def transform(x_dataset):\n",
    "        x_dataset['driver_age'] = x_dataset['driver_age'].apply(lambda x: handle_age(x))\n",
    "        x_dataset['policy_holder_age'] = x_dataset['policy_holder_age'].apply(lambda x: handle_age(x))\n",
    "        x_dataset['repair_age'] = x_dataset['repair_age'].apply(lambda x: handle_age(x))\n",
    "        x_dataset['third_party_1_age'] = x_dataset['third_party_1_age'].apply(lambda x: handle_age(x))\n",
    "        x_dataset['third_party_2_age'] = x_dataset['third_party_2_age'].apply(lambda x: handle_age(x))\n",
    "        x_dataset['third_party_3_age'] = x_dataset['third_party_3_age'].apply(lambda x: handle_age(x))\n",
    "        \n",
    "        x_dataset['policy_coverage_1000'] = x_dataset['policy_coverage_1000'].apply(lambda x: handle_policy_coverage(x))\n",
    "        \n",
    "        x_dataset['claim_postal_code'] = x_dataset['claim_postal_code'].apply(lambda x: handle_categorical_grouping(x, claim_postal_code_list))\n",
    "        x_dataset['policy_holder_postal_code'] = x_dataset['policy_holder_postal_code'].apply(lambda x: handle_categorical_grouping(x, policy_holder_postal_code_list))\n",
    "        x_dataset['driver_postal_code'] = x_dataset['driver_postal_code'].apply(lambda x: handle_categorical_grouping(x, driver_postal_code_list))\n",
    "        x_dataset['third_party_1_postal_code'] = x_dataset['third_party_1_postal_code'].apply(lambda x: handle_categorical_grouping(x, third_party_1_postal_code_list))\n",
    "        x_dataset['third_party_2_postal_code'] = x_dataset['third_party_2_postal_code'].apply(lambda x: handle_categorical_grouping(x, third_party_2_postal_code_list))\n",
    "        x_dataset['third_party_3_postal_code'] = x_dataset['third_party_3_postal_code'].apply(lambda x: x if x == 'unknown' else 'other')\n",
    "        x_dataset['repair_postal_code'] = x_dataset['repair_postal_code'].apply(lambda x: handle_categorical_grouping(x, repair_postal_code_list))\n",
    "        # x_dataset['claim_vehicle_brand'] = x_dataset['claim_vehicle_brand'].apply(lambda x: handle_categorical_grouping(x, claim_vehicle_brand_list))\n",
    "        x_dataset['policy_coverage_type'] = x_dataset['policy_coverage_type'].apply(lambda x: handle_categorical_grouping(x, policy_coverage_type_list))        \n",
    "        \n",
    "        return x_dataset.drop(['third_party_1_id_known', 'third_party_2_id_known', 'third_party_3_id_known'], axis = 1)"
   ]
  },
  {
   "cell_type": "code",
   "execution_count": 116,
   "metadata": {},
   "outputs": [],
   "source": [
    "# Some transformation\n",
    "data = transform(data)"
   ]
  },
  {
   "cell_type": "code",
   "execution_count": 118,
   "metadata": {},
   "outputs": [],
   "source": [
    "X, y = pd.get_dummies(data.drop(['claim_id', 'fraud'], axis = 1), drop_first = True), data['fraud'].apply(lambda x: 1 if x == 'Y' else 0)"
   ]
  },
  {
   "cell_type": "code",
   "execution_count": null,
   "metadata": {},
   "outputs": [],
   "source": [
    "# Pipeline for isolation forest"
   ]
  },
  {
   "cell_type": "code",
   "execution_count": null,
   "metadata": {},
   "outputs": [],
   "source": []
  },
  {
   "cell_type": "code",
   "execution_count": null,
   "metadata": {},
   "outputs": [],
   "source": []
  },
  {
   "cell_type": "code",
   "execution_count": null,
   "metadata": {},
   "outputs": [],
   "source": []
  },
  {
   "cell_type": "code",
   "execution_count": null,
   "metadata": {},
   "outputs": [],
   "source": []
  }
 ],
 "metadata": {
  "kernelspec": {
   "display_name": "Python 3",
   "language": "python",
   "name": "python3"
  },
  "language_info": {
   "codemirror_mode": {
    "name": "ipython",
    "version": 3
   },
   "file_extension": ".py",
   "mimetype": "text/x-python",
   "name": "python",
   "nbconvert_exporter": "python",
   "pygments_lexer": "ipython3",
   "version": "3.8.3"
  }
 },
 "nbformat": 4,
 "nbformat_minor": 4
}
