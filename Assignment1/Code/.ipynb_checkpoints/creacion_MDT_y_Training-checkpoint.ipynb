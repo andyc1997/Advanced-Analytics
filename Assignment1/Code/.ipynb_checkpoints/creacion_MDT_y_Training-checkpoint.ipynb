{
 "cells": [
  {
   "cell_type": "code",
   "execution_count": 1,
   "metadata": {},
   "outputs": [],
   "source": [
    "# Standard libraries\n",
    "\n",
    "import pandas as pd\n",
    "import numpy as np\n",
    "import matplotlib\n",
    "import matplotlib.pyplot as plt\n",
    "import seaborn as sns\n",
    "sns.set()\n",
    "#from matplotlib.backends.backend_pdf import PdfPages\n",
    "import shap\n",
    "from functions_model import plots_freq_target,prepare_datasets,prepare_datasets_sinseg,get_file,plot_ROC,plot_confusion_matrix\n",
    "from functions_model import plot_learning_curve,plot_ROC_kfolds\n",
    "from functions import cleanobjectvars,full_describe_categorical,full_describe_numerical,plots_freq,plots_freq_target\n",
    "import time\n",
    "from typing import Dict, List\n",
    "from datetime import datetime\n",
    "from dateutil.relativedelta import relativedelta\n",
    "\n",
    "from scipy import interp\n",
    "from sklearn.cluster import KMeans\n",
    "import jenkspy\n",
    "\n",
    "pd.options.mode.chained_assignment = None       # Fix for pandas warning\n",
    "\n",
    "# Sklearn imports\n",
    "\n",
    "from sklearn.model_selection import (\n",
    "        train_test_split,\n",
    "        learning_curve,\n",
    "        StratifiedKFold,\n",
    "        cross_val_score,\n",
    "        RandomizedSearchCV,\n",
    "        GridSearchCV\n",
    "        )\n",
    "\n",
    "from sklearn.metrics import (\n",
    "        roc_auc_score,\n",
    "        roc_curve,\n",
    "        # precision_recall_curve,\n",
    "        confusion_matrix,\n",
    "        auc,\n",
    "        cohen_kappa_score,\n",
    "        accuracy_score,\n",
    "        precision_score,\n",
    "        recall_score,\n",
    "        classification_report,\n",
    "        make_scorer\n",
    "        )\n",
    "\n",
    "from sklearn.ensemble import RandomForestClassifier\n",
    "from sklearn.tree import DecisionTreeClassifier\n",
    "from sklearn import tree\n",
    "from sklearn import svm\n",
    "\n",
    "#from sklearn.multioutput import MultiOutputClassifier\n",
    "#from imblearn.over_sampling import SMOTE\n",
    "\n",
    "# from sklearn.linear_model import LogisticRegressionCV\n",
    "\n",
    "# XGBoost (ML algorithm based on boosting trees\n",
    "\n",
    "import xgboost as xgb\n",
    "from xgboost import plot_tree\n",
    "\n",
    "# Hyperopt (Bayesian optimization library used to find opt hyperparameters)\n",
    "# This process is optional and can be commented out if library is not installed\n",
    "\n",
    "#from hyperopt import hp, STATUS_OK, fmin, tpe, Trials\n",
    "\n",
    "# Pickle (save/load models as binary files to be imported elsewhere)\n",
    "\n",
    "from sklearn.model_selection import GridSearchCV\n",
    "\n",
    "import pickle\n",
    "\n",
    "# pd.options.display.max_columns = None\n",
    "# pd.options.display.max_rows = None"
   ]
  },
  {
   "cell_type": "code",
   "execution_count": 2,
   "metadata": {},
   "outputs": [],
   "source": [
    "def get_file(file_path: str) -> pd.DataFrame:\n",
    "    \"\"\"\n",
    "    Reads csv file in standardized format.\n",
    "\n",
    "    :param file_path: str of file path\n",
    "    :returns: df containing data\n",
    "    \"\"\"\n",
    "    #print(select_cols)\n",
    "    df = pd.read_csv(\n",
    "            file_path,\n",
    "            sep='|',\n",
    "#             index_col=0,\n",
    "            encoding='utf-8',\n",
    "            na_values='',\n",
    "            low_memory=False,\n",
    "#             usecols = select_cols,\n",
    "            decimal=',',\n",
    "#             error_bad_lines=False\n",
    "            )\n",
    "\n",
    "    return df\n",
    "\n",
    "def categorical(df: pd.DataFrame, dict_categorias: Dict[str, List[str]]) -> pd.DataFrame:\n",
    "    \n",
    "    for key in dict_categorias:\n",
    "        \n",
    "        df[key] = pd.Categorical(\n",
    "                                 df[key],\n",
    "                                 dict_categorias[key]\n",
    "                                )\n",
    "    \n",
    "    return df\n",
    "\n",
    "def acotacion(df: pd.DataFrame,vars_num: List[str]) -> pd.DataFrame:\n",
    "    \"\"\"\n",
    "    \"\"\"\n",
    "    for col in vars_num:\n",
    "        np.seterr(all='ignore')\n",
    "\n",
    "        #print(str(col)+'_np.PINF='+str((df[col]==np.PINF).any()))    \n",
    "        df[col] = np.where(df[col]==np.PINF,\n",
    "                                 next(df[col].quantile(i) for i in np.arange(1,0.9,-0.01) if \n",
    "                                      df[col].quantile(i)!=np.PINF and ~np.isnan(df[col].quantile(i))),\n",
    "                                         df[col])\n",
    "    \n",
    "        #print(str(col)+'_np.NINF='+str((df[col]==np.NINF).any()))    \n",
    "        df[col] = np.where(df[col]==np.NINF,\n",
    "                                 next(df[col].quantile(i) for i in np.arange(0,0.1,0.01) if \n",
    "                                      df[col].quantile(i)!=np.NINF and ~np.isnan(df[col].quantile(i))),\n",
    "                                         df[col])\n",
    "    \n",
    "        df[col] = np.where(df[col] >= df[col].quantile(0.99),round(df[col].quantile(0.99),2),\n",
    "                     np.where(df[col] <= df[col].quantile(0.01),round(df[col].quantile(0.01),2),\n",
    "                              round(df[col],2)))\n",
    "    \n",
    "    return df[vars_num]"
   ]
  },
  {
   "cell_type": "code",
   "execution_count": null,
   "metadata": {},
   "outputs": [],
   "source": [
    "# base_ingresos = get_file('/mnt/work/retencion_post_crisis/Desercion_vehiculos/SebasJimenez/2019_variable_ingresos.txt')\n",
    "\n",
    "# print(base_ingresos.shape)\n",
    "# base_ingresos.head()\n",
    "\n",
    "# base_ingresos.dtypes"
   ]
  },
  {
   "cell_type": "code",
   "execution_count": null,
   "metadata": {},
   "outputs": [],
   "source": [
    "cols_index = ['str_identificacion','mes_prep','stroblobligsarc','mes_prep_ant','var_objetivo']\n",
    "\n",
    "df_mdt_inicial = get_file('training_tables/new_mdt_longitudinal_vehiculos_201810_201909.txt')\n",
    "df_mdt_inicial.set_index(cols_index,inplace=True)\n",
    "\n",
    "df_factfinanciera = get_file('training_tables/new_variables_factfinanciera_long_201810_201909.txt')\n",
    "df_factfinanciera.drop('numero_de_la_colocacion',axis=1,inplace=True)\n",
    "df_factfinanciera.set_index(cols_index,inplace=True)\n",
    "\n",
    "df_factsaldosmes = get_file('training_tables/new_variables_factsaldosmes_long_201810_201909.txt')\n",
    "df_factsaldosmes.drop('numero_de_la_colocacion',axis=1,inplace=True)\n",
    "df_factsaldosmes.set_index(cols_index,inplace=True)\n",
    "\n",
    "df_depositos = get_file('training_tables/new_variables_factsaldosmes_depositos_long_201810_201909.txt')\n",
    "df_depositos.drop('numero_de_la_colocacion',axis=1,inplace=True)\n",
    "df_depositos.set_index(cols_index,inplace=True)\n",
    "\n",
    "df_dimclienteods = get_file('training_tables/new_variables_dimclienteods_long_201810_201909.txt')\n",
    "df_dimclienteods.drop('numero_de_la_colocacion',axis=1,inplace=True)\n",
    "df_dimclienteods.set_index(cols_index,inplace=True)"
   ]
  },
  {
   "cell_type": "code",
   "execution_count": null,
   "metadata": {},
   "outputs": [],
   "source": [
    "print(df_mdt_inicial.shape)\n",
    "# print(df_mdt_inicial.var_objetivo.sum()/df_mdt_inicial.shape[0])\n",
    "# df_mdt_inicial.mes_prep.unique()"
   ]
  },
  {
   "cell_type": "code",
   "execution_count": null,
   "metadata": {},
   "outputs": [],
   "source": [
    "df_mdt_inicial.head()"
   ]
  },
  {
   "cell_type": "code",
   "execution_count": null,
   "metadata": {},
   "outputs": [],
   "source": [
    "# dates = sorted(list(df_mdt_inicial['mes_prep'].unique()))\n",
    "\n",
    "# for date in dates:\n",
    "#     rate = round(df_mdt_inicial.loc[df_mdt_inicial['mes_prep']==date,'var_objetivo'].sum()/\\\n",
    "#                  df_mdt_inicial.loc[df_mdt_inicial['mes_prep']==date,:].shape[0]*100,2)\n",
    "#     print(date,rate)"
   ]
  },
  {
   "cell_type": "code",
   "execution_count": null,
   "metadata": {},
   "outputs": [],
   "source": [
    "df_mdt_inicial = df_mdt_inicial.join(df_factfinanciera).join(df_dimclienteods).join(df_factsaldosmes).join(df_depositos)\n",
    "df_mdt_inicial.reset_index(inplace=True)\n",
    "\n",
    "df_mdt_inicial['mes_prep'] = df_mdt_inicial['mes_prep'].astype(str)\n",
    "df_mdt_inicial.set_index(['str_identificacion','mes_prep'],inplace=True)\n",
    "print(df_mdt_inicial.shape)\n",
    "df_mdt_inicial.head()"
   ]
  },
  {
   "cell_type": "code",
   "execution_count": null,
   "metadata": {},
   "outputs": [],
   "source": [
    "base_edad_antiguedad = get_file('/mnt/work/retencion_post_crisis/Desercion_vehiculos/SebasJimenez/edad_antiguedad.txt')\n",
    "# base_edad_antiguedad.drop_duplicates(['str_identificacion','periodo'],inplace=True)\n",
    "# base_edad_antiguedad.reset_index(drop=True,inplace=True)\n",
    "base_edad_antiguedad.rename(columns={'periodo':'mes_prep'},inplace=True)\n",
    "base_edad_antiguedad.drop('str_tipo_documento',axis=1,inplace=True)\n",
    "\n",
    "base_edad_antiguedad['id_isnumeric'] = base_edad_antiguedad['str_identificacion'].str.isnumeric()\n",
    "base_edad_antiguedad = base_edad_antiguedad[base_edad_antiguedad['id_isnumeric']==True]\n",
    "base_edad_antiguedad['str_identificacion'] = base_edad_antiguedad['str_identificacion'].astype(int)\n",
    "base_edad_antiguedad.drop('id_isnumeric',axis=1,inplace=True)\n",
    "\n",
    "base_edad_antiguedad['mes_prep'] = base_edad_antiguedad['mes_prep'].astype(str)\n",
    "base_edad_antiguedad = base_edad_antiguedad.sort_values(by=['str_identificacion','mes_prep'])\n",
    "base_edad_antiguedad.reset_index(drop=True,inplace=True)\n",
    "\n",
    "# base_edad_antiguedad = base_edad_antiguedad[base_edad_antiguedad.groupby(['str_identificacion','mes_prep'])['str_identificacion'].transform('size') == 1]\n",
    "base_edad_antiguedad = base_edad_antiguedad.groupby(['str_identificacion','mes_prep'],as_index=False).last()\n",
    "base_edad_antiguedad.set_index(['str_identificacion','mes_prep'],inplace=True)\n",
    "\n",
    "cols = list(base_edad_antiguedad.columns)\n",
    "base_edad_antiguedad[cols] = base_edad_antiguedad[cols].astype(float)\n",
    "\n",
    "print(base_edad_antiguedad.shape)\n",
    "base_edad_antiguedad.head()"
   ]
  },
  {
   "cell_type": "code",
   "execution_count": null,
   "metadata": {
    "scrolled": true
   },
   "outputs": [],
   "source": [
    "df_mdt = df_mdt_inicial.join(base_edad_antiguedad)\n",
    "df_mdt.reset_index(inplace=True)\n",
    "\n",
    "df_mdt['edad'] = np.where(df_mdt['edad'].isna(),np.nan,\n",
    "                 np.where(df_mdt['edad']<18,np.nan,df_mdt['edad']))\n",
    "\n",
    "df_mdt['antiguedad'] = np.where(df_mdt['antiguedad'].isna(),np.nan,\n",
    "                       np.where(df_mdt['antiguedad']<0,np.nan,df_mdt['antiguedad']))\n",
    "\n",
    "df_mdt['ano'] = np.where(df_mdt['ano']=='2.0',np.nan,df_mdt['ano'])\n",
    "\n",
    "print(df_mdt.shape)\n",
    "df_mdt.head()"
   ]
  },
  {
   "cell_type": "code",
   "execution_count": null,
   "metadata": {},
   "outputs": [],
   "source": [
    "# dates = sorted(list(df_mdt['mes_prep'].unique()))\n",
    "\n",
    "# for date in dates:\n",
    "#     rate = round(df_mdt.loc[df_mdt['mes_prep']==date,'str_nivel_educativo'].isna().sum()/\\\n",
    "#                  df_mdt.loc[df_mdt['mes_prep']==date,:].shape[0]*100,2)\n",
    "#     print(date,rate)"
   ]
  },
  {
   "cell_type": "code",
   "execution_count": null,
   "metadata": {},
   "outputs": [],
   "source": [
    "def compute_car_age(x):\n",
    "#     try:\n",
    "    if pd.notnull(x):\n",
    "        now = datetime.strptime(datetime.now().strftime('%Y'), '%Y')\n",
    "        x = str(int(x.replace('.0','')))\n",
    "        x = datetime.strptime(x, '%Y')\n",
    "        \n",
    "        diff = relativedelta(now, x).years\n",
    "        \n",
    "#         return diff\n",
    "#     except:\n",
    "    else:\n",
    "        diff = np.nan\n",
    "    \n",
    "#         return np.nan\n",
    "\n",
    "    return diff"
   ]
  },
  {
   "cell_type": "code",
   "execution_count": null,
   "metadata": {
    "scrolled": true
   },
   "outputs": [],
   "source": [
    "df_mdt['antiguedad_vehiculo'] = df_mdt['ano'].map(compute_car_age)"
   ]
  },
  {
   "cell_type": "code",
   "execution_count": null,
   "metadata": {},
   "outputs": [],
   "source": [
    "cols_mes_prep = [col for col in df_mdt.columns if ('_mes_prep' in col) and ('_ant' not in col) and ('nummovcalificacion' not in col)]\n",
    "\n",
    "df_mdt.drop(cols_mes_prep,axis=1,inplace=True)"
   ]
  },
  {
   "cell_type": "code",
   "execution_count": null,
   "metadata": {},
   "outputs": [],
   "source": [
    "print(df_mdt.shape)\n",
    "df_mdt.head()"
   ]
  },
  {
   "cell_type": "code",
   "execution_count": null,
   "metadata": {},
   "outputs": [],
   "source": [
    "df_mdt_copy = df_mdt.copy()"
   ]
  },
  {
   "cell_type": "code",
   "execution_count": null,
   "metadata": {},
   "outputs": [],
   "source": [
    "df_mdt.to_csv('/mnt/work/retencion_post_crisis/Desercion_vehiculos/Data_Modelo/new_mdt_longitudinal_vehiculos_201810_201909.txt',\n",
    "              sep='|',\n",
    "              index=False)"
   ]
  },
  {
   "cell_type": "code",
   "execution_count": 5,
   "metadata": {},
   "outputs": [],
   "source": [
    "df_mdt = pd.read_csv('/mnt/work/retencion_post_crisis/Desercion_vehiculos/Data_Modelo/new_mdt_longitudinal_vehiculos_201810_201909.txt',\n",
    "                     sep='|',\n",
    "                     low_memory=False)"
   ]
  },
  {
   "cell_type": "code",
   "execution_count": null,
   "metadata": {},
   "outputs": [],
   "source": [
    "#(587969, 106)\n",
    "#65697"
   ]
  },
  {
   "cell_type": "code",
   "execution_count": 8,
   "metadata": {},
   "outputs": [
    {
     "name": "stdout",
     "output_type": "stream",
     "text": [
      "(586793, 106)\n",
      "65509\n"
     ]
    },
    {
     "data": {
      "text/html": [
       "<div>\n",
       "<style scoped>\n",
       "    .dataframe tbody tr th:only-of-type {\n",
       "        vertical-align: middle;\n",
       "    }\n",
       "\n",
       "    .dataframe tbody tr th {\n",
       "        vertical-align: top;\n",
       "    }\n",
       "\n",
       "    .dataframe thead th {\n",
       "        text-align: right;\n",
       "    }\n",
       "</style>\n",
       "<table border=\"1\" class=\"dataframe\">\n",
       "  <thead>\n",
       "    <tr style=\"text-align: right;\">\n",
       "      <th></th>\n",
       "      <th>str_identificacion</th>\n",
       "      <th>mes_prep</th>\n",
       "      <th>stroblobligsarc</th>\n",
       "      <th>mes_prep_ant</th>\n",
       "      <th>var_objetivo</th>\n",
       "      <th>numero_de_la_colocacion</th>\n",
       "      <th>nummovcalificacion_mes_prep</th>\n",
       "      <th>numprocodigo_mes_prep_ant</th>\n",
       "      <th>nummovcalificacion_mes_prep_ant</th>\n",
       "      <th>saldo_credito_mes_prep_ant</th>\n",
       "      <th>...</th>\n",
       "      <th>prom_depos_trim_ant</th>\n",
       "      <th>prom_depos_sem_ant</th>\n",
       "      <th>prom_depos_9m_ant</th>\n",
       "      <th>prom_depos_anual</th>\n",
       "      <th>variacion_depos_mens</th>\n",
       "      <th>variacion_depos_trim</th>\n",
       "      <th>variacion_depos_sem</th>\n",
       "      <th>antiguedad</th>\n",
       "      <th>edad</th>\n",
       "      <th>antiguedad_vehiculo</th>\n",
       "    </tr>\n",
       "  </thead>\n",
       "  <tbody>\n",
       "    <tr>\n",
       "      <th>0</th>\n",
       "      <td>49103</td>\n",
       "      <td>201810</td>\n",
       "      <td>51721000007210307642</td>\n",
       "      <td>201809</td>\n",
       "      <td>0</td>\n",
       "      <td>7.210308e+09</td>\n",
       "      <td>A</td>\n",
       "      <td>51.0</td>\n",
       "      <td>A</td>\n",
       "      <td>44002187.35</td>\n",
       "      <td>...</td>\n",
       "      <td>11603219.50</td>\n",
       "      <td>10365490.58</td>\n",
       "      <td>10639023.06</td>\n",
       "      <td>9817595.50</td>\n",
       "      <td>-39.7732</td>\n",
       "      <td>27.1201</td>\n",
       "      <td>11.8212</td>\n",
       "      <td>35.422313</td>\n",
       "      <td>NaN</td>\n",
       "      <td>3.0</td>\n",
       "    </tr>\n",
       "    <tr>\n",
       "      <th>1</th>\n",
       "      <td>49103</td>\n",
       "      <td>201811</td>\n",
       "      <td>51721000007210307642</td>\n",
       "      <td>201810</td>\n",
       "      <td>0</td>\n",
       "      <td>7.210308e+09</td>\n",
       "      <td>A</td>\n",
       "      <td>51.0</td>\n",
       "      <td>A</td>\n",
       "      <td>42159709.35</td>\n",
       "      <td>...</td>\n",
       "      <td>8621771.83</td>\n",
       "      <td>10856631.25</td>\n",
       "      <td>10289344.94</td>\n",
       "      <td>9978379.54</td>\n",
       "      <td>24.0745</td>\n",
       "      <td>-34.1422</td>\n",
       "      <td>19.3020</td>\n",
       "      <td>35.507187</td>\n",
       "      <td>NaN</td>\n",
       "      <td>3.0</td>\n",
       "    </tr>\n",
       "    <tr>\n",
       "      <th>2</th>\n",
       "      <td>49103</td>\n",
       "      <td>201812</td>\n",
       "      <td>51721000007210307642</td>\n",
       "      <td>201811</td>\n",
       "      <td>0</td>\n",
       "      <td>7.210308e+09</td>\n",
       "      <td>A</td>\n",
       "      <td>51.0</td>\n",
       "      <td>A</td>\n",
       "      <td>40302399.35</td>\n",
       "      <td>...</td>\n",
       "      <td>9026528.83</td>\n",
       "      <td>10843362.92</td>\n",
       "      <td>10280721.17</td>\n",
       "      <td>10350673.12</td>\n",
       "      <td>48.5828</td>\n",
       "      <td>-28.7015</td>\n",
       "      <td>9.9958</td>\n",
       "      <td>35.589322</td>\n",
       "      <td>NaN</td>\n",
       "      <td>3.0</td>\n",
       "    </tr>\n",
       "    <tr>\n",
       "      <th>3</th>\n",
       "      <td>49103</td>\n",
       "      <td>201901</td>\n",
       "      <td>51721000007210307642</td>\n",
       "      <td>201812</td>\n",
       "      <td>0</td>\n",
       "      <td>7.210308e+09</td>\n",
       "      <td>A</td>\n",
       "      <td>51.0</td>\n",
       "      <td>A</td>\n",
       "      <td>38430448.35</td>\n",
       "      <td>...</td>\n",
       "      <td>11570157.00</td>\n",
       "      <td>11586688.25</td>\n",
       "      <td>10767046.06</td>\n",
       "      <td>10871806.54</td>\n",
       "      <td>16.6742</td>\n",
       "      <td>-0.2849</td>\n",
       "      <td>14.0767</td>\n",
       "      <td>35.674196</td>\n",
       "      <td>NaN</td>\n",
       "      <td>3.0</td>\n",
       "    </tr>\n",
       "    <tr>\n",
       "      <th>4</th>\n",
       "      <td>49103</td>\n",
       "      <td>201902</td>\n",
       "      <td>51721000007210307642</td>\n",
       "      <td>201901</td>\n",
       "      <td>0</td>\n",
       "      <td>7.210308e+09</td>\n",
       "      <td>A</td>\n",
       "      <td>51.0</td>\n",
       "      <td>A</td>\n",
       "      <td>36542076.35</td>\n",
       "      <td>...</td>\n",
       "      <td>9591017.33</td>\n",
       "      <td>9106394.58</td>\n",
       "      <td>10434759.94</td>\n",
       "      <td>10114763.04</td>\n",
       "      <td>-83.9496</td>\n",
       "      <td>11.2418</td>\n",
       "      <td>-18.1310</td>\n",
       "      <td>35.759069</td>\n",
       "      <td>NaN</td>\n",
       "      <td>3.0</td>\n",
       "    </tr>\n",
       "  </tbody>\n",
       "</table>\n",
       "<p>5 rows × 106 columns</p>\n",
       "</div>"
      ],
      "text/plain": [
       "   str_identificacion  mes_prep       stroblobligsarc  mes_prep_ant  \\\n",
       "0               49103    201810  51721000007210307642        201809   \n",
       "1               49103    201811  51721000007210307642        201810   \n",
       "2               49103    201812  51721000007210307642        201811   \n",
       "3               49103    201901  51721000007210307642        201812   \n",
       "4               49103    201902  51721000007210307642        201901   \n",
       "\n",
       "   var_objetivo  numero_de_la_colocacion nummovcalificacion_mes_prep  \\\n",
       "0             0             7.210308e+09                           A   \n",
       "1             0             7.210308e+09                           A   \n",
       "2             0             7.210308e+09                           A   \n",
       "3             0             7.210308e+09                           A   \n",
       "4             0             7.210308e+09                           A   \n",
       "\n",
       "   numprocodigo_mes_prep_ant nummovcalificacion_mes_prep_ant  \\\n",
       "0                       51.0                               A   \n",
       "1                       51.0                               A   \n",
       "2                       51.0                               A   \n",
       "3                       51.0                               A   \n",
       "4                       51.0                               A   \n",
       "\n",
       "   saldo_credito_mes_prep_ant  ...  prom_depos_trim_ant  prom_depos_sem_ant  \\\n",
       "0                 44002187.35  ...          11603219.50         10365490.58   \n",
       "1                 42159709.35  ...           8621771.83         10856631.25   \n",
       "2                 40302399.35  ...           9026528.83         10843362.92   \n",
       "3                 38430448.35  ...          11570157.00         11586688.25   \n",
       "4                 36542076.35  ...           9591017.33          9106394.58   \n",
       "\n",
       "   prom_depos_9m_ant prom_depos_anual  variacion_depos_mens  \\\n",
       "0        10639023.06       9817595.50              -39.7732   \n",
       "1        10289344.94       9978379.54               24.0745   \n",
       "2        10280721.17      10350673.12               48.5828   \n",
       "3        10767046.06      10871806.54               16.6742   \n",
       "4        10434759.94      10114763.04              -83.9496   \n",
       "\n",
       "   variacion_depos_trim  variacion_depos_sem  antiguedad  edad  \\\n",
       "0               27.1201              11.8212   35.422313   NaN   \n",
       "1              -34.1422              19.3020   35.507187   NaN   \n",
       "2              -28.7015               9.9958   35.589322   NaN   \n",
       "3               -0.2849              14.0767   35.674196   NaN   \n",
       "4               11.2418             -18.1310   35.759069   NaN   \n",
       "\n",
       "  antiguedad_vehiculo  \n",
       "0                 3.0  \n",
       "1                 3.0  \n",
       "2                 3.0  \n",
       "3                 3.0  \n",
       "4                 3.0  \n",
       "\n",
       "[5 rows x 106 columns]"
      ]
     },
     "execution_count": 8,
     "metadata": {},
     "output_type": "execute_result"
    }
   ],
   "source": [
    "df_mdt = df_mdt.loc[df_mdt['nummovcalificacion_mes_prep']=='A',:]\n",
    "df_mdt.drop_duplicates(subset=['str_identificacion','mes_prep'],inplace=True)\n",
    "\n",
    "df_mdt = df_mdt.loc[df_mdt['saldo_pagado_mes_prep_ant']>=0,:] \n",
    "df_mdt = df_mdt.loc[df_mdt['cuotas_pagadas_mes_prep_ant']>=0,:] \n",
    "\n",
    "df_mdt.reset_index(drop=True,inplace=True)\n",
    "print(df_mdt.shape) #(622391, 105)\n",
    "print(len(df_mdt['str_identificacion'].unique())) #68504\n",
    "df_mdt.head()"
   ]
  },
  {
   "cell_type": "code",
   "execution_count": 9,
   "metadata": {},
   "outputs": [
    {
     "name": "stdout",
     "output_type": "stream",
     "text": [
      "201810 0.21939492273293892\n",
      "201811 0.21931734206794623\n",
      "201812 0.21972571933417664\n",
      "201901 0.2195763505569615\n",
      "201902 0.22013555492798645\n",
      "201903 0.22971982407558234\n",
      "201904 0.24636908180848446\n",
      "201905 0.26493447434784406\n",
      "201906 0.2872517244244993\n",
      "201907 0.307003752384546\n",
      "201908 0.3320775366741734\n",
      "201909 0.3534513913986267\n"
     ]
    }
   ],
   "source": [
    "fechas = list(df_mdt.mes_prep.unique())\n",
    "\n",
    "for fec in fechas:\n",
    "#     print(df_mdt.loc[df_mdt['mes_prep'] == fec,'var_objetivo'].sum())\n",
    "#     print(fec,len(df_mdt.loc[df_mdt['mes_prep'] == fec,'str_identificacion'].unique()))\n",
    "    print(fec,df_mdt.loc[df_mdt['mes_prep'] == fec,'numero_de_la_colocacion'].isna().sum()/df_mdt.loc[df_mdt['mes_prep'] == fec,:].shape[0])"
   ]
  },
  {
   "cell_type": "code",
   "execution_count": 10,
   "metadata": {},
   "outputs": [
    {
     "data": {
      "text/plain": [
       "0.2589124273806947"
      ]
     },
     "execution_count": 10,
     "metadata": {},
     "output_type": "execute_result"
    }
   ],
   "source": [
    "df_mdt.loc[:,'numero_de_la_colocacion'].isna().sum()/df_mdt.shape[0]"
   ]
  },
  {
   "cell_type": "code",
   "execution_count": 11,
   "metadata": {},
   "outputs": [],
   "source": [
    "var_drop = [#'mes_prep',#'stroblobligsarc',\n",
    "            'mes_prep_ant','numero_de_la_colocacion','var_objetivo_cond',          \n",
    "\n",
    "            'numprocodigo_mes_prep_ant','nummovvlrcuotacapital_mes_prep_ant','nummovvlrcapitalespdo_mes_prep_ant',\n",
    "            'dtmmovfechavencecap_mes_prep_ant','nummovnrodiascap_mes_prep_ant','nummovvlrcaprecibido_mes_prep_ant',\n",
    "            'nummovtipocredito_mes_prep_ant','stroblmodalidad_mes_prep_ant','numcuotaspagadas_mes_prep_ant',\n",
    "            'producto_mes_prep_ant','numtasaininom_mes_prep_ant','numtasainiefec_mes_prep_ant',\n",
    "            'numcuotaspactadas_mes_prep_ant','fecha_final_credito_mes_prep_ant','fecha_inicio_credito_mes_prep_ant',\n",
    "            'tem_mes_prep_ant','saldo_credito_mes_prep_ant','nummovcalificacion_mes_prep_ant','nummovcalificacion_mes_prep',\n",
    "            'plazo_pactado_mes_prep_ant',  \n",
    "    \n",
    "            'marca_del_vehiculo','clase_de_vehiculo','ano','valor_pignorado', 'tipo_de_negocio',\n",
    "            'fecha_de_la_ultima_actualizacion',\n",
    "    \n",
    "            'str_desc_estado_cliente','str_profesion','str_tipo_vinculo_laboral','str_nombre_depto',\n",
    "            'num_vlr_egreso_mes','num_num_hijos','num_num_personas_a_cargo','num_salario','num_otros_ingresos','str_genero',\n",
    "    \n",
    "            'variacion_util_mens','variacion_util_trim',#'variacion_util_sem',\n",
    "            \n",
    "#             'prom_depos_trim_ant','prom_depos_anual','prom_depos_9m_ant','prom_depos_sem_ant',\n",
    "#             'variacion_depos_mens','variacion_depos_trim','variacion_depos_sem',\n",
    "    \n",
    "            'valor_uso_tc','valor_uso_tc_mean_3m','valor_uso_tc_mean_12m','valor_uso_tc_mean_6m',            \n",
    "            'valor_vivienda','conteo_vivienda','tenencia_vivienda',            \n",
    "            'valor_libre_inversion','conteo_libre_inversion',#'tenencia_libre_inversion',\n",
    "            'valor_libranza','conteo_libranza','tenencia_libranza',\n",
    "            'valor_cuenta_ahorros','conteo_cuenta_ahorros',#'tenencia_cuenta_ahorros',\n",
    "            'valor_tc','conteo_tc',#'tenencia_tc',\n",
    "            'valor_cdt','conteo_cdt','tenencia_cdt',\n",
    "            'valor_cuenta_corriente','conteo_cuenta_corriente',#'tenencia_cuenta_corriente',\n",
    "            'valor_rotativo','conteo_rotativo','tenencia_rotativo',\n",
    "            'valor_vehiculos','conteo_vehiculos','tenencia_vehiculos'\n",
    "            ]\n",
    "\n",
    "df_mdt.drop(var_drop,axis=1,inplace=True)"
   ]
  },
  {
   "cell_type": "code",
   "execution_count": 12,
   "metadata": {},
   "outputs": [],
   "source": [
    "df_mdt['str_estado_civil'] = df_mdt['str_estado_civil'].replace('-',np.nan)\n",
    "# df_mdt['str_genero'] = df_mdt['str_genero'].replace('-',np.nan)\n",
    "df_mdt['str_tipo_vivienda'] = df_mdt['str_tipo_vivienda'].replace('-',np.nan)\n",
    "df_mdt['str_nivel_educativo'] = df_mdt['str_nivel_educativo'].replace('-',np.nan)\n",
    "df_mdt['str_ocupacion'] = df_mdt['str_ocupacion'].replace('-',np.nan)"
   ]
  },
  {
   "cell_type": "code",
   "execution_count": 13,
   "metadata": {},
   "outputs": [],
   "source": [
    "vars_fillna = ['str_ocupacion','str_nivel_educativo','str_tipo_vivienda',\n",
    "               'str_estado_civil','str_segmento_banca','gama_vehiculo']\n",
    "df_mdt[vars_fillna] = df_mdt[vars_fillna].apply(lambda x: x.fillna('missing'))"
   ]
  },
  {
   "cell_type": "code",
   "execution_count": 14,
   "metadata": {},
   "outputs": [],
   "source": [
    "df_mdt = cleanobjectvars(df_mdt,['str_ocupacion','str_nivel_educativo','str_tipo_vivienda',\n",
    "                                 'str_estado_civil','str_segmento_banca'])"
   ]
  },
  {
   "cell_type": "code",
   "execution_count": 15,
   "metadata": {},
   "outputs": [],
   "source": [
    "df_mdt['str_estado_civil'] = df_mdt['str_estado_civil'].replace({'c':'casado',\n",
    "                                                                 's':'soltero',\n",
    "                                                                 'v':'viudo'})"
   ]
  },
  {
   "cell_type": "code",
   "execution_count": 16,
   "metadata": {},
   "outputs": [],
   "source": [
    "df_mdt['str_ocupacion'] = np.where(df_mdt['str_ocupacion'].isin(['empleado','empleado_con_negocio']),'empleado',\n",
    "                          np.where(df_mdt['str_ocupacion'].isin(['independiente']),'independiente',\n",
    "                          np.where(df_mdt['str_ocupacion'].isin(['missing']),'mising','otro')))\n",
    "\n",
    "df_mdt['str_nivel_educativo'] = np.where(df_mdt['str_nivel_educativo'].isin(['primaria','secundaria']),'escolar',\n",
    "                                np.where(df_mdt['str_nivel_educativo'].isin(['tecnico','universitario']),'universitario',\n",
    "                                np.where(df_mdt['str_nivel_educativo'].isin(['doctorado','especializacion','master']),'especializado',\n",
    "                                np.where(df_mdt['str_nivel_educativo'].isin(['missing']),'mising',df_mdt['str_nivel_educativo']))))\n",
    "\n",
    "df_mdt['str_segmento_banca'] = np.where(df_mdt['str_segmento_banca'].isin(['banca_advance']),'banca_advance',\n",
    "                               np.where(df_mdt['str_segmento_banca'].isin(['banca_elite']),'banca_elite',\n",
    "                               np.where(df_mdt['str_segmento_banca'].isin(['banca_preferente']),'banca_preferente',\n",
    "                               np.where(df_mdt['str_segmento_banca'].isin(['personal_masiva']),'personal_masiva',\n",
    "                               np.where(df_mdt['str_segmento_banca'].isin(['missing']),'mising','otro')))))\n",
    "\n",
    "# df_mdt['nummovcalificacion_mes_prep_ant'] = np.where(df_mdt['nummovcalificacion_mes_prep_ant'].isin(['A']),'A',\n",
    "#                                np.where(df_mdt['nummovcalificacion_mes_prep_ant'].isna(),None,'otro'))"
   ]
  },
  {
   "cell_type": "code",
   "execution_count": 17,
   "metadata": {},
   "outputs": [],
   "source": [
    "# Dict con categorias\n",
    "dict_categ = {'str_nivel_educativo':['missing', 'escolar', 'universitario', 'especializado'],\n",
    "              'str_estado_civil':['missing', 'soltero', 'casado', 'viudo'],\n",
    "#               'nummovcalificacion_mes_prep_ant':['missing', 'A', 'B', 'C', 'D', 'E', 'K'],              \n",
    "              'str_tipo_vivienda':['missing','propia','familiar','arrendada','otra'],\n",
    "              'str_segmento_banca':['missing','banca_advance','banca_elite','banca_preferente','personal_masiva','otro'],\n",
    "              'str_ocupacion':['missing','empleado','independiente','otro'],\n",
    "              'gama_vehiculo':['missing','alta','media','baja']\n",
    "              }\n",
    "    \n",
    "df_mdt = categorical(df_mdt,dict_categ)"
   ]
  },
  {
   "cell_type": "code",
   "execution_count": 18,
   "metadata": {},
   "outputs": [],
   "source": [
    "vars_float = [col for col in list(df_mdt.select_dtypes(include='object').columns) if ('stroblobligsarc' not in col)]\n",
    "\n",
    "df_mdt[vars_float] = df_mdt[vars_float].astype(float)"
   ]
  },
  {
   "cell_type": "code",
   "execution_count": 19,
   "metadata": {},
   "outputs": [
    {
     "data": {
      "text/plain": [
       "tenencia_cuenta_ahorros      0.102346\n",
       "tenencia_cuenta_corriente    0.079425\n",
       "tenencia_libre_inversion     0.066062\n",
       "tenencia_tc                  0.174931\n",
       "dtype: float64"
      ]
     },
     "execution_count": 19,
     "metadata": {},
     "output_type": "execute_result"
    }
   ],
   "source": [
    "df_mdt[[col for col in df_mdt.columns if 'tenencia' in col]].sum(axis=0)/df_mdt.shape[0]\n",
    "# df_mdt[[col for col in df_mdt.columns if 'conteo' in col]].isna().sum(axis=0)/df_mdt.shape[0]"
   ]
  },
  {
   "cell_type": "code",
   "execution_count": 20,
   "metadata": {},
   "outputs": [],
   "source": [
    "cols_variacion = [#'variacion_util_mens','variacion_util_trim',\n",
    "                  'variacion_util_sem',\n",
    "                  'variacion_depos_mens','variacion_depos_trim','variacion_depos_sem']\n",
    "df_mdt[cols_variacion] = df_mdt[cols_variacion].apply(lambda x: round(x/100,2))#.describe()"
   ]
  },
  {
   "cell_type": "code",
   "execution_count": 21,
   "metadata": {},
   "outputs": [],
   "source": [
    "# Acotacion variables numericas\n",
    "vars_num = [var for var in df_mdt.columns if ('prom_' in var) or ('variacion_' in var) or \n",
    "                                             ('valor_' in var) or ('saldo_' in var) or\n",
    "                                             ('nummovvlrproxcuotacap' in var)]\n",
    "\n",
    "df_mdt[vars_num] = acotacion(df_mdt,vars_num)"
   ]
  },
  {
   "cell_type": "code",
   "execution_count": 36,
   "metadata": {},
   "outputs": [
    {
     "data": {
      "text/html": [
       "['nummovvlrproxcuotacap_mes_prep_ant', 'valor_prestado_mes_prep_ant', 'valor_vehiculo', 'saldo_pagado_mes_prep_ant', 'prom_util_trim_ant', 'prom_util_sem_ant', 'prom_util_9m_ant', 'prom_util_anual', 'variacion_util_sem', 'saldo_cliente_mean_12m', 'saldo_cliente_mean_6m', 'saldo_cliente_mean_3m', 'prom_depos_trim_ant', 'prom_depos_sem_ant', 'prom_depos_9m_ant', 'prom_depos_anual', 'variacion_depos_mens', 'variacion_depos_trim', 'variacion_depos_sem']"
      ],
      "text/plain": [
       "['nummovvlrproxcuotacap_mes_prep_ant',\n",
       " 'valor_prestado_mes_prep_ant',\n",
       " 'valor_vehiculo',\n",
       " 'saldo_pagado_mes_prep_ant',\n",
       " 'prom_util_trim_ant',\n",
       " 'prom_util_sem_ant',\n",
       " 'prom_util_9m_ant',\n",
       " 'prom_util_anual',\n",
       " 'variacion_util_sem',\n",
       " 'saldo_cliente_mean_12m',\n",
       " 'saldo_cliente_mean_6m',\n",
       " 'saldo_cliente_mean_3m',\n",
       " 'prom_depos_trim_ant',\n",
       " 'prom_depos_sem_ant',\n",
       " 'prom_depos_9m_ant',\n",
       " 'prom_depos_anual',\n",
       " 'variacion_depos_mens',\n",
       " 'variacion_depos_trim',\n",
       " 'variacion_depos_sem']"
      ]
     },
     "execution_count": 36,
     "metadata": {},
     "output_type": "execute_result"
    }
   ],
   "source": [
    "vars_num"
   ]
  },
  {
   "cell_type": "code",
   "execution_count": 22,
   "metadata": {},
   "outputs": [],
   "source": [
    "# Get dummies\n",
    "df_mdt = pd.get_dummies(\n",
    "                       df_mdt,\n",
    "                       columns=df_mdt.columns[\n",
    "                               np.where(df_mdt.dtypes == 'category')[0]\n",
    "                               ],\n",
    "                       drop_first=True\n",
    "                       )"
   ]
  },
  {
   "cell_type": "code",
   "execution_count": null,
   "metadata": {},
   "outputs": [],
   "source": [
    "# corr_mat = df_mdt.corr()\n",
    "# corr_mat"
   ]
  },
  {
   "cell_type": "code",
   "execution_count": 23,
   "metadata": {},
   "outputs": [],
   "source": [
    "df_mdt['(cuotas_pag/plazo_rem)_mes_prep_ant'] = round(df_mdt['cuotas_pagadas_mes_prep_ant']/df_mdt['plazo_remanente_mes_prep_ant'],2)\n",
    "df_mdt.drop(['cuotas_pagadas_mes_prep_ant','plazo_remanente_mes_prep_ant'],axis=1,inplace=True)"
   ]
  },
  {
   "cell_type": "code",
   "execution_count": 24,
   "metadata": {},
   "outputs": [
    {
     "name": "stdout",
     "output_type": "stream",
     "text": [
      "(586793, 52)\n",
      "65509\n"
     ]
    },
    {
     "data": {
      "text/html": [
       "<div>\n",
       "<style scoped>\n",
       "    .dataframe tbody tr th:only-of-type {\n",
       "        vertical-align: middle;\n",
       "    }\n",
       "\n",
       "    .dataframe tbody tr th {\n",
       "        vertical-align: top;\n",
       "    }\n",
       "\n",
       "    .dataframe thead th {\n",
       "        text-align: right;\n",
       "    }\n",
       "</style>\n",
       "<table border=\"1\" class=\"dataframe\">\n",
       "  <thead>\n",
       "    <tr style=\"text-align: right;\">\n",
       "      <th></th>\n",
       "      <th>str_identificacion</th>\n",
       "      <th>mes_prep</th>\n",
       "      <th>stroblobligsarc</th>\n",
       "      <th>var_objetivo</th>\n",
       "      <th>nummovvlrproxcuotacap_mes_prep_ant</th>\n",
       "      <th>valor_prestado_mes_prep_ant</th>\n",
       "      <th>valor_vehiculo</th>\n",
       "      <th>saldo_pagado_mes_prep_ant</th>\n",
       "      <th>prom_util_trim_ant</th>\n",
       "      <th>prom_util_sem_ant</th>\n",
       "      <th>...</th>\n",
       "      <th>str_ocupacion_independiente</th>\n",
       "      <th>str_ocupacion_otro</th>\n",
       "      <th>str_nivel_educativo_escolar</th>\n",
       "      <th>str_nivel_educativo_universitario</th>\n",
       "      <th>str_nivel_educativo_especializado</th>\n",
       "      <th>str_tipo_vivienda_propia</th>\n",
       "      <th>str_tipo_vivienda_familiar</th>\n",
       "      <th>str_tipo_vivienda_arrendada</th>\n",
       "      <th>str_tipo_vivienda_otra</th>\n",
       "      <th>(cuotas_pag/plazo_rem)_mes_prep_ant</th>\n",
       "    </tr>\n",
       "  </thead>\n",
       "  <tbody>\n",
       "    <tr>\n",
       "      <th>0</th>\n",
       "      <td>49103</td>\n",
       "      <td>201810</td>\n",
       "      <td>51721000007210307642</td>\n",
       "      <td>0</td>\n",
       "      <td>2610240.04</td>\n",
       "      <td>81990000.0</td>\n",
       "      <td>107100000.0</td>\n",
       "      <td>46.0</td>\n",
       "      <td>317796.78</td>\n",
       "      <td>303776.94</td>\n",
       "      <td>...</td>\n",
       "      <td>0</td>\n",
       "      <td>0</td>\n",
       "      <td>0</td>\n",
       "      <td>0</td>\n",
       "      <td>0</td>\n",
       "      <td>0</td>\n",
       "      <td>0</td>\n",
       "      <td>0</td>\n",
       "      <td>0</td>\n",
       "      <td>1.00</td>\n",
       "    </tr>\n",
       "    <tr>\n",
       "      <th>1</th>\n",
       "      <td>49103</td>\n",
       "      <td>201811</td>\n",
       "      <td>51721000007210307642</td>\n",
       "      <td>0</td>\n",
       "      <td>2610240.04</td>\n",
       "      <td>81990000.0</td>\n",
       "      <td>107100000.0</td>\n",
       "      <td>49.0</td>\n",
       "      <td>250159.16</td>\n",
       "      <td>292261.32</td>\n",
       "      <td>...</td>\n",
       "      <td>0</td>\n",
       "      <td>0</td>\n",
       "      <td>0</td>\n",
       "      <td>0</td>\n",
       "      <td>0</td>\n",
       "      <td>0</td>\n",
       "      <td>0</td>\n",
       "      <td>0</td>\n",
       "      <td>0</td>\n",
       "      <td>1.09</td>\n",
       "    </tr>\n",
       "    <tr>\n",
       "      <th>2</th>\n",
       "      <td>49103</td>\n",
       "      <td>201812</td>\n",
       "      <td>51721000007210307642</td>\n",
       "      <td>0</td>\n",
       "      <td>2610239.84</td>\n",
       "      <td>81990000.0</td>\n",
       "      <td>107100000.0</td>\n",
       "      <td>51.0</td>\n",
       "      <td>271608.42</td>\n",
       "      <td>280995.87</td>\n",
       "      <td>...</td>\n",
       "      <td>0</td>\n",
       "      <td>0</td>\n",
       "      <td>0</td>\n",
       "      <td>0</td>\n",
       "      <td>0</td>\n",
       "      <td>0</td>\n",
       "      <td>0</td>\n",
       "      <td>0</td>\n",
       "      <td>0</td>\n",
       "      <td>1.18</td>\n",
       "    </tr>\n",
       "    <tr>\n",
       "      <th>3</th>\n",
       "      <td>49103</td>\n",
       "      <td>201901</td>\n",
       "      <td>51721000007210307642</td>\n",
       "      <td>0</td>\n",
       "      <td>2610239.44</td>\n",
       "      <td>81990000.0</td>\n",
       "      <td>107100000.0</td>\n",
       "      <td>53.0</td>\n",
       "      <td>162257.66</td>\n",
       "      <td>240027.22</td>\n",
       "      <td>...</td>\n",
       "      <td>0</td>\n",
       "      <td>0</td>\n",
       "      <td>0</td>\n",
       "      <td>0</td>\n",
       "      <td>0</td>\n",
       "      <td>0</td>\n",
       "      <td>0</td>\n",
       "      <td>0</td>\n",
       "      <td>0</td>\n",
       "      <td>1.29</td>\n",
       "    </tr>\n",
       "    <tr>\n",
       "      <th>4</th>\n",
       "      <td>49103</td>\n",
       "      <td>201902</td>\n",
       "      <td>51721000007210307642</td>\n",
       "      <td>0</td>\n",
       "      <td>2610239.54</td>\n",
       "      <td>81990000.0</td>\n",
       "      <td>107100000.0</td>\n",
       "      <td>55.0</td>\n",
       "      <td>235545.13</td>\n",
       "      <td>242852.14</td>\n",
       "      <td>...</td>\n",
       "      <td>0</td>\n",
       "      <td>0</td>\n",
       "      <td>0</td>\n",
       "      <td>0</td>\n",
       "      <td>0</td>\n",
       "      <td>0</td>\n",
       "      <td>0</td>\n",
       "      <td>0</td>\n",
       "      <td>0</td>\n",
       "      <td>1.40</td>\n",
       "    </tr>\n",
       "  </tbody>\n",
       "</table>\n",
       "<p>5 rows × 52 columns</p>\n",
       "</div>"
      ],
      "text/plain": [
       "   str_identificacion  mes_prep       stroblobligsarc  var_objetivo  \\\n",
       "0               49103    201810  51721000007210307642             0   \n",
       "1               49103    201811  51721000007210307642             0   \n",
       "2               49103    201812  51721000007210307642             0   \n",
       "3               49103    201901  51721000007210307642             0   \n",
       "4               49103    201902  51721000007210307642             0   \n",
       "\n",
       "   nummovvlrproxcuotacap_mes_prep_ant  valor_prestado_mes_prep_ant  \\\n",
       "0                          2610240.04                   81990000.0   \n",
       "1                          2610240.04                   81990000.0   \n",
       "2                          2610239.84                   81990000.0   \n",
       "3                          2610239.44                   81990000.0   \n",
       "4                          2610239.54                   81990000.0   \n",
       "\n",
       "   valor_vehiculo  saldo_pagado_mes_prep_ant  prom_util_trim_ant  \\\n",
       "0     107100000.0                       46.0           317796.78   \n",
       "1     107100000.0                       49.0           250159.16   \n",
       "2     107100000.0                       51.0           271608.42   \n",
       "3     107100000.0                       53.0           162257.66   \n",
       "4     107100000.0                       55.0           235545.13   \n",
       "\n",
       "   prom_util_sem_ant  ...  str_ocupacion_independiente  str_ocupacion_otro  \\\n",
       "0          303776.94  ...                            0                   0   \n",
       "1          292261.32  ...                            0                   0   \n",
       "2          280995.87  ...                            0                   0   \n",
       "3          240027.22  ...                            0                   0   \n",
       "4          242852.14  ...                            0                   0   \n",
       "\n",
       "   str_nivel_educativo_escolar  str_nivel_educativo_universitario  \\\n",
       "0                            0                                  0   \n",
       "1                            0                                  0   \n",
       "2                            0                                  0   \n",
       "3                            0                                  0   \n",
       "4                            0                                  0   \n",
       "\n",
       "   str_nivel_educativo_especializado  str_tipo_vivienda_propia  \\\n",
       "0                                  0                         0   \n",
       "1                                  0                         0   \n",
       "2                                  0                         0   \n",
       "3                                  0                         0   \n",
       "4                                  0                         0   \n",
       "\n",
       "   str_tipo_vivienda_familiar  str_tipo_vivienda_arrendada  \\\n",
       "0                           0                            0   \n",
       "1                           0                            0   \n",
       "2                           0                            0   \n",
       "3                           0                            0   \n",
       "4                           0                            0   \n",
       "\n",
       "   str_tipo_vivienda_otra  (cuotas_pag/plazo_rem)_mes_prep_ant  \n",
       "0                       0                                 1.00  \n",
       "1                       0                                 1.09  \n",
       "2                       0                                 1.18  \n",
       "3                       0                                 1.29  \n",
       "4                       0                                 1.40  \n",
       "\n",
       "[5 rows x 52 columns]"
      ]
     },
     "execution_count": 24,
     "metadata": {},
     "output_type": "execute_result"
    }
   ],
   "source": [
    "print(df_mdt.shape)\n",
    "print(len(df_mdt.str_identificacion.unique()))\n",
    "df_mdt.reset_index(drop=True,inplace=True)\n",
    "df_mdt.head()"
   ]
  },
  {
   "cell_type": "code",
   "execution_count": null,
   "metadata": {},
   "outputs": [],
   "source": [
    "plt.hist(df_mdt.loc[df_mdt['mes_prep'] == 201909,'nummovvlrproxcuotacap_mes_prep_ant'])\n",
    "plt.show()"
   ]
  },
  {
   "cell_type": "code",
   "execution_count": null,
   "metadata": {},
   "outputs": [],
   "source": [
    "# df_mdt.to_csv('training_tables/new_mdt_long_transf_201810_201909.txt',sep=\"|\",index=False)"
   ]
  },
  {
   "cell_type": "code",
   "execution_count": null,
   "metadata": {},
   "outputs": [],
   "source": [
    "# cols_float = list(df_mdt.select_dtypes(include='float').columns)\n",
    "# cols_notfloat = [col for col in df_mdt.columns if col not in cols_float]"
   ]
  },
  {
   "cell_type": "code",
   "execution_count": null,
   "metadata": {},
   "outputs": [],
   "source": [
    "# measures_scale = pd.DataFrame()\n",
    "# measures_scale['mean'] = df_mdt[cols_float].apply(lambda x: x.mean())\n",
    "# measures_scale['std'] = df_mdt[cols_float].apply(lambda x: x.std())\n",
    "# measures_scale.reset_index(inplace=True)\n",
    "# measures_scale.rename(columns={'index':'variable'},inplace=True)\n",
    "# measures_scale.to_csv('oot_tables/measures_scale_training_long.txt',sep='|',index=False)"
   ]
  },
  {
   "cell_type": "code",
   "execution_count": null,
   "metadata": {},
   "outputs": [],
   "source": [
    "# # example of a standardization\n",
    "# from sklearn.preprocessing import StandardScaler\n",
    "\n",
    "# # define standard scaler\n",
    "# scaler = StandardScaler()\n",
    "\n",
    "# # transform data\n",
    "# scaled = scaler.fit_transform(df_mdt[cols_float])\n",
    "\n",
    "# scaled = pd.DataFrame(scaled, columns=cols_float)\n",
    "# scaled = df_mdt[cols_notfloat].join(scaled)\n",
    "# scaled.set_index('str_identificacion',inplace=True)\n",
    "\n",
    "# print(scaled.shape)\n",
    "# scaled.head()"
   ]
  },
  {
   "cell_type": "markdown",
   "metadata": {},
   "source": [
    "# Modelo prueba Vehiculos"
   ]
  },
  {
   "cell_type": "code",
   "execution_count": 25,
   "metadata": {},
   "outputs": [
    {
     "name": "stdout",
     "output_type": "stream",
     "text": [
      "(586793, 52)\n"
     ]
    },
    {
     "data": {
      "text/html": [
       "<div>\n",
       "<style scoped>\n",
       "    .dataframe tbody tr th:only-of-type {\n",
       "        vertical-align: middle;\n",
       "    }\n",
       "\n",
       "    .dataframe tbody tr th {\n",
       "        vertical-align: top;\n",
       "    }\n",
       "\n",
       "    .dataframe thead th {\n",
       "        text-align: right;\n",
       "    }\n",
       "</style>\n",
       "<table border=\"1\" class=\"dataframe\">\n",
       "  <thead>\n",
       "    <tr style=\"text-align: right;\">\n",
       "      <th></th>\n",
       "      <th>str_identificacion</th>\n",
       "      <th>mes_prep</th>\n",
       "      <th>stroblobligsarc</th>\n",
       "      <th>var_objetivo</th>\n",
       "      <th>nummovvlrproxcuotacap_mes_prep_ant</th>\n",
       "      <th>valor_prestado_mes_prep_ant</th>\n",
       "      <th>valor_vehiculo</th>\n",
       "      <th>saldo_pagado_mes_prep_ant</th>\n",
       "      <th>prom_util_trim_ant</th>\n",
       "      <th>prom_util_sem_ant</th>\n",
       "      <th>...</th>\n",
       "      <th>str_ocupacion_independiente</th>\n",
       "      <th>str_ocupacion_otro</th>\n",
       "      <th>str_nivel_educativo_escolar</th>\n",
       "      <th>str_nivel_educativo_universitario</th>\n",
       "      <th>str_nivel_educativo_especializado</th>\n",
       "      <th>str_tipo_vivienda_propia</th>\n",
       "      <th>str_tipo_vivienda_familiar</th>\n",
       "      <th>str_tipo_vivienda_arrendada</th>\n",
       "      <th>str_tipo_vivienda_otra</th>\n",
       "      <th>(cuotas_pag/plazo_rem)_mes_prep_ant</th>\n",
       "    </tr>\n",
       "  </thead>\n",
       "  <tbody>\n",
       "    <tr>\n",
       "      <th>0</th>\n",
       "      <td>49103</td>\n",
       "      <td>201810</td>\n",
       "      <td>51721000007210307642</td>\n",
       "      <td>0</td>\n",
       "      <td>2610240.04</td>\n",
       "      <td>81990000.0</td>\n",
       "      <td>107100000.0</td>\n",
       "      <td>46.0</td>\n",
       "      <td>317796.78</td>\n",
       "      <td>303776.94</td>\n",
       "      <td>...</td>\n",
       "      <td>0</td>\n",
       "      <td>0</td>\n",
       "      <td>0</td>\n",
       "      <td>0</td>\n",
       "      <td>0</td>\n",
       "      <td>0</td>\n",
       "      <td>0</td>\n",
       "      <td>0</td>\n",
       "      <td>0</td>\n",
       "      <td>1.00</td>\n",
       "    </tr>\n",
       "    <tr>\n",
       "      <th>1</th>\n",
       "      <td>49103</td>\n",
       "      <td>201811</td>\n",
       "      <td>51721000007210307642</td>\n",
       "      <td>0</td>\n",
       "      <td>2610240.04</td>\n",
       "      <td>81990000.0</td>\n",
       "      <td>107100000.0</td>\n",
       "      <td>49.0</td>\n",
       "      <td>250159.16</td>\n",
       "      <td>292261.32</td>\n",
       "      <td>...</td>\n",
       "      <td>0</td>\n",
       "      <td>0</td>\n",
       "      <td>0</td>\n",
       "      <td>0</td>\n",
       "      <td>0</td>\n",
       "      <td>0</td>\n",
       "      <td>0</td>\n",
       "      <td>0</td>\n",
       "      <td>0</td>\n",
       "      <td>1.09</td>\n",
       "    </tr>\n",
       "    <tr>\n",
       "      <th>2</th>\n",
       "      <td>49103</td>\n",
       "      <td>201812</td>\n",
       "      <td>51721000007210307642</td>\n",
       "      <td>0</td>\n",
       "      <td>2610239.84</td>\n",
       "      <td>81990000.0</td>\n",
       "      <td>107100000.0</td>\n",
       "      <td>51.0</td>\n",
       "      <td>271608.42</td>\n",
       "      <td>280995.87</td>\n",
       "      <td>...</td>\n",
       "      <td>0</td>\n",
       "      <td>0</td>\n",
       "      <td>0</td>\n",
       "      <td>0</td>\n",
       "      <td>0</td>\n",
       "      <td>0</td>\n",
       "      <td>0</td>\n",
       "      <td>0</td>\n",
       "      <td>0</td>\n",
       "      <td>1.18</td>\n",
       "    </tr>\n",
       "    <tr>\n",
       "      <th>3</th>\n",
       "      <td>49103</td>\n",
       "      <td>201901</td>\n",
       "      <td>51721000007210307642</td>\n",
       "      <td>0</td>\n",
       "      <td>2610239.44</td>\n",
       "      <td>81990000.0</td>\n",
       "      <td>107100000.0</td>\n",
       "      <td>53.0</td>\n",
       "      <td>162257.66</td>\n",
       "      <td>240027.22</td>\n",
       "      <td>...</td>\n",
       "      <td>0</td>\n",
       "      <td>0</td>\n",
       "      <td>0</td>\n",
       "      <td>0</td>\n",
       "      <td>0</td>\n",
       "      <td>0</td>\n",
       "      <td>0</td>\n",
       "      <td>0</td>\n",
       "      <td>0</td>\n",
       "      <td>1.29</td>\n",
       "    </tr>\n",
       "    <tr>\n",
       "      <th>4</th>\n",
       "      <td>49103</td>\n",
       "      <td>201902</td>\n",
       "      <td>51721000007210307642</td>\n",
       "      <td>0</td>\n",
       "      <td>2610239.54</td>\n",
       "      <td>81990000.0</td>\n",
       "      <td>107100000.0</td>\n",
       "      <td>55.0</td>\n",
       "      <td>235545.13</td>\n",
       "      <td>242852.14</td>\n",
       "      <td>...</td>\n",
       "      <td>0</td>\n",
       "      <td>0</td>\n",
       "      <td>0</td>\n",
       "      <td>0</td>\n",
       "      <td>0</td>\n",
       "      <td>0</td>\n",
       "      <td>0</td>\n",
       "      <td>0</td>\n",
       "      <td>0</td>\n",
       "      <td>1.40</td>\n",
       "    </tr>\n",
       "  </tbody>\n",
       "</table>\n",
       "<p>5 rows × 52 columns</p>\n",
       "</div>"
      ],
      "text/plain": [
       "   str_identificacion  mes_prep       stroblobligsarc  var_objetivo  \\\n",
       "0               49103    201810  51721000007210307642             0   \n",
       "1               49103    201811  51721000007210307642             0   \n",
       "2               49103    201812  51721000007210307642             0   \n",
       "3               49103    201901  51721000007210307642             0   \n",
       "4               49103    201902  51721000007210307642             0   \n",
       "\n",
       "   nummovvlrproxcuotacap_mes_prep_ant  valor_prestado_mes_prep_ant  \\\n",
       "0                          2610240.04                   81990000.0   \n",
       "1                          2610240.04                   81990000.0   \n",
       "2                          2610239.84                   81990000.0   \n",
       "3                          2610239.44                   81990000.0   \n",
       "4                          2610239.54                   81990000.0   \n",
       "\n",
       "   valor_vehiculo  saldo_pagado_mes_prep_ant  prom_util_trim_ant  \\\n",
       "0     107100000.0                       46.0           317796.78   \n",
       "1     107100000.0                       49.0           250159.16   \n",
       "2     107100000.0                       51.0           271608.42   \n",
       "3     107100000.0                       53.0           162257.66   \n",
       "4     107100000.0                       55.0           235545.13   \n",
       "\n",
       "   prom_util_sem_ant  ...  str_ocupacion_independiente  str_ocupacion_otro  \\\n",
       "0          303776.94  ...                            0                   0   \n",
       "1          292261.32  ...                            0                   0   \n",
       "2          280995.87  ...                            0                   0   \n",
       "3          240027.22  ...                            0                   0   \n",
       "4          242852.14  ...                            0                   0   \n",
       "\n",
       "   str_nivel_educativo_escolar  str_nivel_educativo_universitario  \\\n",
       "0                            0                                  0   \n",
       "1                            0                                  0   \n",
       "2                            0                                  0   \n",
       "3                            0                                  0   \n",
       "4                            0                                  0   \n",
       "\n",
       "   str_nivel_educativo_especializado  str_tipo_vivienda_propia  \\\n",
       "0                                  0                         0   \n",
       "1                                  0                         0   \n",
       "2                                  0                         0   \n",
       "3                                  0                         0   \n",
       "4                                  0                         0   \n",
       "\n",
       "   str_tipo_vivienda_familiar  str_tipo_vivienda_arrendada  \\\n",
       "0                           0                            0   \n",
       "1                           0                            0   \n",
       "2                           0                            0   \n",
       "3                           0                            0   \n",
       "4                           0                            0   \n",
       "\n",
       "   str_tipo_vivienda_otra  (cuotas_pag/plazo_rem)_mes_prep_ant  \n",
       "0                       0                                 1.00  \n",
       "1                       0                                 1.09  \n",
       "2                       0                                 1.18  \n",
       "3                       0                                 1.29  \n",
       "4                       0                                 1.40  \n",
       "\n",
       "[5 rows x 52 columns]"
      ]
     },
     "execution_count": 25,
     "metadata": {},
     "output_type": "execute_result"
    }
   ],
   "source": [
    "prueba = df_mdt.copy()\n",
    "print(prueba.shape)\n",
    "prueba.head()"
   ]
  },
  {
   "cell_type": "code",
   "execution_count": 26,
   "metadata": {},
   "outputs": [
    {
     "name": "stdout",
     "output_type": "stream",
     "text": [
      "0.017946536338273412\n",
      "0.018933871257664422\n",
      "0.019838162359697206\n",
      "0.01811370384393121\n",
      "0.01849759954815024\n",
      "0.016248574686431014\n",
      "0.020041847870681875\n",
      "0.018252098061102152\n",
      "0.02220975650295022\n",
      "0.01970525962727711\n",
      "0.023151558520825878\n",
      "0.02661621207933842\n"
     ]
    }
   ],
   "source": [
    "dates = list(prueba['mes_prep'].unique())\n",
    "\n",
    "for date in dates:\n",
    "    print(prueba.loc[prueba['mes_prep'] == date,'var_objetivo'].sum()/prueba.loc[prueba['mes_prep'] == date,:].shape[0])"
   ]
  },
  {
   "cell_type": "code",
   "execution_count": null,
   "metadata": {},
   "outputs": [],
   "source": [
    "# dates = sorted(list(prueba['mes_prep'].unique()))\n",
    "\n",
    "# for date in dates:\n",
    "#     rate = round(prueba.loc[prueba['mes_prep']==date,'valor_vehiculo'].isna().sum()/\\\n",
    "#                  prueba.loc[prueba['mes_prep']==date,:].shape[0]*100,2)\n",
    "#     print(date,rate)"
   ]
  },
  {
   "cell_type": "code",
   "execution_count": null,
   "metadata": {},
   "outputs": [],
   "source": [
    "# SEED = 123\n",
    "# x_data = x_data.sample(frac=0.1, replace=False, random_state=SEED)\n",
    "# y_data = y_data.sample(frac=0.1, replace=False, random_state=SEED)\n",
    "# print(x_data.shape)\n",
    "# print(y_data.shape)"
   ]
  },
  {
   "cell_type": "code",
   "execution_count": null,
   "metadata": {},
   "outputs": [],
   "source": [
    "# sns.scatterplot(x=\"variacion_util_mens\", y=\"prom_util_trim_ant\", data=x_data)"
   ]
  },
  {
   "cell_type": "code",
   "execution_count": null,
   "metadata": {},
   "outputs": [],
   "source": [
    "# x_data['variacion_util_mens'] = x_data['variacion_util_mens'].fillna(0)\n",
    "# x_data.drop('valor_vehiculo',axis=1,inplace=True)\n",
    "# x_data.drop('variacion_util_mens',axis=1,inplace=True)"
   ]
  },
  {
   "cell_type": "code",
   "execution_count": null,
   "metadata": {},
   "outputs": [],
   "source": [
    "# x_data = x_data[[\n",
    "# ]]"
   ]
  },
  {
   "cell_type": "code",
   "execution_count": null,
   "metadata": {},
   "outputs": [],
   "source": [
    "# Random forest\n",
    "# x_data = x_data[[\n",
    "#     'variacion_util_trim', \n",
    "#     'saldo_pagado_mes_prep_ant', \n",
    "#     'nummovvlrproxcuotacap_mes_prep_ant', \n",
    "#     'cuotas_pagadas_mes_prep_ant', \n",
    "#     'numtasainiefec_mes_prep_ant', \n",
    "#     'plazo_remanente_mes_prep_ant', \n",
    "#     'saldo_cliente_mean_3m', \n",
    "#     'prom_util_sem_ant', \n",
    "#     'valor_prestado_mes_prep_ant', \n",
    "#     'gama_vehiculo_baja'\n",
    "# ]]"
   ]
  },
  {
   "cell_type": "code",
   "execution_count": null,
   "metadata": {},
   "outputs": [],
   "source": [
    "# Random forest\n",
    "# x_data = x_data[[\n",
    "#     'variacion_util_mens', \n",
    "#     'saldo_pagado_mes_prep_ant', \n",
    "#     'nummovvlrproxcuotacap_mes_prep_ant', \n",
    "#     'numtasainiefec_mes_prep_ant', \n",
    "#     'plazo_remanente_mes_prep_ant', \n",
    "#     'cuotas_pagadas_mes_prep_ant', \n",
    "#     'saldo_cliente_mean_3m', \n",
    "#     'prom_util_trim_ant', \n",
    "#     'valor_prestado_mes_prep_ant', \n",
    "#     'tenencia_tc', \n",
    "#     'gama_vehiculo_baja'\n",
    "# ]]"
   ]
  },
  {
   "cell_type": "code",
   "execution_count": null,
   "metadata": {},
   "outputs": [],
   "source": [
    "# x_data = x_data[[\n",
    "#   'variacion_util_trim',\n",
    "#   'saldo_pagado_mes_prep_ant',\n",
    "#   'plazo_remanente_mes_prep_ant',\n",
    "#   'valor_vehiculo',\n",
    "#   'numtasainiefec_mes_prep_ant',\n",
    "#   'nummovvlrproxcuotacap_mes_prep_ant',\n",
    "#   'cuotas_pagadas_mes_prep_ant',\n",
    "#   'prom_util_sem_ant',\n",
    "#   'saldo_cliente_mean_3m',\n",
    "#   'str_ocupacion_empleado'  \n",
    "# ]]"
   ]
  },
  {
   "cell_type": "code",
   "execution_count": null,
   "metadata": {},
   "outputs": [],
   "source": [
    "# x_data = x_data[[\n",
    "#   'variacion_util_mens',\n",
    "#   'tenencia_tc',\n",
    "#   'saldo_pagado_mes_prep_ant',\n",
    "#   'plazo_remanente_mes_prep_ant',\n",
    "#   'valor_vehiculo',\n",
    "#   'numtasainiefec_mes_prep_ant',\n",
    "#   'nummovvlrproxcuotacap_mes_prep_ant',\n",
    "#   'cuotas_pagadas_mes_prep_ant',\n",
    "#   'prom_util_trim_ant',\n",
    "#   'saldo_cliente_mean_3m',\n",
    "#   'str_nivel_educativo_especializado'\n",
    "# ]]"
   ]
  },
  {
   "cell_type": "code",
   "execution_count": 27,
   "metadata": {},
   "outputs": [
    {
     "data": {
      "text/plain": [
       "(586793, 51)"
      ]
     },
     "execution_count": 27,
     "metadata": {},
     "output_type": "execute_result"
    }
   ],
   "source": [
    "x_data, y_data = prepare_datasets(\n",
    "                                  prueba,\n",
    "                                  na_thresh=0.5       # na_thresh is the min percentage of valid data\n",
    "                                  )\n",
    "x_data.shape"
   ]
  },
  {
   "cell_type": "code",
   "execution_count": 28,
   "metadata": {},
   "outputs": [
    {
     "data": {
      "text/html": [
       "<div>\n",
       "<style scoped>\n",
       "    .dataframe tbody tr th:only-of-type {\n",
       "        vertical-align: middle;\n",
       "    }\n",
       "\n",
       "    .dataframe tbody tr th {\n",
       "        vertical-align: top;\n",
       "    }\n",
       "\n",
       "    .dataframe thead th {\n",
       "        text-align: right;\n",
       "    }\n",
       "</style>\n",
       "<table border=\"1\" class=\"dataframe\">\n",
       "  <thead>\n",
       "    <tr style=\"text-align: right;\">\n",
       "      <th></th>\n",
       "      <th>str_identificacion</th>\n",
       "      <th>mes_prep</th>\n",
       "      <th>stroblobligsarc</th>\n",
       "      <th>nummovvlrproxcuotacap_mes_prep_ant</th>\n",
       "      <th>valor_prestado_mes_prep_ant</th>\n",
       "      <th>valor_vehiculo</th>\n",
       "      <th>saldo_pagado_mes_prep_ant</th>\n",
       "      <th>prom_util_trim_ant</th>\n",
       "      <th>prom_util_sem_ant</th>\n",
       "      <th>prom_util_9m_ant</th>\n",
       "      <th>...</th>\n",
       "      <th>str_ocupacion_independiente</th>\n",
       "      <th>str_ocupacion_otro</th>\n",
       "      <th>str_nivel_educativo_escolar</th>\n",
       "      <th>str_nivel_educativo_universitario</th>\n",
       "      <th>str_nivel_educativo_especializado</th>\n",
       "      <th>str_tipo_vivienda_propia</th>\n",
       "      <th>str_tipo_vivienda_familiar</th>\n",
       "      <th>str_tipo_vivienda_arrendada</th>\n",
       "      <th>str_tipo_vivienda_otra</th>\n",
       "      <th>(cuotas_pag/plazo_rem)_mes_prep_ant</th>\n",
       "    </tr>\n",
       "  </thead>\n",
       "  <tbody>\n",
       "    <tr>\n",
       "      <th>0</th>\n",
       "      <td>49103</td>\n",
       "      <td>201810</td>\n",
       "      <td>51721000007210307642</td>\n",
       "      <td>2610240.04</td>\n",
       "      <td>81990000.0</td>\n",
       "      <td>107100000.0</td>\n",
       "      <td>46.0</td>\n",
       "      <td>317796.78</td>\n",
       "      <td>303776.94</td>\n",
       "      <td>314476.76</td>\n",
       "      <td>...</td>\n",
       "      <td>0</td>\n",
       "      <td>0</td>\n",
       "      <td>0</td>\n",
       "      <td>0</td>\n",
       "      <td>0</td>\n",
       "      <td>0</td>\n",
       "      <td>0</td>\n",
       "      <td>0</td>\n",
       "      <td>0</td>\n",
       "      <td>1.00</td>\n",
       "    </tr>\n",
       "    <tr>\n",
       "      <th>1</th>\n",
       "      <td>49103</td>\n",
       "      <td>201811</td>\n",
       "      <td>51721000007210307642</td>\n",
       "      <td>2610240.04</td>\n",
       "      <td>81990000.0</td>\n",
       "      <td>107100000.0</td>\n",
       "      <td>49.0</td>\n",
       "      <td>250159.16</td>\n",
       "      <td>292261.32</td>\n",
       "      <td>303487.70</td>\n",
       "      <td>...</td>\n",
       "      <td>0</td>\n",
       "      <td>0</td>\n",
       "      <td>0</td>\n",
       "      <td>0</td>\n",
       "      <td>0</td>\n",
       "      <td>0</td>\n",
       "      <td>0</td>\n",
       "      <td>0</td>\n",
       "      <td>0</td>\n",
       "      <td>1.09</td>\n",
       "    </tr>\n",
       "    <tr>\n",
       "      <th>2</th>\n",
       "      <td>49103</td>\n",
       "      <td>201812</td>\n",
       "      <td>51721000007210307642</td>\n",
       "      <td>2610239.84</td>\n",
       "      <td>81990000.0</td>\n",
       "      <td>107100000.0</td>\n",
       "      <td>51.0</td>\n",
       "      <td>271608.42</td>\n",
       "      <td>280995.87</td>\n",
       "      <td>284917.13</td>\n",
       "      <td>...</td>\n",
       "      <td>0</td>\n",
       "      <td>0</td>\n",
       "      <td>0</td>\n",
       "      <td>0</td>\n",
       "      <td>0</td>\n",
       "      <td>0</td>\n",
       "      <td>0</td>\n",
       "      <td>0</td>\n",
       "      <td>0</td>\n",
       "      <td>1.18</td>\n",
       "    </tr>\n",
       "    <tr>\n",
       "      <th>3</th>\n",
       "      <td>49103</td>\n",
       "      <td>201901</td>\n",
       "      <td>51721000007210307642</td>\n",
       "      <td>2610239.44</td>\n",
       "      <td>81990000.0</td>\n",
       "      <td>107100000.0</td>\n",
       "      <td>53.0</td>\n",
       "      <td>162257.66</td>\n",
       "      <td>240027.22</td>\n",
       "      <td>256603.85</td>\n",
       "      <td>...</td>\n",
       "      <td>0</td>\n",
       "      <td>0</td>\n",
       "      <td>0</td>\n",
       "      <td>0</td>\n",
       "      <td>0</td>\n",
       "      <td>0</td>\n",
       "      <td>0</td>\n",
       "      <td>0</td>\n",
       "      <td>0</td>\n",
       "      <td>1.29</td>\n",
       "    </tr>\n",
       "    <tr>\n",
       "      <th>4</th>\n",
       "      <td>49103</td>\n",
       "      <td>201902</td>\n",
       "      <td>51721000007210307642</td>\n",
       "      <td>2610239.54</td>\n",
       "      <td>81990000.0</td>\n",
       "      <td>107100000.0</td>\n",
       "      <td>55.0</td>\n",
       "      <td>235545.13</td>\n",
       "      <td>242852.14</td>\n",
       "      <td>273355.92</td>\n",
       "      <td>...</td>\n",
       "      <td>0</td>\n",
       "      <td>0</td>\n",
       "      <td>0</td>\n",
       "      <td>0</td>\n",
       "      <td>0</td>\n",
       "      <td>0</td>\n",
       "      <td>0</td>\n",
       "      <td>0</td>\n",
       "      <td>0</td>\n",
       "      <td>1.40</td>\n",
       "    </tr>\n",
       "  </tbody>\n",
       "</table>\n",
       "<p>5 rows × 51 columns</p>\n",
       "</div>"
      ],
      "text/plain": [
       "   str_identificacion  mes_prep       stroblobligsarc  \\\n",
       "0               49103    201810  51721000007210307642   \n",
       "1               49103    201811  51721000007210307642   \n",
       "2               49103    201812  51721000007210307642   \n",
       "3               49103    201901  51721000007210307642   \n",
       "4               49103    201902  51721000007210307642   \n",
       "\n",
       "   nummovvlrproxcuotacap_mes_prep_ant  valor_prestado_mes_prep_ant  \\\n",
       "0                          2610240.04                   81990000.0   \n",
       "1                          2610240.04                   81990000.0   \n",
       "2                          2610239.84                   81990000.0   \n",
       "3                          2610239.44                   81990000.0   \n",
       "4                          2610239.54                   81990000.0   \n",
       "\n",
       "   valor_vehiculo  saldo_pagado_mes_prep_ant  prom_util_trim_ant  \\\n",
       "0     107100000.0                       46.0           317796.78   \n",
       "1     107100000.0                       49.0           250159.16   \n",
       "2     107100000.0                       51.0           271608.42   \n",
       "3     107100000.0                       53.0           162257.66   \n",
       "4     107100000.0                       55.0           235545.13   \n",
       "\n",
       "   prom_util_sem_ant  prom_util_9m_ant  ...  str_ocupacion_independiente  \\\n",
       "0          303776.94         314476.76  ...                            0   \n",
       "1          292261.32         303487.70  ...                            0   \n",
       "2          280995.87         284917.13  ...                            0   \n",
       "3          240027.22         256603.85  ...                            0   \n",
       "4          242852.14         273355.92  ...                            0   \n",
       "\n",
       "   str_ocupacion_otro  str_nivel_educativo_escolar  \\\n",
       "0                   0                            0   \n",
       "1                   0                            0   \n",
       "2                   0                            0   \n",
       "3                   0                            0   \n",
       "4                   0                            0   \n",
       "\n",
       "   str_nivel_educativo_universitario  str_nivel_educativo_especializado  \\\n",
       "0                                  0                                  0   \n",
       "1                                  0                                  0   \n",
       "2                                  0                                  0   \n",
       "3                                  0                                  0   \n",
       "4                                  0                                  0   \n",
       "\n",
       "   str_tipo_vivienda_propia  str_tipo_vivienda_familiar  \\\n",
       "0                         0                           0   \n",
       "1                         0                           0   \n",
       "2                         0                           0   \n",
       "3                         0                           0   \n",
       "4                         0                           0   \n",
       "\n",
       "   str_tipo_vivienda_arrendada  str_tipo_vivienda_otra  \\\n",
       "0                            0                       0   \n",
       "1                            0                       0   \n",
       "2                            0                       0   \n",
       "3                            0                       0   \n",
       "4                            0                       0   \n",
       "\n",
       "   (cuotas_pag/plazo_rem)_mes_prep_ant  \n",
       "0                                 1.00  \n",
       "1                                 1.09  \n",
       "2                                 1.18  \n",
       "3                                 1.29  \n",
       "4                                 1.40  \n",
       "\n",
       "[5 rows x 51 columns]"
      ]
     },
     "execution_count": 28,
     "metadata": {},
     "output_type": "execute_result"
    }
   ],
   "source": [
    "x_data.head()"
   ]
  },
  {
   "cell_type": "code",
   "execution_count": 29,
   "metadata": {},
   "outputs": [],
   "source": [
    "cols_not_model = ['str_identificacion','mes_prep','stroblobligsarc','var_objetivo']\n",
    "\n",
    "cols_data = [col for col in prueba.columns if col not in cols_not_model]\n",
    "\n",
    "x_data = x_data[cols_data]"
   ]
  },
  {
   "cell_type": "code",
   "execution_count": 30,
   "metadata": {},
   "outputs": [],
   "source": [
    "x_data = x_data[[\n",
    "  'saldo_pagado_mes_prep_ant',\n",
    "  '(cuotas_pag/plazo_rem)_mes_prep_ant',\n",
    "  'valor_prestado_mes_prep_ant',\n",
    "  'nummovvlrproxcuotacap_mes_prep_ant',\n",
    "  'antiguedad_vehiculo',\n",
    "  'saldo_cliente_mean_12m',\n",
    "  'edad',\n",
    "  'antiguedad',\n",
    "  'prom_util_trim_ant',\n",
    "  'tenencia_libre_inversion',\n",
    "#   'tenencia_tc'\n",
    "  ]]"
   ]
  },
  {
   "cell_type": "code",
   "execution_count": 34,
   "metadata": {},
   "outputs": [],
   "source": [
    "dict_rename = {'saldo_pagado_mes_prep_ant':'saldo_pagado',\n",
    "               '(cuotas_pag/plazo_rem)_mes_prep_ant':'cuotas_pag/plazo_rem',\n",
    "               'valor_prestado_mes_prep_ant':'valor_prestado',\n",
    "               'nummovvlrproxcuotacap_mes_prep_ant':'nummovvlrproxcuotacap'}\n",
    "\n",
    "x_data.rename(columns=dict_rename,inplace=True)"
   ]
  },
  {
   "cell_type": "code",
   "execution_count": 35,
   "metadata": {},
   "outputs": [
    {
     "data": {
      "text/html": [
       "<div>\n",
       "<style scoped>\n",
       "    .dataframe tbody tr th:only-of-type {\n",
       "        vertical-align: middle;\n",
       "    }\n",
       "\n",
       "    .dataframe tbody tr th {\n",
       "        vertical-align: top;\n",
       "    }\n",
       "\n",
       "    .dataframe thead th {\n",
       "        text-align: right;\n",
       "    }\n",
       "</style>\n",
       "<table border=\"1\" class=\"dataframe\">\n",
       "  <thead>\n",
       "    <tr style=\"text-align: right;\">\n",
       "      <th></th>\n",
       "      <th>saldo_pagado</th>\n",
       "      <th>cuotas_pag/plazo_rem</th>\n",
       "      <th>valor_prestado</th>\n",
       "      <th>nummovvlrproxcuotacap</th>\n",
       "      <th>antiguedad_vehiculo</th>\n",
       "      <th>saldo_cliente_mean_12m</th>\n",
       "      <th>edad</th>\n",
       "      <th>antiguedad</th>\n",
       "      <th>prom_util_trim_ant</th>\n",
       "      <th>tenencia_libre_inversion</th>\n",
       "    </tr>\n",
       "  </thead>\n",
       "  <tbody>\n",
       "    <tr>\n",
       "      <th>0</th>\n",
       "      <td>46.0</td>\n",
       "      <td>1.00</td>\n",
       "      <td>81990000.0</td>\n",
       "      <td>2610240.04</td>\n",
       "      <td>3.0</td>\n",
       "      <td>53762599.67</td>\n",
       "      <td>NaN</td>\n",
       "      <td>35.422313</td>\n",
       "      <td>317796.78</td>\n",
       "      <td>0.0</td>\n",
       "    </tr>\n",
       "    <tr>\n",
       "      <th>1</th>\n",
       "      <td>49.0</td>\n",
       "      <td>1.09</td>\n",
       "      <td>81990000.0</td>\n",
       "      <td>2610240.04</td>\n",
       "      <td>3.0</td>\n",
       "      <td>52010706.00</td>\n",
       "      <td>NaN</td>\n",
       "      <td>35.507187</td>\n",
       "      <td>250159.16</td>\n",
       "      <td>0.0</td>\n",
       "    </tr>\n",
       "    <tr>\n",
       "      <th>2</th>\n",
       "      <td>51.0</td>\n",
       "      <td>1.18</td>\n",
       "      <td>81990000.0</td>\n",
       "      <td>2610239.84</td>\n",
       "      <td>3.0</td>\n",
       "      <td>50240366.67</td>\n",
       "      <td>NaN</td>\n",
       "      <td>35.589322</td>\n",
       "      <td>271608.42</td>\n",
       "      <td>0.0</td>\n",
       "    </tr>\n",
       "    <tr>\n",
       "      <th>3</th>\n",
       "      <td>53.0</td>\n",
       "      <td>1.29</td>\n",
       "      <td>81990000.0</td>\n",
       "      <td>2610239.44</td>\n",
       "      <td>3.0</td>\n",
       "      <td>48453081.33</td>\n",
       "      <td>NaN</td>\n",
       "      <td>35.674196</td>\n",
       "      <td>162257.66</td>\n",
       "      <td>0.0</td>\n",
       "    </tr>\n",
       "    <tr>\n",
       "      <th>4</th>\n",
       "      <td>55.0</td>\n",
       "      <td>1.40</td>\n",
       "      <td>81990000.0</td>\n",
       "      <td>2610239.54</td>\n",
       "      <td>3.0</td>\n",
       "      <td>46649465.00</td>\n",
       "      <td>NaN</td>\n",
       "      <td>35.759069</td>\n",
       "      <td>235545.13</td>\n",
       "      <td>0.0</td>\n",
       "    </tr>\n",
       "  </tbody>\n",
       "</table>\n",
       "</div>"
      ],
      "text/plain": [
       "   saldo_pagado  cuotas_pag/plazo_rem  valor_prestado  nummovvlrproxcuotacap  \\\n",
       "0          46.0                  1.00      81990000.0             2610240.04   \n",
       "1          49.0                  1.09      81990000.0             2610240.04   \n",
       "2          51.0                  1.18      81990000.0             2610239.84   \n",
       "3          53.0                  1.29      81990000.0             2610239.44   \n",
       "4          55.0                  1.40      81990000.0             2610239.54   \n",
       "\n",
       "   antiguedad_vehiculo  saldo_cliente_mean_12m  edad  antiguedad  \\\n",
       "0                  3.0             53762599.67   NaN   35.422313   \n",
       "1                  3.0             52010706.00   NaN   35.507187   \n",
       "2                  3.0             50240366.67   NaN   35.589322   \n",
       "3                  3.0             48453081.33   NaN   35.674196   \n",
       "4                  3.0             46649465.00   NaN   35.759069   \n",
       "\n",
       "   prom_util_trim_ant  tenencia_libre_inversion  \n",
       "0           317796.78                       0.0  \n",
       "1           250159.16                       0.0  \n",
       "2           271608.42                       0.0  \n",
       "3           162257.66                       0.0  \n",
       "4           235545.13                       0.0  "
      ]
     },
     "execution_count": 35,
     "metadata": {},
     "output_type": "execute_result"
    }
   ],
   "source": [
    "x_data.head()"
   ]
  },
  {
   "cell_type": "code",
   "execution_count": 41,
   "metadata": {},
   "outputs": [],
   "source": [
    "# x_data['edad'].isna().sum()/x_data.shape[0]\n",
    "# x_data.describe()"
   ]
  },
  {
   "cell_type": "code",
   "execution_count": null,
   "metadata": {},
   "outputs": [],
   "source": [
    "# x_data = x_data[[\n",
    "# #   'mes_prep',  \n",
    "# #   'variacion_util_mens',\n",
    "# #   'variacion_util_trim',    \n",
    "#   'tenencia_tc',\n",
    "#   'saldo_pagado_mes_prep_ant',\n",
    "#   '(cuotas_pag/plazo_rem)_mes_prep_ant',\n",
    "#   'nummovvlrproxcuotacap_mes_prep_ant',\n",
    "# #   'numtasainiefec_mes_prep_ant',\n",
    "# #   'valor_vehiculo',\n",
    "#   'prom_util_trim_ant',\n",
    "#   'prom_util_sem_ant',    \n",
    "#   'valor_prestado_mes_prep_ant',\n",
    "# #   'saldo_cliente_mean_3m',\n",
    "#   'str_nivel_educativo_especializado',\n",
    "# #   'saldo_cliente_mean_6m',\n",
    "#   'str_ocupacion_empleado',\n",
    "# #   'gama_vehiculo_baja',\n",
    "#   'str_estado_civil_soltero'\n",
    "# ]]"
   ]
  },
  {
   "cell_type": "code",
   "execution_count": null,
   "metadata": {},
   "outputs": [],
   "source": [
    "x_data['str_nivel_educativo_especializado'].isna().sum()/x_data.shape[0]"
   ]
  },
  {
   "cell_type": "code",
   "execution_count": null,
   "metadata": {},
   "outputs": [],
   "source": [
    "x_data['str_nivel_educativo_especializado'].value_counts(normalize=True)"
   ]
  },
  {
   "cell_type": "code",
   "execution_count": null,
   "metadata": {},
   "outputs": [],
   "source": [
    "x_data[['valor_prestado_mes_prep_ant']].describe()"
   ]
  },
  {
   "cell_type": "code",
   "execution_count": null,
   "metadata": {},
   "outputs": [],
   "source": [
    "# x_data.corr(method='pearson')"
   ]
  },
  {
   "cell_type": "code",
   "execution_count": null,
   "metadata": {},
   "outputs": [],
   "source": [
    "corr_mat = x_data.corr()\n",
    "\n",
    "plt.figure(figsize=(12, 10))\n",
    "\n",
    "sns.heatmap(\n",
    "        corr_mat,\n",
    "        vmax=1,\n",
    "        vmin=-1,\n",
    "        square=False,\n",
    "        annot=True,\n",
    "        cmap=\"Blues\" #PiYG\n",
    "        )\n",
    "\n",
    "plt.tight_layout()"
   ]
  },
  {
   "cell_type": "code",
   "execution_count": null,
   "metadata": {},
   "outputs": [],
   "source": [
    "# Import library for VIF\n",
    "from statsmodels.stats.outliers_influence import variance_inflation_factor\n",
    "\n",
    "def calc_vif(X):\n",
    "\n",
    "    X.dropna(how='any',axis=0,inplace=True)\n",
    "    \n",
    "    # Calculating VIF\n",
    "    vif = pd.DataFrame()\n",
    "    vif[\"variables\"] = X.columns\n",
    "    vif[\"VIF\"] = [variance_inflation_factor(X.values, i) for i in range(X.shape[1])]\n",
    "\n",
    "    return(vif)"
   ]
  },
  {
   "cell_type": "code",
   "execution_count": null,
   "metadata": {
    "scrolled": true
   },
   "outputs": [],
   "source": [
    "X = x_data.loc[:,[\n",
    "  'variacion_util_mens',\n",
    "  'tenencia_tc',\n",
    "  'saldo_pagado_mes_prep_ant',\n",
    "  '(cuotas_pag/plazo_rem)_mes_prep_ant',\n",
    "  'nummovvlrproxcuotacap_mes_prep_ant',\n",
    "  'valor_vehiculo',\n",
    "  'prom_util_sem_ant',    \n",
    "#   'saldo_cliente_mean_12m',\n",
    "  'str_nivel_educativo_especializado'\n",
    "  ]]\n",
    "\n",
    "calc_vif(X)"
   ]
  },
  {
   "cell_type": "code",
   "execution_count": null,
   "metadata": {
    "scrolled": true
   },
   "outputs": [],
   "source": [
    "# print(df_mdt.var_objetivo.sum())\n",
    "# print(df_mdt.shape[0]-df_mdt.var_objetivo.sum()) #¿cuantos estan activos? ¿cuantos marca natural?\n",
    "# round(df_mdt.var_objetivo.sum()/df_mdt.shape[0]*100,2)"
   ]
  },
  {
   "cell_type": "markdown",
   "metadata": {
    "scrolled": true
   },
   "source": [
    "# Training"
   ]
  },
  {
   "cell_type": "code",
   "execution_count": 42,
   "metadata": {},
   "outputs": [],
   "source": [
    "var_target = 'var_objetivo'"
   ]
  },
  {
   "cell_type": "code",
   "execution_count": 43,
   "metadata": {},
   "outputs": [
    {
     "name": "stdout",
     "output_type": "stream",
     "text": [
      "\n",
      "Modelo prod. Desercion Vehiculos: AUC Score XGBoost: 0.680377\n"
     ]
    },
    {
     "data": {
      "image/png": "[encoded data removed]",
      "text/plain": [
       "<Figure size 432x288 with 1 Axes>"
      ]
     },
     "metadata": {
      "needs_background": "light"
     },
     "output_type": "display_data"
    }
   ],
   "source": [
    "# Seed for random methods (every result in the code should be reproducible)\n",
    "\n",
    "SEED = 123\n",
    "\n",
    "# Test size for train/test split\n",
    "\n",
    "TEST_SIZE = 0.30\n",
    "\n",
    "x_train, x_test, y_train, y_test = train_test_split(\n",
    "        x_data,\n",
    "        y_data,\n",
    "        test_size=TEST_SIZE,\n",
    "        random_state=SEED\n",
    "        )\n",
    "\n",
    "x_train.reset_index(drop=True,inplace=True)\n",
    "x_test.reset_index(drop=True,inplace=True)\n",
    "y_train.reset_index(drop=True,inplace=True)\n",
    "y_test.reset_index(drop=True,inplace=True)\n",
    "\n",
    "xgb_class = xgb.XGBClassifier(n_jobs=-1,seed=SEED,objective='binary:logistic')\n",
    "#                               min_child_weight= 4,\n",
    "#                               max_depth= 1,\n",
    "#                               learning_rate= 0.17500000000000002,\n",
    "#                               colsample_bytree= 0.35)\n",
    "\n",
    "# {'min_child_weight': 4,\n",
    "#  'max_depth': 1,\n",
    "#  'learning_rate': 0.17500000000000002,\n",
    "#  'colsample_bytree': 0.35}\n",
    "\n",
    "#xgb_class = xgb.XGBClassifier(base_score=0.5, booster='gbtree', colsample_bylevel=1,\n",
    "#                              colsample_bynode=1, colsample_bytree=1, gamma=0,\n",
    "#                              learning_rate=0.001, max_delta_step=0, max_depth=3,\n",
    "#                              min_child_weight=5, missing=None, n_estimators=100, n_jobs=-1,\n",
    "#                              nthread=None, objective='binary:logistic', random_state=0,\n",
    "#                              reg_alpha=0, reg_lambda=1, scale_pos_weight=1, seed=123,\n",
    "#                              silent=None, subsample=1, verbosity=1)\n",
    "\n",
    "# xgb_class = RandomForestClassifier(n_jobs=-1,random_state=SEED,max_depth=10)\n",
    "# xgb_class = RandomForestClassifier(n_estimators = 500,     # Número de modelos a crear \n",
    "#                                  criterion = 'gini',     # el criterio de particionamiento de un conjunto de datos\n",
    "#                                  bootstrap = True,       # Utilizar reemplazo en el muestreo de los registros de aprendizaje\n",
    "#                                  oob_score = True,       # Evaluar cada modelo con los registros no utilizados en su aprendizaje \n",
    "#                                  n_jobs = -1,            # Número de cores a utilizar\n",
    "#                                  random_state = SEED,    # random seed para el generador aleatorio\n",
    "#                                  verbose = 0)            # controla la cantidad de información a reportar\n",
    "\n",
    "\n",
    "# xgb_class = svm.SVC(kernel='linear',probability=True,C=0.001)\n",
    "\n",
    "x_train.reset_index(drop=True,inplace=True)\n",
    "x_test.reset_index(drop=True,inplace=True)\n",
    "y_train.reset_index(drop=True,inplace=True)\n",
    "y_test.reset_index(drop=True,inplace=True)\n",
    "\n",
    "title = 'prod. Desercion Vehiculos'\n",
    "\n",
    "xgb_class.fit(x_train, y_train)\n",
    "\n",
    "preds_xgb = xgb_class.predict(x_test)\n",
    "probab_xgb = xgb_class.predict_proba(x_test)\n",
    "\n",
    "xgb_roc_auc = roc_auc_score(y_test, probab_xgb[:, 1])\n",
    "\n",
    "print('\\nModelo '\n",
    "          + title + ': AUC Score XGBoost: %f' % xgb_roc_auc)\n",
    "\n",
    "fpr, tpr, thresholds = roc_curve(y_test, probab_xgb[:, 1])\n",
    "\n",
    "plot_ROC(fpr, tpr, title='ROC: Modelo base para '\n",
    "             + title + ' (XGBoost)', auc=xgb_roc_auc)\n",
    "\n",
    "#xgb.plot_importance(\n",
    "#            xgb_class,\n",
    "#            importance_type='gain',\n",
    "#            title='Importancia de variables: Modelo para ' + title\n",
    "#            )"
   ]
  },
  {
   "cell_type": "code",
   "execution_count": 45,
   "metadata": {},
   "outputs": [
    {
     "data": {
      "image/png": "[encoded data removed]",
      "text/plain": [
       "<Figure size 432x288 with 2 Axes>"
      ]
     },
     "metadata": {
      "needs_background": "light"
     },
     "output_type": "display_data"
    },
    {
     "name": "stdout",
     "output_type": "stream",
     "text": [
      "AUC-ROC: 68.04\n",
      "Precision: 3.46\n",
      "Sensibilidad (Recall): 56.08\n",
      "Especificidad: 67.78\n",
      "Kappa (train): 3.09\n",
      "Kappa (test): 2.82\n",
      "Accuracy Rate (train): 67.67\n",
      "Accuracy Rate (test): 67.55\n",
      "Var.Target Rate (train): 1.98\n",
      "Var.Target Rate (test): 2.01\n",
      "Var.Target Rate (total): 1.99\n"
     ]
    }
   ],
   "source": [
    "th = 0.019507646560668945\n",
    "#th = 0.02\n",
    "y_test_pred = (probab_xgb[:, 1]>th).astype(int)\n",
    "y_train_pred = (xgb_class.predict_proba(x_train)[:, 1]>th).astype(int)\n",
    "\n",
    "cm=confusion_matrix(y_test, y_test_pred)\n",
    "plot_confusion_matrix(\n",
    "                cm,\n",
    "                title='Matriz de confusión: Modelo ' + title\n",
    "                )\n",
    "\n",
    "print( 'AUC-ROC:', round(xgb_roc_auc*100,2) )\n",
    "print( 'Precision:', round(precision_score(y_test, y_test_pred)*100,2) )\n",
    "print( 'Sensibilidad (Recall):', round(recall_score(y_test, y_test_pred)*100,2) )\n",
    "print( 'Especificidad:', round(cm[0,0]/cm[0,:].sum()*100,2) )\n",
    "print( 'Kappa (train):', round(cohen_kappa_score(y_train, y_train_pred)*100,2) )\n",
    "print( 'Kappa (test):', round(cohen_kappa_score(y_test,y_test_pred)*100,2) )\n",
    "print( 'Accuracy Rate (train):', round(accuracy_score(y_train, y_train_pred)*100,2) )\n",
    "print( 'Accuracy Rate (test):', round(accuracy_score(y_test, y_test_pred)*100,2) )\n",
    "print( 'Var.Target Rate (train):', round(y_train.sum()/y_train.shape[0]*100,2) )\n",
    "print( 'Var.Target Rate (test):', round(y_test.sum()/y_test.shape[0]*100,2) )\n",
    "print( 'Var.Target Rate (total):', round(y_data.sum()/y_data.shape[0]*100,2) )"
   ]
  },
  {
   "cell_type": "code",
   "execution_count": 46,
   "metadata": {},
   "outputs": [
    {
     "data": {
      "image/png": "[encoded data removed]",
      "text/plain": [
       "<Figure size 576x432 with 1 Axes>"
      ]
     },
     "metadata": {
      "needs_background": "light"
     },
     "output_type": "display_data"
    }
   ],
   "source": [
    "fig, ax = plt.subplots(figsize=(8,6))\n",
    "xgb.plot_importance(\n",
    "            xgb_class,\n",
    "            importance_type='gain',\n",
    "            title='Importancia de variables: Modelo para ' + title,\n",
    "            ax=ax,\n",
    "            color = 'purple')\n",
    "plt.show()"
   ]
  },
  {
   "cell_type": "code",
   "execution_count": null,
   "metadata": {},
   "outputs": [],
   "source": [
    "data_test = pd.DataFrame(y_test).join(pd.DataFrame({'score':probab_xgb[:, 1]}))\n",
    "data_train = pd.DataFrame(y_train).join(pd.DataFrame({'score':xgb_class.predict_proba(x_train)[:, 1]}))"
   ]
  },
  {
   "cell_type": "code",
   "execution_count": null,
   "metadata": {},
   "outputs": [],
   "source": [
    "# plt.hist(round(data['score']*1000,2),bins=30)\n",
    "# plt.hist(data_test['score'],bins=30)\n",
    "plt.hist(data_train['score'],bins=50,color='purple')\n",
    "plt.show()"
   ]
  },
  {
   "cell_type": "code",
   "execution_count": null,
   "metadata": {},
   "outputs": [],
   "source": [
    "data_total = pd.concat([data_train,data_test])"
   ]
  },
  {
   "cell_type": "markdown",
   "metadata": {},
   "source": [
    "# Clusters"
   ]
  },
  {
   "cell_type": "code",
   "execution_count": null,
   "metadata": {},
   "outputs": [],
   "source": [
    "tabla=pd.DataFrame({'y_pred':probab_xgb[:, 1]})\n",
    "\n",
    "#Número de cluster óptimo\n",
    "sum_of_squared_distances = []\n",
    "K = range(1,15)\n",
    "for k in K:\n",
    "    km = KMeans(n_clusters=k, random_state=SEED)\n",
    "    km = km.fit(tabla)\n",
    "    sum_of_squared_distances.append(km.inertia_)\n",
    "#     centroids = km.cluster_centers_\n",
    "#     print(centroids)\n",
    "\n",
    "plt.plot(K, sum_of_squared_distances, 'bx-', color = 'purple')\n",
    "plt.xlabel('k')\n",
    "plt.ylabel('Sum of squared distances')\n",
    "plt.title('Elbow Method For Optimal k')\n",
    "plt.show()"
   ]
  },
  {
   "cell_type": "code",
   "execution_count": null,
   "metadata": {},
   "outputs": [],
   "source": [
    "km = KMeans(n_clusters=3, random_state=SEED)\n",
    "km = km.fit(tabla)\n",
    "km.cluster_centers_"
   ]
  },
  {
   "cell_type": "markdown",
   "metadata": {},
   "source": [
    "# Cut - Median"
   ]
  },
  {
   "cell_type": "code",
   "execution_count": null,
   "metadata": {},
   "outputs": [],
   "source": [
    "# probab_xgb = xgb_class.predict_proba(x_data)\n",
    "pto_corte = 0.019507646560668945\n",
    "np.median(probab_xgb[:, 1][probab_xgb[:, 1]>pto_corte])\n",
    "# breaks = jenkspy.jenks_breaks(probab_xgb[:, 1][probab_xgb[:, 1]>pto_corte], nb_class=2)\n",
    "# breaks = jenkspy.jenks_breaks(probab_xgb[:, 1], nb_class=3)\n",
    "# print([round(x*100,4) for x in breaks])"
   ]
  },
  {
   "cell_type": "code",
   "execution_count": null,
   "metadata": {},
   "outputs": [],
   "source": [
    "breaks = [0, 0.019507646560668945, 0.023194667, 1]\n",
    "breaks"
   ]
  },
  {
   "cell_type": "code",
   "execution_count": null,
   "metadata": {},
   "outputs": [],
   "source": [
    "prueba = pd.DataFrame({'y_pred':probab_xgb[:, 1],\n",
    "                       'var_objetivo':y_test})\n",
    "print(prueba.shape)\n",
    "prueba.head()"
   ]
  },
  {
   "cell_type": "code",
   "execution_count": null,
   "metadata": {},
   "outputs": [],
   "source": [
    "prueba['cut_median'] = pd.cut(prueba['y_pred'],\n",
    "                             bins=breaks,\n",
    "                             labels=['bajo', 'medio', 'alto'],\n",
    "                             include_lowest=True)\n",
    "prueba.head()"
   ]
  },
  {
   "cell_type": "code",
   "execution_count": null,
   "metadata": {},
   "outputs": [],
   "source": [
    "tabla = pd.DataFrame(prueba.cut_median.value_counts(normalize=True))\n",
    "tabla.reset_index(inplace=True)\n",
    "tabla.rename(columns={'index':'Cluster'},inplace=True)\n",
    "tabla"
   ]
  },
  {
   "cell_type": "code",
   "execution_count": null,
   "metadata": {
    "scrolled": true
   },
   "outputs": [],
   "source": [
    "pivot = pd.pivot_table(prueba, \n",
    "                       values='y_pred', \n",
    "                       index='cut_median',\n",
    "                       columns='var_objetivo', \n",
    "                       aggfunc='count')\n",
    "\n",
    "pivot.rename(columns={0:'0',1:'1'},inplace=True)\n",
    "cols = list(pivot.columns)\n",
    "pivot['total'] = pivot[cols].sum(axis=1)\n",
    "\n",
    "pivot.index = pivot.index.astype(str)\n",
    "\n",
    "row = pd.Series({'0':pivot.loc[:,'0'].sum(),\n",
    "                 '1':pivot.loc[:,'1'].sum(),\n",
    "                 'total':pivot.loc[:,'total'].sum()},name='Total')\n",
    "pivot = pivot.append(row)\n",
    "\n",
    "pivot['dist_0_%'] = round(pivot['0']/pivot['total']*100,2)\n",
    "pivot['dist_1_%'] = round(pivot['1']/pivot['total']*100,2)\n",
    "\n",
    "pivot['class_0_%'] = round(pivot['0'][:3]/pivot['0']['Total']*100,2)\n",
    "pivot['class_1_%'] = round(pivot['1'][:3]/pivot['1']['Total']*100,2)\n",
    "\n",
    "pivot.fillna('-',inplace=True)\n",
    "\n",
    "pivot"
   ]
  },
  {
   "cell_type": "code",
   "execution_count": null,
   "metadata": {},
   "outputs": [],
   "source": [
    "print('cat_1 (medio) + cat_1 (alto):',pivot.loc[pivot.index == 'medio','1'][0] + pivot.loc[pivot.index == 'alto','1'][0])"
   ]
  },
  {
   "cell_type": "code",
   "execution_count": null,
   "metadata": {},
   "outputs": [],
   "source": [
    "print('% (cat_1 (medio) + cat_1 (alto)) :',round((pivot.loc[pivot.index == 'medio','1'][0] + pivot.loc[pivot.index == 'alto','1'][0])/\\\n",
    "                                                 (pivot.loc[pivot.index == 'Total','1'][0])*100,2))"
   ]
  },
  {
   "cell_type": "code",
   "execution_count": null,
   "metadata": {},
   "outputs": [],
   "source": [
    "print('total (medio) + total (alto):',pivot.loc[pivot.index == 'medio','total'][0] + pivot.loc[pivot.index == 'alto','total'][0])"
   ]
  },
  {
   "cell_type": "markdown",
   "metadata": {},
   "source": [
    "# Cut - Jenks"
   ]
  },
  {
   "cell_type": "code",
   "execution_count": null,
   "metadata": {},
   "outputs": [],
   "source": [
    "# probab_xgb = xgb_class.predict_proba(x_data)\n",
    "pto_corte = 0.01954798214137554\n",
    "jenkspy.jenks_breaks(probab_xgb[:, 1][probab_xgb[:, 1]>pto_corte], nb_class=2)\n",
    "# breaks = jenkspy.jenks_breaks(probab_xgb[:, 1], nb_class=3)\n",
    "# print([round(x*100,4) for x in breaks])"
   ]
  },
  {
   "cell_type": "code",
   "execution_count": null,
   "metadata": {},
   "outputs": [],
   "source": [
    "breaks = [0, 0.01954798214137554,  0.24266228079795837, 1]\n",
    "breaks"
   ]
  },
  {
   "cell_type": "code",
   "execution_count": null,
   "metadata": {},
   "outputs": [],
   "source": [
    "prueba = pd.DataFrame({'y_pred':probab_xgb[:, 1],\n",
    "                       'var_objetivo':y_test})\n",
    "print(prueba.shape)\n",
    "prueba.head()"
   ]
  },
  {
   "cell_type": "code",
   "execution_count": null,
   "metadata": {},
   "outputs": [],
   "source": [
    "prueba['cut_jenks'] = pd.cut(prueba['y_pred'],\n",
    "                             bins=breaks,\n",
    "                             labels=['bajo', 'medio', 'alto'],\n",
    "                             include_lowest=True)\n",
    "prueba.head()"
   ]
  },
  {
   "cell_type": "code",
   "execution_count": null,
   "metadata": {},
   "outputs": [],
   "source": [
    "tabla = pd.DataFrame(prueba.cut_jenks.value_counts(normalize=True))\n",
    "tabla.reset_index(inplace=True)\n",
    "tabla.rename(columns={'index':'Cluster'},inplace=True)\n",
    "tabla"
   ]
  },
  {
   "cell_type": "code",
   "execution_count": null,
   "metadata": {
    "scrolled": true
   },
   "outputs": [],
   "source": [
    "pivot = pd.pivot_table(prueba, \n",
    "                       values='y_pred', \n",
    "                       index='cut_jenks',\n",
    "                       columns='var_objetivo', \n",
    "                       aggfunc='count')\n",
    "\n",
    "pivot.rename(columns={0:'0',1:'1'},inplace=True)\n",
    "cols = list(pivot.columns)\n",
    "pivot['total'] = pivot[cols].sum(axis=1)\n",
    "\n",
    "pivot.index = pivot.index.astype(str)\n",
    "\n",
    "row = pd.Series({'0':pivot.loc[:,'0'].sum(),\n",
    "                 '1':pivot.loc[:,'1'].sum(),\n",
    "                 'total':pivot.loc[:,'total'].sum()},name='Total')\n",
    "pivot = pivot.append(row)\n",
    "\n",
    "pivot['dist_0_%'] = round(pivot['0']/pivot['total']*100,2)\n",
    "pivot['dist_1_%'] = round(pivot['1']/pivot['total']*100,2)\n",
    "\n",
    "pivot['class_0_%'] = round(pivot['0'][:3]/pivot['0']['Total']*100,2)\n",
    "pivot['class_1_%'] = round(pivot['1'][:3]/pivot['1']['Total']*100,2)\n",
    "\n",
    "pivot.fillna('-',inplace=True)\n",
    "\n",
    "pivot"
   ]
  },
  {
   "cell_type": "code",
   "execution_count": null,
   "metadata": {},
   "outputs": [],
   "source": [
    "print('cat_1 (medio) + cat_1 (alto):',pivot.loc[pivot.index == 'medio','1'][0] + pivot.loc[pivot.index == 'alto','1'][0])"
   ]
  },
  {
   "cell_type": "code",
   "execution_count": null,
   "metadata": {},
   "outputs": [],
   "source": [
    "print('% (cat_1 (medio) + cat_1 (alto)) :',round((pivot.loc[pivot.index == 'medio','1'][0] + pivot.loc[pivot.index == 'alto','1'][0])/\\\n",
    "                                                 (pivot.loc[pivot.index == 'Total','1'][0])*100,2))"
   ]
  },
  {
   "cell_type": "code",
   "execution_count": null,
   "metadata": {},
   "outputs": [],
   "source": [
    "print('total (medio) + total (alto):',pivot.loc[pivot.index == 'medio','total'][0] + pivot.loc[pivot.index == 'alto','total'][0])"
   ]
  },
  {
   "cell_type": "code",
   "execution_count": null,
   "metadata": {},
   "outputs": [],
   "source": []
  },
  {
   "cell_type": "code",
   "execution_count": null,
   "metadata": {},
   "outputs": [],
   "source": [
    "# df_export = x_test.join(prueba)\n",
    "# df_export.rename(columns={'cut_jenks':'cluster'},inplace=True)\n",
    "# print(df_export.shape)\n",
    "# df_export.head()"
   ]
  },
  {
   "cell_type": "code",
   "execution_count": null,
   "metadata": {},
   "outputs": [],
   "source": [
    "# df_export.to_csv('test_caracterizacion_vehiculos.csv',sep=\"|\",index=False)"
   ]
  },
  {
   "cell_type": "code",
   "execution_count": null,
   "metadata": {},
   "outputs": [],
   "source": [
    "plt.figure(figsize=(8, 5))\n",
    "ax = sns.barplot(x='Cluster', y='cut_jenks', data=tabla, ci=None, dodge=False)\n",
    "ax.set_title('Distribución Clusters')\n",
    "ax.set_ylabel('freq. relative')\n",
    "# plt.xticks(rotation=90)\n",
    "# plt.tight_layout()\n",
    "plt.show()"
   ]
  },
  {
   "cell_type": "code",
   "execution_count": null,
   "metadata": {},
   "outputs": [],
   "source": [
    "# plt.hist(round(data['score']*1000,2),bins=30)\n",
    "# plt.hist(data_test['score'],bins=30)\n",
    "plt.hist(data_train['score'],bins=30,color='purple')\n",
    "x2 = [0.225795,0.225795] \n",
    "y2 = [0, 12000]\n",
    "plt.plot(x2, y2, color = 'green')\n",
    "x3 = [0.547241,0.547241] \n",
    "y3 = [0, 12000]\n",
    "plt.plot(x3, y3, color = 'green')\n",
    "plt.show()"
   ]
  },
  {
   "cell_type": "code",
   "execution_count": null,
   "metadata": {},
   "outputs": [],
   "source": [
    "#Define funtion for tunning hyperparemeter of rbf kernel\n",
    "def svc_param_selection_rbf(X, y, nfolds):\n",
    "    Cs = [0.001, 0.01, 0.1, 1, 10]\n",
    "    gammas = [0.001, 0.01, 0.1, 1]\n",
    "    param_grid = {'C': Cs, 'gamma' : gammas}\n",
    "    grid_search = GridSearchCV(svm.SVC(kernel='rbf'), param_grid, cv=nfolds)\n",
    "    grid_search.fit(X, y)\n",
    "    grid_search.best_params_\n",
    "    return grid_search.best_params_"
   ]
  },
  {
   "cell_type": "code",
   "execution_count": null,
   "metadata": {},
   "outputs": [],
   "source": [
    "#Tunning hyperparameters\n",
    "t0 = time.time()\n",
    "rbf=svc_param_selection_rbf(x_train, y_train,5)\n",
    "trbf=time.time() - t0\n",
    "\n",
    "print(\"Best hyper-parameters with rbf kernel: \",rbf,\"----> Time: \",round(trbf,2),\" seconds\")"
   ]
  },
  {
   "cell_type": "code",
   "execution_count": null,
   "metadata": {},
   "outputs": [],
   "source": [
    "###### adjusting N_estimators Random Forest\n",
    "\n",
    "n_estimators = [1, 2, 4, 8, 16, 32, 64, 100, 200]\n",
    "train_results = []\n",
    "test_results = []\n",
    "\n",
    "for estimator in n_estimators:\n",
    "    rf = RandomForestClassifier(n_estimators=estimator, n_jobs=-1,random_state=SEED)\n",
    "    rf.fit(x_train, y_train)\n",
    "    \n",
    "    train_pred = rf.predict_proba(x_train)\n",
    "    false_positive_rate, true_positive_rate, thresholds = roc_curve(y_train, train_pred[:, 1])\n",
    "    roc_auc = auc(false_positive_rate, true_positive_rate)\n",
    "    train_results.append(roc_auc)\n",
    "    \n",
    "    y_pred = rf.predict_proba(x_test)\n",
    "    false_positive_rate, true_positive_rate, thresholds = roc_curve(y_test, y_pred[:, 1])\n",
    "    roc_auc = auc(false_positive_rate, true_positive_rate)\n",
    "    test_results.append(roc_auc)\n",
    "    \n",
    "from matplotlib.legend_handler import HandlerLine2D\n",
    "line1, = plt.plot(n_estimators, train_results, 'b', label='Train AUC')\n",
    "line2, = plt.plot(n_estimators, test_results, 'r', label='Test AUC')\n",
    "plt.legend(handler_map={line1: HandlerLine2D(numpoints=2)})\n",
    "plt.ylabel('AUC score')\n",
    "plt.xlabel('n_estimators')\n",
    "plt.show()"
   ]
  },
  {
   "cell_type": "code",
   "execution_count": null,
   "metadata": {},
   "outputs": [],
   "source": [
    "# adjusting max_depth Random Forest\n",
    "\n",
    "max_depths = np.linspace(1, 32, 32, endpoint=True)\n",
    "train_results = []\n",
    "test_results = []\n",
    "\n",
    "for max_depth in max_depths:\n",
    "    rf = RandomForestClassifier(max_depth=max_depth, n_jobs=-1,random_state=SEED)\n",
    "    rf.fit(x_train, y_train)\n",
    "    \n",
    "    train_pred = rf.predict_proba(x_train)\n",
    "    false_positive_rate, true_positive_rate, thresholds = roc_curve(y_train, train_pred[:, 1])\n",
    "    roc_auc = auc(false_positive_rate, true_positive_rate)\n",
    "    train_results.append(roc_auc)\n",
    "    \n",
    "    y_pred = rf.predict_proba(x_test)\n",
    "    false_positive_rate, true_positive_rate, thresholds = roc_curve(y_test, y_pred[:, 1])\n",
    "    roc_auc = auc(false_positive_rate, true_positive_rate)\n",
    "    test_results.append(roc_auc)\n",
    "\n",
    "from matplotlib.legend_handler import HandlerLine2D\n",
    "line1, = plt.plot(max_depths, train_results, 'b', label='Train AUC')\n",
    "line2, = plt.plot(max_depths, test_results, 'r', label='Test AUC')\n",
    "plt.legend(handler_map={line1: HandlerLine2D(numpoints=2)})\n",
    "plt.ylabel('AUC score')\n",
    "plt.xlabel('Tree depth')\n",
    "plt.show()"
   ]
  },
  {
   "cell_type": "code",
   "execution_count": null,
   "metadata": {},
   "outputs": [],
   "source": [
    "# import os\n",
    "# os.environ[\"PATH\"] += os.pathsep + '/home/jupyter/anaconda3/pkgs/graphviz-2.40.1-h21bd128_2/bin/'"
   ]
  },
  {
   "cell_type": "code",
   "execution_count": null,
   "metadata": {},
   "outputs": [],
   "source": [
    "# plot single tree\n",
    "# tree.plot_tree(xgb_class)\n",
    "# plot_tree(xgb_class)\n",
    "# plt.show()"
   ]
  },
  {
   "cell_type": "code",
   "execution_count": null,
   "metadata": {},
   "outputs": [],
   "source": [
    "#Threshold function\n",
    "\n",
    "def Find_Optimal_Cutoff(target, predicted):\n",
    "\n",
    "    \"\"\"\n",
    "\n",
    "    Find the optimal probability cutoff point for a classification model related to event rate\n",
    "\n",
    "    Parameters\n",
    "\n",
    "    ----------\n",
    "\n",
    "    target : Matrix with dependent or target data, where rows are observations\n",
    "\n",
    "    predicted : Matrix with predicted data, where rows are observations\n",
    "\n",
    "    Returns\n",
    "\n",
    "    -------    \n",
    "\n",
    "    optimal cutoff value\n",
    "\n",
    "    \"\"\"\n",
    "\n",
    "    fpr, tpr, threshold = roc_curve(target, predicted)\n",
    "\n",
    "    i = np.arange(len(tpr))\n",
    "\n",
    "    roc = pd.DataFrame({'tf' : pd.Series(tpr - fpr, index = i), 'threshold' : pd.Series(threshold, index=i)})\n",
    "\n",
    "    roc_t = roc.iloc[roc['tf'].values.argmax(), :]\n",
    "\n",
    "    return roc_t['threshold']\n",
    "\n",
    "# y_predict_train = xgb_model2.predict_proba(X_train_final)\n",
    "\n",
    "# proba_train = y_predict_train[:, 1]\n",
    "\n",
    "# proba_train = pd.Series(proba_train)\n",
    "\n",
    "threshold = Find_Optimal_Cutoff(y_test, probab_xgb[:, 1])\n",
    "\n",
    "print('Pto corte dataset test:', threshold)"
   ]
  },
  {
   "cell_type": "code",
   "execution_count": null,
   "metadata": {},
   "outputs": [],
   "source": [
    "# =========== Features importances Random Forest ===========\n",
    "\n",
    "indices = np.argsort(xgb_class.feature_importances_)\n",
    "variables = [x_data.columns[i] for i in indices]\n",
    "\n",
    "# Graph of features importances\n",
    "# plt.figure(figsize=(16, 8))\n",
    "plt.title(\"Features importances\")\n",
    "plt.barh(range(x_data.shape[1]), xgb_class.feature_importances_[indices])\n",
    "plt.yticks(range(x_data.shape[1]), variables, fontsize = 10)\n",
    "plt.show()"
   ]
  },
  {
   "cell_type": "code",
   "execution_count": 47,
   "metadata": {},
   "outputs": [],
   "source": [
    "def backtesting(data,var_probab,var_target,cant,cutoff):\n",
    "\n",
    "    dataframe = data.copy()\n",
    "    dataframe[var_probab] = round(dataframe[var_probab]*1000)\n",
    "\n",
    "    if np.isnan(cutoff).any():\n",
    "        dataframe['rangos'] = pd.qcut(dataframe[var_probab],cant,precision=0,duplicates='drop')\n",
    "    else:\n",
    "        dataframe['rangos'] = pd.cut(dataframe[var_probab],cutoff,precision=0,include_lowest=True)\n",
    "    \n",
    "    dataframe['target'] = dataframe[var_target]\n",
    "    \n",
    "    table = pd.DataFrame(dataframe[['rangos','target']].groupby('rangos').size())\n",
    "    table = table.sort_values(by ='rangos', ascending=True)\n",
    "    table.rename(columns={0: 'total cat'}, inplace=True)\n",
    "\n",
    "    table = table.join(dataframe[['rangos','target']].groupby(['rangos']).sum())\n",
    "    table.rename(columns={'target': 'var 1'}, inplace=True)\n",
    "    table['var 0'] = table['total cat'] - table['var 1']\n",
    "    \n",
    "    table.insert(loc=1, column='% total cat', value=round((table['total cat'] / dataframe.shape[0])*100,2))\n",
    "    table.insert(loc=2, column='total acum', value=table['% total cat'].cumsum())\n",
    "    \n",
    "    table.insert(loc=4, column='tasa var 1', value=round((table['var 1']/table['total cat'])*100,2))\n",
    "    table.insert(loc=6, column='tasa var 0', value=round((table['var 0']/table['total cat'])*100,2))\n",
    "    \n",
    "    table.insert(loc=5, column='var 1 acum', value=round((table['var 1'].cumsum()/table['var 1'].sum())*100,2))\n",
    "    table.insert(loc=8, column='var 0 acum', value=round((table['var 0'].cumsum()/table['var 0'].sum())*100,2))\n",
    "    \n",
    "    table['KS'] = round(abs(table['var 1 acum']-table['var 0 acum']),2)\n",
    "    \n",
    "#     table['tasa var 0 acum'] = [round((table.iloc[0+i:len(table),table.columns.get_loc('var 0')].sum()/\n",
    "#                                       table.iloc[0+i:len(table),table.columns.get_loc('total cat')].sum())*100,2) for i in range(0,len(table))]\n",
    "    \n",
    "#     table['odds acum'] = [round((table.iloc[0+i:len(table),table.columns.get_loc('var 1')].sum()/\n",
    "#                                  table.iloc[0+i:len(table),table.columns.get_loc('var 0')].sum()),2) for i in range(0,len(table))]\n",
    "    \n",
    "    table['odds'] = round(table['var 1']/table['var 0'],2)\n",
    "    \n",
    "    comp = pd.DataFrame([int(np.where(table.iloc[0+i,table.columns.get_loc('odds')]<= \\\n",
    "                                      table.iloc[1+i,table.columns.get_loc('odds')],0,1)) for i in range(0,len(table)-1)])\n",
    "    \n",
    "    table['quiebres'] = pd.concat([pd.DataFrame([0]),comp]).set_index(table.index)\n",
    "     \n",
    "    table = table.sort_values(by ='rangos', ascending=False)\n",
    "    \n",
    "    table.reset_index(inplace=True)\n",
    "    \n",
    "    last_row = pd.DataFrame(['total',\n",
    "                             table['total cat'].sum(),\n",
    "                             round(table['% total cat'].sum()),\n",
    "                             '',\n",
    "                             table['var 1'].sum(),\n",
    "                             round((table['var 1'].sum()/table['total cat'].sum())*100,2),\n",
    "                             '',\n",
    "                             table['var 0'].sum(),\n",
    "                             round((table['var 0'].sum()/table['total cat'].sum())*100,2),\n",
    "                             '',\n",
    "                             table['KS'].max(),\n",
    "#                              '',\n",
    "#                              '',\n",
    "                             round(table['var 1'].sum()/table['var 0'].sum(),2),\n",
    "                             table['quiebres'].sum()]).T\n",
    "    \n",
    "    last_row.columns = table.columns\n",
    "\n",
    "    table = table.append(last_row)\n",
    "    \n",
    "    table.drop(['var 1 acum','var 0 acum'],axis=1,inplace=True)\n",
    "    \n",
    "    return table"
   ]
  },
  {
   "cell_type": "code",
   "execution_count": 48,
   "metadata": {},
   "outputs": [],
   "source": [
    "data_test = pd.DataFrame(y_test).join(pd.DataFrame({'score':probab_xgb[:, 1]}))\n",
    "data_train = pd.DataFrame(y_train).join(pd.DataFrame({'score':xgb_class.predict_proba(x_train)[:, 1]}))"
   ]
  },
  {
   "cell_type": "code",
   "execution_count": 49,
   "metadata": {},
   "outputs": [
    {
     "data": {
      "text/html": [
       "<div>\n",
       "<style scoped>\n",
       "    .dataframe tbody tr th:only-of-type {\n",
       "        vertical-align: middle;\n",
       "    }\n",
       "\n",
       "    .dataframe tbody tr th {\n",
       "        vertical-align: top;\n",
       "    }\n",
       "\n",
       "    .dataframe thead th {\n",
       "        text-align: right;\n",
       "    }\n",
       "</style>\n",
       "<table border=\"1\" class=\"dataframe\">\n",
       "  <thead>\n",
       "    <tr style=\"text-align: right;\">\n",
       "      <th></th>\n",
       "      <th>rangos</th>\n",
       "      <th>total cat</th>\n",
       "      <th>% total cat</th>\n",
       "      <th>total acum</th>\n",
       "      <th>var 1</th>\n",
       "      <th>tasa var 1</th>\n",
       "      <th>var 0</th>\n",
       "      <th>tasa var 0</th>\n",
       "      <th>KS</th>\n",
       "      <th>odds</th>\n",
       "      <th>quiebres</th>\n",
       "    </tr>\n",
       "  </thead>\n",
       "  <tbody>\n",
       "    <tr>\n",
       "      <th>0</th>\n",
       "      <td>(26.0, 636.0]</td>\n",
       "      <td>16302</td>\n",
       "      <td>9.26</td>\n",
       "      <td>99.99</td>\n",
       "      <td>1055</td>\n",
       "      <td>6.47</td>\n",
       "      <td>15247</td>\n",
       "      <td>93.53</td>\n",
       "      <td>0</td>\n",
       "      <td>0.07</td>\n",
       "      <td>0</td>\n",
       "    </tr>\n",
       "    <tr>\n",
       "      <th>1</th>\n",
       "      <td>(22.0, 26.0]</td>\n",
       "      <td>17170</td>\n",
       "      <td>9.75</td>\n",
       "      <td>90.73</td>\n",
       "      <td>441</td>\n",
       "      <td>2.57</td>\n",
       "      <td>16729</td>\n",
       "      <td>97.43</td>\n",
       "      <td>20.9</td>\n",
       "      <td>0.03</td>\n",
       "      <td>0</td>\n",
       "    </tr>\n",
       "    <tr>\n",
       "      <th>2</th>\n",
       "      <td>(20.0, 22.0]</td>\n",
       "      <td>15186</td>\n",
       "      <td>8.63</td>\n",
       "      <td>80.98</td>\n",
       "      <td>335</td>\n",
       "      <td>2.21</td>\n",
       "      <td>14851</td>\n",
       "      <td>97.79</td>\n",
       "      <td>23.64</td>\n",
       "      <td>0.02</td>\n",
       "      <td>0</td>\n",
       "    </tr>\n",
       "    <tr>\n",
       "      <th>3</th>\n",
       "      <td>(18.0, 20.0]</td>\n",
       "      <td>18756</td>\n",
       "      <td>10.65</td>\n",
       "      <td>72.35</td>\n",
       "      <td>336</td>\n",
       "      <td>1.79</td>\n",
       "      <td>18420</td>\n",
       "      <td>98.21</td>\n",
       "      <td>24.47</td>\n",
       "      <td>0.02</td>\n",
       "      <td>0</td>\n",
       "    </tr>\n",
       "    <tr>\n",
       "      <th>4</th>\n",
       "      <td>(17.0, 18.0]</td>\n",
       "      <td>10864</td>\n",
       "      <td>6.17</td>\n",
       "      <td>61.7</td>\n",
       "      <td>200</td>\n",
       "      <td>1.84</td>\n",
       "      <td>10664</td>\n",
       "      <td>98.16</td>\n",
       "      <td>23.26</td>\n",
       "      <td>0.02</td>\n",
       "      <td>0</td>\n",
       "    </tr>\n",
       "    <tr>\n",
       "      <th>5</th>\n",
       "      <td>(15.0, 17.0]</td>\n",
       "      <td>24279</td>\n",
       "      <td>13.79</td>\n",
       "      <td>55.53</td>\n",
       "      <td>403</td>\n",
       "      <td>1.66</td>\n",
       "      <td>23876</td>\n",
       "      <td>98.34</td>\n",
       "      <td>22.72</td>\n",
       "      <td>0.02</td>\n",
       "      <td>0</td>\n",
       "    </tr>\n",
       "    <tr>\n",
       "      <th>6</th>\n",
       "      <td>(14.0, 15.0]</td>\n",
       "      <td>12103</td>\n",
       "      <td>6.88</td>\n",
       "      <td>41.74</td>\n",
       "      <td>175</td>\n",
       "      <td>1.45</td>\n",
       "      <td>11928</td>\n",
       "      <td>98.55</td>\n",
       "      <td>20.24</td>\n",
       "      <td>0.01</td>\n",
       "      <td>0</td>\n",
       "    </tr>\n",
       "    <tr>\n",
       "      <th>7</th>\n",
       "      <td>(12.0, 14.0]</td>\n",
       "      <td>21395</td>\n",
       "      <td>12.15</td>\n",
       "      <td>34.86</td>\n",
       "      <td>287</td>\n",
       "      <td>1.34</td>\n",
       "      <td>21108</td>\n",
       "      <td>98.66</td>\n",
       "      <td>18.26</td>\n",
       "      <td>0.01</td>\n",
       "      <td>0</td>\n",
       "    </tr>\n",
       "    <tr>\n",
       "      <th>8</th>\n",
       "      <td>(10.0, 12.0]</td>\n",
       "      <td>18151</td>\n",
       "      <td>10.31</td>\n",
       "      <td>22.71</td>\n",
       "      <td>195</td>\n",
       "      <td>1.07</td>\n",
       "      <td>17956</td>\n",
       "      <td>98.93</td>\n",
       "      <td>14.12</td>\n",
       "      <td>0.01</td>\n",
       "      <td>0</td>\n",
       "    </tr>\n",
       "    <tr>\n",
       "      <th>9</th>\n",
       "      <td>(-1.0, 10.0]</td>\n",
       "      <td>21832</td>\n",
       "      <td>12.4</td>\n",
       "      <td>12.4</td>\n",
       "      <td>120</td>\n",
       "      <td>0.55</td>\n",
       "      <td>21712</td>\n",
       "      <td>99.45</td>\n",
       "      <td>9.21</td>\n",
       "      <td>0.01</td>\n",
       "      <td>0</td>\n",
       "    </tr>\n",
       "    <tr>\n",
       "      <th>0</th>\n",
       "      <td>total</td>\n",
       "      <td>176038</td>\n",
       "      <td>100</td>\n",
       "      <td></td>\n",
       "      <td>3547</td>\n",
       "      <td>2.01</td>\n",
       "      <td>172491</td>\n",
       "      <td>97.99</td>\n",
       "      <td>24.47</td>\n",
       "      <td>0.02</td>\n",
       "      <td>0</td>\n",
       "    </tr>\n",
       "  </tbody>\n",
       "</table>\n",
       "</div>"
      ],
      "text/plain": [
       "          rangos total cat % total cat total acum var 1 tasa var 1   var 0  \\\n",
       "0  (26.0, 636.0]     16302        9.26      99.99  1055       6.47   15247   \n",
       "1   (22.0, 26.0]     17170        9.75      90.73   441       2.57   16729   \n",
       "2   (20.0, 22.0]     15186        8.63      80.98   335       2.21   14851   \n",
       "3   (18.0, 20.0]     18756       10.65      72.35   336       1.79   18420   \n",
       "4   (17.0, 18.0]     10864        6.17       61.7   200       1.84   10664   \n",
       "5   (15.0, 17.0]     24279       13.79      55.53   403       1.66   23876   \n",
       "6   (14.0, 15.0]     12103        6.88      41.74   175       1.45   11928   \n",
       "7   (12.0, 14.0]     21395       12.15      34.86   287       1.34   21108   \n",
       "8   (10.0, 12.0]     18151       10.31      22.71   195       1.07   17956   \n",
       "9   (-1.0, 10.0]     21832        12.4       12.4   120       0.55   21712   \n",
       "0          total    176038         100             3547       2.01  172491   \n",
       "\n",
       "  tasa var 0     KS  odds quiebres  \n",
       "0      93.53      0  0.07        0  \n",
       "1      97.43   20.9  0.03        0  \n",
       "2      97.79  23.64  0.02        0  \n",
       "3      98.21  24.47  0.02        0  \n",
       "4      98.16  23.26  0.02        0  \n",
       "5      98.34  22.72  0.02        0  \n",
       "6      98.55  20.24  0.01        0  \n",
       "7      98.66  18.26  0.01        0  \n",
       "8      98.93  14.12  0.01        0  \n",
       "9      99.45   9.21  0.01        0  \n",
       "0      97.99  24.47  0.02        0  "
      ]
     },
     "execution_count": 49,
     "metadata": {},
     "output_type": "execute_result"
    }
   ],
   "source": [
    "tabla = backtesting(data_test,'score',var_target,10,np.nan)\n",
    "tabla"
   ]
  },
  {
   "cell_type": "code",
   "execution_count": 50,
   "metadata": {},
   "outputs": [
    {
     "data": {
      "text/html": [
       "<div>\n",
       "<style scoped>\n",
       "    .dataframe tbody tr th:only-of-type {\n",
       "        vertical-align: middle;\n",
       "    }\n",
       "\n",
       "    .dataframe tbody tr th {\n",
       "        vertical-align: top;\n",
       "    }\n",
       "\n",
       "    .dataframe thead th {\n",
       "        text-align: right;\n",
       "    }\n",
       "</style>\n",
       "<table border=\"1\" class=\"dataframe\">\n",
       "  <thead>\n",
       "    <tr style=\"text-align: right;\">\n",
       "      <th></th>\n",
       "      <th>rangos</th>\n",
       "      <th>total cat</th>\n",
       "      <th>% total cat</th>\n",
       "      <th>total acum</th>\n",
       "      <th>var 1</th>\n",
       "      <th>tasa var 1</th>\n",
       "      <th>var 0</th>\n",
       "      <th>tasa var 0</th>\n",
       "      <th>KS</th>\n",
       "      <th>odds</th>\n",
       "      <th>quiebres</th>\n",
       "    </tr>\n",
       "  </thead>\n",
       "  <tbody>\n",
       "    <tr>\n",
       "      <th>0</th>\n",
       "      <td>(26.0, 649.0]</td>\n",
       "      <td>38196</td>\n",
       "      <td>9.3</td>\n",
       "      <td>100</td>\n",
       "      <td>2549</td>\n",
       "      <td>6.67</td>\n",
       "      <td>35647</td>\n",
       "      <td>93.33</td>\n",
       "      <td>0</td>\n",
       "      <td>0.07</td>\n",
       "      <td>0</td>\n",
       "    </tr>\n",
       "    <tr>\n",
       "      <th>1</th>\n",
       "      <td>(22.0, 26.0]</td>\n",
       "      <td>40421</td>\n",
       "      <td>9.84</td>\n",
       "      <td>90.7</td>\n",
       "      <td>1054</td>\n",
       "      <td>2.61</td>\n",
       "      <td>39367</td>\n",
       "      <td>97.39</td>\n",
       "      <td>22.46</td>\n",
       "      <td>0.03</td>\n",
       "      <td>0</td>\n",
       "    </tr>\n",
       "    <tr>\n",
       "      <th>2</th>\n",
       "      <td>(20.0, 22.0]</td>\n",
       "      <td>34860</td>\n",
       "      <td>8.49</td>\n",
       "      <td>80.86</td>\n",
       "      <td>759</td>\n",
       "      <td>2.18</td>\n",
       "      <td>34101</td>\n",
       "      <td>97.82</td>\n",
       "      <td>25.63</td>\n",
       "      <td>0.02</td>\n",
       "      <td>0</td>\n",
       "    </tr>\n",
       "    <tr>\n",
       "      <th>3</th>\n",
       "      <td>(18.0, 20.0]</td>\n",
       "      <td>43691</td>\n",
       "      <td>10.64</td>\n",
       "      <td>72.37</td>\n",
       "      <td>844</td>\n",
       "      <td>1.93</td>\n",
       "      <td>42847</td>\n",
       "      <td>98.07</td>\n",
       "      <td>26.48</td>\n",
       "      <td>0.02</td>\n",
       "      <td>0</td>\n",
       "    </tr>\n",
       "    <tr>\n",
       "      <th>4</th>\n",
       "      <td>(17.0, 18.0]</td>\n",
       "      <td>25207</td>\n",
       "      <td>6.14</td>\n",
       "      <td>61.73</td>\n",
       "      <td>474</td>\n",
       "      <td>1.88</td>\n",
       "      <td>24733</td>\n",
       "      <td>98.12</td>\n",
       "      <td>26.21</td>\n",
       "      <td>0.02</td>\n",
       "      <td>0</td>\n",
       "    </tr>\n",
       "    <tr>\n",
       "      <th>5</th>\n",
       "      <td>(15.0, 17.0]</td>\n",
       "      <td>56987</td>\n",
       "      <td>13.87</td>\n",
       "      <td>55.59</td>\n",
       "      <td>844</td>\n",
       "      <td>1.48</td>\n",
       "      <td>56143</td>\n",
       "      <td>98.52</td>\n",
       "      <td>25.88</td>\n",
       "      <td>0.02</td>\n",
       "      <td>0</td>\n",
       "    </tr>\n",
       "    <tr>\n",
       "      <th>6</th>\n",
       "      <td>(14.0, 15.0]</td>\n",
       "      <td>28476</td>\n",
       "      <td>6.93</td>\n",
       "      <td>41.72</td>\n",
       "      <td>410</td>\n",
       "      <td>1.44</td>\n",
       "      <td>28066</td>\n",
       "      <td>98.56</td>\n",
       "      <td>22.31</td>\n",
       "      <td>0.01</td>\n",
       "      <td>0</td>\n",
       "    </tr>\n",
       "    <tr>\n",
       "      <th>7</th>\n",
       "      <td>(12.0, 14.0]</td>\n",
       "      <td>49903</td>\n",
       "      <td>12.15</td>\n",
       "      <td>34.79</td>\n",
       "      <td>606</td>\n",
       "      <td>1.21</td>\n",
       "      <td>49297</td>\n",
       "      <td>98.79</td>\n",
       "      <td>20.37</td>\n",
       "      <td>0.01</td>\n",
       "      <td>0</td>\n",
       "    </tr>\n",
       "    <tr>\n",
       "      <th>8</th>\n",
       "      <td>(10.0, 12.0]</td>\n",
       "      <td>42159</td>\n",
       "      <td>10.26</td>\n",
       "      <td>22.64</td>\n",
       "      <td>429</td>\n",
       "      <td>1.02</td>\n",
       "      <td>41730</td>\n",
       "      <td>98.98</td>\n",
       "      <td>15.57</td>\n",
       "      <td>0.01</td>\n",
       "      <td>0</td>\n",
       "    </tr>\n",
       "    <tr>\n",
       "      <th>9</th>\n",
       "      <td>(-1.0, 10.0]</td>\n",
       "      <td>50855</td>\n",
       "      <td>12.38</td>\n",
       "      <td>12.38</td>\n",
       "      <td>172</td>\n",
       "      <td>0.34</td>\n",
       "      <td>50683</td>\n",
       "      <td>99.66</td>\n",
       "      <td>10.48</td>\n",
       "      <td>0</td>\n",
       "      <td>0</td>\n",
       "    </tr>\n",
       "    <tr>\n",
       "      <th>0</th>\n",
       "      <td>total</td>\n",
       "      <td>410755</td>\n",
       "      <td>100</td>\n",
       "      <td></td>\n",
       "      <td>8141</td>\n",
       "      <td>1.98</td>\n",
       "      <td>402614</td>\n",
       "      <td>98.02</td>\n",
       "      <td>26.48</td>\n",
       "      <td>0.02</td>\n",
       "      <td>0</td>\n",
       "    </tr>\n",
       "  </tbody>\n",
       "</table>\n",
       "</div>"
      ],
      "text/plain": [
       "          rangos total cat % total cat total acum var 1 tasa var 1   var 0  \\\n",
       "0  (26.0, 649.0]     38196         9.3        100  2549       6.67   35647   \n",
       "1   (22.0, 26.0]     40421        9.84       90.7  1054       2.61   39367   \n",
       "2   (20.0, 22.0]     34860        8.49      80.86   759       2.18   34101   \n",
       "3   (18.0, 20.0]     43691       10.64      72.37   844       1.93   42847   \n",
       "4   (17.0, 18.0]     25207        6.14      61.73   474       1.88   24733   \n",
       "5   (15.0, 17.0]     56987       13.87      55.59   844       1.48   56143   \n",
       "6   (14.0, 15.0]     28476        6.93      41.72   410       1.44   28066   \n",
       "7   (12.0, 14.0]     49903       12.15      34.79   606       1.21   49297   \n",
       "8   (10.0, 12.0]     42159       10.26      22.64   429       1.02   41730   \n",
       "9   (-1.0, 10.0]     50855       12.38      12.38   172       0.34   50683   \n",
       "0          total    410755         100             8141       1.98  402614   \n",
       "\n",
       "  tasa var 0     KS  odds quiebres  \n",
       "0      93.33      0  0.07        0  \n",
       "1      97.39  22.46  0.03        0  \n",
       "2      97.82  25.63  0.02        0  \n",
       "3      98.07  26.48  0.02        0  \n",
       "4      98.12  26.21  0.02        0  \n",
       "5      98.52  25.88  0.02        0  \n",
       "6      98.56  22.31  0.01        0  \n",
       "7      98.79  20.37  0.01        0  \n",
       "8      98.98  15.57  0.01        0  \n",
       "9      99.66  10.48     0        0  \n",
       "0      98.02  26.48  0.02        0  "
      ]
     },
     "execution_count": 50,
     "metadata": {},
     "output_type": "execute_result"
    }
   ],
   "source": [
    "tabla = backtesting(data_train,'score',var_target,10,np.nan)\n",
    "tabla"
   ]
  },
  {
   "cell_type": "code",
   "execution_count": null,
   "metadata": {},
   "outputs": [],
   "source": [
    "22.5795, 54.7241, 99.8651"
   ]
  },
  {
   "cell_type": "code",
   "execution_count": null,
   "metadata": {},
   "outputs": [],
   "source": [
    "# plt.hist(round(data['score']*1000,2),bins=30)\n",
    "# plt.hist(data_test['score'],bins=30)\n",
    "plt.hist(data_train['score'],bins=30,color='purple')\n",
    "x2 = [0.225795,0.225795] \n",
    "y2 = [0, 12000]\n",
    "plt.plot(x2, y2, color = 'green')\n",
    "x3 = [0.547241,0.547241] \n",
    "y3 = [0, 12000]\n",
    "plt.plot(x3, y3, color = 'green')\n",
    "plt.show()"
   ]
  },
  {
   "cell_type": "markdown",
   "metadata": {},
   "source": [
    "# Shap Values"
   ]
  },
  {
   "cell_type": "code",
   "execution_count": 51,
   "metadata": {},
   "outputs": [],
   "source": [
    "shap_values = shap.TreeExplainer(xgb_class).shap_values(x_train)\n",
    "# shap_values = shap.TreeExplainer(xgb_class).shap_values(x_test)\n",
    "#shap.summary_plot(shap_values, x_train, plot_type=\"bar\")"
   ]
  },
  {
   "cell_type": "code",
   "execution_count": 52,
   "metadata": {},
   "outputs": [
    {
     "data": {
      "image/png": "[encoded data removed]",
      "text/plain": [
       "<Figure size 576x396 with 2 Axes>"
      ]
     },
     "metadata": {
      "needs_background": "light"
     },
     "output_type": "display_data"
    }
   ],
   "source": [
    "shap.summary_plot(shap_values, x_train)#, plot_type='bar')"
   ]
  },
  {
   "cell_type": "code",
   "execution_count": null,
   "metadata": {},
   "outputs": [],
   "source": [
    "# Get the predictions and put them with the test data.\n",
    "X_output = x_test.copy()\n",
    "# X_output.loc[:,'predict'] = np.round(xgb_class.predict(X_output),2)\n",
    "\n",
    "# Randomly pick some observations\n",
    "random_picks = np.arange(1,330,50) # Every 50 rows\n",
    "S = X_output.iloc[random_picks]\n",
    "S.reset_index(drop=True,inplace=True)"
   ]
  },
  {
   "cell_type": "code",
   "execution_count": null,
   "metadata": {},
   "outputs": [],
   "source": [
    "S.iloc[[0]]"
   ]
  },
  {
   "cell_type": "code",
   "execution_count": null,
   "metadata": {},
   "outputs": [],
   "source": [
    "# shap.dependence_plot('variacion_util_mens', shap_values, x_test)\n",
    "# Initialize your Jupyter notebook with initjs(), otherwise you will get an error message.\n",
    "shap.initjs()\n",
    "\n",
    "# Write in a function\n",
    "def shap_plot(j):\n",
    "    explainerModel = shap.TreeExplainer(xgb_class)\n",
    "    shap_values_Model = explainerModel.shap_values(S)\n",
    "    p = shap.force_plot(explainerModel.expected_value, shap_values_Model[j], S.iloc[[j]])\n",
    "    print(xgb_class.predict_proba(S.iloc[[j]])[:,1])\n",
    "    return(p)\n",
    "\n",
    "shap_plot(0)"
   ]
  },
  {
   "cell_type": "markdown",
   "metadata": {},
   "source": [
    "# Variables vs Score"
   ]
  },
  {
   "cell_type": "code",
   "execution_count": null,
   "metadata": {},
   "outputs": [],
   "source": [
    "# avg features by probability buckets\n",
    "\n",
    "# Add probability output as column\n",
    "\n",
    "x2 = x_test.reset_index()\n",
    "x2.drop(['index'], axis=1, inplace=True)\n",
    "\n",
    "prob = pd.DataFrame(probab_xgb[:, 1])\n",
    "prob.columns = ['pred_prob']\n",
    "\n",
    "output = x2.join(prob, how='inner')\n",
    "\n",
    "# Create probability bucket\n",
    "\n",
    "#            output['prob_buckets'] = output.pred_prob.apply(\n",
    "#                    lambda x: int(x * 10)\n",
    "#                    )\n",
    "##            output.drop('prob_buckets',axis=1,inplace=True)\n",
    "\n",
    "output['prob_buckets'] = pd.qcut(output['pred_prob'],10,precision=4,duplicates='drop')\n",
    "            \n",
    "#            output[cols] = output[cols].apply(\n",
    "#            lambda x: [\n",
    "#                    y if ((y >= x.quantile(0.05)) and (y <= x.quantile(0.95))) \n",
    "#                      else (x.quantile(0.05) if (np.abs(y)-np.abs(min(x))) < (np.abs(max(x))-np.abs(y)) else x.quantile(0.95)) for y in x\n",
    "#                      ]\n",
    "#                      )\n",
    "\n",
    "# Group by probability bucket taking the average of all features\n",
    "            \n",
    "gb = output.groupby('prob_buckets').mean()\n",
    "# gb = output.groupby('prob_buckets').median()\n",
    "gb.drop('pred_prob',axis=1,inplace=True)            \n",
    "\n",
    "n_features = gb.shape[1]-1\n",
    "n_buckets = gb.shape[0]\n",
    "        \n",
    "# Plotting results\n",
    "\n",
    "#%matplotlib auto\n",
    "plt.figure(figsize=(14, 10))\n",
    "\n",
    "for idx, _ in enumerate(gb):\n",
    "    plt.subplot(\n",
    "                int(np.sqrt(n_features)) + 1,\n",
    "                int(np.sqrt(n_features)) + 1, idx + 1\n",
    "                )\n",
    "    plt.rc('font', size=10)\n",
    "    plt.plot(range(n_buckets), gb[_], '-o')\n",
    "    plt.title(_)\n",
    "    plt.grid(alpha=0.4)\n",
    "    plt.tight_layout()"
   ]
  },
  {
   "cell_type": "markdown",
   "metadata": {},
   "source": [
    "# Cross validation"
   ]
  },
  {
   "cell_type": "code",
   "execution_count": 53,
   "metadata": {},
   "outputs": [],
   "source": [
    "x_train_tun, x_test_tun, y_train_tun, y_test_tun = train_test_split(\n",
    "        x_train,\n",
    "        y_train,\n",
    "        test_size=0.85,\n",
    "        random_state=SEED\n",
    "        )"
   ]
  },
  {
   "cell_type": "code",
   "execution_count": 54,
   "metadata": {},
   "outputs": [
    {
     "data": {
      "text/plain": [
       "(61613,)"
      ]
     },
     "execution_count": 54,
     "metadata": {},
     "output_type": "execute_result"
    }
   ],
   "source": [
    "y_train_tun.shape"
   ]
  },
  {
   "cell_type": "code",
   "execution_count": null,
   "metadata": {},
   "outputs": [],
   "source": [
    "# Seed for random methods (every result in the code should be reproducible)\n",
    "sns.set()\n",
    "SEED = 123\n",
    "\n",
    "# Test size for train/test split\n",
    "\n",
    "TEST_SIZE = 0.20\n",
    "\n",
    "# Explore performance of baseline model in more depth (learning curve and\n",
    "# average of kfolds to improve stability of results)\n",
    "\n",
    "print('\\nTraining baseline model in kfolds (see output plots)')\n",
    "\n",
    "# Plotting learning curve\n",
    "\n",
    "for x, y, title in zip(\n",
    "        [x_train_tun],\n",
    "        [y_train_tun],\n",
    "        ['postcrisis - vehiculos']\n",
    "        ):\n",
    "    # Iterate for cobranza\n",
    "\n",
    "    if x is None:\n",
    "        # Skip if one case is not being considered\n",
    "\n",
    "        continue\n",
    "\n",
    "    # Train/test split\n",
    "\n",
    "    x_train, x_test, y_train, y_test = train_test_split(\n",
    "            x,\n",
    "            y,\n",
    "            test_size=TEST_SIZE,\n",
    "            random_state=SEED\n",
    "            )\n",
    "    \n",
    "    x_train.reset_index(drop=True,inplace=True)\n",
    "    x_test.reset_index(drop=True,inplace=True)\n",
    "    y_train.reset_index(drop=True,inplace=True)\n",
    "    y_test.reset_index(drop=True,inplace=True)\n",
    "\n",
    "    xgb_class_cs = xgb.XGBClassifier(n_jobs=-1, seed=SEED)\n",
    "    \n",
    "#     xgb_class_cs = RandomForestClassifier(n_estimators = 500,     # Número de modelos a crear \n",
    "#                                  criterion = 'gini',     # el criterio de particionamiento de un conjunto de datos\n",
    "#                                  bootstrap = True,       # Utilizar reemplazo en el muestreo de los registros de aprendizaje\n",
    "#                                  oob_score = True,       # Evaluar cada modelo con los registros no utilizados en su aprendizaje \n",
    "#                                  n_jobs = -1,            # Número de cores a utilizar\n",
    "#                                  random_state = SEED,    # random seed para el generador aleatorio\n",
    "#                                  verbose = 0)            # controla la cantidad de información a reportar\n",
    "\n",
    "    # Define cross validation\n",
    "\n",
    "    kfold = StratifiedKFold(n_splits=5)\n",
    "\n",
    "    # Learning curve\n",
    "\n",
    "    plot_learning_curve(\n",
    "            xgb_class_cs,\n",
    "            'Curva de aprendizaje XGBoost: Modelo base para ' + title,\n",
    "            x_train,\n",
    "            y_train,\n",
    "            cv=kfold\n",
    "            )\n",
    "\n",
    "    # Plotting ROC curve for several kfolds\n",
    "\n",
    "    plot_ROC_kfolds(\n",
    "            xgb_class_cs,\n",
    "            x_train,\n",
    "            y_train,\n",
    "            kfold,\n",
    "            'Curvas ROC para kfolds: Modelo base para ' + title\n",
    "            )"
   ]
  },
  {
   "cell_type": "markdown",
   "metadata": {},
   "source": [
    "# Tuning Hyperparameters"
   ]
  },
  {
   "cell_type": "code",
   "execution_count": null,
   "metadata": {},
   "outputs": [],
   "source": [
    "x_train_tun, x_test_tun, y_train_tun, y_test_tun = train_test_split(\n",
    "        x_train,\n",
    "        y_train,\n",
    "        test_size=0.8,\n",
    "        random_state=SEED\n",
    "        )"
   ]
  },
  {
   "cell_type": "code",
   "execution_count": null,
   "metadata": {},
   "outputs": [],
   "source": [
    "y_train_tun.shape"
   ]
  },
  {
   "cell_type": "code",
   "execution_count": null,
   "metadata": {},
   "outputs": [],
   "source": [
    "#Grid seach on subsample and max_features\n",
    "#Choose all predictors except target & IDcols\n",
    "kappa_scorer = make_scorer(cohen_kappa_score)\n",
    "\n",
    "accuracy = make_scorer(accuracy_score)\n",
    "\n",
    "scoring = {'Recall': 'recall', 'Acc':accuracy}\n",
    "param_test1 = {\n",
    "    'max_depth':range(3,10,2),\n",
    "    'min_child_weight':range(1,6,2),\n",
    "    'learning_rate': [0.0001, 0.001, 0.01, 0.1, 0.2]\n",
    "}\n",
    "gsearch1 = GridSearchCV(estimator = xgb.XGBClassifier(learning_rate =0.1, n_estimators=200, max_depth=5,\n",
    "                                        min_child_weight=1, gamma=0, subsample=0.8, colsample_bytree=0.8,\n",
    "                                        objective= 'binary:logistic', nthread=4, \n",
    "                                        scale_pos_weight=np.ceil(y_train_tun.shape[0]/y_train_tun.sum()).astype(int), seed=None), \n",
    "                       param_grid = param_test1, scoring=scoring,refit='Recall', n_jobs=4,iid=False, cv=5)\n",
    "gsearch1.fit(x_train_tun,y_train_tun)"
   ]
  },
  {
   "cell_type": "code",
   "execution_count": null,
   "metadata": {},
   "outputs": [],
   "source": [
    "gsearch1.best_params_, gsearch1.best_score_"
   ]
  },
  {
   "cell_type": "markdown",
   "metadata": {},
   "source": [
    "**MODELO TUNNING**"
   ]
  },
  {
   "cell_type": "code",
   "execution_count": null,
   "metadata": {},
   "outputs": [],
   "source": [
    "#Grid seach on subsample and max_features\n",
    "#Choose all predictors except target & IDcols\n",
    "N_ITER  = 10\n",
    "\n",
    "#kappa_scorer = make_scorer(cohen_kappa_score)\n",
    "scoring = {'acc': 'accuracy',\n",
    "           #'kappa': kappa_scorer, \n",
    "           'recall': 'recall',\n",
    "           'neg_log_loss': 'neg_log_loss'}\n",
    "\n",
    "params_eval = {\n",
    "                'max_depth': range(1, 5, 1),\n",
    "                'min_child_weight': range(1, 6, 1),\n",
    "                'learning_rate': np.arange(0, 0.55, 0.025),\n",
    "                'colsample_bytree': np.arange(0.3, 0.7, 0.05)\n",
    "}\n",
    "\n",
    "params_set = {\n",
    "                'n_estimators': 300,\n",
    "                'subsample': 0.8,\n",
    "                #'colsample_bytree': 0.8,\n",
    "                'nthread': 4,\n",
    "                'objective': 'binary:logistic',\n",
    "                #'scale_pos_weight': PARAM_SCALE_POS,\n",
    "                'n_jobs': -1,\n",
    "                'seed': None\n",
    "}\n",
    "\n",
    "xgb_model1 = xgb.XGBClassifier(**params_set)"
   ]
  },
  {
   "cell_type": "code",
   "execution_count": null,
   "metadata": {},
   "outputs": [],
   "source": [
    "gsearch1 = RandomizedSearchCV(\n",
    "                        estimator           = xgb_model1, \n",
    "                        param_distributions = params_eval,\n",
    "                        n_iter  = N_ITER,\n",
    "                        scoring = scoring,\n",
    "                        refit   = 'neg_log_loss',\n",
    "                        n_jobs  = -1,\n",
    "                        cv      = 3,\n",
    "                        verbose = 1)"
   ]
  },
  {
   "cell_type": "code",
   "execution_count": null,
   "metadata": {
    "scrolled": true
   },
   "outputs": [],
   "source": [
    "time1 = datetime.now()\n",
    "gsearch1.fit(x_train_tun, y_train_tun)\n",
    "time2 = datetime.now()\n",
    "\n",
    "print(time2 - time1)"
   ]
  },
  {
   "cell_type": "markdown",
   "metadata": {},
   "source": [
    "## Hiperparametros obtenidos"
   ]
  },
  {
   "cell_type": "code",
   "execution_count": null,
   "metadata": {
    "scrolled": false
   },
   "outputs": [],
   "source": [
    "# gsearch1.cv_results_['mean_test_recall']"
   ]
  },
  {
   "cell_type": "code",
   "execution_count": null,
   "metadata": {
    "scrolled": true
   },
   "outputs": [],
   "source": [
    "# gsearch1."
   ]
  },
  {
   "cell_type": "code",
   "execution_count": null,
   "metadata": {},
   "outputs": [],
   "source": [
    "gsearch1.best_params_"
   ]
  },
  {
   "cell_type": "code",
   "execution_count": null,
   "metadata": {},
   "outputs": [],
   "source": [
    "# con neg_log_loss\n",
    "best_hyper_fit = {'min_child_weight': 4,\n",
    "   'max_depth': 2,\n",
    "   'learning_rate': 0.42500000000000004,\n",
    "   'colsample_bytree': 0.5499999999999999}"
   ]
  },
  {
   "cell_type": "code",
   "execution_count": null,
   "metadata": {},
   "outputs": [],
   "source": [
    "best_hyperparams = params_set.copy()\n",
    "best_hyperparams.update(best_hyper_fit)"
   ]
  },
  {
   "cell_type": "code",
   "execution_count": null,
   "metadata": {},
   "outputs": [],
   "source": [
    "xgb_model1 = xgb.XGBClassifier(**best_hyperparams)"
   ]
  },
  {
   "cell_type": "code",
   "execution_count": null,
   "metadata": {},
   "outputs": [],
   "source": [
    "# Fit model\n",
    "xgb_model1.fit(x_train, y_train, eval_metric = ['aucpr'])"
   ]
  },
  {
   "cell_type": "code",
   "execution_count": null,
   "metadata": {},
   "outputs": [],
   "source": [
    "# Importances variables\n",
    "importances_features1 = xgb_model1.get_booster().get_score(importance_type = \"gain\")\n",
    "importances_features1 = pd.DataFrame.from_dict(importances_features1, orient = 'index')\n",
    "\n",
    "importances_features1.reset_index(inplace = True)\n",
    "importances_features1.columns = ['variable', 'value']\n",
    "\n",
    "importances_features1 = importances_features1.sort_values('value', ascending = True)"
   ]
  },
  {
   "cell_type": "code",
   "execution_count": null,
   "metadata": {},
   "outputs": [],
   "source": [
    "plt.figure(figsize = (16, 8))\n",
    "plt.title(\"Features importances\")\n",
    "plt.barh(range(importances_features1.shape[0]), importances_features1['value'])\n",
    "plt.yticks(range(importances_features1.shape[0]), importances_features1['variable'], fontsize = 7)\n",
    "plt.show()"
   ]
  },
  {
   "cell_type": "code",
   "execution_count": null,
   "metadata": {},
   "outputs": [],
   "source": [
    "# calculate precision, recall and AUC\n",
    "y_predict_train = xgb_model1.predict_proba(x_train)\n",
    "proba_train = y_predict_train[:, 1]\n",
    "proba_train = pd.Series(proba_train)"
   ]
  },
  {
   "cell_type": "code",
   "execution_count": null,
   "metadata": {},
   "outputs": [],
   "source": [
    "# calculate precision, recall and AUC\n",
    "y_predict_test = xgb_model1.predict_proba(x_test)\n",
    "proba_test = y_predict_test[:, 1]\n",
    "proba_test = pd.Series(proba_test)"
   ]
  },
  {
   "cell_type": "code",
   "execution_count": null,
   "metadata": {},
   "outputs": [],
   "source": [
    "#Threshold function\n",
    "def Find_Optimal_Cutoff(target, predicted):\n",
    "    \"\"\" \n",
    "    Find the optimal probability cutoff point for a classification model related to event rate\n",
    "    Parameters\n",
    "    ----------\n",
    "    target : Matrix with dependent or target data, where rows are observations\n",
    "\n",
    "    predicted : Matrix with predicted data, where rows are observations\n",
    "\n",
    "    Returns\n",
    "    -------     \n",
    "    optimal cutoff value\n",
    "\n",
    "    \"\"\"\n",
    "    fpr, tpr, threshold = roc_curve(target, predicted)\n",
    "    i = np.arange(len(tpr)) \n",
    "    roc = pd.DataFrame({'tf' : pd.Series(tpr - fpr, index = i), 'threshold' : pd.Series(threshold, index=i)})\n",
    "    roc_t = roc.iloc[roc['tf'].values.argmax(), :]\n",
    "\n",
    "    return roc_t['threshold']"
   ]
  },
  {
   "cell_type": "code",
   "execution_count": null,
   "metadata": {},
   "outputs": [],
   "source": [
    "threshold = Find_Optimal_Cutoff(y_train, proba_train)\n",
    "print('Pto corte dataset train:', threshold)\n",
    "\n",
    "threshold = Find_Optimal_Cutoff(y_test, proba_test)\n",
    "print('Pto corte dataset test:', threshold)"
   ]
  },
  {
   "cell_type": "code",
   "execution_count": null,
   "metadata": {},
   "outputs": [],
   "source": [
    "threshold = 0.02"
   ]
  },
  {
   "cell_type": "code",
   "execution_count": null,
   "metadata": {},
   "outputs": [],
   "source": [
    "y_pred_train = np.where(proba_train >= threshold, 1, 0)"
   ]
  },
  {
   "cell_type": "code",
   "execution_count": null,
   "metadata": {},
   "outputs": [],
   "source": [
    "y_pred_test = np.where(proba_test >= threshold, 1, 0)"
   ]
  },
  {
   "cell_type": "code",
   "execution_count": null,
   "metadata": {
    "scrolled": true
   },
   "outputs": [],
   "source": [
    "cm = confusion_matrix(y_pred_test, y_test)\n",
    "print('Matrix de confusion: \\n', cm)\n",
    "print('')\n",
    "# Metrics: accuracy and kappa respectively for test dataset\n",
    "acc_test = accuracy_score(y_test, y_pred_test)\n",
    "print(\"Exactitud test: \", acc_test)\n",
    "\n",
    "# Metrics: accuracy for train dataset\n",
    "acc_train = accuracy_score(y_train, y_pred_train)\n",
    "print(\"Exactitud train: \", acc_train)\n",
    "\n",
    "print('Diferencia entre acc_train y acc_test:', acc_train - acc_test)\n",
    "\n",
    "k_test = cohen_kappa_score(y_test, y_pred_test)\n",
    "k_train = cohen_kappa_score(y_train, y_pred_train)\n",
    "print('')\n",
    "print(\"Kappa test: \", k_test)\n",
    "print(\"Kappa train: \", k_train)\n",
    "print('')\n",
    "print(classification_report(y_test, y_pred_test, digits = 5))"
   ]
  },
  {
   "cell_type": "code",
   "execution_count": null,
   "metadata": {},
   "outputs": [],
   "source": []
  },
  {
   "cell_type": "markdown",
   "metadata": {},
   "source": [
    "# Guardar Modelo como Pickle"
   ]
  },
  {
   "cell_type": "code",
   "execution_count": 55,
   "metadata": {},
   "outputs": [],
   "source": [
    "path = '/mnt/work/retencion_post_crisis/Desercion_vehiculos/SoniaSocadagui/process_data/model_pickle/modelo_final_vehiculos.pkl'\n",
    "with open(path, 'wb') as f:\n",
    "    pickle.dump(xgb_class, f)"
   ]
  },
  {
   "cell_type": "code",
   "execution_count": 56,
   "metadata": {},
   "outputs": [],
   "source": [
    "# load the model from disk\n",
    "model_xgb = pickle.load(open(path, 'rb'))"
   ]
  },
  {
   "cell_type": "code",
   "execution_count": 57,
   "metadata": {},
   "outputs": [
    {
     "name": "stdout",
     "output_type": "stream",
     "text": [
      "\n",
      "Modelo prod. Desercion Vehiculos: AUC Score XGBoost: 0.680377\n"
     ]
    },
    {
     "data": {
      "image/png": "[encoded data removed]",
      "text/plain": [
       "<Figure size 432x288 with 1 Axes>"
      ]
     },
     "metadata": {
      "needs_background": "light"
     },
     "output_type": "display_data"
    },
    {
     "data": {
      "image/png": "[encoded data removed]",
      "text/plain": [
       "<Figure size 432x288 with 2 Axes>"
      ]
     },
     "metadata": {
      "needs_background": "light"
     },
     "output_type": "display_data"
    },
    {
     "name": "stdout",
     "output_type": "stream",
     "text": [
      "AUC-ROC: 68.04\n",
      "Precision: 3.46\n",
      "Sensibilidad (Recall): 56.08\n",
      "Especificidad: 67.78\n",
      "Kappa (train): 3.09\n",
      "Kappa (test): 2.82\n",
      "Accuracy Rate (train): 67.67\n",
      "Accuracy Rate (test): 67.55\n",
      "Var.Target Rate (train): 1.98\n",
      "Var.Target Rate (test): 2.01\n",
      "Var.Target Rate (total): 1.99\n"
     ]
    }
   ],
   "source": [
    "preds_xgb = model_xgb.predict(x_test)\n",
    "probab_xgb = model_xgb.predict_proba(x_test)\n",
    "\n",
    "xgb_roc_auc = roc_auc_score(y_test, probab_xgb[:, 1])\n",
    "\n",
    "print('\\nModelo '\n",
    "          + title + ': AUC Score XGBoost: %f' % xgb_roc_auc)\n",
    "\n",
    "fpr, tpr, thresholds = roc_curve(y_test, probab_xgb[:, 1])\n",
    "\n",
    "plot_ROC(fpr, tpr, title='ROC: Modelo base para '\n",
    "             + title + ' (XGBoost)', auc=xgb_roc_auc)\n",
    "\n",
    "#xgb.plot_importance(\n",
    "#            xgb_class,\n",
    "#            importance_type='gain',\n",
    "#            title='Importancia de variables: Modelo para ' + title\n",
    "#            )\n",
    "\n",
    "th = 0.019507646560668945\n",
    "y_test_pred = (probab_xgb[:, 1]>th).astype(int)\n",
    "y_train_pred = (xgb_class.predict_proba(x_train)[:, 1]>th).astype(int)\n",
    "\n",
    "cm=confusion_matrix(y_test, y_test_pred)\n",
    "plot_confusion_matrix(\n",
    "                cm,\n",
    "                title='Matriz de confusión: Modelo ' + title\n",
    "                )\n",
    "\n",
    "print( 'AUC-ROC:', round(xgb_roc_auc*100,2) )\n",
    "print( 'Precision:', round(precision_score(y_test, y_test_pred)*100,2) )\n",
    "print( 'Sensibilidad (Recall):', round(recall_score(y_test, y_test_pred)*100,2) )\n",
    "print( 'Especificidad:', round(cm[0,0]/cm[0,:].sum()*100,2) )\n",
    "print( 'Kappa (train):', round(cohen_kappa_score(y_train, y_train_pred)*100,2) )\n",
    "print( 'Kappa (test):', round(cohen_kappa_score(y_test,y_test_pred)*100,2) )\n",
    "print( 'Accuracy Rate (train):', round(accuracy_score(y_train, y_train_pred)*100,2) )\n",
    "print( 'Accuracy Rate (test):', round(accuracy_score(y_test, y_test_pred)*100,2) )\n",
    "print( 'Var.Target Rate (train):', round(y_train.sum()/y_train.shape[0]*100,2) )\n",
    "print( 'Var.Target Rate (test):', round(y_test.sum()/y_test.shape[0]*100,2) )\n",
    "print( 'Var.Target Rate (total):', round(y_data.sum()/y_data.shape[0]*100,2) )"
   ]
  },
  {
   "cell_type": "markdown",
   "metadata": {},
   "source": [
    "# feature importance"
   ]
  },
  {
   "cell_type": "code",
   "execution_count": null,
   "metadata": {},
   "outputs": [],
   "source": [
    "x_train_tun, x_test_tun, y_train_tun, y_test_tun = train_test_split(\n",
    "        x_train,\n",
    "        y_train,\n",
    "        test_size=0.8,\n",
    "        random_state=SEED\n",
    "       )"
   ]
  },
  {
   "cell_type": "code",
   "execution_count": null,
   "metadata": {},
   "outputs": [],
   "source": [
    "y_train_tun.shape"
   ]
  },
  {
   "cell_type": "code",
   "execution_count": null,
   "metadata": {},
   "outputs": [],
   "source": [
    "AVG_FEATURE_BUCKETS = True\n",
    "N_BUCKETS = 10 \n",
    "N_TRAINING_MODEL = 200\n",
    "N_FEATURES = 30  \n",
    "\n",
    "# Calculate feature importance and average values vs propensity buckets\n",
    "\n",
    "if AVG_FEATURE_BUCKETS:\n",
    "\n",
    "    top_feat_list = dict({})        # List of top features for cobranza\n",
    "\n",
    "    for x, y, title in zip(\n",
    "        [x_train_tun],\n",
    "        [y_train_tun],\n",
    "        ['postcrisis - vehiculos']\n",
    "        ):\n",
    "        # Iterate for cobranza\n",
    "\n",
    "        if x is None:\n",
    "            # Skip if one case is not being considered\n",
    "\n",
    "            continue\n",
    "\n",
    "        print('\\nCalculating feature importance for ' + title + ':')\n",
    "\n",
    "        N_VARS = x.shape[1]                 # Number of total variables\n",
    "\n",
    "        # Cummulative sum of feat importances for each variable over iterations\n",
    "\n",
    "        cum_feat_importance = {_: 0 for _ in x.columns}\n",
    "\n",
    "        # Sum of feature importances for each bucket\n",
    "\n",
    "        sum_feature_buckets = {\n",
    "                _: [0] * N_BUCKETS for _ in x.columns\n",
    "                }\n",
    "\n",
    "        print('\\nStarting iterations:')\n",
    "\n",
    "        for i in range(N_TRAINING_MODEL):\n",
    "            # Training models\n",
    "\n",
    "            if (i + 1) % 20 == 0:\n",
    "                # Print iteration number when divisible by 10\n",
    "\n",
    "                print(\n",
    "                        'Training iter: ' + str(i + 1) + '/'\n",
    "                        + str(N_TRAINING_MODEL)\n",
    "                        )\n",
    "\n",
    "            x_train, x_test, y_train, y_test = train_test_split(\n",
    "                x,\n",
    "                y,\n",
    "                test_size=TEST_SIZE,\n",
    "                # random_state=SEED     # Average over different folds\n",
    "                )\n",
    "            \n",
    "            x_train.reset_index(drop=True,inplace=True)\n",
    "            x_test.reset_index(drop=True,inplace=True)\n",
    "            y_train.reset_index(drop=True,inplace=True)\n",
    "            y_test.reset_index(drop=True,inplace=True)\n",
    "\n",
    "            # XGBoost classifier\n",
    "\n",
    "            xgb_class = xgb.XGBClassifier(n_jobs=-1)      # No fixed seed\n",
    "\n",
    "#             xgb_class = RandomForestClassifier(n_estimators = 500,     # Número de modelos a crear \n",
    "#                                  criterion = 'gini',     # el criterio de particionamiento de un conjunto de datos\n",
    "#                                  bootstrap = True,       # Utilizar reemplazo en el muestreo de los registros de aprendizaje\n",
    "#                                  oob_score = True,       # Evaluar cada modelo con los registros no utilizados en su aprendizaje \n",
    "#                                  n_jobs = -1,            # Número de cores a utilizar\n",
    "#                                  random_state = SEED,    # random seed para el generador aleatorio\n",
    "#                                  verbose = 0)            # controla la cantidad de información a reportar\n",
    "\n",
    "            xgb_class.fit(x_train, y_train)\n",
    "            probab_xgb = xgb_class.predict_proba(x_test)\n",
    "\n",
    "            # Calculate feature importance and populate dictionary\n",
    "\n",
    "            feat_importance_dict = xgb_class.get_booster().get_score(\n",
    "                importance_type=\"gain\")\n",
    "\n",
    "            # Add to cummulative feat importance\n",
    "\n",
    "            cum_feat_importance = {\n",
    "                    key: (\n",
    "                            feat_importance_dict.get(key, 0)\n",
    "                            + cum_feat_importance.get(key, 0)\n",
    "                         )\n",
    "                         for key in set(\n",
    "                            feat_importance_dict)\n",
    "                                | set(cum_feat_importance)\n",
    "                                }\n",
    "\n",
    "            # Add probability output as column\n",
    "\n",
    "            X2 = x_test.reset_index()\n",
    "            X2.drop(['index'], axis=1, inplace=True)\n",
    "\n",
    "            prob = pd.DataFrame(probab_xgb[:, 1])\n",
    "            prob.columns = ['pred_prob']\n",
    "\n",
    "            output = X2.join(prob, how='inner')\n",
    "\n",
    "            # Create probability buckets\n",
    "\n",
    "#            output['prob_buckets'] = output.pred_prob.apply(\n",
    "#                    lambda x: int(x * N_BUCKETS)\n",
    "#                    )\n",
    "\n",
    "            output['prob_percent'] = pd.qcut(prob.pred_prob, 10, labels=False, duplicates='drop')\n",
    "\n",
    "            # Group by probability bucket taking the average of all features\n",
    "\n",
    "            gb = output.groupby('prob_percent').mean()\n",
    "\n",
    "            # Add all feature averages and populate dictionary\n",
    "\n",
    "            for col in range(N_VARS):\n",
    "\n",
    "                for _ in range(N_BUCKETS):\n",
    "\n",
    "                    try:\n",
    "                        # A bucket might not exist\n",
    "\n",
    "                        sum_feature_buckets[\n",
    "                                gb.columns[col]][_] += gb.loc[_][col]\n",
    "\n",
    "                    except KeyError:\n",
    "                        # In which case we do nothing\n",
    "\n",
    "                        pass\n",
    "\n",
    "        # Select the top features\n",
    "\n",
    "        top_feat = sorted(\n",
    "                cum_feat_importance,\n",
    "                key=cum_feat_importance.get,\n",
    "                reverse=True\n",
    "                )[:N_FEATURES]\n",
    "\n",
    "        avg_feature_vals = dict({})      # Dict to store avg feature values\n",
    "\n",
    "        # Transform sum to avg\n",
    "        # This represents the overall avg value of each feature for each bucket\n",
    "        # It's assumed that the number of samples per bucket does't change much\n",
    "\n",
    "        for key in sum_feature_buckets.keys():\n",
    "\n",
    "            avg_feature_vals[key] = [\n",
    "                    _ / N_TRAINING_MODEL for _ in sum_feature_buckets[key]\n",
    "                    ]\n",
    "\n",
    "        final_avg_feature = dict({})        # Selecting top features\n",
    "\n",
    "        for _ in top_feat:\n",
    "\n",
    "            final_avg_feature[_] = avg_feature_vals[_]\n",
    "\n",
    "        # Plot results\n",
    "\n",
    "        plt.figure(figsize=(14, 10))\n",
    "\n",
    "        for idx, _ in enumerate(top_feat):\n",
    "\n",
    "            plt.subplot(\n",
    "                    int(np.sqrt(N_FEATURES)) + 1,\n",
    "                    int(np.sqrt(N_FEATURES)), idx + 1\n",
    "                    )\n",
    "\n",
    "            plt.plot(range(N_BUCKETS), final_avg_feature[_], '-o')\n",
    "            plt.title(_)\n",
    "\n",
    "        # plt.suptitle('Variables importantes para modelo ' + title)\n",
    "        plt.tight_layout()\n",
    "\n",
    "        # Plot feature importances\n",
    "\n",
    "        plt.figure(figsize=(14, 10))\n",
    "\n",
    "        sorted_feat = [x for y, x in sorted(\n",
    "                zip(cum_feat_importance.values(), cum_feat_importance.keys()))]\n",
    "\n",
    "        plt.barh(\n",
    "                sorted_feat,\n",
    "                [_ / N_TRAINING_MODEL for _ in sorted(\n",
    "                        cum_feat_importance.values()\n",
    "                        )\n",
    "                ]\n",
    "                )\n",
    "\n",
    "        plt.title('Importancia de variables: Modelo ' + title)\n",
    "        plt.grid(alpha=0.4)\n",
    "        plt.tight_layout()\n",
    "\n",
    "        # Export to xlsx\n",
    "\n",
    "        #df = pd.DataFrame(final_avg_feature).T\n",
    "\n",
    "        #df.columns = [str(_ * 10) + '-' + str((_+1) * 10) for _ in range(10)]\n",
    "\n",
    "        #df.to_json(FEATURE_VALUES_BUCKETS_FILENAMES[title], orient='split')\n",
    "\n",
    "        # Save top features for each model\n",
    "\n",
    "        top_feat_list[title] = top_feat\n",
    "\n",
    "    #print('\\nFeature values saved to files!')"
   ]
  },
  {
   "cell_type": "code",
   "execution_count": null,
   "metadata": {},
   "outputs": [],
   "source": [
    "top_feat_list"
   ]
  },
  {
   "cell_type": "code",
   "execution_count": null,
   "metadata": {},
   "outputs": [],
   "source": []
  },
  {
   "cell_type": "markdown",
   "metadata": {},
   "source": [
    "# exploration"
   ]
  },
  {
   "cell_type": "code",
   "execution_count": null,
   "metadata": {},
   "outputs": [],
   "source": [
    "vars_cont_tenen = [col for col in df_mdt.columns if ('tenen' in col) or ('conteo' in col)]\n",
    "# df_mdt[vars_cont_tenen] = df_mdt[vars_cont_tenen].astype(str)"
   ]
  },
  {
   "cell_type": "code",
   "execution_count": null,
   "metadata": {},
   "outputs": [],
   "source": [
    "vars_cat = ['gama_vehiculo','str_segmento_banca','str_genero','str_estado_civil',#'nummovcalificacion',\n",
    "            'str_ocupacion','str_nivel_educativo','str_tipo_vivienda']#+vars_cont_tenen"
   ]
  },
  {
   "cell_type": "code",
   "execution_count": null,
   "metadata": {},
   "outputs": [],
   "source": [
    "vars_cat = 'nummovcalificacion,gama_vehiculo,str_segmento_banca,str_genero,str_estado_civil,str_ocupacion,str_nivel_educativo,str_tipo_vivienda'"
   ]
  },
  {
   "cell_type": "code",
   "execution_count": null,
   "metadata": {},
   "outputs": [],
   "source": [
    "# df_mdt[vars_cat].head()"
   ]
  },
  {
   "cell_type": "code",
   "execution_count": null,
   "metadata": {},
   "outputs": [],
   "source": [
    "describe_cat = full_describe_categorical(df_mdt,target='var_objetivo_cond',variables=vars_cat)"
   ]
  },
  {
   "cell_type": "code",
   "execution_count": null,
   "metadata": {},
   "outputs": [],
   "source": [
    "describe_cat[1]"
   ]
  },
  {
   "cell_type": "code",
   "execution_count": null,
   "metadata": {},
   "outputs": [],
   "source": [
    "vars_num = [col for col in df_mdt.columns if col not in vars_cat]\n",
    "vars_num = ','.join(vars_num)"
   ]
  },
  {
   "cell_type": "code",
   "execution_count": null,
   "metadata": {},
   "outputs": [],
   "source": [
    "describe_num = full_describe_numerical(df_mdt,vars_num)"
   ]
  },
  {
   "cell_type": "code",
   "execution_count": null,
   "metadata": {},
   "outputs": [],
   "source": [
    "describe_num"
   ]
  },
  {
   "cell_type": "code",
   "execution_count": null,
   "metadata": {},
   "outputs": [],
   "source": [
    "from matplotlib.backends.backend_pdf import PdfPages"
   ]
  },
  {
   "cell_type": "code",
   "execution_count": null,
   "metadata": {},
   "outputs": [],
   "source": [
    "vars_cat = ['gama_vehiculo', #'nummovcalificacion', 'tenencia_cuenta_ahorros',\n",
    "            #'tenencia_cuenta_corriente', 'tenencia_libre_inversion', 'tenencia_tc',\n",
    "            'str_segmento_banca', 'str_genero', 'str_estado_civil', 'str_ocupacion', 'str_nivel_educativo', \n",
    "            'str_tipo_vivienda'#,'num_num_personas_a_cargo'\n",
    "           ]"
   ]
  },
  {
   "cell_type": "code",
   "execution_count": null,
   "metadata": {},
   "outputs": [],
   "source": [
    "df_mdt[vars_cat] = df_mdt[vars_cat].astype(str)"
   ]
  },
  {
   "cell_type": "code",
   "execution_count": null,
   "metadata": {},
   "outputs": [],
   "source": [
    "# vars_num = ','.join(vars_num)\n",
    "vars_num = [col for col in df_mdt.columns if (col not in vars_cat) and ('var_objetivo' not in col) and\n",
    "                                             ('tem_mes_prep_ant' not in col) and ('num_num_personas_a_cargo' not in col)]\n",
    "vars_num"
   ]
  },
  {
   "cell_type": "code",
   "execution_count": null,
   "metadata": {},
   "outputs": [],
   "source": [
    "df_mdt[vars_num] = df_mdt[vars_num].astype(float)"
   ]
  },
  {
   "cell_type": "code",
   "execution_count": null,
   "metadata": {
    "scrolled": true
   },
   "outputs": [],
   "source": [
    "plots_freq(df_mdt,vars_cat,vars_num)"
   ]
  },
  {
   "cell_type": "code",
   "execution_count": null,
   "metadata": {
    "scrolled": true
   },
   "outputs": [],
   "source": [
    "plots_freq_target(df_mdt,'var_objetivo',vars_cat,vars_num)"
   ]
  },
  {
   "cell_type": "code",
   "execution_count": null,
   "metadata": {},
   "outputs": [],
   "source": [
    "df_mdt[['variacion_util_mens','prom_util_trim_ant']].corr()"
   ]
  },
  {
   "cell_type": "markdown",
   "metadata": {},
   "source": [
    "# var total"
   ]
  },
  {
   "cell_type": "code",
   "execution_count": null,
   "metadata": {},
   "outputs": [],
   "source": [
    "pd.options.display.float_format = '{:.2f}'.format"
   ]
  },
  {
   "cell_type": "code",
   "execution_count": null,
   "metadata": {},
   "outputs": [],
   "source": [
    "data = df_mdt.copy()\n",
    "col = 'variacion_util_mens'\n",
    "var_target = 'var_objetivo'"
   ]
  },
  {
   "cell_type": "code",
   "execution_count": null,
   "metadata": {},
   "outputs": [],
   "source": [
    "data.loc[:,col].isna().sum()/data.shape[0]"
   ]
  },
  {
   "cell_type": "code",
   "execution_count": null,
   "metadata": {},
   "outputs": [],
   "source": [
    "plt.figure(figsize=(10, 5))\n",
    "ax = sns.distplot(data.loc[:,col].dropna(),kde=True,norm_hist=False,kde_kws={\"shade\": False},color='firebrick')#,bins=30)\n",
    "ax.set_title(col)\n",
    "ax.set_ylabel('density')\n",
    "ax.set_xlabel('')\n",
    "# sum([h.get_height() for h in ax.patches])\n",
    "# [[h.xy[0], h.get_width(), h.get_height()] for h in ax.patches]\n",
    "point_ini = [h.xy[0] for h in ax.patches]\n",
    "point_ini[0] = data.loc[:,col].dropna().min()-0.01\n",
    "point_ini[len(point_ini)-1] = data.loc[:,col].dropna().max()\n",
    "width = [h.get_width() for h in ax.patches]\n",
    "height = [h.get_height() for h in ax.patches]\n",
    "probs = [round(a*b*100,2) for a,b in zip(width,height)]\n",
    "# print(probs)\n",
    "print('sum prob: ',round(sum(probs)))"
   ]
  },
  {
   "cell_type": "code",
   "execution_count": null,
   "metadata": {},
   "outputs": [],
   "source": [
    "count = pd.DataFrame(pd.cut(data.loc[:,col].dropna(), point_ini).value_counts(sort=False)/len(data.loc[:,col].dropna()))\n",
    "count.reset_index(inplace=True)\n",
    "print(sum(count[col]))\n",
    "\n",
    "plt.figure(figsize=(10, 5))\n",
    "ax = sns.barplot(x=[round(x,2) for x in point_ini[1:]], y=col, data=count, color = 'darkmagenta', ci=None)\n",
    "ax.set_title(col)\n",
    "ax.set_ylabel('freq. relative')\n",
    "plt.xticks(rotation=90)\n",
    "plt.tight_layout()"
   ]
  },
  {
   "cell_type": "code",
   "execution_count": null,
   "metadata": {
    "scrolled": true
   },
   "outputs": [],
   "source": [
    "sum(pd.cut(data.loc[data[var_target]==0,col].dropna(), point_ini).value_counts(sort=False)/\\\n",
    "    len(data.loc[data[var_target]==0,col].dropna()))\n",
    "# pd.cut(data.loc[data[var_target]==0,col].dropna(), point_ini).value_counts(sort=False)*100/\\\n",
    "#     len(data.loc[data[var_target]==0,col].dropna())"
   ]
  },
  {
   "cell_type": "code",
   "execution_count": null,
   "metadata": {
    "scrolled": true
   },
   "outputs": [],
   "source": [
    "sum(pd.cut(data.loc[data[var_target]==1,col].dropna(), point_ini).value_counts(sort=False)/\\\n",
    "    len(data.loc[data[var_target]==1,col].dropna()))\n",
    "# pd.cut(data.loc[data[var_target]==1,col].dropna(), point_ini).value_counts(sort=False)*100/\\\n",
    "#     len(data.loc[data[var_target]==1,col].dropna())"
   ]
  },
  {
   "cell_type": "code",
   "execution_count": null,
   "metadata": {},
   "outputs": [],
   "source": [
    "# print(sum(count_0[col]))\n",
    "# print(sum(count_1[col]))"
   ]
  },
  {
   "cell_type": "code",
   "execution_count": null,
   "metadata": {},
   "outputs": [],
   "source": [
    "count_0 = pd.DataFrame(pd.cut(data.loc[data[var_target]==0,col].dropna(), point_ini).value_counts(sort=False)/\n",
    "                              len(data.loc[data[var_target]==0,col].dropna()))\n",
    "count_0.reset_index(inplace=True)\n",
    "\n",
    "count_1 = pd.DataFrame(pd.cut(data.loc[data[var_target]==1,col].dropna(), point_ini).value_counts(sort=False)/\n",
    "                              len(data.loc[data[var_target]==1,col].dropna()))\n",
    "count_1.reset_index(inplace=True)\n",
    "\n",
    "# figu = plt.figure(col)\n",
    "plt.figure(figsize=(10, 5))\n",
    "ax1 = sns.barplot(x=[round(x,2) for x in point_ini[1:]], y=col, color = 'skyblue', data=count_0, alpha=0.8,ci=None)\n",
    "ax2 = sns.barplot(x=[round(x,2) for x in point_ini[1:]], y=col, color = 'coral', data=count_1, alpha=0.5,ci=None)\n",
    "plt.title(col)\n",
    "plt.ylabel('freq. relative')\n",
    "plt.xticks(rotation=90)\n",
    "\n",
    "name_to_color = {\n",
    "    'Target 0':   'skyblue',\n",
    "    'Target 1':   'coral'\n",
    "}\n",
    "\n",
    "patches = [matplotlib.patches.Patch(color=v, label=k) for k,v in name_to_color.items()]\n",
    "plt.legend(handles=patches)\n",
    "           \n",
    "plt.tight_layout()\n",
    "plt.show()"
   ]
  },
  {
   "cell_type": "markdown",
   "metadata": {},
   "source": [
    "# PSI"
   ]
  },
  {
   "cell_type": "code",
   "execution_count": null,
   "metadata": {},
   "outputs": [],
   "source": [
    "df_oot = pd.read_csv('/mnt/work/retencion_post_crisis/Desercion_vehiculos/SoniaSocadagui/process_data/training_tables/oot_longitudinal_model_201910_201912.txt',\n",
    "                    sep='|',\n",
    "                    low_memory=False)\n",
    "print(df_oot.shape)\n",
    "df_oot.head()"
   ]
  },
  {
   "cell_type": "code",
   "execution_count": null,
   "metadata": {},
   "outputs": [],
   "source": [
    "print(df_mdt.shape)\n",
    "df_mdt.head()"
   ]
  },
  {
   "cell_type": "code",
   "execution_count": null,
   "metadata": {},
   "outputs": [],
   "source": [
    "df_total = pd.concat([df_mdt,df_oot],sort=False)\n",
    "print(df_total.shape)\n",
    "# df_total.head()"
   ]
  },
  {
   "cell_type": "code",
   "execution_count": null,
   "metadata": {},
   "outputs": [],
   "source": [
    "prueba = df_total.copy()\n",
    "print(prueba.shape)\n",
    "# prueba.head()\n",
    "# prueba.reset_index(inplace=True)"
   ]
  },
  {
   "cell_type": "code",
   "execution_count": null,
   "metadata": {},
   "outputs": [],
   "source": [
    "col = 'saldo_pagado_mes_prep_ant'\n",
    "\n",
    "# prueba[col] = round(prueba[col]/1000000,2)\n",
    "print('missing:',prueba[col].isna().sum()/prueba.shape[0])\n",
    "prueba = prueba.loc[~prueba[col].isna(),:]"
   ]
  },
  {
   "cell_type": "code",
   "execution_count": null,
   "metadata": {},
   "outputs": [],
   "source": [
    "prueba_training = prueba[prueba['mes_prep']<=201909].copy()\n",
    "prueba_oot = prueba[prueba['mes_prep']>201909].copy()"
   ]
  },
  {
   "cell_type": "code",
   "execution_count": null,
   "metadata": {},
   "outputs": [],
   "source": [
    "n = 10\n",
    "\n",
    "cats, bins = pd.qcut(prueba_training[col],n,retbins=True, duplicates='drop')\n",
    "# bins = [-1, 0, 1]"
   ]
  },
  {
   "cell_type": "code",
   "execution_count": null,
   "metadata": {},
   "outputs": [],
   "source": [
    "bins[0] = min(min(prueba_training[col]),min(prueba_oot[col]))-1\n",
    "m = len(bins)-1\n",
    "bins[m] = max(max(prueba_training[col]),max(prueba_oot[col]))"
   ]
  },
  {
   "cell_type": "code",
   "execution_count": null,
   "metadata": {},
   "outputs": [],
   "source": [
    "# prueba[col+'_cat'] = pd.qcut(prueba[col],n)\n",
    "prueba[col+'_cat'] = pd.cut(prueba[col],bins)\n",
    "prueba = prueba.sort_values(by=[col+'_cat','mes_prep'])\n",
    "prueba.reset_index(drop=True,inplace=True)\n",
    "prueba[col+'_cat'] = prueba[col+'_cat'].astype(str)"
   ]
  },
  {
   "cell_type": "code",
   "execution_count": null,
   "metadata": {},
   "outputs": [],
   "source": [
    "cols_order = list(prueba[col+'_cat'].unique())\n",
    "cols_order = ['mes_prep']+cols_order"
   ]
  },
  {
   "cell_type": "code",
   "execution_count": null,
   "metadata": {
    "scrolled": true
   },
   "outputs": [],
   "source": [
    "pivot = pd.pivot_table(prueba, \n",
    "                       values='str_identificacion', \n",
    "                       index='mes_prep',\n",
    "                       columns=col+'_cat', \n",
    "                       aggfunc='count').reset_index()\n",
    "\n",
    "cols = [col for col in pivot.columns if ('mes_prep' not in col) and ('_cat' not in col)]\n",
    "cols = [x for x in cols_order if x in cols]\n",
    "pivot['mes_prep'] = pivot['mes_prep'].astype(str)\n",
    "\n",
    "pivot.columns.name = ''\n",
    "pivot['total'] = pivot[cols].sum(axis=1)\n",
    "\n",
    "for var in cols:\n",
    "    pivot[var] = pivot[var]/pivot['total']\n",
    "\n",
    "pivot.drop('total',axis=1,inplace=True)\n",
    "pivot = pivot[cols_order]\n",
    "pivot.fillna(0,inplace=True)\n",
    "pivot"
   ]
  },
  {
   "cell_type": "code",
   "execution_count": null,
   "metadata": {
    "scrolled": true
   },
   "outputs": [],
   "source": [
    "pivot[cols].sum(axis=1)"
   ]
  },
  {
   "cell_type": "code",
   "execution_count": null,
   "metadata": {},
   "outputs": [],
   "source": [
    "prueba_training[col+'_cat'] = pd.cut(prueba_training[col],bins)\n",
    "prueba_oot[col+'_cat'] = pd.cut(prueba_oot[col],bins)"
   ]
  },
  {
   "cell_type": "code",
   "execution_count": null,
   "metadata": {},
   "outputs": [],
   "source": [
    "expected = pd.DataFrame(prueba_training[col+'_cat'].value_counts(normalize=True).sort_index())\n",
    "expected.rename(columns={col+'_cat':'expected'},inplace=True)\n",
    "\n",
    "actual = pd.DataFrame(prueba_oot[col+'_cat'].value_counts(normalize=True).sort_index())\n",
    "actual.rename(columns={col+'_cat':'actual'},inplace=True)\n",
    "\n",
    "total = expected.join(actual)\n",
    "total['PSI'] = (total['actual']-total['expected'])*np.log(total['actual']/total['expected'])\n",
    "\n",
    "print('PSI:',total['PSI'].sum())\n",
    "total.reset_index(inplace=True)\n",
    "total['index'] = total['index'].astype(str)\n",
    "total.set_index('index',inplace=True)\n",
    "total.index.name = ''\n",
    "total"
   ]
  },
  {
   "cell_type": "code",
   "execution_count": null,
   "metadata": {},
   "outputs": [],
   "source": [
    "col_mes = 'mes_prep'\n",
    "dates = list(sorted(prueba[col_mes].unique()))"
   ]
  },
  {
   "cell_type": "code",
   "execution_count": null,
   "metadata": {},
   "outputs": [],
   "source": [
    "# date = 201810\n",
    "# df_mes = pd.DataFrame(prueba.loc[prueba[col_mes]==date,col+'_cat'].value_counts(normalize=True).sort_index())\n",
    "# df_mes.rename(columns={col+'_cat':'actual'},inplace=True)\n",
    "# total_mes = total[['expected']].join(df_mes)\n",
    "# total_mes['PSI'] = (total_mes['actual']-total_mes['expected'])*np.log(total_mes['actual']/total_mes['expected'])\n",
    "# total_mes"
   ]
  },
  {
   "cell_type": "code",
   "execution_count": null,
   "metadata": {},
   "outputs": [],
   "source": [
    "psi = []\n",
    "\n",
    "for date in dates:\n",
    "\n",
    "    df_mes = pd.DataFrame(prueba.loc[prueba[col_mes]==date,col+'_cat'].value_counts(normalize=True).sort_index())\n",
    "    df_mes.rename(columns={col+'_cat':'actual'},inplace=True)\n",
    "\n",
    "    total_mes = total[['expected']].join(df_mes)\n",
    "    total_mes['PSI'] = (total_mes['actual']-total_mes['expected'])*np.log(total_mes['actual']/total_mes['expected'])\n",
    "    \n",
    "    psi_month = [date,total_mes['PSI'].sum()]\n",
    "    psi.append(psi_month)\n",
    "    \n",
    "psi = pd.DataFrame(psi)\n",
    "psi.rename(columns={0:col_mes,1:'psi'},inplace=True)\n",
    "psi[col_mes] = psi[col_mes].astype(str)\n",
    "psi"
   ]
  },
  {
   "cell_type": "code",
   "execution_count": null,
   "metadata": {
    "scrolled": true
   },
   "outputs": [],
   "source": [
    "df_graph = pivot.copy()\n",
    "col_mes = 'mes_prep'\n",
    "\n",
    "handles = []\n",
    "\n",
    "for i,var in enumerate(cols):\n",
    "    q = i+1\n",
    "    \n",
    "    if i==0:\n",
    "        col_ini = var\n",
    "        \n",
    "        exec('p'+ str(q) +' = plt.bar(df_graph[\"'+col_mes+'\"], df_graph[\"'+ var +'\"], label=cols['+ str(i) +'])')\n",
    "        \n",
    "    elif i==1:\n",
    "        exec('p'+ str(q) +' = plt.bar(df_graph[\"'+col_mes+'\"], df_graph[\"'+ var +'\"], \\\n",
    "                                      bottom=df_graph[\"'+ col_ini +'\"], label=cols['+ str(i) +'])')\n",
    "    \n",
    "    else:\n",
    "        base = []\n",
    "        for x in range(0,q-1):\n",
    "            a = 'df_graph[\"'+cols[x]+'\"]'\n",
    "            base.append(a)\n",
    "            \n",
    "        exec('p'+ str(q) +' = plt.bar(df_graph[\"'+col_mes+'\"], df_graph[\"'+ var +'\"], \\\n",
    "                                      bottom=[sum(x) for x in zip('+ ','.join(base) +')], label=cols['+ str(i) +'])')\n",
    "        \n",
    "    exec('handles.append(p'+ str(q) + ')')\n",
    "    \n",
    "# plt.legend(cols[::-1],bbox_to_anchor=(1.05, 1.0), loc='upper left')\n",
    "\n",
    "plt.legend(bbox_to_anchor=(1.0, 0.9), loc='upper left', handles=handles[::-1])#title=\"Line\"\n",
    "plt.title(\"IEP \"+ col)\n",
    "plt.xticks(rotation=90)\n",
    "\n",
    "# plt.axvline('201909', 0, 1, c = 'black')\n",
    "x_v = ['201909','201909'] \n",
    "y_v = [0, 1]\n",
    "plt.plot(x_v, y_v, 'r--', color = 'black')\n",
    "\n",
    "x_h = ['201810', '201912'] \n",
    "y_h = [0.25, 0.25]\n",
    "plt.plot(x_h, y_h, 'r--', color = 'black')\n",
    "\n",
    "plt.plot(col_mes, 'psi', data=psi, marker='o', color = 'black')\n",
    "\n",
    "plt.show()"
   ]
  },
  {
   "cell_type": "code",
   "execution_count": null,
   "metadata": {},
   "outputs": [],
   "source": []
  }
 ],
 "metadata": {
  "kernelspec": {
   "display_name": "Python 3",
   "language": "python",
   "name": "python3"
  },
  "language_info": {
   "codemirror_mode": {
    "name": "ipython",
    "version": 3
   },
   "file_extension": ".py",
   "mimetype": "text/x-python",
   "name": "python",
   "nbconvert_exporter": "python",
   "pygments_lexer": "ipython3",
   "version": "3.8.5"
  }
 },
 "nbformat": 4,
 "nbformat_minor": 2
}
