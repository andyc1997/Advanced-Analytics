{
 "cells": [
  {
   "cell_type": "code",
   "execution_count": 1,
   "metadata": {},
   "outputs": [],
   "source": [
    "# Standard libraries\n",
    "\n",
    "import pandas as pd\n",
    "import numpy as np\n",
    "import os\n",
    "import matplotlib\n",
    "import matplotlib.pyplot as plt\n",
    "import seaborn as sns\n",
    "\n",
    "import xgboost as xgb\n",
    "from sklearn.ensemble import RandomForestClassifier\n",
    "\n",
    "import pickle\n",
    "\n",
    "import warnings\n",
    "warnings.filterwarnings(\"ignore\")"
   ]
  },
  {
   "cell_type": "markdown",
   "metadata": {},
   "source": [
    "# Functions"
   ]
  },
  {
   "cell_type": "code",
   "execution_count": 2,
   "metadata": {},
   "outputs": [],
   "source": [
    "def get_file(file_path: str) -> pd.DataFrame:\n",
    "    \"\"\"\n",
    "    Reads csv file in standardized format.\n",
    "\n",
    "    :param file_path: str of file path\n",
    "    :returns: df containing data\n",
    "    \"\"\"\n",
    "    \n",
    "    df = pd.read_csv(\n",
    "            file_path,\n",
    "            sep='|',\n",
    "            encoding='utf-8',\n",
    "            na_values='',\n",
    "            low_memory=False,\n",
    "            decimal=','\n",
    "            )\n",
    "\n",
    "    return df"
   ]
  },
  {
   "cell_type": "code",
   "execution_count": 3,
   "metadata": {},
   "outputs": [],
   "source": [
    "### Reading file\n",
    "\n",
    "keyword = os.getcwd().split('\\\\')[-1]\n",
    "path = os.getcwd().replace(keyword,'Data\\\\preprocessing\\\\')+'data_preprocessed_test.csv'\n",
    "\n",
    "df_total = get_file(path)"
   ]
  },
  {
   "cell_type": "code",
   "execution_count": 4,
   "metadata": {},
   "outputs": [
    {
     "name": "stdout",
     "output_type": "stream",
     "text": [
      "(29955, 90)\n"
     ]
    },
    {
     "data": {
      "text/html": [
       "<div>\n",
       "<style scoped>\n",
       "    .dataframe tbody tr th:only-of-type {\n",
       "        vertical-align: middle;\n",
       "    }\n",
       "\n",
       "    .dataframe tbody tr th {\n",
       "        vertical-align: top;\n",
       "    }\n",
       "\n",
       "    .dataframe thead th {\n",
       "        text-align: right;\n",
       "    }\n",
       "</style>\n",
       "<table border=\"1\" class=\"dataframe\">\n",
       "  <thead>\n",
       "    <tr style=\"text-align: right;\">\n",
       "      <th></th>\n",
       "      <th>claim_id</th>\n",
       "      <th>woe_diff_days_claim_reg_ocu</th>\n",
       "      <th>diff_days_claim_reg_ocu</th>\n",
       "      <th>woe_claim_postal_code</th>\n",
       "      <th>woe_claim_postal_code_cat_medium_fraud</th>\n",
       "      <th>woe_claim_postal_code_cat_high_fraud</th>\n",
       "      <th>woe_claim_cause</th>\n",
       "      <th>claim_cause_cat_other</th>\n",
       "      <th>claim_cause_cat_remaining_cats</th>\n",
       "      <th>woe_claim_liable</th>\n",
       "      <th>...</th>\n",
       "      <th>policy_num_changes</th>\n",
       "      <th>woe_policy_num_claims</th>\n",
       "      <th>policy_num_claims</th>\n",
       "      <th>woe_policy_premium_100</th>\n",
       "      <th>policy_premium_100</th>\n",
       "      <th>woe_policy_coverage_1000</th>\n",
       "      <th>policy_coverage_1000</th>\n",
       "      <th>woe_policy_coverage_type</th>\n",
       "      <th>woe_policy_coverage_type_cat_medium_fraud</th>\n",
       "      <th>woe_policy_coverage_type_cat_high_fraud</th>\n",
       "    </tr>\n",
       "  </thead>\n",
       "  <tbody>\n",
       "    <tr>\n",
       "      <th>0</th>\n",
       "      <td>65469</td>\n",
       "      <td>-0.3454</td>\n",
       "      <td>2</td>\n",
       "      <td>128.4157</td>\n",
       "      <td>0</td>\n",
       "      <td>0</td>\n",
       "      <td>62.2094</td>\n",
       "      <td>0</td>\n",
       "      <td>0</td>\n",
       "      <td>57.2768</td>\n",
       "      <td>...</td>\n",
       "      <td>2</td>\n",
       "      <td>6.8158</td>\n",
       "      <td>2</td>\n",
       "      <td>-32.6331</td>\n",
       "      <td>14.0</td>\n",
       "      <td>-137.0864</td>\n",
       "      <td>33.0</td>\n",
       "      <td>-85.8907</td>\n",
       "      <td>0</td>\n",
       "      <td>1</td>\n",
       "    </tr>\n",
       "    <tr>\n",
       "      <th>1</th>\n",
       "      <td>65470</td>\n",
       "      <td>-43.8974</td>\n",
       "      <td>3</td>\n",
       "      <td>128.4157</td>\n",
       "      <td>0</td>\n",
       "      <td>0</td>\n",
       "      <td>62.2094</td>\n",
       "      <td>0</td>\n",
       "      <td>0</td>\n",
       "      <td>57.2768</td>\n",
       "      <td>...</td>\n",
       "      <td>0</td>\n",
       "      <td>-16.0777</td>\n",
       "      <td>5</td>\n",
       "      <td>-28.9165</td>\n",
       "      <td>11.0</td>\n",
       "      <td>-54.2614</td>\n",
       "      <td>15.0</td>\n",
       "      <td>6.0638</td>\n",
       "      <td>1</td>\n",
       "      <td>0</td>\n",
       "    </tr>\n",
       "    <tr>\n",
       "      <th>2</th>\n",
       "      <td>65471</td>\n",
       "      <td>-43.8974</td>\n",
       "      <td>3</td>\n",
       "      <td>128.4157</td>\n",
       "      <td>0</td>\n",
       "      <td>0</td>\n",
       "      <td>62.2094</td>\n",
       "      <td>0</td>\n",
       "      <td>0</td>\n",
       "      <td>57.2768</td>\n",
       "      <td>...</td>\n",
       "      <td>1</td>\n",
       "      <td>7.644</td>\n",
       "      <td>0</td>\n",
       "      <td>-28.9165</td>\n",
       "      <td>11.0</td>\n",
       "      <td>46.8422</td>\n",
       "      <td>NaN</td>\n",
       "      <td>53.8127</td>\n",
       "      <td>1</td>\n",
       "      <td>0</td>\n",
       "    </tr>\n",
       "    <tr>\n",
       "      <th>3</th>\n",
       "      <td>65472</td>\n",
       "      <td>4.0181</td>\n",
       "      <td>5</td>\n",
       "      <td>-209.676</td>\n",
       "      <td>0</td>\n",
       "      <td>1</td>\n",
       "      <td>62.2094</td>\n",
       "      <td>0</td>\n",
       "      <td>0</td>\n",
       "      <td>57.2768</td>\n",
       "      <td>...</td>\n",
       "      <td>4</td>\n",
       "      <td>6.8158</td>\n",
       "      <td>2</td>\n",
       "      <td>7.186</td>\n",
       "      <td>9.0</td>\n",
       "      <td>-42.7684</td>\n",
       "      <td>17.0</td>\n",
       "      <td>-84.0841</td>\n",
       "      <td>0</td>\n",
       "      <td>1</td>\n",
       "    </tr>\n",
       "    <tr>\n",
       "      <th>4</th>\n",
       "      <td>65473</td>\n",
       "      <td>-43.8974</td>\n",
       "      <td>3</td>\n",
       "      <td>-69.9167</td>\n",
       "      <td>0</td>\n",
       "      <td>1</td>\n",
       "      <td>62.2094</td>\n",
       "      <td>0</td>\n",
       "      <td>0</td>\n",
       "      <td>57.2768</td>\n",
       "      <td>...</td>\n",
       "      <td>0</td>\n",
       "      <td>4.1633</td>\n",
       "      <td>3</td>\n",
       "      <td>-14.7273</td>\n",
       "      <td>7.0</td>\n",
       "      <td>46.8422</td>\n",
       "      <td>NaN</td>\n",
       "      <td>53.8127</td>\n",
       "      <td>1</td>\n",
       "      <td>0</td>\n",
       "    </tr>\n",
       "  </tbody>\n",
       "</table>\n",
       "<p>5 rows × 90 columns</p>\n",
       "</div>"
      ],
      "text/plain": [
       "   claim_id woe_diff_days_claim_reg_ocu  diff_days_claim_reg_ocu  \\\n",
       "0     65469                     -0.3454                        2   \n",
       "1     65470                    -43.8974                        3   \n",
       "2     65471                    -43.8974                        3   \n",
       "3     65472                      4.0181                        5   \n",
       "4     65473                    -43.8974                        3   \n",
       "\n",
       "  woe_claim_postal_code  woe_claim_postal_code_cat_medium_fraud  \\\n",
       "0              128.4157                                       0   \n",
       "1              128.4157                                       0   \n",
       "2              128.4157                                       0   \n",
       "3              -209.676                                       0   \n",
       "4              -69.9167                                       0   \n",
       "\n",
       "   woe_claim_postal_code_cat_high_fraud woe_claim_cause  \\\n",
       "0                                     0         62.2094   \n",
       "1                                     0         62.2094   \n",
       "2                                     0         62.2094   \n",
       "3                                     1         62.2094   \n",
       "4                                     1         62.2094   \n",
       "\n",
       "   claim_cause_cat_other  claim_cause_cat_remaining_cats woe_claim_liable  \\\n",
       "0                      0                               0          57.2768   \n",
       "1                      0                               0          57.2768   \n",
       "2                      0                               0          57.2768   \n",
       "3                      0                               0          57.2768   \n",
       "4                      0                               0          57.2768   \n",
       "\n",
       "   ...  policy_num_changes woe_policy_num_claims  policy_num_claims  \\\n",
       "0  ...                   2                6.8158                  2   \n",
       "1  ...                   0              -16.0777                  5   \n",
       "2  ...                   1                 7.644                  0   \n",
       "3  ...                   4                6.8158                  2   \n",
       "4  ...                   0                4.1633                  3   \n",
       "\n",
       "  woe_policy_premium_100  policy_premium_100 woe_policy_coverage_1000  \\\n",
       "0               -32.6331                14.0                -137.0864   \n",
       "1               -28.9165                11.0                 -54.2614   \n",
       "2               -28.9165                11.0                  46.8422   \n",
       "3                  7.186                 9.0                 -42.7684   \n",
       "4               -14.7273                 7.0                  46.8422   \n",
       "\n",
       "   policy_coverage_1000 woe_policy_coverage_type  \\\n",
       "0                  33.0                 -85.8907   \n",
       "1                  15.0                   6.0638   \n",
       "2                   NaN                  53.8127   \n",
       "3                  17.0                 -84.0841   \n",
       "4                   NaN                  53.8127   \n",
       "\n",
       "   woe_policy_coverage_type_cat_medium_fraud  \\\n",
       "0                                          0   \n",
       "1                                          1   \n",
       "2                                          1   \n",
       "3                                          0   \n",
       "4                                          1   \n",
       "\n",
       "  woe_policy_coverage_type_cat_high_fraud  \n",
       "0                                       1  \n",
       "1                                       0  \n",
       "2                                       0  \n",
       "3                                       1  \n",
       "4                                       0  \n",
       "\n",
       "[5 rows x 90 columns]"
      ]
     },
     "execution_count": 4,
     "metadata": {},
     "output_type": "execute_result"
    }
   ],
   "source": [
    "print(df_total.shape)\n",
    "df_total.head()"
   ]
  },
  {
   "cell_type": "code",
   "execution_count": 5,
   "metadata": {},
   "outputs": [],
   "source": [
    "df_total.dropna(axis=1, how='any', inplace=True)"
   ]
  },
  {
   "cell_type": "code",
   "execution_count": null,
   "metadata": {},
   "outputs": [],
   "source": [
    "# print(df_total.shape)"
   ]
  },
  {
   "cell_type": "code",
   "execution_count": null,
   "metadata": {},
   "outputs": [],
   "source": [
    "# df_total[df_total['claim_amount']==4895]"
   ]
  },
  {
   "cell_type": "code",
   "execution_count": 6,
   "metadata": {},
   "outputs": [],
   "source": [
    "columns = df_total.columns[np.where(df_total.dtypes == 'object')]\n",
    "\n",
    "df_total[columns] = df_total[columns].astype(float)"
   ]
  },
  {
   "cell_type": "code",
   "execution_count": 7,
   "metadata": {},
   "outputs": [],
   "source": [
    "vars_model = [\n",
    "  'woe_third_party_1_postal_code',\n",
    "  'woe_claim_num_vehicles',\n",
    "  'woe_claim_postal_code',\n",
    "#   'woe_policy_holder_postal_code',\n",
    "  'woe_driver_postal_code',\n",
    "  'woe_claim_cause',\n",
    "  'woe_age_driver',\n",
    "  'woe_months_vehicle_regist',\n",
    "  'woe_claim_vehicle_cyl',\n",
    "  'woe_diff_days_claim_reg_ocu',\n",
    "  'woe_claim_vehicle_load',\n",
    "#   'claim_cause_cat_other',\n",
    "#   'woe_age_policy_holder',\n",
    "  'claim_num_third_parties',\n",
    "  'woe_third_party_1_vehicle_type',\n",
    "  'woe_years_policy_start',\n",
    "  'woe_claim_vehicle_power',\n",
    "  'woe_policy_coverage_1000',\n",
    "#   'diff_days_claim_reg_ocu',\n",
    "  'woe_policy_num_changes',\n",
    "#   'woe_driver_postal_code_cat_medium_fraud',\n",
    "#   'woe_claim_postal_code_cat_medium_fraud',\n",
    "  'woe_years_policy_expiry',\n",
    "  'woe_policy_coverage_type',\n",
    "  'woe_policy_premium_100',\n",
    "#   'policy_num_changes',\n",
    "#   'woe_claim_num_third_parties',\n",
    "  'woe_claim_police',\n",
    "  'woe_claim_vehicle_brand',\n",
    "  'woe_years_vehicle_regist'\n",
    "]"
   ]
  },
  {
   "cell_type": "code",
   "execution_count": 8,
   "metadata": {},
   "outputs": [
    {
     "data": {
      "text/plain": [
       "22"
      ]
     },
     "execution_count": 8,
     "metadata": {},
     "output_type": "execute_result"
    }
   ],
   "source": [
    "len(vars_model)"
   ]
  },
  {
   "cell_type": "code",
   "execution_count": null,
   "metadata": {},
   "outputs": [],
   "source": [
    "# corr_mat = x_data.corr()\n",
    "\n",
    "# plt.figure(figsize=(10, 10))\n",
    "\n",
    "# sns.heatmap(\n",
    "#         corr_mat,\n",
    "#         vmax=1,\n",
    "#         vmin=-1,\n",
    "#         square=False,\n",
    "#         annot=True,\n",
    "#         cmap=\"Blues\" #PiYG\n",
    "#         )\n",
    "\n",
    "# plt.tight_layout()"
   ]
  },
  {
   "cell_type": "markdown",
   "metadata": {},
   "source": [
    "# Load Model Pickle"
   ]
  },
  {
   "cell_type": "code",
   "execution_count": 9,
   "metadata": {},
   "outputs": [
    {
     "data": {
      "text/plain": [
       "'C:\\\\Users\\\\Sonita\\\\Documents\\\\KU_Leuven\\\\Subjects\\\\2021-1\\\\Advance_Analytics\\\\Assignments\\\\Assignment_1\\\\Data\\\\model\\\\'"
      ]
     },
     "execution_count": 9,
     "metadata": {},
     "output_type": "execute_result"
    }
   ],
   "source": [
    "keyword = os.getcwd().split('\\\\')[-1]\n",
    "path = os.getcwd().replace(keyword,'Data\\\\model\\\\')\n",
    "path"
   ]
  },
  {
   "cell_type": "code",
   "execution_count": 10,
   "metadata": {},
   "outputs": [],
   "source": [
    "# load the model from disk\n",
    "model_xgb = pickle.load(open(path+'claims_assign1.pkl', 'rb'))"
   ]
  },
  {
   "cell_type": "code",
   "execution_count": 11,
   "metadata": {},
   "outputs": [
    {
     "data": {
      "text/plain": [
       "RandomForestClassifier(max_depth=5, n_jobs=-1, random_state=123)"
      ]
     },
     "execution_count": 11,
     "metadata": {},
     "output_type": "execute_result"
    }
   ],
   "source": [
    "model_xgb"
   ]
  },
  {
   "cell_type": "code",
   "execution_count": 12,
   "metadata": {},
   "outputs": [],
   "source": [
    "df_export = df_total[['claim_id']]"
   ]
  },
  {
   "cell_type": "code",
   "execution_count": 13,
   "metadata": {},
   "outputs": [],
   "source": [
    "df_export['PROB'] = model_xgb.predict_proba(df_total[vars_model])[:, 1]"
   ]
  },
  {
   "cell_type": "code",
   "execution_count": 14,
   "metadata": {},
   "outputs": [],
   "source": [
    "df_export.rename(columns={'claim_id':'ID'},inplace=True)"
   ]
  },
  {
   "cell_type": "code",
   "execution_count": 15,
   "metadata": {},
   "outputs": [
    {
     "name": "stdout",
     "output_type": "stream",
     "text": [
      "(29955, 2)\n"
     ]
    },
    {
     "data": {
      "text/html": [
       "<div>\n",
       "<style scoped>\n",
       "    .dataframe tbody tr th:only-of-type {\n",
       "        vertical-align: middle;\n",
       "    }\n",
       "\n",
       "    .dataframe tbody tr th {\n",
       "        vertical-align: top;\n",
       "    }\n",
       "\n",
       "    .dataframe thead th {\n",
       "        text-align: right;\n",
       "    }\n",
       "</style>\n",
       "<table border=\"1\" class=\"dataframe\">\n",
       "  <thead>\n",
       "    <tr style=\"text-align: right;\">\n",
       "      <th></th>\n",
       "      <th>ID</th>\n",
       "      <th>PROB</th>\n",
       "    </tr>\n",
       "  </thead>\n",
       "  <tbody>\n",
       "    <tr>\n",
       "      <th>0</th>\n",
       "      <td>65469</td>\n",
       "      <td>0.007598</td>\n",
       "    </tr>\n",
       "    <tr>\n",
       "      <th>1</th>\n",
       "      <td>65470</td>\n",
       "      <td>0.001056</td>\n",
       "    </tr>\n",
       "    <tr>\n",
       "      <th>2</th>\n",
       "      <td>65471</td>\n",
       "      <td>0.001085</td>\n",
       "    </tr>\n",
       "    <tr>\n",
       "      <th>3</th>\n",
       "      <td>65472</td>\n",
       "      <td>0.016059</td>\n",
       "    </tr>\n",
       "    <tr>\n",
       "      <th>4</th>\n",
       "      <td>65473</td>\n",
       "      <td>0.001583</td>\n",
       "    </tr>\n",
       "  </tbody>\n",
       "</table>\n",
       "</div>"
      ],
      "text/plain": [
       "      ID      PROB\n",
       "0  65469  0.007598\n",
       "1  65470  0.001056\n",
       "2  65471  0.001085\n",
       "3  65472  0.016059\n",
       "4  65473  0.001583"
      ]
     },
     "execution_count": 15,
     "metadata": {},
     "output_type": "execute_result"
    }
   ],
   "source": [
    "print(df_export.shape)\n",
    "df_export.head()"
   ]
  },
  {
   "cell_type": "code",
   "execution_count": 16,
   "metadata": {},
   "outputs": [
    {
     "data": {
      "text/plain": [
       "'C:\\\\Users\\\\Sonita\\\\Documents\\\\KU_Leuven\\\\Subjects\\\\2021-1\\\\Advance_Analytics\\\\Assignments\\\\Assignment_1\\\\Data\\\\output\\\\'"
      ]
     },
     "execution_count": 16,
     "metadata": {},
     "output_type": "execute_result"
    }
   ],
   "source": [
    "keyword = os.getcwd().split('\\\\')[-1]\n",
    "path = os.getcwd().replace(keyword,'Data\\\\output\\\\')\n",
    "path"
   ]
  },
  {
   "cell_type": "code",
   "execution_count": 17,
   "metadata": {},
   "outputs": [],
   "source": [
    "df_export.to_csv(path+'aa_group21.csv',sep=',',index=False)"
   ]
  },
  {
   "cell_type": "code",
   "execution_count": null,
   "metadata": {},
   "outputs": [],
   "source": []
  }
 ],
 "metadata": {
  "kernelspec": {
   "display_name": "aa_assig1",
   "language": "python",
   "name": "aa_assig1"
  },
  "language_info": {
   "codemirror_mode": {
    "name": "ipython",
    "version": 3
   },
   "file_extension": ".py",
   "mimetype": "text/x-python",
   "name": "python",
   "nbconvert_exporter": "python",
   "pygments_lexer": "ipython3",
   "version": "3.7.10"
  }
 },
 "nbformat": 4,
 "nbformat_minor": 4
}
