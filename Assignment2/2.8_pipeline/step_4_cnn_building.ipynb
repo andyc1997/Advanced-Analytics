{
 "cells": [
  {
   "cell_type": "code",
   "execution_count": 1,
   "id": "33130f60",
   "metadata": {},
   "outputs": [
    {
     "name": "stderr",
     "output_type": "stream",
     "text": [
      "Using TensorFlow backend.\n"
     ]
    }
   ],
   "source": [
    "import numpy as np\n",
    "import pandas as pd\n",
    "import matplotlib.pyplot as plt\n",
    "# import keras library\n",
    "import keras\n",
    "# import Sequential from the keras models module\n",
    "from keras import Sequential\n",
    "# import Dense, Dropout, Flatten, Conv2D, MaxPooling2D from the keras layers module\n",
    "from keras.layers import Dense,Flatten, Conv2D, MaxPooling2D\n",
    "from keras.optimizers import Adam\n",
    "from keras.callbacks import EarlyStopping, ModelCheckpoint\n",
    "import keras\n",
    "from keras.models import Model\n",
    "from keras.layers import Dense\n",
    "from keras import optimizers\n",
    "from keras.preprocessing.image import ImageDataGenerator\n",
    "from keras.preprocessing import image\n",
    "from keras.layers import Input, ZeroPadding2D, Dropout"
   ]
  },
  {
   "cell_type": "code",
   "execution_count": 2,
   "id": "d6ff9592",
   "metadata": {},
   "outputs": [
    {
     "name": "stdout",
     "output_type": "stream",
     "text": [
      "(7869, 48)\n",
      "x_train shape: (4406, 100, 100, 3)\n",
      "4406 train samples\n",
      "1889 test samples\n",
      "1574 validation samples\n"
     ]
    }
   ],
   "source": [
    "import numpy as np\n",
    "import pandas as pd\n",
    "y = pd.read_csv(\"C:/Users/david/Documents/0_kul/1_ma_stds_1/1_advanced_analytics/assignment_2/data/pipeline/y.csv\",delimiter=',')\n",
    "x = np.load('C:/Users/david/Documents/0_kul/1_ma_stds_1/1_advanced_analytics/assignment_2/data/pipeline/image_pixel_100.npy') # loading it\n",
    "from sklearn.model_selection import train_test_split\n",
    "x_tra,x_val,y_tra,y_val = train_test_split(x,y,test_size=0.2,random_state=42)\n",
    "x_train,x_test,y_train,y_test = train_test_split(x_tra,y_tra,test_size=0.3,random_state=42)\n",
    "# examine number of samples in train, test, and validation sets\n",
    "print(y.shape)\n",
    "print('x_train shape:', x_train.shape)\n",
    "print(x_train.shape[0], 'train samples')\n",
    "print(x_test.shape[0], 'test samples')\n",
    "print(x_val.shape[0], 'validation samples')"
   ]
  },
  {
   "cell_type": "code",
   "execution_count": 3,
   "id": "65e1af69",
   "metadata": {},
   "outputs": [],
   "source": [
    "early_stopping = EarlyStopping(monitor='val_loss',patience=5)\n",
    "modelCheckpoint = ModelCheckpoint('best_model.hdf5',save_best_only=True)"
   ]
  },
  {
   "cell_type": "code",
   "execution_count": 4,
   "id": "8a06da52",
   "metadata": {},
   "outputs": [],
   "source": [
    "from keras.preprocessing.image import ImageDataGenerator\n",
    "gen = ImageDataGenerator(rescale=1.0/255.0)\n",
    "train_it = gen.flow(x_train,y_train,batch_size=128)\n",
    "val_it = gen.flow(x_val,y_val,batch_size = 128)"
   ]
  },
  {
   "cell_type": "code",
   "execution_count": 5,
   "id": "2f631d82",
   "metadata": {},
   "outputs": [],
   "source": [
    "from keras.applications.vgg16 import VGG16\n",
    "vggmodel = VGG16(weights='imagenet', include_top=False, input_shape= (100,100,3))"
   ]
  },
  {
   "cell_type": "code",
   "execution_count": 6,
   "id": "2e434aba",
   "metadata": {},
   "outputs": [
    {
     "name": "stdout",
     "output_type": "stream",
     "text": [
      "Model: \"vgg16\"\n",
      "_________________________________________________________________\n",
      "Layer (type)                 Output Shape              Param #   \n",
      "=================================================================\n",
      "input_1 (InputLayer)         (None, 100, 100, 3)       0         \n",
      "_________________________________________________________________\n",
      "block1_conv1 (Conv2D)        (None, 100, 100, 64)      1792      \n",
      "_________________________________________________________________\n",
      "block1_conv2 (Conv2D)        (None, 100, 100, 64)      36928     \n",
      "_________________________________________________________________\n",
      "block1_pool (MaxPooling2D)   (None, 50, 50, 64)        0         \n",
      "_________________________________________________________________\n",
      "block2_conv1 (Conv2D)        (None, 50, 50, 128)       73856     \n",
      "_________________________________________________________________\n",
      "block2_conv2 (Conv2D)        (None, 50, 50, 128)       147584    \n",
      "_________________________________________________________________\n",
      "block2_pool (MaxPooling2D)   (None, 25, 25, 128)       0         \n",
      "_________________________________________________________________\n",
      "block3_conv1 (Conv2D)        (None, 25, 25, 256)       295168    \n",
      "_________________________________________________________________\n",
      "block3_conv2 (Conv2D)        (None, 25, 25, 256)       590080    \n",
      "_________________________________________________________________\n",
      "block3_conv3 (Conv2D)        (None, 25, 25, 256)       590080    \n",
      "_________________________________________________________________\n",
      "block3_pool (MaxPooling2D)   (None, 12, 12, 256)       0         \n",
      "_________________________________________________________________\n",
      "block4_conv1 (Conv2D)        (None, 12, 12, 512)       1180160   \n",
      "_________________________________________________________________\n",
      "block4_conv2 (Conv2D)        (None, 12, 12, 512)       2359808   \n",
      "_________________________________________________________________\n",
      "block4_conv3 (Conv2D)        (None, 12, 12, 512)       2359808   \n",
      "_________________________________________________________________\n",
      "block4_pool (MaxPooling2D)   (None, 6, 6, 512)         0         \n",
      "_________________________________________________________________\n",
      "block5_conv1 (Conv2D)        (None, 6, 6, 512)         2359808   \n",
      "_________________________________________________________________\n",
      "block5_conv2 (Conv2D)        (None, 6, 6, 512)         2359808   \n",
      "_________________________________________________________________\n",
      "block5_conv3 (Conv2D)        (None, 6, 6, 512)         2359808   \n",
      "_________________________________________________________________\n",
      "block5_pool (MaxPooling2D)   (None, 3, 3, 512)         0         \n",
      "=================================================================\n",
      "Total params: 14,714,688\n",
      "Trainable params: 14,714,688\n",
      "Non-trainable params: 0\n",
      "_________________________________________________________________\n"
     ]
    }
   ],
   "source": [
    "vggmodel.summary()"
   ]
  },
  {
   "cell_type": "code",
   "execution_count": 7,
   "id": "b4e6fc2c",
   "metadata": {},
   "outputs": [],
   "source": [
    "base_model = Model(vggmodel.input,vggmodel.get_layer(\"block4_pool\").output)"
   ]
  },
  {
   "cell_type": "code",
   "execution_count": 8,
   "id": "97f9c71a",
   "metadata": {},
   "outputs": [
    {
     "name": "stdout",
     "output_type": "stream",
     "text": [
      "Model: \"model_1\"\n",
      "_________________________________________________________________\n",
      "Layer (type)                 Output Shape              Param #   \n",
      "=================================================================\n",
      "input_1 (InputLayer)         (None, 100, 100, 3)       0         \n",
      "_________________________________________________________________\n",
      "block1_conv1 (Conv2D)        (None, 100, 100, 64)      1792      \n",
      "_________________________________________________________________\n",
      "block1_conv2 (Conv2D)        (None, 100, 100, 64)      36928     \n",
      "_________________________________________________________________\n",
      "block1_pool (MaxPooling2D)   (None, 50, 50, 64)        0         \n",
      "_________________________________________________________________\n",
      "block2_conv1 (Conv2D)        (None, 50, 50, 128)       73856     \n",
      "_________________________________________________________________\n",
      "block2_conv2 (Conv2D)        (None, 50, 50, 128)       147584    \n",
      "_________________________________________________________________\n",
      "block2_pool (MaxPooling2D)   (None, 25, 25, 128)       0         \n",
      "_________________________________________________________________\n",
      "block3_conv1 (Conv2D)        (None, 25, 25, 256)       295168    \n",
      "_________________________________________________________________\n",
      "block3_conv2 (Conv2D)        (None, 25, 25, 256)       590080    \n",
      "_________________________________________________________________\n",
      "block3_conv3 (Conv2D)        (None, 25, 25, 256)       590080    \n",
      "_________________________________________________________________\n",
      "block3_pool (MaxPooling2D)   (None, 12, 12, 256)       0         \n",
      "_________________________________________________________________\n",
      "block4_conv1 (Conv2D)        (None, 12, 12, 512)       1180160   \n",
      "_________________________________________________________________\n",
      "block4_conv2 (Conv2D)        (None, 12, 12, 512)       2359808   \n",
      "_________________________________________________________________\n",
      "block4_conv3 (Conv2D)        (None, 12, 12, 512)       2359808   \n",
      "_________________________________________________________________\n",
      "block4_pool (MaxPooling2D)   (None, 6, 6, 512)         0         \n",
      "=================================================================\n",
      "Total params: 7,635,264\n",
      "Trainable params: 7,635,264\n",
      "Non-trainable params: 0\n",
      "_________________________________________________________________\n"
     ]
    }
   ],
   "source": [
    "base_model.summary()"
   ]
  },
  {
   "cell_type": "code",
   "execution_count": 9,
   "id": "aa0599ce",
   "metadata": {},
   "outputs": [
    {
     "name": "stdout",
     "output_type": "stream",
     "text": [
      "<keras.engine.input_layer.InputLayer object at 0x00000263D440C278>\n",
      "<keras.layers.convolutional.Conv2D object at 0x00000263DD0F7B70>\n",
      "<keras.layers.convolutional.Conv2D object at 0x00000263DE6CFFD0>\n",
      "<keras.layers.pooling.MaxPooling2D object at 0x00000263DE8D14A8>\n",
      "<keras.layers.convolutional.Conv2D object at 0x00000263DE8D1208>\n",
      "<keras.layers.convolutional.Conv2D object at 0x00000263DE8DCCF8>\n",
      "<keras.layers.pooling.MaxPooling2D object at 0x00000263DE8DCEB8>\n",
      "<keras.layers.convolutional.Conv2D object at 0x00000263DE8DCC50>\n",
      "<keras.layers.convolutional.Conv2D object at 0x00000263DE8E5FD0>\n",
      "<keras.layers.convolutional.Conv2D object at 0x00000263DE8EFB38>\n",
      "<keras.layers.pooling.MaxPooling2D object at 0x00000263DE8EF128>\n"
     ]
    }
   ],
   "source": [
    "for layers in (vggmodel.layers)[:11]:\n",
    "    print(layers)\n",
    "    layers.trainable = False"
   ]
  },
  {
   "cell_type": "code",
   "execution_count": 10,
   "id": "9f4e7870",
   "metadata": {},
   "outputs": [],
   "source": [
    "base_out = base_model.output\n",
    "top_fc0 = Flatten()(base_out)\n",
    "top_fc1 = Dense(64,activation='relu',kernel_initializer='he_uniform')(top_fc0)\n",
    "top_fc2 = Dense(32,activation='relu')(top_fc1)\n",
    "top_preds = Dense(48,activation = 'sigmoid')(top_fc2)"
   ]
  },
  {
   "cell_type": "code",
   "execution_count": 11,
   "id": "946c1bf3",
   "metadata": {},
   "outputs": [],
   "source": [
    "model = Model(base_model.input,top_preds)"
   ]
  },
  {
   "cell_type": "code",
   "execution_count": 12,
   "id": "9feff331",
   "metadata": {},
   "outputs": [
    {
     "name": "stdout",
     "output_type": "stream",
     "text": [
      "Model: \"model_2\"\n",
      "_________________________________________________________________\n",
      "Layer (type)                 Output Shape              Param #   \n",
      "=================================================================\n",
      "input_1 (InputLayer)         (None, 100, 100, 3)       0         \n",
      "_________________________________________________________________\n",
      "block1_conv1 (Conv2D)        (None, 100, 100, 64)      1792      \n",
      "_________________________________________________________________\n",
      "block1_conv2 (Conv2D)        (None, 100, 100, 64)      36928     \n",
      "_________________________________________________________________\n",
      "block1_pool (MaxPooling2D)   (None, 50, 50, 64)        0         \n",
      "_________________________________________________________________\n",
      "block2_conv1 (Conv2D)        (None, 50, 50, 128)       73856     \n",
      "_________________________________________________________________\n",
      "block2_conv2 (Conv2D)        (None, 50, 50, 128)       147584    \n",
      "_________________________________________________________________\n",
      "block2_pool (MaxPooling2D)   (None, 25, 25, 128)       0         \n",
      "_________________________________________________________________\n",
      "block3_conv1 (Conv2D)        (None, 25, 25, 256)       295168    \n",
      "_________________________________________________________________\n",
      "block3_conv2 (Conv2D)        (None, 25, 25, 256)       590080    \n",
      "_________________________________________________________________\n",
      "block3_conv3 (Conv2D)        (None, 25, 25, 256)       590080    \n",
      "_________________________________________________________________\n",
      "block3_pool (MaxPooling2D)   (None, 12, 12, 256)       0         \n",
      "_________________________________________________________________\n",
      "block4_conv1 (Conv2D)        (None, 12, 12, 512)       1180160   \n",
      "_________________________________________________________________\n",
      "block4_conv2 (Conv2D)        (None, 12, 12, 512)       2359808   \n",
      "_________________________________________________________________\n",
      "block4_conv3 (Conv2D)        (None, 12, 12, 512)       2359808   \n",
      "_________________________________________________________________\n",
      "block4_pool (MaxPooling2D)   (None, 6, 6, 512)         0         \n",
      "_________________________________________________________________\n",
      "flatten_1 (Flatten)          (None, 18432)             0         \n",
      "_________________________________________________________________\n",
      "dense_1 (Dense)              (None, 64)                1179712   \n",
      "_________________________________________________________________\n",
      "dense_2 (Dense)              (None, 32)                2080      \n",
      "_________________________________________________________________\n",
      "dense_3 (Dense)              (None, 48)                1584      \n",
      "=================================================================\n",
      "Total params: 8,818,640\n",
      "Trainable params: 7,083,152\n",
      "Non-trainable params: 1,735,488\n",
      "_________________________________________________________________\n"
     ]
    }
   ],
   "source": [
    "model.summary()"
   ]
  },
  {
   "cell_type": "code",
   "execution_count": 13,
   "id": "6dfcb894",
   "metadata": {},
   "outputs": [
    {
     "name": "stdout",
     "output_type": "stream",
     "text": [
      "0 input_1 False\n",
      "1 block1_conv1 False\n",
      "2 block1_conv2 False\n",
      "3 block1_pool False\n",
      "4 block2_conv1 False\n",
      "5 block2_conv2 False\n",
      "6 block2_pool False\n",
      "7 block3_conv1 False\n",
      "8 block3_conv2 False\n",
      "9 block3_conv3 False\n",
      "10 block3_pool False\n",
      "11 block4_conv1 True\n",
      "12 block4_conv2 True\n",
      "13 block4_conv3 True\n",
      "14 block4_pool True\n",
      "15 flatten_1 True\n",
      "16 dense_1 True\n",
      "17 dense_2 True\n",
      "18 dense_3 True\n"
     ]
    }
   ],
   "source": [
    "# Make sure you have frozen the correct layers\n",
    "for i, layer in enumerate(model.layers):\n",
    "    print(i, layer.name, layer.trainable)"
   ]
  },
  {
   "cell_type": "code",
   "execution_count": 14,
   "id": "f6592dc2",
   "metadata": {},
   "outputs": [],
   "source": [
    "model.compile(loss = \"binary_crossentropy\", optimizer = Adam(lr=0.001), metrics=[\"accuracy\"])"
   ]
  },
  {
   "cell_type": "markdown",
   "id": "f44b3349",
   "metadata": {},
   "source": [
    "<h2> Image augmentation </h2>"
   ]
  },
  {
   "cell_type": "code",
   "execution_count": 15,
   "id": "ba3a0805",
   "metadata": {},
   "outputs": [],
   "source": [
    "from keras.preprocessing.image import ImageDataGenerator\n",
    "gen = ImageDataGenerator(rescale=1.0/255.0)\n",
    "train_it = gen.flow(x_train,y_train,batch_size=128)\n",
    "val_it = gen.flow(x_val,y_val,batch_size = 128)"
   ]
  },
  {
   "cell_type": "markdown",
   "id": "ba7a0fcf",
   "metadata": {},
   "source": [
    "<h2> Fit Model </h2>"
   ]
  },
  {
   "cell_type": "code",
   "execution_count": 16,
   "id": "76b258a3",
   "metadata": {},
   "outputs": [
    {
     "name": "stdout",
     "output_type": "stream",
     "text": [
      "Epoch 1/1\n",
      "35/35 [==============================] - 344s 10s/step - loss: 0.5163 - accuracy: 0.7783 - val_loss: 0.2448 - val_accuracy: 0.8991\n"
     ]
    }
   ],
   "source": [
    "h_callback = model.fit_generator(train_it,epochs = 1, steps_per_epoch = len(train_it), \n",
    "                                      validation_steps = len(val_it),callbacks = [early_stopping,modelCheckpoint],\n",
    "                                      validation_data = val_it, verbose = 1)"
   ]
  },
  {
   "cell_type": "markdown",
   "id": "d4a9f81f",
   "metadata": {},
   "source": [
    "<h2> Evaluate model </h2>"
   ]
  },
  {
   "cell_type": "code",
   "execution_count": 27,
   "id": "7253fddb",
   "metadata": {},
   "outputs": [
    {
     "name": "stdout",
     "output_type": "stream",
     "text": [
      "4406/4406 [==============================] - 132s 30ms/step\n"
     ]
    },
    {
     "data": {
      "text/plain": [
       "[10.802035934753002, 0.9029638171195984]"
      ]
     },
     "execution_count": 27,
     "metadata": {},
     "output_type": "execute_result"
    }
   ],
   "source": [
    "model.evaluate(x_train,y_train)"
   ]
  },
  {
   "cell_type": "code",
   "execution_count": 28,
   "id": "4b10aa5b",
   "metadata": {},
   "outputs": [
    {
     "name": "stdout",
     "output_type": "stream",
     "text": [
      "1889/1889 [==============================] - 58s 31ms/step\n"
     ]
    },
    {
     "data": {
      "text/plain": [
       "[10.979977505493569, 0.9027262926101685]"
      ]
     },
     "execution_count": 28,
     "metadata": {},
     "output_type": "execute_result"
    }
   ],
   "source": [
    "model.evaluate(x_test,y_test)"
   ]
  },
  {
   "cell_type": "markdown",
   "id": "524148f5",
   "metadata": {},
   "source": [
    "<h2> plotting </h2>"
   ]
  },
  {
   "cell_type": "code",
   "execution_count": 23,
   "id": "b31b6673",
   "metadata": {},
   "outputs": [],
   "source": [
    "def plot_loss(loss,val_loss):\n",
    "  plt.figure()\n",
    "  plt.plot(loss)\n",
    "  plt.plot(val_loss)\n",
    "  plt.title('Model loss')\n",
    "  plt.ylabel('Loss')\n",
    "  plt.xlabel('Epoch')\n",
    "  plt.legend(['Train', 'Test'], loc='upper right')\n",
    "  plt.show()"
   ]
  },
  {
   "cell_type": "code",
   "execution_count": 24,
   "id": "d39c0a8b",
   "metadata": {},
   "outputs": [],
   "source": [
    "def plot_accuracy(acc,val_acc):\n",
    "  # Plot training & validation accuracy values\n",
    "  plt.figure()\n",
    "  plt.plot(acc)\n",
    "  plt.plot(val_acc)\n",
    "  plt.title('Model accuracy')\n",
    "  plt.ylabel('Accuracy')\n",
    "  plt.xlabel('Epoch')\n",
    "  plt.legend(['Train', 'Test'], loc='upper left')\n",
    "  plt.show()"
   ]
  },
  {
   "cell_type": "code",
   "execution_count": 25,
   "id": "2c45b6a0",
   "metadata": {},
   "outputs": [
    {
     "data": {
      "image/png": "[encoded data removed]",
      "text/plain": [
       "<Figure size 432x288 with 1 Axes>"
      ]
     },
     "metadata": {
      "needs_background": "light"
     },
     "output_type": "display_data"
    },
    {
     "data": {
      "image/png": "[encoded data removed]",
      "text/plain": [
       "<Figure size 432x288 with 1 Axes>"
      ]
     },
     "metadata": {
      "needs_background": "light"
     },
     "output_type": "display_data"
    }
   ],
   "source": [
    "# Plot train vs test loss during training\n",
    "plot_loss(h_callback.history['loss'], h_callback.history['val_loss'])\n",
    "# Plot train vs test accuracy during training\n",
    "plot_accuracy(h_callback.history['accuracy'], h_callback.history['val_accuracy'])"
   ]
  },
  {
   "cell_type": "markdown",
   "id": "865a2839",
   "metadata": {},
   "source": [
    "<h2> Saving model </h2>"
   ]
  },
  {
   "cell_type": "code",
   "execution_count": 22,
   "id": "c9105e1a",
   "metadata": {},
   "outputs": [
    {
     "name": "stdout",
     "output_type": "stream",
     "text": [
      "Saved model to disk\n"
     ]
    }
   ],
   "source": [
    "from keras.models import model_from_json\n",
    "#serialize model to JSON\n",
    "model_json = model.to_json()\n",
    "with open(\"model.json\", \"w\") as json_file:\n",
    "    json_file.write(model_json)\n",
    "# serialize weights to HDF5\n",
    "model.save_weights(\"model.h5\")\n",
    "print(\"Saved model to disk\")"
   ]
  },
  {
   "cell_type": "code",
   "execution_count": null,
   "id": "2cb9b889",
   "metadata": {},
   "outputs": [],
   "source": []
  }
 ],
 "metadata": {
  "kernelspec": {
   "display_name": "Python 3",
   "language": "python",
   "name": "python3"
  },
  "language_info": {
   "codemirror_mode": {
    "name": "ipython",
    "version": 3
   },
   "file_extension": ".py",
   "mimetype": "text/x-python",
   "name": "python",
   "nbconvert_exporter": "python",
   "pygments_lexer": "ipython3",
   "version": "3.6.13"
  }
 },
 "nbformat": 4,
 "nbformat_minor": 5
}
