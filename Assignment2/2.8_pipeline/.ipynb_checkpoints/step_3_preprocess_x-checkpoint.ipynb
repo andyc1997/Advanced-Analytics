{
 "cells": [
  {
   "cell_type": "markdown",
   "id": "6363748c",
   "metadata": {},
   "source": [
    "Here we basically create some data augmentation and try to make our x training variable optimal"
   ]
  },
  {
   "cell_type": "code",
   "execution_count": 1,
   "id": "bcac49e0",
   "metadata": {},
   "outputs": [
    {
     "name": "stderr",
     "output_type": "stream",
     "text": [
      "Using TensorFlow backend.\n"
     ]
    }
   ],
   "source": [
    "import numpy as np\n",
    "from keras.preprocessing.image import ImageDataGenerator\n",
    "import matplotlib.pyplot as plt\n",
    "import pandas as pd\n",
    "x = np.load('C:/Users/david/Documents/0_kul/1_ma_stds_1/1_advanced_analytics/assignment_2/data/pipeline/image_pixel_100.npy') # loading it"
   ]
  },
  {
   "cell_type": "code",
   "execution_count": 2,
   "id": "1d4ad741",
   "metadata": {},
   "outputs": [],
   "source": [
    "y = pd.read_csv('C:/Users/david/Documents/0_kul/1_ma_stds_1/1_advanced_analytics/assignment_2/data/pipeline/y.csv')"
   ]
  },
  {
   "cell_type": "markdown",
   "id": "3403ed17",
   "metadata": {},
   "source": [
    "<h2> 1. data augmentation </h2>"
   ]
  },
  {
   "cell_type": "code",
   "execution_count": 3,
   "id": "5d1534d2",
   "metadata": {},
   "outputs": [],
   "source": [
    "gen = ImageDataGenerator(rotation_range = 10, width_shift_range = 0.1,\n",
    "                        height_shift_range = 0.1, shear_range=0.15, zoom_range = 0.1,\n",
    "                        channel_shift_range=10.,horizontal_flip=True)"
   ]
  },
  {
   "cell_type": "code",
   "execution_count": 32,
   "id": "480b790a",
   "metadata": {},
   "outputs": [],
   "source": [
    "aug = gen.flow(x[0:10],y.iloc[0:10],batch_size=125)"
   ]
  },
  {
   "cell_type": "code",
   "execution_count": 33,
   "id": "e4c725b6",
   "metadata": {},
   "outputs": [
    {
     "data": {
      "text/plain": [
       "1"
      ]
     },
     "execution_count": 33,
     "metadata": {},
     "output_type": "execute_result"
    }
   ],
   "source": [
    "len(aug)"
   ]
  },
  {
   "cell_type": "code",
   "execution_count": 30,
   "id": "4f83a8af",
   "metadata": {},
   "outputs": [
    {
     "name": "stdout",
     "output_type": "stream",
     "text": [
      "<class 'keras.preprocessing.image.NumpyArrayIterator'>\n"
     ]
    }
   ],
   "source": [
    "print(type(aug)) # this is your input in the model.fit_genertator()"
   ]
  },
  {
   "cell_type": "code",
   "execution_count": 4,
   "id": "6f0699da",
   "metadata": {},
   "outputs": [],
   "source": [
    "#train_it = gen.flow(x_train,y_train,batch_size=128)\n",
    "#test_it = gen.flow(x_test,y_test,batch_size = 128)\n",
    "# print(train_it.x[0])\n",
    "# print(train_it.y[0])\n",
    "# then use fit_generator instead of fit()"
   ]
  }
 ],
 "metadata": {
  "kernelspec": {
   "display_name": "Python 3",
   "language": "python",
   "name": "python3"
  },
  "language_info": {
   "codemirror_mode": {
    "name": "ipython",
    "version": 3
   },
   "file_extension": ".py",
   "mimetype": "text/x-python",
   "name": "python",
   "nbconvert_exporter": "python",
   "pygments_lexer": "ipython3",
   "version": "3.6.13"
  }
 },
 "nbformat": 4,
 "nbformat_minor": 5
}
