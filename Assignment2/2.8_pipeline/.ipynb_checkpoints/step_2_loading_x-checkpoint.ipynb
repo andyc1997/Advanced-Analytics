{
 "cells": [
  {
   "cell_type": "code",
   "execution_count": 3,
   "id": "439001f7",
   "metadata": {},
   "outputs": [],
   "source": [
    "from tensorflow.keras.preprocessing import image\n",
    "import numpy as np\n",
    "import pandas as pd\n",
    "import os\n",
    "os.chdir('C:/Users/david/Documents/0_kul/1_ma_stds_1/1_advanced_analytics/assignment_2/data/images')"
   ]
  },
  {
   "cell_type": "code",
   "execution_count": 2,
   "id": "bd00d68e",
   "metadata": {},
   "outputs": [],
   "source": [
    "# creating function to extract pixel from png\n",
    "def get_images(path):\n",
    "    X = []\n",
    "    for img_path in path:\n",
    "        img = image.load_img(img_path,target_size=(100,100)) # it is easier to work with one size. we set it to 200x200\n",
    "        x = image.img_to_array(img)\n",
    "        X.append(x)\n",
    "    return np.array(X)"
   ]
  },
  {
   "cell_type": "code",
   "execution_count": 4,
   "id": "58033190",
   "metadata": {},
   "outputs": [],
   "source": [
    "df = pd.read_csv(\"C:/Users/david/Documents/0_kul/1_ma_stds_1/1_advanced_analytics/assignment_2/data/pipeline/labels.csv\",delimiter=',')"
   ]
  },
  {
   "cell_type": "code",
   "execution_count": 5,
   "id": "165da6cf",
   "metadata": {},
   "outputs": [
    {
     "name": "stdout",
     "output_type": "stream",
     "text": [
      "['CMPELQqh_nh' 'CMPEHqppR-t' 'CMPEBY9Buko' ... 'CMsOstJAXEJ' 'CMsOrPOrSkl'\n",
      " 'CMsOZ0MpBbu']\n",
      "(7869,)\n"
     ]
    }
   ],
   "source": [
    "# Use the index of this unwanted dataframe to drop the rows from the original dataframe.\n",
    "id = df.photo_id.values\n",
    "print(id)\n",
    "print(id.shape)"
   ]
  },
  {
   "cell_type": "code",
   "execution_count": 6,
   "id": "2b2e7208",
   "metadata": {},
   "outputs": [
    {
     "data": {
      "text/plain": [
       "array(['CMPELQqh_nh.png', 'CMPEHqppR-t.png', 'CMPEBY9Buko.png', ...,\n",
       "       'CMsOstJAXEJ.png', 'CMsOrPOrSkl.png', 'CMsOZ0MpBbu.png'],\n",
       "      dtype=object)"
      ]
     },
     "execution_count": 6,
     "metadata": {},
     "output_type": "execute_result"
    }
   ],
   "source": [
    "# creating the path\n",
    "my_path = id +'.png'\n",
    "my_path"
   ]
  },
  {
   "cell_type": "code",
   "execution_count": 7,
   "id": "ddfc14bb",
   "metadata": {},
   "outputs": [],
   "source": [
    "# Extracting the pixels from the images\n",
    "pixel = get_images(my_path)"
   ]
  },
  {
   "cell_type": "code",
   "execution_count": 8,
   "id": "c4533c5d",
   "metadata": {},
   "outputs": [
    {
     "name": "stdout",
     "output_type": "stream",
     "text": [
      "<class 'numpy.ndarray'>\n",
      "(7869, 100, 100, 3)\n"
     ]
    }
   ],
   "source": [
    "print(type(pixel))\n",
    "print(pixel.shape)"
   ]
  },
  {
   "cell_type": "code",
   "execution_count": 9,
   "id": "70381d2a",
   "metadata": {},
   "outputs": [],
   "source": [
    "np.save('C:/Users/david/Documents/0_kul/1_ma_stds_1/1_advanced_analytics/assignment_2/data/pipeline/image_pixel_100', pixel) # saving it"
   ]
  }
 ],
 "metadata": {
  "kernelspec": {
   "display_name": "Python 3",
   "language": "python",
   "name": "python3"
  },
  "language_info": {
   "codemirror_mode": {
    "name": "ipython",
    "version": 3
   },
   "file_extension": ".py",
   "mimetype": "text/x-python",
   "name": "python",
   "nbconvert_exporter": "python",
   "pygments_lexer": "ipython3",
   "version": "3.6.13"
  }
 },
 "nbformat": 4,
 "nbformat_minor": 5
}
