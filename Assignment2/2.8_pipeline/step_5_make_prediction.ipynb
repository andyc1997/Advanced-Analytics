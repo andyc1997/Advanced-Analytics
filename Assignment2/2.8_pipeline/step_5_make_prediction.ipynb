{
 "cells": [
  {
   "cell_type": "markdown",
   "id": "0f3a6ebf",
   "metadata": {},
   "source": [
    "<h2> import packages and the cnn </h2>"
   ]
  },
  {
   "cell_type": "code",
   "execution_count": 1,
   "id": "d078cb3d",
   "metadata": {},
   "outputs": [],
   "source": [
    "import matplotlib.pyplot as plt\n",
    "import numpy as np\n",
    "import pandas as pd\n",
    "from sklearn.model_selection import train_test_split\n",
    "from tensorflow.keras.preprocessing import image\n",
    "x = np.load('C:/Users/david/Documents/0_kul/1_ma_stds_1/1_advanced_analytics/assignment_2/data/pipeline/image_pixel_100.npy') # loading it"
   ]
  },
  {
   "cell_type": "code",
   "execution_count": 3,
   "id": "06ffaa2f",
   "metadata": {},
   "outputs": [],
   "source": [
    "labels = pd.read_csv(\"C:/Users/david/Documents/0_kul/1_ma_stds_1/1_advanced_analytics/assignment_2/data/pipeline/labels.csv\",delimiter=',')"
   ]
  },
  {
   "cell_type": "code",
   "execution_count": 4,
   "id": "99269588",
   "metadata": {},
   "outputs": [
    {
     "name": "stderr",
     "output_type": "stream",
     "text": [
      "Using TensorFlow backend.\n"
     ]
    },
    {
     "name": "stdout",
     "output_type": "stream",
     "text": [
      "Loaded model from disk\n"
     ]
    }
   ],
   "source": [
    "from keras.models import model_from_json\n",
    "# load json and create model\n",
    "json_file = open('model.json', 'r')\n",
    "loaded_model_json = json_file.read()\n",
    "json_file.close()\n",
    "loaded_model = model_from_json(loaded_model_json)\n",
    "# load weights into new model\n",
    "loaded_model.load_weights(\"model.h5\")\n",
    "print(\"Loaded model from disk\")"
   ]
  },
  {
   "cell_type": "markdown",
   "id": "d930f863",
   "metadata": {},
   "source": [
    "<h2> Make predictions </h2>"
   ]
  },
  {
   "cell_type": "code",
   "execution_count": 24,
   "id": "e35cacf3",
   "metadata": {},
   "outputs": [],
   "source": [
    "columns = labels.columns[:7]\n",
    "labels.drop(columns,inplace=True,axis=1)"
   ]
  },
  {
   "cell_type": "markdown",
   "id": "6d897836",
   "metadata": {},
   "source": [
    "<h2> Picture of desired array </h2>"
   ]
  },
  {
   "cell_type": "code",
   "execution_count": 25,
   "id": "91444449",
   "metadata": {},
   "outputs": [
    {
     "data": {
      "image/png": "[encoded data removed]",
      "text/plain": [
       "<PIL.Image.Image image mode=RGB size=100x100 at 0x26A00288780>"
      ]
     },
     "execution_count": 25,
     "metadata": {},
     "output_type": "execute_result"
    }
   ],
   "source": [
    "img_35 = image.array_to_img(x[254,:,:,:])\n",
    "img_35"
   ]
  },
  {
   "cell_type": "markdown",
   "id": "a85608a2",
   "metadata": {},
   "source": [
    "<h2> True label discoverer </h2>"
   ]
  },
  {
   "cell_type": "code",
   "execution_count": 26,
   "id": "cf682472",
   "metadata": {},
   "outputs": [],
   "source": [
    "true_labels = []\n",
    "def interpretation(picture_1):\n",
    "    subset = (labels.iloc[picture_1] == 1)\n",
    "    true_labels = labels.iloc[picture_1][subset]\n",
    "    return true_labels"
   ]
  },
  {
   "cell_type": "code",
   "execution_count": 27,
   "id": "2d9d20e3",
   "metadata": {},
   "outputs": [
    {
     "data": {
      "text/plain": [
       "tag_seafood    1\n",
       "Name: 254, dtype: int64"
      ]
     },
     "execution_count": 27,
     "metadata": {},
     "output_type": "execute_result"
    }
   ],
   "source": [
    "interpretation(254)"
   ]
  },
  {
   "cell_type": "markdown",
   "id": "74be17fe",
   "metadata": {},
   "source": [
    "<h2> Dataframe of probabilities and true labels </h2>"
   ]
  },
  {
   "cell_type": "code",
   "execution_count": 28,
   "id": "03bbb7bb",
   "metadata": {},
   "outputs": [],
   "source": [
    "data_frame = []\n",
    "def prob_real(picture_x):\n",
    "    probabilities = loaded_model.predict(x[picture_x:picture_x+1,:,:,:])\n",
    "    my_labels = labels.iloc[picture_x].tolist()\n",
    "    list_tuples = list(zip(probabilities[0],my_labels))\n",
    "    dframe = pd.DataFrame(list_tuples,columns = ['probabilities','true_label'], index = labels.columns)\n",
    "    sorted_dataframe = dframe.sort_values(by='probabilities',ascending=False)\n",
    "    return sorted_dataframe"
   ]
  },
  {
   "cell_type": "code",
   "execution_count": 29,
   "id": "f12e57f8",
   "metadata": {},
   "outputs": [
    {
     "data": {
      "text/html": [
       "<div>\n",
       "<style scoped>\n",
       "    .dataframe tbody tr th:only-of-type {\n",
       "        vertical-align: middle;\n",
       "    }\n",
       "\n",
       "    .dataframe tbody tr th {\n",
       "        vertical-align: top;\n",
       "    }\n",
       "\n",
       "    .dataframe thead th {\n",
       "        text-align: right;\n",
       "    }\n",
       "</style>\n",
       "<table border=\"1\" class=\"dataframe\">\n",
       "  <thead>\n",
       "    <tr style=\"text-align: right;\">\n",
       "      <th></th>\n",
       "      <th>probabilities</th>\n",
       "      <th>true_label</th>\n",
       "    </tr>\n",
       "  </thead>\n",
       "  <tbody>\n",
       "    <tr>\n",
       "      <th>tag_salad</th>\n",
       "      <td>1.000000e+00</td>\n",
       "      <td>0</td>\n",
       "    </tr>\n",
       "    <tr>\n",
       "      <th>tag_drinks</th>\n",
       "      <td>1.000000e+00</td>\n",
       "      <td>0</td>\n",
       "    </tr>\n",
       "    <tr>\n",
       "      <th>tag_lemon</th>\n",
       "      <td>1.000000e+00</td>\n",
       "      <td>0</td>\n",
       "    </tr>\n",
       "    <tr>\n",
       "      <th>tag_curry</th>\n",
       "      <td>3.399931e-04</td>\n",
       "      <td>0</td>\n",
       "    </tr>\n",
       "    <tr>\n",
       "      <th>tag_seafood</th>\n",
       "      <td>7.799448e-14</td>\n",
       "      <td>1</td>\n",
       "    </tr>\n",
       "    <tr>\n",
       "      <th>tag_strawberry</th>\n",
       "      <td>3.545088e-17</td>\n",
       "      <td>0</td>\n",
       "    </tr>\n",
       "    <tr>\n",
       "      <th>tag_spicy</th>\n",
       "      <td>3.947034e-27</td>\n",
       "      <td>0</td>\n",
       "    </tr>\n",
       "    <tr>\n",
       "      <th>tag_diet_concept</th>\n",
       "      <td>2.893725e-32</td>\n",
       "      <td>0</td>\n",
       "    </tr>\n",
       "    <tr>\n",
       "      <th>tag_italy_concept</th>\n",
       "      <td>0.000000e+00</td>\n",
       "      <td>0</td>\n",
       "    </tr>\n",
       "    <tr>\n",
       "      <th>tag_garlic</th>\n",
       "      <td>0.000000e+00</td>\n",
       "      <td>0</td>\n",
       "    </tr>\n",
       "  </tbody>\n",
       "</table>\n",
       "</div>"
      ],
      "text/plain": [
       "                   probabilities  true_label\n",
       "tag_salad           1.000000e+00           0\n",
       "tag_drinks          1.000000e+00           0\n",
       "tag_lemon           1.000000e+00           0\n",
       "tag_curry           3.399931e-04           0\n",
       "tag_seafood         7.799448e-14           1\n",
       "tag_strawberry      3.545088e-17           0\n",
       "tag_spicy           3.947034e-27           0\n",
       "tag_diet_concept    2.893725e-32           0\n",
       "tag_italy_concept   0.000000e+00           0\n",
       "tag_garlic          0.000000e+00           0"
      ]
     },
     "execution_count": 29,
     "metadata": {},
     "output_type": "execute_result"
    }
   ],
   "source": [
    "prob_real(254).head(10)"
   ]
  },
  {
   "cell_type": "code",
   "execution_count": null,
   "id": "16b6ad87",
   "metadata": {},
   "outputs": [],
   "source": []
  },
  {
   "cell_type": "code",
   "execution_count": 6,
   "id": "174f4729",
   "metadata": {},
   "outputs": [],
   "source": [
    "result = loaded_model.predict(x[0:1])"
   ]
  },
  {
   "cell_type": "code",
   "execution_count": 10,
   "id": "6eaea4dc",
   "metadata": {},
   "outputs": [
    {
     "data": {
      "text/plain": [
       "array([[0., 0., 0., 1., 0., 0., 0., 0., 0., 0., 0., 0., 0., 0., 0., 0.,\n",
       "        0., 0., 1., 0., 0., 0., 0., 0., 0., 0., 0., 0., 0., 0., 0., 1.,\n",
       "        0., 1., 0., 0., 0., 0., 0., 0., 0., 0., 0., 0., 0., 0., 0., 0.]],\n",
       "      dtype=float32)"
      ]
     },
     "execution_count": 10,
     "metadata": {},
     "output_type": "execute_result"
    }
   ],
   "source": [
    "result.round()"
   ]
  },
  {
   "cell_type": "code",
   "execution_count": 8,
   "id": "a1fdc13d",
   "metadata": {},
   "outputs": [],
   "source": [
    "# convert a prediction to tags\n",
    "def prediction_to_tags(inv_mapping, prediction):\n",
    "\t# round probabilities to {0, 1}\n",
    "\tvalues = prediction.round()\n",
    "\t# collect all predicted tags\n",
    "\ttags = [inv_mapping[i] for i in range(len(values)) if values[i] == 1.0]\n",
    "\treturn tags"
   ]
  },
  {
   "cell_type": "code",
   "execution_count": 9,
   "id": "9c22e380",
   "metadata": {},
   "outputs": [
    {
     "ename": "TypeError",
     "evalue": "prediction_to_tags() missing 1 required positional argument: 'prediction'",
     "output_type": "error",
     "traceback": [
      "\u001b[1;31m---------------------------------------------------------------------------\u001b[0m",
      "\u001b[1;31mTypeError\u001b[0m                                 Traceback (most recent call last)",
      "\u001b[1;32m<ipython-input-9-31872c058f30>\u001b[0m in \u001b[0;36m<module>\u001b[1;34m\u001b[0m\n\u001b[1;32m----> 1\u001b[1;33m \u001b[0mprediction_to_tags\u001b[0m\u001b[1;33m(\u001b[0m\u001b[0mresult\u001b[0m\u001b[1;33m)\u001b[0m\u001b[1;33m\u001b[0m\u001b[1;33m\u001b[0m\u001b[0m\n\u001b[0m",
      "\u001b[1;31mTypeError\u001b[0m: prediction_to_tags() missing 1 required positional argument: 'prediction'"
     ]
    }
   ],
   "source": [
    "prediction_to_tags(result)"
   ]
  },
  {
   "cell_type": "code",
   "execution_count": null,
   "id": "390834f6",
   "metadata": {},
   "outputs": [],
   "source": []
  }
 ],
 "metadata": {
  "kernelspec": {
   "display_name": "Python 3",
   "language": "python",
   "name": "python3"
  },
  "language_info": {
   "codemirror_mode": {
    "name": "ipython",
    "version": 3
   },
   "file_extension": ".py",
   "mimetype": "text/x-python",
   "name": "python",
   "nbconvert_exporter": "python",
   "pygments_lexer": "ipython3",
   "version": "3.6.13"
  }
 },
 "nbformat": 4,
 "nbformat_minor": 5
}
