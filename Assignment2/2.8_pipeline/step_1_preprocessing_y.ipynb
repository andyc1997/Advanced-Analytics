{
 "cells": [
  {
   "cell_type": "markdown",
   "id": "fdb3a2f3",
   "metadata": {},
   "source": [
    "Here we basically preprocess the y variable a bit and try to merge some hashtags together to have less predictors and more consistent predictors"
   ]
  },
  {
   "cell_type": "code",
   "execution_count": 1,
   "id": "c80a62f0",
   "metadata": {},
   "outputs": [],
   "source": [
    "import pandas as pd\n",
    "import numpy as np\n",
    "df = pd.read_csv('C:/Users/david/Documents/0_kul/1_ma_stds_1/1_advanced_analytics/assignment_2/data/pipeline/recipe_without_empty.csv')\n",
    "only_tags = df.iloc[:,7:]"
   ]
  },
  {
   "cell_type": "markdown",
   "id": "667ef692",
   "metadata": {},
   "source": [
    "<h2> 1 Inspecting tags </h2>"
   ]
  },
  {
   "cell_type": "markdown",
   "id": "68275da2",
   "metadata": {},
   "source": [
    "<h3> 1.1 Closer look at the tag frequency </h3>"
   ]
  },
  {
   "cell_type": "code",
   "execution_count": 2,
   "id": "7f71ce37",
   "metadata": {},
   "outputs": [],
   "source": [
    "frequency_tags = only_tags.apply(sum,axis=0)"
   ]
  },
  {
   "cell_type": "code",
   "execution_count": 3,
   "id": "98b9c33f",
   "metadata": {},
   "outputs": [
    {
     "data": {
      "text/plain": [
       "tag_healthy       1422\n",
       "tag_dinner        1285\n",
       "tag_tasty         1261\n",
       "tag_breakfast      909\n",
       "tag_vegan          872\n",
       "tag_lunch          820\n",
       "tag_dessert        777\n",
       "tag_baking         744\n",
       "tag_cake           599\n",
       "tag_vegetarian     564\n",
       "dtype: int64"
      ]
     },
     "execution_count": 3,
     "metadata": {},
     "output_type": "execute_result"
    }
   ],
   "source": [
    "frequency_tags.sort_values(ascending=False).head(10)"
   ]
  },
  {
   "cell_type": "markdown",
   "id": "13646054",
   "metadata": {},
   "source": [
    "<h3> 1.2 Closer look at how many tags the pictures have </h3>"
   ]
  },
  {
   "cell_type": "code",
   "execution_count": 4,
   "id": "d34a14d4",
   "metadata": {},
   "outputs": [],
   "source": [
    "tags_per_picture = only_tags.apply(sum,axis=1)"
   ]
  },
  {
   "cell_type": "code",
   "execution_count": 5,
   "id": "a359acd3",
   "metadata": {},
   "outputs": [
    {
     "data": {
      "text/plain": [
       "count    11685.000000\n",
       "mean         2.048952\n",
       "std          2.192351\n",
       "min          0.000000\n",
       "25%          0.000000\n",
       "50%          1.000000\n",
       "75%          3.000000\n",
       "max         14.000000\n",
       "dtype: float64"
      ]
     },
     "execution_count": 5,
     "metadata": {},
     "output_type": "execute_result"
    }
   ],
   "source": [
    "tags_per_picture.describe()"
   ]
  },
  {
   "cell_type": "markdown",
   "id": "3caf7433",
   "metadata": {},
   "source": [
    "Basically 25% of the pictures have no tags."
   ]
  },
  {
   "cell_type": "markdown",
   "id": "047702db",
   "metadata": {},
   "source": [
    "<h2> 2. Removing tags </h2>"
   ]
  },
  {
   "cell_type": "markdown",
   "id": "d88b8286",
   "metadata": {},
   "source": [
    "<h3> 2.1 Removing zero tags <h3>"
   ]
  },
  {
   "cell_type": "code",
   "execution_count": 6,
   "id": "f422252d",
   "metadata": {},
   "outputs": [
    {
     "name": "stdout",
     "output_type": "stream",
     "text": [
      "(7869, 105)\n"
     ]
    }
   ],
   "source": [
    "df['count_tags'] = df.iloc[:,7:].apply(sum,axis=1)\n",
    "df = df[df['count_tags'] != 0]\n",
    "print(df.shape)\n",
    "df.drop(['count_tags'],axis=1,inplace=True)"
   ]
  },
  {
   "cell_type": "markdown",
   "id": "fb8bf714",
   "metadata": {},
   "source": [
    "<h3> 2.2 Removing fuzzy tags </h3>"
   ]
  },
  {
   "cell_type": "code",
   "execution_count": 7,
   "id": "c3d4d12b",
   "metadata": {},
   "outputs": [],
   "source": [
    "fuzzy_hashtags = ['tag_lunch', 'tag_easyrecipes' , 'tag_glutenfree','tag_comfortfood',\n",
    "                  'tag_organic','tag_brunch','tag_dairyfree','tag_ilovefood', 'tag_food52',\n",
    "                  'tag_foodbloggers', 'tag_family', 'tag_streetfood','tag_travel','tag_natural',\n",
    "                    'tag_tasty', 'tag_dinner', 'tag_easy', 'tag_gastronomy']"
   ]
  },
  {
   "cell_type": "code",
   "execution_count": 8,
   "id": "30927f9f",
   "metadata": {},
   "outputs": [],
   "source": [
    "df.drop(fuzzy_hashtags,axis=1,inplace=True)"
   ]
  },
  {
   "cell_type": "markdown",
   "id": "d82085cc",
   "metadata": {},
   "source": [
    "<h3> 2.3 Pasting Tags </h3>"
   ]
  },
  {
   "cell_type": "code",
   "execution_count": 9,
   "id": "6892d119",
   "metadata": {},
   "outputs": [],
   "source": [
    "df['tag_keto_concept'] = df['tag_keto'] + df['tag_ketodiet'] + df['tag_lowcarb']\n",
    "df['tag_italy_concept'] = df['tag_italy'] + df['tag_italia'] + df['tag_italianfood']\n",
    "df['tag_oat_concept'] = df['tag_oats'] + df['tag_oatmeal']\n",
    "df['tag_vegan_concept'] = df['tag_vegan'] + df['tag_veganfood'] + df['tag_plantbased'] + df['tag_veganrecipe'] + df['tag_veggies']\n",
    "df['tag_pasta_concept'] = df['tag_pasta'] + df['tag_pastalover']\n",
    "df['tag_sweet_concept'] = df['tag_desserts'] + df['tag_sweets'] + df['tag_dessert'] + df['tag_sweettooth']\n",
    "df['tag_vegetarian_concept'] = df['tag_vegetarian'] + df['tag_vegetarianrecipes'] + df['tag_veggie']\n",
    "df['tag_egg_concept'] = df['tag_egg'] + df['tag_eggs']\n",
    "df['tag_meat_concept'] = df['tag_meat'] + df['tag_beef'] + df['tag_bbq'] + df['tag_steak']\n",
    "df['tag_diet_concept'] = df['tag_diet'] + df['tag_weightloss'] + df['tag_fitness'] + df['tag_healthy']\n",
    "df['tag_chocolate_concept'] = df['tag_chocolat'] + df['tag_chocolate']\n",
    "df['tag_bake_concept'] = df['tag_baking'] + df['tag_cake'] + df['tag_bake'] + df['tag_bakery'] + df['tag_cakes'] + df['tag_pastry'] + df['tag_baker']\n",
    "df['tag_breakfast_concept'] = df['tag_breakfast'] + df['tag_breakfastideas']\n",
    "df['tag_fish_concept'] = df['tag_fish'] + df['tag_salmon']"
   ]
  },
  {
   "cell_type": "code",
   "execution_count": 10,
   "id": "c0bb07b9",
   "metadata": {},
   "outputs": [],
   "source": [
    "remove = ['tag_keto','tag_ketodiet','tag_lowcarb','tag_italy','tag_italia',\n",
    "'tag_italianfood','tag_oats','tag_oatmeal','tag_vegan','tag_veganfood',\n",
    "'tag_plantbased','tag_veganrecipe','tag_pasta','tag_pastalover','tag_desserts',\n",
    "'tag_sweets','tag_dessert','tag_sweettooth','tag_vegetarian','tag_vegetarianrecipes',\n",
    "'tag_veggie','tag_egg','tag_eggs','tag_meat','tag_beef',\n",
    "'tag_bbq','tag_diet','tag_weightloss','tag_fitness','tag_healthy',\n",
    "'tag_chocolat','tag_chocolate','tag_baking','tag_cake','tag_bake',\n",
    "'tag_bakery','tag_cakes','tag_pastry','tag_baker','tag_breakfast',\n",
    "'tag_breakfastideas','tag_fish','tag_salmon', 'tag_steak', 'tag_veggies']"
   ]
  },
  {
   "cell_type": "code",
   "execution_count": 11,
   "id": "21ecf198",
   "metadata": {},
   "outputs": [],
   "source": [
    "df.drop(remove,axis=1,inplace=True)"
   ]
  },
  {
   "cell_type": "code",
   "execution_count": 12,
   "id": "4f1838e1",
   "metadata": {},
   "outputs": [],
   "source": [
    "df['tag_keto_concept']= np.where(df['tag_keto_concept']<=1, 0, 1)\n",
    "df['tag_italy_concept']= np.where(df['tag_italy_concept']<=1, 0, 1)\n",
    "df['tag_oat_concept']= np.where(df['tag_oat_concept']<=1, 0, 1)\n",
    "df['tag_vegan_concept']= np.where(df['tag_vegan_concept']<=1, 0, 1)\n",
    "df['tag_pasta_concept']= np.where(df['tag_pasta_concept']<=1, 0, 1)\n",
    "df['tag_sweet_concept']= np.where(df['tag_sweet_concept']<=1, 0, 1)\n",
    "df['tag_vegetarian_concept']= np.where(df['tag_vegetarian_concept']<=1, 0, 1)\n",
    "df['tag_egg_concept']= np.where(df['tag_egg_concept']<=1, 0, 1)\n",
    "df['tag_meat_concept']= np.where(df['tag_meat_concept']<=1, 0, 1)\n",
    "df['tag_diet_concept']= np.where(df['tag_diet_concept']<=1, 0, 1)\n",
    "df['tag_chocolate_concept']= np.where(df['tag_chocolate_concept']<=1, 0, 1)\n",
    "df['tag_bake_concept']= np.where(df['tag_bake_concept']<=1, 0, 1)\n",
    "df['tag_breakfast_concept']= np.where(df['tag_breakfast_concept']<=1, 0, 1)\n",
    "df['tag_fish_concept']= np.where(df['tag_fish_concept']<=1, 0, 1)"
   ]
  },
  {
   "cell_type": "markdown",
   "id": "fdcf3283",
   "metadata": {},
   "source": [
    "<h2> 3 Inspecting tags again </h2>"
   ]
  },
  {
   "cell_type": "code",
   "execution_count": 13,
   "id": "764d7d6d",
   "metadata": {},
   "outputs": [],
   "source": [
    "only_tags_2 = df.iloc[:,7:]"
   ]
  },
  {
   "cell_type": "markdown",
   "id": "a9079c9e",
   "metadata": {},
   "source": [
    "<h3> 3.1 Closer look at the tag frequency </h3>"
   ]
  },
  {
   "cell_type": "code",
   "execution_count": 14,
   "id": "d661f266",
   "metadata": {},
   "outputs": [],
   "source": [
    "frequency_tags = only_tags_2.apply(sum,axis=0)"
   ]
  },
  {
   "cell_type": "code",
   "execution_count": 15,
   "id": "2dc67f3e",
   "metadata": {},
   "outputs": [
    {
     "data": {
      "text/plain": [
       "tag_bake_concept          527\n",
       "tag_vegan_concept         473\n",
       "tag_sweet                 465\n",
       "tag_diet_concept          417\n",
       "tag_chicken               327\n",
       "tag_cheese                280\n",
       "tag_salad                 251\n",
       "tag_fresh                 236\n",
       "tag_cookies               230\n",
       "tag_snack                 229\n",
       "tag_bread                 203\n",
       "tag_sweet_concept         202\n",
       "tag_protein               198\n",
       "tag_vegetables            191\n",
       "tag_coffee                180\n",
       "tag_pizza                 175\n",
       "tag_indianfood            164\n",
       "tag_soup                  164\n",
       "tag_keto_concept          157\n",
       "tag_fruit                 157\n",
       "tag_vegetarian_concept    155\n",
       "tag_rice                  140\n",
       "tag_seafood               138\n",
       "tag_pancakes              125\n",
       "tag_lemon                 117\n",
       "tag_avocado               112\n",
       "tag_cheesecake            109\n",
       "tag_breakfast_concept     108\n",
       "tag_curry                 108\n",
       "tag_banana                107\n",
       "tag_snacks                 99\n",
       "tag_italy_concept          93\n",
       "tag_garlic                 92\n",
       "tag_asianfood              86\n",
       "tag_noodles                86\n",
       "tag_spicy                  81\n",
       "tag_pasta_concept          80\n",
       "tag_smoothie               76\n",
       "tag_drinks                 76\n",
       "tag_icecream               75\n",
       "tag_chocolate_concept      74\n",
       "tag_strawberry             73\n",
       "tag_italian                71\n",
       "tag_sandwich               70\n",
       "tag_meat_concept           68\n",
       "tag_oat_concept            49\n",
       "tag_egg_concept            39\n",
       "tag_fish_concept           28\n",
       "dtype: int64"
      ]
     },
     "execution_count": 15,
     "metadata": {},
     "output_type": "execute_result"
    }
   ],
   "source": [
    "frequency_tags.sort_values(ascending=False).head(50)"
   ]
  },
  {
   "cell_type": "markdown",
   "id": "67e3b611",
   "metadata": {},
   "source": [
    "<h3> 3.2 Closer look at how many tags the pictures have </h3>"
   ]
  },
  {
   "cell_type": "code",
   "execution_count": 16,
   "id": "77087e23",
   "metadata": {},
   "outputs": [],
   "source": [
    "tags_per_picture = only_tags_2.apply(sum,axis=1)"
   ]
  },
  {
   "cell_type": "code",
   "execution_count": 17,
   "id": "3d1c4715",
   "metadata": {},
   "outputs": [
    {
     "data": {
      "text/plain": [
       "count    7869.000000\n",
       "mean        0.986275\n",
       "std         1.025632\n",
       "min         0.000000\n",
       "25%         0.000000\n",
       "50%         1.000000\n",
       "75%         1.000000\n",
       "max         7.000000\n",
       "dtype: float64"
      ]
     },
     "execution_count": 17,
     "metadata": {},
     "output_type": "execute_result"
    }
   ],
   "source": [
    "tags_per_picture.describe()"
   ]
  },
  {
   "cell_type": "markdown",
   "id": "86f135a9",
   "metadata": {},
   "source": [
    "On average a picture has 4 tags"
   ]
  },
  {
   "cell_type": "markdown",
   "id": "68638a66",
   "metadata": {},
   "source": [
    "<h2> Conclusion : Creating a y variable and saving df </h2>"
   ]
  },
  {
   "cell_type": "code",
   "execution_count": 18,
   "id": "b07cf2d5",
   "metadata": {},
   "outputs": [
    {
     "name": "stdout",
     "output_type": "stream",
     "text": [
      "(7869, 48)\n"
     ]
    }
   ],
   "source": [
    "necessary_columns = df.columns[7:]\n",
    "# prepping y variable. necessary columns should be all the tags we want\n",
    "y = df[necessary_columns]\n",
    "print(y.shape)"
   ]
  },
  {
   "cell_type": "code",
   "execution_count": 19,
   "id": "f27715ef",
   "metadata": {},
   "outputs": [],
   "source": [
    "y.to_csv(\"C:/Users/david/Documents/0_kul/1_ma_stds_1/1_advanced_analytics/assignment_2/data/pipeline/y.csv\",index=False)\n",
    "df.to_csv(\"C:/Users/david/Documents/0_kul/1_ma_stds_1/1_advanced_analytics/assignment_2/data/pipeline/labels.csv\",index=False)"
   ]
  }
 ],
 "metadata": {
  "kernelspec": {
   "display_name": "Python 3",
   "language": "python",
   "name": "python3"
  },
  "language_info": {
   "codemirror_mode": {
    "name": "ipython",
    "version": 3
   },
   "file_extension": ".py",
   "mimetype": "text/x-python",
   "name": "python",
   "nbconvert_exporter": "python",
   "pygments_lexer": "ipython3",
   "version": "3.6.13"
  }
 },
 "nbformat": 4,
 "nbformat_minor": 5
}
