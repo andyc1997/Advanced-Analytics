{
 "cells": [
  {
   "cell_type": "code",
   "execution_count": 1,
   "id": "9631c3f2",
   "metadata": {},
   "outputs": [
    {
     "name": "stderr",
     "output_type": "stream",
     "text": [
      "Using TensorFlow backend.\n"
     ]
    }
   ],
   "source": [
    "import numpy as np\n",
    "import pandas as pd\n",
    "import matplotlib.pyplot as plt\n",
    "# import keras library\n",
    "import keras\n",
    "# import Sequential from the keras models module\n",
    "from keras import Sequential\n",
    "# import Dense, Dropout, Flatten, Conv2D, MaxPooling2D from the keras layers module\n",
    "from keras.layers import Dense,Flatten, Conv2D, MaxPooling2D\n",
    "from keras.optimizers import Adam\n",
    "from keras.callbacks import EarlyStopping, ModelCheckpoint"
   ]
  },
  {
   "cell_type": "code",
   "execution_count": 2,
   "id": "1b557fda",
   "metadata": {},
   "outputs": [
    {
     "name": "stdout",
     "output_type": "stream",
     "text": [
      "(1493, 12)\n",
      "x_train shape: (1045, 200, 200, 3)\n",
      "1045 train samples\n",
      "448 test samples\n"
     ]
    }
   ],
   "source": [
    "import numpy as np\n",
    "import pandas as pd\n",
    "y = pd.read_csv(\"C:/Users/david/Documents/0_kul/1_ma_stds_1/1_advanced_analytics/assignment_2/data/meaningful/y.csv\",delimiter=',')\n",
    "x = np.load('C:/Users/david/Documents/0_kul/1_ma_stds_1/1_advanced_analytics/assignment_2/data/meaningful/image_pixel_200.npy') # loading it\n",
    "from sklearn.model_selection import train_test_split\n",
    "x_train,x_test,y_train,y_test = train_test_split(x,y,test_size=0.3,random_state=42)\n",
    "# examine number of samples in train, test, and validation sets\n",
    "print(y.shape)\n",
    "print('x_train shape:', x_train.shape)\n",
    "print(x_train.shape[0], 'train samples')\n",
    "print(x_test.shape[0], 'test samples')"
   ]
  },
  {
   "cell_type": "code",
   "execution_count": 3,
   "id": "3fba6a24",
   "metadata": {},
   "outputs": [],
   "source": [
    "def plot_loss(loss,val_loss):\n",
    "  plt.figure()\n",
    "  plt.plot(loss)\n",
    "  plt.plot(val_loss)\n",
    "  plt.title('Model loss')\n",
    "  plt.ylabel('Loss')\n",
    "  plt.xlabel('Epoch')\n",
    "  plt.legend(['Train', 'Test'], loc='upper right')\n",
    "  plt.show()"
   ]
  },
  {
   "cell_type": "code",
   "execution_count": 4,
   "id": "f1d719dd",
   "metadata": {},
   "outputs": [],
   "source": [
    "def plot_accuracy(acc,val_acc):\n",
    "  # Plot training & validation accuracy values\n",
    "  plt.figure()\n",
    "  plt.plot(acc)\n",
    "  plt.plot(val_acc)\n",
    "  plt.title('Model accuracy')\n",
    "  plt.ylabel('Accuracy')\n",
    "  plt.xlabel('Epoch')\n",
    "  plt.legend(['Train', 'Test'], loc='upper left')\n",
    "  plt.show()"
   ]
  },
  {
   "cell_type": "code",
   "execution_count": 5,
   "id": "2c4f951e",
   "metadata": {},
   "outputs": [],
   "source": [
    "early_stopping = EarlyStopping(monitor='val_loss',patience=5)\n",
    "modelCheckpoint = ModelCheckpoint('best_model.hdf5',save_best_only=True)"
   ]
  },
  {
   "cell_type": "code",
   "execution_count": 6,
   "id": "fbac8b30",
   "metadata": {},
   "outputs": [],
   "source": [
    "def create_model(learning_rate,kernel,acti_function,acti_output,loss_f):\n",
    "    opt = Adam(lr=learning_rate)\n",
    "    model = Sequential()\n",
    "    model.add(Conv2D(50,kernel_size=kernel,activation=acti_function,input_shape=(200,200,3)))\n",
    "    model.add(MaxPooling2D(4))\n",
    "    model.add(Conv2D(25,kernel_size=kernel,activation=acti_function))\n",
    "    model.add(MaxPooling2D(3))\n",
    "    model.add(Flatten())\n",
    "    model.add(Dense(12,activation=acti_output))\n",
    "    model.compile(optimizer = opt, loss=loss_f,metrics=['accuracy'])\n",
    "    return model"
   ]
  },
  {
   "cell_type": "code",
   "execution_count": 7,
   "id": "994c6e66",
   "metadata": {},
   "outputs": [],
   "source": [
    "best_model = create_model(learning_rate = 0.0001 , kernel = 2 , acti_function = 'relu' ,\n",
    "                          acti_output = 'sigmoid', loss_f = 'binary_crossentropy' )"
   ]
  },
  {
   "cell_type": "code",
   "execution_count": 8,
   "id": "090f4114",
   "metadata": {},
   "outputs": [
    {
     "name": "stdout",
     "output_type": "stream",
     "text": [
      "Train on 731 samples, validate on 314 samples\n",
      "Epoch 1/100\n",
      "731/731 [==============================] - 14s 20ms/step - loss: 3.1603 - accuracy: 0.8347 - val_loss: 1.9108 - val_accuracy: 0.8556\n",
      "Epoch 2/100\n",
      "731/731 [==============================] - 14s 20ms/step - loss: 1.5398 - accuracy: 0.8586 - val_loss: 1.5833 - val_accuracy: 0.8654\n",
      "Epoch 3/100\n",
      "731/731 [==============================] - 15s 21ms/step - loss: 1.1883 - accuracy: 0.8645 - val_loss: 1.3699 - val_accuracy: 0.8455\n",
      "Epoch 4/100\n",
      "731/731 [==============================] - 16s 21ms/step - loss: 0.9693 - accuracy: 0.8724 - val_loss: 1.2481 - val_accuracy: 0.8501\n",
      "Epoch 5/100\n",
      "731/731 [==============================] - 15s 21ms/step - loss: 0.7755 - accuracy: 0.8792 - val_loss: 1.1243 - val_accuracy: 0.8694\n",
      "Epoch 6/100\n",
      "731/731 [==============================] - 16s 21ms/step - loss: 0.6285 - accuracy: 0.8844 - val_loss: 1.0290 - val_accuracy: 0.8660\n",
      "Epoch 7/100\n",
      "731/731 [==============================] - 16s 23ms/step - loss: 0.5280 - accuracy: 0.8964 - val_loss: 0.9907 - val_accuracy: 0.8617\n",
      "Epoch 8/100\n",
      "731/731 [==============================] - 15s 21ms/step - loss: 0.4296 - accuracy: 0.9044 - val_loss: 0.9923 - val_accuracy: 0.8625\n",
      "Epoch 9/100\n",
      "731/731 [==============================] - 15s 20ms/step - loss: 0.3722 - accuracy: 0.9087 - val_loss: 0.9129 - val_accuracy: 0.8495\n",
      "Epoch 10/100\n",
      "731/731 [==============================] - 16s 21ms/step - loss: 0.3178 - accuracy: 0.9184 - val_loss: 0.8676 - val_accuracy: 0.8522\n",
      "Epoch 11/100\n",
      "731/731 [==============================] - 15s 20ms/step - loss: 0.2792 - accuracy: 0.9205 - val_loss: 0.8350 - val_accuracy: 0.8607\n",
      "Epoch 12/100\n",
      "731/731 [==============================] - 15s 21ms/step - loss: 0.2326 - accuracy: 0.9305 - val_loss: 0.8267 - val_accuracy: 0.8633\n",
      "Epoch 13/100\n",
      "731/731 [==============================] - 13s 17ms/step - loss: 0.1860 - accuracy: 0.9422 - val_loss: 0.8119 - val_accuracy: 0.8575\n",
      "Epoch 14/100\n",
      "731/731 [==============================] - 13s 17ms/step - loss: 0.1607 - accuracy: 0.9509 - val_loss: 0.8126 - val_accuracy: 0.8583\n",
      "Epoch 15/100\n",
      "731/731 [==============================] - 13s 18ms/step - loss: 0.1340 - accuracy: 0.9571 - val_loss: 0.8225 - val_accuracy: 0.8615\n",
      "Epoch 16/100\n",
      "731/731 [==============================] - 13s 18ms/step - loss: 0.1182 - accuracy: 0.9602 - val_loss: 0.8183 - val_accuracy: 0.8662\n",
      "Epoch 17/100\n",
      "731/731 [==============================] - 13s 18ms/step - loss: 0.0983 - accuracy: 0.9673 - val_loss: 0.8140 - val_accuracy: 0.8644\n",
      "Epoch 18/100\n",
      "731/731 [==============================] - 13s 18ms/step - loss: 0.0877 - accuracy: 0.9699 - val_loss: 0.8201 - val_accuracy: 0.8657\n"
     ]
    }
   ],
   "source": [
    "h_callback = best_model.fit(x_train, y_train,epochs = 100, batch_size = 10,\n",
    "                    callbacks = [early_stopping,modelCheckpoint],\n",
    "                    validation_split = 0.3)"
   ]
  },
  {
   "cell_type": "code",
   "execution_count": 9,
   "id": "428fc895",
   "metadata": {},
   "outputs": [
    {
     "name": "stdout",
     "output_type": "stream",
     "text": [
      "1045/1045 [==============================] - 5s 5ms/step\n"
     ]
    },
    {
     "data": {
      "text/plain": [
       "[0.2984530613182834, 0.9417862296104431]"
      ]
     },
     "execution_count": 9,
     "metadata": {},
     "output_type": "execute_result"
    }
   ],
   "source": [
    "best_model.evaluate(x_train,y_train)"
   ]
  },
  {
   "cell_type": "code",
   "execution_count": 10,
   "id": "0ba1f593",
   "metadata": {},
   "outputs": [
    {
     "name": "stdout",
     "output_type": "stream",
     "text": [
      "448/448 [==============================] - 2s 5ms/step\n"
     ]
    },
    {
     "data": {
      "text/plain": [
       "[0.8840802993093219, 0.8621651530265808]"
      ]
     },
     "execution_count": 10,
     "metadata": {},
     "output_type": "execute_result"
    }
   ],
   "source": [
    "best_model.evaluate(x_test,y_test)"
   ]
  },
  {
   "cell_type": "code",
   "execution_count": 11,
   "id": "103d60aa",
   "metadata": {},
   "outputs": [
    {
     "data": {
      "image/png": "[encoded data removed]",
      "text/plain": [
       "<Figure size 432x288 with 1 Axes>"
      ]
     },
     "metadata": {
      "needs_background": "light"
     },
     "output_type": "display_data"
    },
    {
     "data": {
      "image/png": "[encoded data removed]",
      "text/plain": [
       "<Figure size 432x288 with 1 Axes>"
      ]
     },
     "metadata": {
      "needs_background": "light"
     },
     "output_type": "display_data"
    }
   ],
   "source": [
    "# Plot train vs test loss during training\n",
    "plot_loss(h_callback.history['loss'], h_callback.history['val_loss'])\n",
    "# Plot train vs test accuracy during training\n",
    "plot_accuracy(h_callback.history['accuracy'], h_callback.history['val_accuracy'])"
   ]
  },
  {
   "cell_type": "code",
   "execution_count": 13,
   "id": "7d217d6b",
   "metadata": {},
   "outputs": [
    {
     "name": "stdout",
     "output_type": "stream",
     "text": [
      "Saved model to disk\n"
     ]
    }
   ],
   "source": [
    "from keras.models import model_from_json\n",
    "#serialize model to JSON\n",
    "model_json = best_model.to_json()\n",
    "with open(\"model.json\", \"w\") as json_file:\n",
    "    json_file.write(model_json)\n",
    "# serialize weights to HDF5\n",
    "best_model.save_weights(\"model.h5\")\n",
    "print(\"Saved model to disk\")"
   ]
  },
  {
   "cell_type": "code",
   "execution_count": null,
   "id": "26ad6f8f",
   "metadata": {},
   "outputs": [],
   "source": []
  }
 ],
 "metadata": {
  "kernelspec": {
   "display_name": "Python 3",
   "language": "python",
   "name": "python3"
  },
  "language_info": {
   "codemirror_mode": {
    "name": "ipython",
    "version": 3
   },
   "file_extension": ".py",
   "mimetype": "text/x-python",
   "name": "python",
   "nbconvert_exporter": "python",
   "pygments_lexer": "ipython3",
   "version": "3.6.13"
  }
 },
 "nbformat": 4,
 "nbformat_minor": 5
}
