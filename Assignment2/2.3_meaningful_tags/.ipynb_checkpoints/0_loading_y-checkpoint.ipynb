{
 "cells": [
  {
   "cell_type": "code",
   "execution_count": 1,
   "id": "eaeb4244",
   "metadata": {},
   "outputs": [],
   "source": [
    "import pandas as pd\n",
    "df = pd.read_csv('C:/Users/david/Documents/0_kul/1_ma_stds_1/1_advanced_analytics/assignment_2/data/recipes.csv',delimiter=';')"
   ]
  },
  {
   "cell_type": "code",
   "execution_count": 2,
   "id": "05c931c6",
   "metadata": {},
   "outputs": [
    {
     "name": "stdout",
     "output_type": "stream",
     "text": [
      "(11685, 104)\n",
      "(11696, 104)\n"
     ]
    }
   ],
   "source": [
    "# Make a dataframe with unwanted rows/data.\n",
    "empty = ['CMbgB5tjSJa', 'CMbJFC-F3Tz',' CMmV2A2sBvY', 'CMMyIsZgX31', 'CMO5_RRDV5z',\n",
    "'CMO98R3n1M3', 'CMO967MAl3V','CMOOv-qh1fN', 'CMP4fSDrLhn', 'CMT_uYYFJIp', 'CMTz1OZqDAG','CMmV2A2sBvY']\n",
    "df_undesired = df[df['photo_id'].isin(empty)]\n",
    "df_undesired.index\n",
    "df_cleaned = df.drop(df_undesired.index)\n",
    "print(df_cleaned.shape)\n",
    "print(df.shape)"
   ]
  },
  {
   "cell_type": "code",
   "execution_count": 3,
   "id": "8b175348",
   "metadata": {},
   "outputs": [],
   "source": [
    "df_cleaned.to_csv(\"C:/Users/david/Documents/0_kul/1_ma_stds_1/1_advanced_analytics/assignment_2/data/meaningful/recipe_without_empty.csv\",index=False)"
   ]
  },
  {
   "cell_type": "code",
   "execution_count": null,
   "id": "69bf9b0a",
   "metadata": {},
   "outputs": [],
   "source": []
  }
 ],
 "metadata": {
  "kernelspec": {
   "display_name": "Python 3",
   "language": "python",
   "name": "python3"
  },
  "language_info": {
   "codemirror_mode": {
    "name": "ipython",
    "version": 3
   },
   "file_extension": ".py",
   "mimetype": "text/x-python",
   "name": "python",
   "nbconvert_exporter": "python",
   "pygments_lexer": "ipython3",
   "version": "3.6.13"
  }
 },
 "nbformat": 4,
 "nbformat_minor": 5
}
