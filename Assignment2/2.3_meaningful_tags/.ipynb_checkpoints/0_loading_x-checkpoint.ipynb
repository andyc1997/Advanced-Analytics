{
 "cells": [
  {
   "cell_type": "code",
   "execution_count": 1,
   "id": "1fca1385",
   "metadata": {},
   "outputs": [],
   "source": [
    "from tensorflow.keras.preprocessing import image\n",
    "import numpy as np\n",
    "import pandas as pd\n",
    "import os\n",
    "os.chdir('C:/Users/david/Documents/0_kul/1_ma_stds_1/1_advanced_analytics/assignment_2/data/images')"
   ]
  },
  {
   "cell_type": "code",
   "execution_count": 2,
   "id": "851959cc",
   "metadata": {},
   "outputs": [],
   "source": [
    "# creating function to extract pixel from png\n",
    "def get_images(path):\n",
    "    X = []\n",
    "    for img_path in path:\n",
    "        img = image.load_img(img_path,target_size=(200,200)) # it is easier to work with one size. we set it to 200x200\n",
    "        x = image.img_to_array(img)\n",
    "        X.append(x)\n",
    "    return np.array(X)"
   ]
  },
  {
   "cell_type": "code",
   "execution_count": 3,
   "id": "6b88b368",
   "metadata": {},
   "outputs": [],
   "source": [
    "df = pd.read_csv(\"C:/Users/david/Documents/0_kul/1_ma_stds_1/1_advanced_analytics/assignment_2/data/meaningful/df.csv\",delimiter=',')"
   ]
  },
  {
   "cell_type": "code",
   "execution_count": 4,
   "id": "b8db25e2",
   "metadata": {},
   "outputs": [
    {
     "name": "stdout",
     "output_type": "stream",
     "text": [
      "['CMPD73jJssJ' 'CMPD1lBJbbq' 'CMPDn1oDxJA' ... 'CMrvaGpDhl6' 'CLcZTwNlPFd'\n",
      " 'CMsOuc5no2N']\n",
      "(1493,)\n"
     ]
    }
   ],
   "source": [
    "# Use the index of this unwanted dataframe to drop the rows from the original dataframe.\n",
    "id = df.photo_id.values\n",
    "print(id)\n",
    "print(id.shape)"
   ]
  },
  {
   "cell_type": "code",
   "execution_count": 5,
   "id": "6d1edf90",
   "metadata": {},
   "outputs": [
    {
     "data": {
      "text/plain": [
       "array(['CMPD73jJssJ.png', 'CMPD1lBJbbq.png', 'CMPDn1oDxJA.png', ...,\n",
       "       'CMrvaGpDhl6.png', 'CLcZTwNlPFd.png', 'CMsOuc5no2N.png'],\n",
       "      dtype=object)"
      ]
     },
     "execution_count": 5,
     "metadata": {},
     "output_type": "execute_result"
    }
   ],
   "source": [
    "# creating the path\n",
    "my_path = id +'.png'\n",
    "my_path"
   ]
  },
  {
   "cell_type": "code",
   "execution_count": 6,
   "id": "85891214",
   "metadata": {},
   "outputs": [],
   "source": [
    "# Extracting the pixels from the images\n",
    "pixel = get_images(my_path)"
   ]
  },
  {
   "cell_type": "code",
   "execution_count": 7,
   "id": "bcb9bf86",
   "metadata": {},
   "outputs": [
    {
     "name": "stdout",
     "output_type": "stream",
     "text": [
      "<class 'numpy.ndarray'>\n",
      "(1493, 200, 200, 3)\n"
     ]
    }
   ],
   "source": [
    "print(type(pixel))\n",
    "print(pixel.shape)"
   ]
  },
  {
   "cell_type": "code",
   "execution_count": 8,
   "id": "de65f0d5",
   "metadata": {},
   "outputs": [],
   "source": [
    "np.save('C:/Users/david/Documents/0_kul/1_ma_stds_1/1_advanced_analytics/assignment_2/data/meaningful/image_pixel_200', pixel) # saving it"
   ]
  },
  {
   "cell_type": "code",
   "execution_count": null,
   "id": "54ec456b",
   "metadata": {},
   "outputs": [],
   "source": []
  }
 ],
 "metadata": {
  "kernelspec": {
   "display_name": "Python 3",
   "language": "python",
   "name": "python3"
  },
  "language_info": {
   "codemirror_mode": {
    "name": "ipython",
    "version": 3
   },
   "file_extension": ".py",
   "mimetype": "text/x-python",
   "name": "python",
   "nbconvert_exporter": "python",
   "pygments_lexer": "ipython3",
   "version": "3.6.13"
  }
 },
 "nbformat": 4,
 "nbformat_minor": 5
}
