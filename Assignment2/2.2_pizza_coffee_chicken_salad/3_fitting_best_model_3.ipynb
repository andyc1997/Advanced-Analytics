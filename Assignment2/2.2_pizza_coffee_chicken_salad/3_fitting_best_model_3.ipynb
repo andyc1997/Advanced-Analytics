{
 "cells": [
  {
   "cell_type": "code",
   "execution_count": 1,
   "id": "49f99b99",
   "metadata": {},
   "outputs": [
    {
     "name": "stderr",
     "output_type": "stream",
     "text": [
      "Using TensorFlow backend.\n"
     ]
    }
   ],
   "source": [
    "import numpy as np\n",
    "import pandas as pd\n",
    "import matplotlib.pyplot as plt\n",
    "# import keras library\n",
    "import keras\n",
    "# import Sequential from the keras models module\n",
    "from keras import Sequential\n",
    "# import Dense, Dropout, Flatten, Conv2D, MaxPooling2D from the keras layers module\n",
    "from keras.layers import Dense,Flatten, Conv2D, MaxPooling2D\n",
    "from keras.optimizers import Adam\n",
    "from keras.callbacks import EarlyStopping, ModelCheckpoint"
   ]
  },
  {
   "cell_type": "code",
   "execution_count": 2,
   "id": "9ef83ee5",
   "metadata": {},
   "outputs": [
    {
     "name": "stdout",
     "output_type": "stream",
     "text": [
      "x_train shape: (611, 200, 200, 3)\n",
      "611 train samples\n",
      "263 test samples\n",
      "(874, 4)\n"
     ]
    }
   ],
   "source": [
    "y = pd.read_csv(\"C:/Users/david/Documents/0_kul/1_ma_stds_1/1_advanced_analytics/assignment_2/data/pizza/y.csv\",delimiter=',')\n",
    "x = np.load('C:/Users/david/Documents/0_kul/1_ma_stds_1/1_advanced_analytics/assignment_2/data/pizza/image_pixel_200.npy') # loading it\n",
    "from sklearn.model_selection import train_test_split\n",
    "x_train,x_test,y_train,y_test = train_test_split(x,y,test_size=0.3,random_state=42)\n",
    "# examine number of samples in train, test, and validation sets\n",
    "print('x_train shape:', x_train.shape)\n",
    "print(x_train.shape[0], 'train samples')\n",
    "print(x_test.shape[0], 'test samples')\n",
    "print(y.shape)"
   ]
  },
  {
   "cell_type": "code",
   "execution_count": 3,
   "id": "3e8bad67",
   "metadata": {},
   "outputs": [],
   "source": [
    "def plot_loss(loss,val_loss):\n",
    "  plt.figure()\n",
    "  plt.plot(loss)\n",
    "  plt.plot(val_loss)\n",
    "  plt.title('Model loss')\n",
    "  plt.ylabel('Loss')\n",
    "  plt.xlabel('Epoch')\n",
    "  plt.legend(['Train', 'Test'], loc='upper right')\n",
    "  plt.show()"
   ]
  },
  {
   "cell_type": "code",
   "execution_count": 4,
   "id": "e0d5e70b",
   "metadata": {},
   "outputs": [],
   "source": [
    "def plot_accuracy(acc,val_acc):\n",
    "  # Plot training & validation accuracy values\n",
    "  plt.figure()\n",
    "  plt.plot(acc)\n",
    "  plt.plot(val_acc)\n",
    "  plt.title('Model accuracy')\n",
    "  plt.ylabel('Accuracy')\n",
    "  plt.xlabel('Epoch')\n",
    "  plt.legend(['Train', 'Test'], loc='upper left')\n",
    "  plt.show()"
   ]
  },
  {
   "cell_type": "code",
   "execution_count": 5,
   "id": "3ec7680a",
   "metadata": {},
   "outputs": [],
   "source": [
    "early_stopping = EarlyStopping(monitor='val_loss',patience=5)\n",
    "modelCheckpoint = ModelCheckpoint('best_model.hdf5',save_best_only=True)"
   ]
  },
  {
   "cell_type": "code",
   "execution_count": 6,
   "id": "12ee33e6",
   "metadata": {},
   "outputs": [],
   "source": [
    "def create_model(learning_rate,kernel,acti_function,acti_output,loss_f):\n",
    "    opt = Adam(lr=learning_rate)\n",
    "    model = Sequential()\n",
    "    model.add(Conv2D(50,kernel_size=kernel,activation=acti_function,input_shape=(200,200,3)))\n",
    "    model.add(MaxPooling2D(4))\n",
    "    model.add(Conv2D(25,kernel_size=kernel,activation=acti_function))\n",
    "    model.add(MaxPooling2D(3))\n",
    "    model.add(Flatten())\n",
    "    model.add(Dense(4,activation=acti_output))\n",
    "    model.compile(optimizer = opt, loss=loss_f,metrics=['accuracy'])\n",
    "    return model"
   ]
  },
  {
   "cell_type": "code",
   "execution_count": 7,
   "id": "f594383e",
   "metadata": {},
   "outputs": [],
   "source": [
    "best_model = create_model(learning_rate = 0.001 , kernel = 3, acti_function = 'sigmoid',\n",
    "                          acti_output = 'softmax', loss_f = 'binary_crossentropy')"
   ]
  },
  {
   "cell_type": "code",
   "execution_count": 8,
   "id": "8c89b608",
   "metadata": {},
   "outputs": [
    {
     "name": "stdout",
     "output_type": "stream",
     "text": [
      "Train on 427 samples, validate on 184 samples\n",
      "Epoch 1/100\n",
      "427/427 [==============================] - 10s 22ms/step - loss: 0.6992 - accuracy: 0.7119 - val_loss: 0.5735 - val_accuracy: 0.7337\n",
      "Epoch 2/100\n",
      "427/427 [==============================] - 9s 22ms/step - loss: 0.5731 - accuracy: 0.7301 - val_loss: 0.5728 - val_accuracy: 0.7337\n",
      "Epoch 3/100\n",
      "427/427 [==============================] - 9s 22ms/step - loss: 0.5706 - accuracy: 0.7301 - val_loss: 0.5733 - val_accuracy: 0.7337\n",
      "Epoch 4/100\n",
      "427/427 [==============================] - 9s 22ms/step - loss: 0.5722 - accuracy: 0.7301 - val_loss: 0.5713 - val_accuracy: 0.7337\n",
      "Epoch 5/100\n",
      "427/427 [==============================] - 9s 22ms/step - loss: 0.5716 - accuracy: 0.7301 - val_loss: 0.5723 - val_accuracy: 0.7337\n",
      "Epoch 6/100\n",
      "427/427 [==============================] - 9s 21ms/step - loss: 0.5652 - accuracy: 0.7324 - val_loss: 0.6171 - val_accuracy: 0.6984\n",
      "Epoch 7/100\n",
      "427/427 [==============================] - 9s 21ms/step - loss: 0.5689 - accuracy: 0.7266 - val_loss: 0.5721 - val_accuracy: 0.7337\n",
      "Epoch 8/100\n",
      "427/427 [==============================] - 9s 21ms/step - loss: 0.5657 - accuracy: 0.7278 - val_loss: 0.5697 - val_accuracy: 0.7337\n",
      "Epoch 9/100\n",
      "427/427 [==============================] - 9s 22ms/step - loss: 0.5609 - accuracy: 0.7307 - val_loss: 0.5672 - val_accuracy: 0.7255\n",
      "Epoch 10/100\n",
      "427/427 [==============================] - 10s 23ms/step - loss: 0.5554 - accuracy: 0.7377 - val_loss: 0.5607 - val_accuracy: 0.7337\n",
      "Epoch 11/100\n",
      "427/427 [==============================] - 10s 23ms/step - loss: 0.5375 - accuracy: 0.7424 - val_loss: 0.5553 - val_accuracy: 0.7459\n",
      "Epoch 12/100\n",
      "427/427 [==============================] - 10s 24ms/step - loss: 0.5277 - accuracy: 0.7482 - val_loss: 0.5996 - val_accuracy: 0.7323\n",
      "Epoch 13/100\n",
      "427/427 [==============================] - 10s 24ms/step - loss: 0.5192 - accuracy: 0.7494 - val_loss: 0.5555 - val_accuracy: 0.7391\n",
      "Epoch 14/100\n",
      "427/427 [==============================] - 11s 25ms/step - loss: 0.4914 - accuracy: 0.7611 - val_loss: 0.5548 - val_accuracy: 0.7418\n",
      "Epoch 15/100\n",
      "427/427 [==============================] - 11s 25ms/step - loss: 0.4816 - accuracy: 0.7705 - val_loss: 0.5592 - val_accuracy: 0.7378\n",
      "Epoch 16/100\n",
      "427/427 [==============================] - 12s 28ms/step - loss: 0.4619 - accuracy: 0.7810 - val_loss: 0.5636 - val_accuracy: 0.7351\n",
      "Epoch 17/100\n",
      "427/427 [==============================] - 12s 28ms/step - loss: 0.4617 - accuracy: 0.7834 - val_loss: 0.5656 - val_accuracy: 0.7337\n",
      "Epoch 18/100\n",
      "427/427 [==============================] - 13s 29ms/step - loss: 0.4474 - accuracy: 0.7957 - val_loss: 0.5615 - val_accuracy: 0.7337\n",
      "Epoch 19/100\n",
      "427/427 [==============================] - 12s 28ms/step - loss: 0.4245 - accuracy: 0.8044 - val_loss: 0.5814 - val_accuracy: 0.7269\n"
     ]
    }
   ],
   "source": [
    "h_callback = best_model.fit(x_train, y_train,epochs = 100, batch_size = 10,\n",
    "                    callbacks = [early_stopping,modelCheckpoint],\n",
    "                    validation_split = 0.3)"
   ]
  },
  {
   "cell_type": "code",
   "execution_count": 9,
   "id": "85118dfc",
   "metadata": {},
   "outputs": [
    {
     "name": "stdout",
     "output_type": "stream",
     "text": [
      "611/611 [==============================] - 4s 7ms/step\n"
     ]
    },
    {
     "data": {
      "text/plain": [
       "[0.4447590884327303, 0.8011456727981567]"
      ]
     },
     "execution_count": 9,
     "metadata": {},
     "output_type": "execute_result"
    }
   ],
   "source": [
    "best_model.evaluate(x_train,y_train)"
   ]
  },
  {
   "cell_type": "code",
   "execution_count": 10,
   "id": "c46c06c9",
   "metadata": {},
   "outputs": [
    {
     "name": "stdout",
     "output_type": "stream",
     "text": [
      "263/263 [==============================] - 2s 7ms/step\n"
     ]
    },
    {
     "data": {
      "text/plain": [
       "[0.5718362405046311, 0.7366920113563538]"
      ]
     },
     "execution_count": 10,
     "metadata": {},
     "output_type": "execute_result"
    }
   ],
   "source": [
    "best_model.evaluate(x_test,y_test)"
   ]
  },
  {
   "cell_type": "code",
   "execution_count": 11,
   "id": "aca16475",
   "metadata": {},
   "outputs": [
    {
     "data": {
      "image/png": "[encoded data removed]",
      "text/plain": [
       "<Figure size 432x288 with 1 Axes>"
      ]
     },
     "metadata": {
      "needs_background": "light"
     },
     "output_type": "display_data"
    },
    {
     "data": {
      "image/png": "[encoded data removed]",
      "text/plain": [
       "<Figure size 432x288 with 1 Axes>"
      ]
     },
     "metadata": {
      "needs_background": "light"
     },
     "output_type": "display_data"
    }
   ],
   "source": [
    "# Plot train vs test loss during training\n",
    "plot_loss(h_callback.history['loss'], h_callback.history['val_loss'])\n",
    "# Plot train vs test accuracy during training\n",
    "plot_accuracy(h_callback.history['accuracy'], h_callback.history['val_accuracy'])"
   ]
  },
  {
   "cell_type": "code",
   "execution_count": 12,
   "id": "3252da02",
   "metadata": {},
   "outputs": [
    {
     "name": "stdout",
     "output_type": "stream",
     "text": [
      "Saved model to disk\n"
     ]
    }
   ],
   "source": [
    "from keras.models import model_from_json\n",
    "#serialize model to JSON\n",
    "model_json = best_model.to_json()\n",
    "with open(\"model.json\", \"w\") as json_file:\n",
    "    json_file.write(model_json)\n",
    "# serialize weights to HDF5\n",
    "best_model.save_weights(\"model.h5\")\n",
    "print(\"Saved model to disk\")"
   ]
  }
 ],
 "metadata": {
  "kernelspec": {
   "display_name": "Python 3",
   "language": "python",
   "name": "python3"
  },
  "language_info": {
   "codemirror_mode": {
    "name": "ipython",
    "version": 3
   },
   "file_extension": ".py",
   "mimetype": "text/x-python",
   "name": "python",
   "nbconvert_exporter": "python",
   "pygments_lexer": "ipython3",
   "version": "3.6.13"
  }
 },
 "nbformat": 4,
 "nbformat_minor": 5
}
