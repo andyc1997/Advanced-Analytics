{
 "cells": [
  {
   "cell_type": "code",
   "execution_count": 17,
   "id": "49f99b99",
   "metadata": {},
   "outputs": [],
   "source": [
    "import numpy as np\n",
    "import pandas as pd\n",
    "import matplotlib.pyplot as plt\n",
    "# import keras library\n",
    "import keras\n",
    "# import Sequential from the keras models module\n",
    "from keras import Sequential\n",
    "# import Dense, Dropout, Flatten, Conv2D, MaxPooling2D from the keras layers module\n",
    "from keras.layers import Dense,Flatten, Conv2D, MaxPooling2D\n",
    "from keras.optimizers import Adam\n",
    "from keras.callbacks import EarlyStopping, ModelCheckpoint"
   ]
  },
  {
   "cell_type": "code",
   "execution_count": 18,
   "id": "9ef83ee5",
   "metadata": {},
   "outputs": [
    {
     "name": "stdout",
     "output_type": "stream",
     "text": [
      "x_train shape: (611, 200, 200, 3)\n",
      "611 train samples\n",
      "263 test samples\n",
      "(874, 4)\n"
     ]
    }
   ],
   "source": [
    "y = pd.read_csv(\"C:/Users/david/Documents/0_kul/1_ma_stds_1/1_advanced_analytics/assignment_2/data/pizza/y.csv\",delimiter=',')\n",
    "x = np.load('C:/Users/david/Documents/0_kul/1_ma_stds_1/1_advanced_analytics/assignment_2/data/pizza/image_pixel_200.npy') # loading it\n",
    "from sklearn.model_selection import train_test_split\n",
    "x_train,x_test,y_train,y_test = train_test_split(x,y,test_size=0.3,random_state=42)\n",
    "# examine number of samples in train, test, and validation sets\n",
    "print('x_train shape:', x_train.shape)\n",
    "print(x_train.shape[0], 'train samples')\n",
    "print(x_test.shape[0], 'test samples')\n",
    "print(y.shape)"
   ]
  },
  {
   "cell_type": "code",
   "execution_count": 19,
   "id": "3e8bad67",
   "metadata": {},
   "outputs": [],
   "source": [
    "def plot_loss(loss,val_loss):\n",
    "  plt.figure()\n",
    "  plt.plot(loss)\n",
    "  plt.plot(val_loss)\n",
    "  plt.title('Model loss')\n",
    "  plt.ylabel('Loss')\n",
    "  plt.xlabel('Epoch')\n",
    "  plt.legend(['Train', 'Test'], loc='upper right')\n",
    "  plt.show()"
   ]
  },
  {
   "cell_type": "code",
   "execution_count": 20,
   "id": "e0d5e70b",
   "metadata": {},
   "outputs": [],
   "source": [
    "def plot_accuracy(acc,val_acc):\n",
    "  # Plot training & validation accuracy values\n",
    "  plt.figure()\n",
    "  plt.plot(acc)\n",
    "  plt.plot(val_acc)\n",
    "  plt.title('Model accuracy')\n",
    "  plt.ylabel('Accuracy')\n",
    "  plt.xlabel('Epoch')\n",
    "  plt.legend(['Train', 'Test'], loc='upper left')\n",
    "  plt.show()"
   ]
  },
  {
   "cell_type": "code",
   "execution_count": 21,
   "id": "3ec7680a",
   "metadata": {},
   "outputs": [],
   "source": [
    "early_stopping = EarlyStopping(monitor='val_loss',patience=5)\n",
    "modelCheckpoint = ModelCheckpoint('best_model.hdf5',save_best_only=True)"
   ]
  },
  {
   "cell_type": "code",
   "execution_count": 22,
   "id": "12ee33e6",
   "metadata": {},
   "outputs": [],
   "source": [
    "def create_model(learning_rate,kernel,acti_function,acti_output,loss_f):\n",
    "    opt = Adam(lr=learning_rate)\n",
    "    model = Sequential()\n",
    "    model.add(Conv2D(50,kernel_size=kernel,activation=acti_function,input_shape=(200,200,3)))\n",
    "    model.add(MaxPooling2D(4))\n",
    "    model.add(Conv2D(25,kernel_size=kernel,activation=acti_function))\n",
    "    model.add(MaxPooling2D(3))\n",
    "    model.add(Flatten())\n",
    "    model.add(Dense(4,activation=acti_output))\n",
    "    model.compile(optimizer = opt, loss=loss_f,metrics=['accuracy'])\n",
    "    return model"
   ]
  },
  {
   "cell_type": "code",
   "execution_count": 23,
   "id": "f594383e",
   "metadata": {},
   "outputs": [],
   "source": [
    "best_model = create_model(learning_rate = 0.001 , kernel = 3, acti_function = 'sigmoid',\n",
    "                          acti_output = 'softmax', loss_f = 'binary_crossentropy')"
   ]
  },
  {
   "cell_type": "code",
   "execution_count": 24,
   "id": "8c89b608",
   "metadata": {},
   "outputs": [
    {
     "name": "stdout",
     "output_type": "stream",
     "text": [
      "Train on 427 samples, validate on 184 samples\n",
      "Epoch 1/100\n",
      "427/427 [==============================] - 10s 23ms/step - loss: 0.6485 - accuracy: 0.7155 - val_loss: 0.5717 - val_accuracy: 0.7337\n",
      "Epoch 2/100\n",
      "427/427 [==============================] - 10s 24ms/step - loss: 0.5686 - accuracy: 0.7301 - val_loss: 0.5691 - val_accuracy: 0.7337\n",
      "Epoch 3/100\n",
      "427/427 [==============================] - 10s 23ms/step - loss: 0.5653 - accuracy: 0.7313 - val_loss: 0.5669 - val_accuracy: 0.7337\n",
      "Epoch 4/100\n",
      "427/427 [==============================] - 9s 22ms/step - loss: 0.5561 - accuracy: 0.7330 - val_loss: 0.5593 - val_accuracy: 0.7337\n",
      "Epoch 5/100\n",
      "427/427 [==============================] - 9s 21ms/step - loss: 0.5408 - accuracy: 0.7453 - val_loss: 0.5511 - val_accuracy: 0.7459\n",
      "Epoch 6/100\n",
      "427/427 [==============================] - 9s 22ms/step - loss: 0.5261 - accuracy: 0.7500 - val_loss: 0.5507 - val_accuracy: 0.7323\n",
      "Epoch 7/100\n",
      "427/427 [==============================] - 9s 21ms/step - loss: 0.5119 - accuracy: 0.7570 - val_loss: 0.5690 - val_accuracy: 0.7133\n",
      "Epoch 8/100\n",
      "427/427 [==============================] - 9s 22ms/step - loss: 0.4828 - accuracy: 0.7693 - val_loss: 0.5519 - val_accuracy: 0.7473\n",
      "Epoch 9/100\n",
      "427/427 [==============================] - 9s 22ms/step - loss: 0.4689 - accuracy: 0.7746 - val_loss: 0.5546 - val_accuracy: 0.7378\n",
      "Epoch 10/100\n",
      "427/427 [==============================] - 10s 23ms/step - loss: 0.4430 - accuracy: 0.7886 - val_loss: 0.5580 - val_accuracy: 0.7323\n",
      "Epoch 11/100\n",
      "427/427 [==============================] - 10s 24ms/step - loss: 0.4254 - accuracy: 0.7963 - val_loss: 0.5748 - val_accuracy: 0.7378\n"
     ]
    }
   ],
   "source": [
    "h_callback = best_model.fit(x_train, y_train,epochs = 100, batch_size = 10,\n",
    "                    callbacks = [early_stopping,modelCheckpoint],\n",
    "                    validation_split = 0.3)"
   ]
  },
  {
   "cell_type": "code",
   "execution_count": 25,
   "id": "85118dfc",
   "metadata": {},
   "outputs": [
    {
     "name": "stdout",
     "output_type": "stream",
     "text": [
      "611/611 [==============================] - 4s 6ms/step\n"
     ]
    },
    {
     "data": {
      "text/plain": [
       "[0.4308816554991196, 0.8048281669616699]"
      ]
     },
     "execution_count": 25,
     "metadata": {},
     "output_type": "execute_result"
    }
   ],
   "source": [
    "best_model.evaluate(x_train,y_train)"
   ]
  },
  {
   "cell_type": "code",
   "execution_count": 26,
   "id": "c46c06c9",
   "metadata": {},
   "outputs": [
    {
     "name": "stdout",
     "output_type": "stream",
     "text": [
      "263/263 [==============================] - 2s 6ms/step\n"
     ]
    },
    {
     "data": {
      "text/plain": [
       "[0.5746556359552158, 0.7376425862312317]"
      ]
     },
     "execution_count": 26,
     "metadata": {},
     "output_type": "execute_result"
    }
   ],
   "source": [
    "best_model.evaluate(x_test,y_test)"
   ]
  },
  {
   "cell_type": "code",
   "execution_count": 27,
   "id": "aca16475",
   "metadata": {},
   "outputs": [
    {
     "data": {
      "image/png": "[encoded data removed]",
      "text/plain": [
       "<Figure size 432x288 with 1 Axes>"
      ]
     },
     "metadata": {
      "needs_background": "light"
     },
     "output_type": "display_data"
    },
    {
     "data": {
      "image/png": "[encoded data removed]",
      "text/plain": [
       "<Figure size 432x288 with 1 Axes>"
      ]
     },
     "metadata": {
      "needs_background": "light"
     },
     "output_type": "display_data"
    }
   ],
   "source": [
    "# Plot train vs test loss during training\n",
    "plot_loss(h_callback.history['loss'], h_callback.history['val_loss'])\n",
    "# Plot train vs test accuracy during training\n",
    "plot_accuracy(h_callback.history['accuracy'], h_callback.history['val_accuracy'])"
   ]
  },
  {
   "cell_type": "code",
   "execution_count": 28,
   "id": "3252da02",
   "metadata": {},
   "outputs": [
    {
     "name": "stdout",
     "output_type": "stream",
     "text": [
      "Saved model to disk\n"
     ]
    }
   ],
   "source": [
    "from keras.models import model_from_json\n",
    "#serialize model to JSON\n",
    "model_json = best_model.to_json()\n",
    "with open(\"model.json\", \"w\") as json_file:\n",
    "    json_file.write(model_json)\n",
    "# serialize weights to HDF5\n",
    "best_model.save_weights(\"model.h5\")\n",
    "print(\"Saved model to disk\")"
   ]
  },
  {
   "cell_type": "code",
   "execution_count": null,
   "id": "bdf120ff",
   "metadata": {},
   "outputs": [],
   "source": []
  }
 ],
 "metadata": {
  "kernelspec": {
   "display_name": "Python 3",
   "language": "python",
   "name": "python3"
  },
  "language_info": {
   "codemirror_mode": {
    "name": "ipython",
    "version": 3
   },
   "file_extension": ".py",
   "mimetype": "text/x-python",
   "name": "python",
   "nbconvert_exporter": "python",
   "pygments_lexer": "ipython3",
   "version": "3.6.13"
  }
 },
 "nbformat": 4,
 "nbformat_minor": 5
}
