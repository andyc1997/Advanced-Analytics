{
 "cells": [
  {
   "cell_type": "code",
   "execution_count": 1,
   "id": "f9dd46b4",
   "metadata": {},
   "outputs": [
    {
     "name": "stderr",
     "output_type": "stream",
     "text": [
      "Using TensorFlow backend.\n"
     ]
    }
   ],
   "source": [
    "import numpy as np\n",
    "import pandas as pd\n",
    "import matplotlib.pyplot as plt\n",
    "# import keras library\n",
    "import keras\n",
    "# import Sequential from the keras models module\n",
    "from keras import Sequential\n",
    "# import Dense, Dropout, Flatten, Conv2D, MaxPooling2D from the keras layers module\n",
    "from keras.layers import Dense,Flatten, Conv2D\n",
    "from keras.optimizers import Adam\n",
    "from keras.callbacks import EarlyStopping, ModelCheckpoint"
   ]
  },
  {
   "cell_type": "code",
   "execution_count": 2,
   "id": "2f04e0dd",
   "metadata": {},
   "outputs": [
    {
     "name": "stdout",
     "output_type": "stream",
     "text": [
      "x_train shape: (611, 200, 200, 3)\n",
      "611 train samples\n",
      "263 test samples\n",
      "(874, 4)\n"
     ]
    }
   ],
   "source": [
    "y = pd.read_csv(\"C:/Users/david/Documents/0_kul/1_ma_stds_1/1_advanced_analytics/assignment_2/data/pizza/y.csv\",delimiter=',')\n",
    "x = np.load('C:/Users/david/Documents/0_kul/1_ma_stds_1/1_advanced_analytics/assignment_2/data/pizza/image_pixel_200.npy') # loading it\n",
    "from sklearn.model_selection import train_test_split\n",
    "x_train,x_test,y_train,y_test = train_test_split(x,y,test_size=0.3,random_state=42)\n",
    "# examine number of samples in train, test, and validation sets\n",
    "print('x_train shape:', x_train.shape)\n",
    "print(x_train.shape[0], 'train samples')\n",
    "print(x_test.shape[0], 'test samples')\n",
    "print(y.shape)"
   ]
  },
  {
   "cell_type": "code",
   "execution_count": 3,
   "id": "89e4689f",
   "metadata": {},
   "outputs": [],
   "source": [
    "def plot_loss(loss,val_loss):\n",
    "  plt.figure()\n",
    "  plt.plot(loss)\n",
    "  plt.plot(val_loss)\n",
    "  plt.title('Model loss')\n",
    "  plt.ylabel('Loss')\n",
    "  plt.xlabel('Epoch')\n",
    "  plt.legend(['Train', 'Test'], loc='upper right')\n",
    "  plt.show()"
   ]
  },
  {
   "cell_type": "code",
   "execution_count": 4,
   "id": "44cc20ce",
   "metadata": {},
   "outputs": [],
   "source": [
    "def plot_accuracy(acc,val_acc):\n",
    "  # Plot training & validation accuracy values\n",
    "  plt.figure()\n",
    "  plt.plot(acc)\n",
    "  plt.plot(val_acc)\n",
    "  plt.title('Model accuracy')\n",
    "  plt.ylabel('Accuracy')\n",
    "  plt.xlabel('Epoch')\n",
    "  plt.legend(['Train', 'Test'], loc='upper left')\n",
    "  plt.show()"
   ]
  },
  {
   "cell_type": "code",
   "execution_count": 5,
   "id": "c80fe5c9",
   "metadata": {},
   "outputs": [],
   "source": [
    "early_stopping = EarlyStopping(monitor='val_loss',patience=5)\n",
    "modelCheckpoint = ModelCheckpoint('best_model.hdf5',save_best_only=True)"
   ]
  },
  {
   "cell_type": "code",
   "execution_count": 6,
   "id": "fcbf0afa",
   "metadata": {},
   "outputs": [],
   "source": [
    "def create_model(learning_rate,kernel,acti_function,acti_output,loss_f):\n",
    "    opt = Adam(lr=learning_rate)\n",
    "    model = Sequential()\n",
    "    model.add(Conv2D(15,kernel_size=kernel,activation=acti_function,input_shape=(200,200,3)))\n",
    "    model.add(Conv2D(5,kernel_size=kernel,activation=acti_function))\n",
    "    model.add(Flatten())\n",
    "    model.add(Dense(4,activation=acti_output))\n",
    "    model.compile(optimizer = opt, loss=loss_f,metrics=['accuracy'])\n",
    "    return model"
   ]
  },
  {
   "cell_type": "code",
   "execution_count": 7,
   "id": "690e118e",
   "metadata": {},
   "outputs": [],
   "source": [
    "# Import KerasClassifier from keras scikit learn wrappers\n",
    "from keras.wrappers.scikit_learn import KerasClassifier\n",
    "# Create a KerasClassifier\n",
    "model = KerasClassifier(build_fn = create_model)"
   ]
  },
  {
   "cell_type": "code",
   "execution_count": 8,
   "id": "e15868f9",
   "metadata": {},
   "outputs": [],
   "source": [
    "# Define the parameters to try out\n",
    "params = {'acti_function': ['relu', 'tanh' , 'sigmoid'], 'kernel': [3,2,4],\n",
    "          'acti_output' : ['softmax','sigmoid'], 'loss_f' : ['binary_crossentropy','categorical_crossentropy'],\n",
    "           'epochs' : [100] ,'batch_size' : [10,20], 'learning_rate': [0.1,0.01,0.001,0.0001]}"
   ]
  },
  {
   "cell_type": "code",
   "execution_count": 9,
   "id": "c7090c98",
   "metadata": {},
   "outputs": [],
   "source": [
    "from sklearn.model_selection import RandomizedSearchCV\n",
    "from sklearn.model_selection import KFold\n",
    "# Create a randomize search cv object passing in the parameters to try\n",
    "random_search = RandomizedSearchCV(model, param_distributions = params,n_iter=6,cv = KFold(3))"
   ]
  },
  {
   "cell_type": "code",
   "execution_count": 10,
   "id": "7add47ab",
   "metadata": {},
   "outputs": [
    {
     "name": "stdout",
     "output_type": "stream",
     "text": [
      "Train on 284 samples, validate on 123 samples\n",
      "Epoch 1/100\n",
      "284/284 [==============================] - 4s 15ms/step - loss: 2.6028 - accuracy: 0.6215 - val_loss: 2.0527 - val_accuracy: 0.6626\n",
      "Epoch 2/100\n",
      "284/284 [==============================] - 4s 15ms/step - loss: 1.9965 - accuracy: 0.6470 - val_loss: 2.3291 - val_accuracy: 0.6626\n",
      "Epoch 3/100\n",
      "284/284 [==============================] - 4s 15ms/step - loss: 2.1240 - accuracy: 0.6452 - val_loss: 1.9882 - val_accuracy: 0.6423\n",
      "Epoch 4/100\n",
      "284/284 [==============================] - 4s 14ms/step - loss: 2.0213 - accuracy: 0.6576 - val_loss: 1.9520 - val_accuracy: 0.6667\n",
      "Epoch 5/100\n",
      "284/284 [==============================] - 4s 15ms/step - loss: 1.9073 - accuracy: 0.6998 - val_loss: 1.9517 - val_accuracy: 0.6667\n",
      "Epoch 6/100\n",
      "284/284 [==============================] - 4s 14ms/step - loss: 1.9339 - accuracy: 0.7033 - val_loss: 1.9709 - val_accuracy: 0.6423\n",
      "Epoch 7/100\n",
      "284/284 [==============================] - 4s 15ms/step - loss: 2.1655 - accuracy: 0.6664 - val_loss: 1.9508 - val_accuracy: 0.6951\n",
      "Epoch 8/100\n",
      "284/284 [==============================] - 4s 15ms/step - loss: 1.9186 - accuracy: 0.7086 - val_loss: 1.9792 - val_accuracy: 0.6626\n",
      "Epoch 9/100\n",
      "284/284 [==============================] - 4s 15ms/step - loss: 1.9170 - accuracy: 0.7192 - val_loss: 2.4355 - val_accuracy: 0.6626\n",
      "Epoch 10/100\n",
      "284/284 [==============================] - 4s 15ms/step - loss: 2.1832 - accuracy: 0.6664 - val_loss: 2.0487 - val_accuracy: 0.6585\n",
      "Epoch 11/100\n",
      "284/284 [==============================] - 4s 14ms/step - loss: 2.0595 - accuracy: 0.6857 - val_loss: 2.4437 - val_accuracy: 0.6626\n",
      "Epoch 12/100\n",
      "284/284 [==============================] - 4s 15ms/step - loss: 2.0472 - accuracy: 0.6787 - val_loss: 2.0104 - val_accuracy: 0.6504\n",
      "204/204 [==============================] - 1s 4ms/step\n",
      "Train on 284 samples, validate on 123 samples\n",
      "Epoch 1/100\n",
      "284/284 [==============================] - 4s 15ms/step - loss: 3.0898 - accuracy: 0.5871 - val_loss: 2.8840 - val_accuracy: 0.5976\n",
      "Epoch 2/100\n",
      "284/284 [==============================] - 5s 16ms/step - loss: 2.8214 - accuracy: 0.6100 - val_loss: 2.6332 - val_accuracy: 0.5976\n",
      "Epoch 3/100\n",
      "284/284 [==============================] - 5s 17ms/step - loss: 2.7605 - accuracy: 0.6259 - val_loss: 2.4513 - val_accuracy: 0.6341\n",
      "Epoch 4/100\n",
      "284/284 [==============================] - 4s 15ms/step - loss: 2.7105 - accuracy: 0.6171 - val_loss: 2.4653 - val_accuracy: 0.5976\n",
      "Epoch 5/100\n",
      "284/284 [==============================] - 4s 15ms/step - loss: 2.7199 - accuracy: 0.6312 - val_loss: 2.4513 - val_accuracy: 0.6057\n",
      "Epoch 6/100\n",
      "284/284 [==============================] - 4s 15ms/step - loss: 2.8539 - accuracy: 0.5836 - val_loss: 2.5477 - val_accuracy: 0.5976\n",
      "Epoch 7/100\n",
      "284/284 [==============================] - 4s 15ms/step - loss: 2.7158 - accuracy: 0.6382 - val_loss: 2.9730 - val_accuracy: 0.6301\n",
      "Epoch 8/100\n",
      "284/284 [==============================] - 4s 15ms/step - loss: 2.7427 - accuracy: 0.6435 - val_loss: 2.6446 - val_accuracy: 0.6301\n",
      "Epoch 9/100\n",
      "284/284 [==============================] - 4s 15ms/step - loss: 2.8134 - accuracy: 0.6153 - val_loss: 2.5143 - val_accuracy: 0.5976\n",
      "Epoch 10/100\n",
      "284/284 [==============================] - 4s 15ms/step - loss: 2.7311 - accuracy: 0.6294 - val_loss: 2.6502 - val_accuracy: 0.6301\n",
      "204/204 [==============================] - 1s 4ms/step\n",
      "Train on 285 samples, validate on 123 samples\n",
      "Epoch 1/100\n",
      "285/285 [==============================] - 5s 17ms/step - loss: 2.5927 - accuracy: 0.6500 - val_loss: 2.2227 - val_accuracy: 0.6341\n",
      "Epoch 2/100\n",
      "285/285 [==============================] - 5s 17ms/step - loss: 2.1279 - accuracy: 0.6491 - val_loss: 2.0804 - val_accuracy: 0.6707\n",
      "Epoch 3/100\n",
      "285/285 [==============================] - 5s 18ms/step - loss: 2.1159 - accuracy: 0.6632 - val_loss: 1.8990 - val_accuracy: 0.6707\n",
      "Epoch 4/100\n",
      "285/285 [==============================] - 5s 17ms/step - loss: 2.0851 - accuracy: 0.6737 - val_loss: 1.9914 - val_accuracy: 0.6707\n",
      "Epoch 5/100\n",
      "285/285 [==============================] - 4s 16ms/step - loss: 2.0278 - accuracy: 0.6684 - val_loss: 2.0226 - val_accuracy: 0.6707\n",
      "Epoch 6/100\n",
      "285/285 [==============================] - 4s 15ms/step - loss: 2.0356 - accuracy: 0.6684 - val_loss: 1.8764 - val_accuracy: 0.6667\n",
      "Epoch 7/100\n",
      "285/285 [==============================] - 4s 16ms/step - loss: 1.9916 - accuracy: 0.6526 - val_loss: 1.8497 - val_accuracy: 0.6707\n",
      "Epoch 8/100\n",
      "285/285 [==============================] - 4s 15ms/step - loss: 2.0907 - accuracy: 0.6842 - val_loss: 2.8045 - val_accuracy: 0.6707\n",
      "Epoch 9/100\n",
      "285/285 [==============================] - 4s 15ms/step - loss: 2.2057 - accuracy: 0.6807 - val_loss: 1.8520 - val_accuracy: 0.6748\n",
      "Epoch 10/100\n",
      "285/285 [==============================] - 4s 15ms/step - loss: 1.9520 - accuracy: 0.7123 - val_loss: 1.9938 - val_accuracy: 0.6341\n",
      "Epoch 11/100\n",
      "285/285 [==============================] - 4s 15ms/step - loss: 1.9412 - accuracy: 0.6930 - val_loss: 1.8642 - val_accuracy: 0.6707\n",
      "Epoch 12/100\n",
      "285/285 [==============================] - 4s 15ms/step - loss: 1.9138 - accuracy: 0.7140 - val_loss: 1.8683 - val_accuracy: 0.6585\n",
      "203/203 [==============================] - 1s 4ms/step\n",
      "Train on 284 samples, validate on 123 samples\n",
      "Epoch 1/100\n",
      "284/284 [==============================] - 4s 15ms/step - loss: 7.0115 - accuracy: 0.3662 - val_loss: 7.1339 - val_accuracy: 0.3577\n",
      "Epoch 2/100\n",
      "284/284 [==============================] - 4s 15ms/step - loss: 7.0399 - accuracy: 0.3662 - val_loss: 7.1339 - val_accuracy: 0.3577\n",
      "Epoch 3/100\n",
      "284/284 [==============================] - 4s 15ms/step - loss: 7.0399 - accuracy: 0.3662 - val_loss: 7.1339 - val_accuracy: 0.3577\n",
      "Epoch 4/100\n",
      "284/284 [==============================] - 4s 16ms/step - loss: 7.0399 - accuracy: 0.3662 - val_loss: 7.1339 - val_accuracy: 0.3577\n",
      "Epoch 5/100\n",
      "284/284 [==============================] - 4s 15ms/step - loss: 7.0399 - accuracy: 0.3662 - val_loss: 7.1339 - val_accuracy: 0.3577\n",
      "Epoch 6/100\n",
      "284/284 [==============================] - 4s 15ms/step - loss: 7.0399 - accuracy: 0.3662 - val_loss: 7.1339 - val_accuracy: 0.3577\n",
      "204/204 [==============================] - 1s 4ms/step\n",
      "Train on 284 samples, validate on 123 samples\n",
      "Epoch 1/100\n",
      "284/284 [==============================] - 4s 15ms/step - loss: 7.2969 - accuracy: 0.3415 - val_loss: 7.1339 - val_accuracy: 0.3577\n",
      "Epoch 2/100\n",
      "284/284 [==============================] - 4s 15ms/step - loss: 7.3804 - accuracy: 0.3521 - val_loss: 7.1339 - val_accuracy: 0.3577\n",
      "Epoch 3/100\n",
      "284/284 [==============================] - 4s 15ms/step - loss: 7.3804 - accuracy: 0.3521 - val_loss: 7.1339 - val_accuracy: 0.3577\n",
      "Epoch 4/100\n",
      "284/284 [==============================] - 4s 15ms/step - loss: 7.3804 - accuracy: 0.3521 - val_loss: 7.1339 - val_accuracy: 0.3577\n",
      "Epoch 5/100\n",
      "284/284 [==============================] - 4s 15ms/step - loss: 7.3804 - accuracy: 0.3521 - val_loss: 7.1339 - val_accuracy: 0.3577\n",
      "Epoch 6/100\n",
      "284/284 [==============================] - 4s 15ms/step - loss: 7.3804 - accuracy: 0.3521 - val_loss: 7.1339 - val_accuracy: 0.3577\n",
      "204/204 [==============================] - 1s 4ms/step\n",
      "Train on 285 samples, validate on 123 samples\n",
      "Epoch 1/100\n",
      "285/285 [==============================] - 4s 16ms/step - loss: 8.1384 - accuracy: 0.2281 - val_loss: 8.3880 - val_accuracy: 0.1951\n",
      "Epoch 2/100\n",
      "285/285 [==============================] - 5s 16ms/step - loss: 8.2204 - accuracy: 0.2316 - val_loss: 8.3880 - val_accuracy: 0.1951\n",
      "Epoch 3/100\n",
      "285/285 [==============================] - 4s 16ms/step - loss: 8.2204 - accuracy: 0.2316 - val_loss: 8.3880 - val_accuracy: 0.1951\n",
      "Epoch 4/100\n",
      "285/285 [==============================] - 4s 16ms/step - loss: 8.2204 - accuracy: 0.2316 - val_loss: 8.3880 - val_accuracy: 0.1951\n",
      "Epoch 5/100\n",
      "285/285 [==============================] - 4s 16ms/step - loss: 8.2204 - accuracy: 0.2316 - val_loss: 8.3880 - val_accuracy: 0.1951\n",
      "Epoch 6/100\n",
      "285/285 [==============================] - 4s 16ms/step - loss: 8.2204 - accuracy: 0.2316 - val_loss: 8.3880 - val_accuracy: 0.1951\n",
      "203/203 [==============================] - 1s 4ms/step\n",
      "Train on 284 samples, validate on 123 samples\n",
      "Epoch 1/100\n"
     ]
    },
    {
     "name": "stdout",
     "output_type": "stream",
     "text": [
      "284/284 [==============================] - 9s 32ms/step - loss: 295.3909 - accuracy: 0.2782 - val_loss: 79.4714 - val_accuracy: 0.3252\n",
      "Epoch 2/100\n",
      "284/284 [==============================] - 9s 33ms/step - loss: 46.1321 - accuracy: 0.5563 - val_loss: 53.8076 - val_accuracy: 0.2520\n",
      "Epoch 3/100\n",
      "284/284 [==============================] - 9s 33ms/step - loss: 40.2413 - accuracy: 0.5775 - val_loss: 77.4717 - val_accuracy: 0.3171\n",
      "Epoch 4/100\n",
      "284/284 [==============================] - 11s 37ms/step - loss: 93.9561 - accuracy: 0.4930 - val_loss: 195.6118 - val_accuracy: 0.1951\n",
      "Epoch 5/100\n",
      "284/284 [==============================] - 9s 33ms/step - loss: 34.5168 - accuracy: 0.7465 - val_loss: 181.3885 - val_accuracy: 0.2602\n",
      "Epoch 6/100\n",
      "284/284 [==============================] - 10s 36ms/step - loss: 218.3615 - accuracy: 0.5880 - val_loss: 727.7224 - val_accuracy: 0.3577\n",
      "Epoch 7/100\n",
      "284/284 [==============================] - 9s 33ms/step - loss: 419.7307 - accuracy: 0.5458 - val_loss: 1906.0550 - val_accuracy: 0.3577\n",
      "204/204 [==============================] - 1s 5ms/step\n",
      "Train on 284 samples, validate on 123 samples\n",
      "Epoch 1/100\n",
      "284/284 [==============================] - 9s 33ms/step - loss: 8.3027 - accuracy: 0.3028 - val_loss: 5.0463 - val_accuracy: 0.3171\n",
      "Epoch 2/100\n",
      "284/284 [==============================] - 9s 32ms/step - loss: 0.8494 - accuracy: 0.8451 - val_loss: 5.8461 - val_accuracy: 0.2764\n",
      "Epoch 3/100\n",
      "284/284 [==============================] - 9s 31ms/step - loss: 0.7986 - accuracy: 0.9261 - val_loss: 11.5120 - val_accuracy: 0.3089\n",
      "Epoch 4/100\n",
      "284/284 [==============================] - 9s 33ms/step - loss: 4.2796 - accuracy: 0.8662 - val_loss: 38.0536 - val_accuracy: 0.3740\n",
      "Epoch 5/100\n",
      "284/284 [==============================] - 10s 35ms/step - loss: 75.1208 - accuracy: 0.5035 - val_loss: 406.1217 - val_accuracy: 0.1870\n",
      "Epoch 6/100\n",
      "284/284 [==============================] - 10s 34ms/step - loss: 98.9911 - accuracy: 0.5387 - val_loss: 218.4591 - val_accuracy: 0.2602\n",
      "204/204 [==============================] - 1s 6ms/step\n",
      "Train on 285 samples, validate on 123 samples\n",
      "Epoch 1/100\n",
      "285/285 [==============================] - 11s 37ms/step - loss: 117.1764 - accuracy: 0.2491 - val_loss: 37.6384 - val_accuracy: 0.2276\n",
      "Epoch 2/100\n",
      "285/285 [==============================] - 10s 35ms/step - loss: 13.3804 - accuracy: 0.6035 - val_loss: 36.5794 - val_accuracy: 0.3902\n",
      "Epoch 3/100\n",
      "285/285 [==============================] - 10s 36ms/step - loss: 16.4027 - accuracy: 0.6667 - val_loss: 96.5823 - val_accuracy: 0.2602\n",
      "Epoch 4/100\n",
      "285/285 [==============================] - 10s 37ms/step - loss: 44.2161 - accuracy: 0.6070 - val_loss: 104.6495 - val_accuracy: 0.2846\n",
      "Epoch 5/100\n",
      "285/285 [==============================] - 11s 39ms/step - loss: 113.8570 - accuracy: 0.5439 - val_loss: 532.4995 - val_accuracy: 0.2927\n",
      "Epoch 6/100\n",
      "285/285 [==============================] - 12s 42ms/step - loss: 267.1582 - accuracy: 0.5298 - val_loss: 1001.8109 - val_accuracy: 0.1951\n",
      "Epoch 7/100\n",
      "285/285 [==============================] - 10s 36ms/step - loss: 868.6487 - accuracy: 0.3895 - val_loss: 2328.7903 - val_accuracy: 0.1951\n",
      "203/203 [==============================] - 1s 5ms/step\n",
      "Train on 284 samples, validate on 123 samples\n",
      "Epoch 1/100\n",
      "284/284 [==============================] - 7s 25ms/step - loss: 10.9465 - accuracy: 0.3627 - val_loss: 11.4006 - val_accuracy: 0.3577\n",
      "Epoch 2/100\n",
      "284/284 [==============================] - 9s 32ms/step - loss: 11.2373 - accuracy: 0.3662 - val_loss: 11.4006 - val_accuracy: 0.3577\n",
      "Epoch 3/100\n",
      "284/284 [==============================] - 9s 31ms/step - loss: 11.2373 - accuracy: 0.3662 - val_loss: 11.4006 - val_accuracy: 0.3577\n",
      "Epoch 4/100\n",
      "284/284 [==============================] - 7s 26ms/step - loss: 11.2373 - accuracy: 0.3662 - val_loss: 11.4006 - val_accuracy: 0.3577\n",
      "Epoch 5/100\n",
      "284/284 [==============================] - 9s 31ms/step - loss: 11.2373 - accuracy: 0.3662 - val_loss: 11.4006 - val_accuracy: 0.3577\n",
      "Epoch 6/100\n",
      "284/284 [==============================] - 8s 29ms/step - loss: 11.2373 - accuracy: 0.3662 - val_loss: 11.4006 - val_accuracy: 0.3577\n",
      "204/204 [==============================] - 1s 6ms/step\n",
      "Train on 284 samples, validate on 123 samples\n",
      "Epoch 1/100\n",
      "284/284 [==============================] - 7s 26ms/step - loss: 13.3955 - accuracy: 0.2324 - val_loss: 14.1525 - val_accuracy: 0.1870\n",
      "Epoch 2/100\n",
      "284/284 [==============================] - 7s 25ms/step - loss: 13.5642 - accuracy: 0.2465 - val_loss: 14.1525 - val_accuracy: 0.1870\n",
      "Epoch 3/100\n",
      "284/284 [==============================] - 7s 26ms/step - loss: 13.5642 - accuracy: 0.2465 - val_loss: 14.1525 - val_accuracy: 0.1870\n",
      "Epoch 4/100\n",
      "284/284 [==============================] - 7s 26ms/step - loss: 13.5642 - accuracy: 0.2465 - val_loss: 14.1525 - val_accuracy: 0.1870\n",
      "Epoch 5/100\n",
      "284/284 [==============================] - 8s 27ms/step - loss: 13.5642 - accuracy: 0.2465 - val_loss: 14.1525 - val_accuracy: 0.1870\n",
      "Epoch 6/100\n",
      "284/284 [==============================] - 7s 26ms/step - loss: 13.5642 - accuracy: 0.2465 - val_loss: 14.1525 - val_accuracy: 0.1870\n",
      "204/204 [==============================] - 1s 7ms/step\n",
      "Train on 285 samples, validate on 123 samples\n",
      "Epoch 1/100\n",
      "285/285 [==============================] - 8s 26ms/step - loss: 6.7686 - accuracy: 0.2281 - val_loss: 6.7871 - val_accuracy: 0.1951\n",
      "Epoch 2/100\n",
      "285/285 [==============================] - 8s 27ms/step - loss: 6.7246 - accuracy: 0.2316 - val_loss: 6.7871 - val_accuracy: 0.1951\n",
      "Epoch 3/100\n",
      "285/285 [==============================] - 8s 28ms/step - loss: 6.7246 - accuracy: 0.2316 - val_loss: 6.7871 - val_accuracy: 0.1951\n",
      "Epoch 4/100\n",
      "285/285 [==============================] - 8s 28ms/step - loss: 6.7246 - accuracy: 0.2316 - val_loss: 6.7871 - val_accuracy: 0.1951\n",
      "Epoch 5/100\n",
      "285/285 [==============================] - 7s 23ms/step - loss: 6.7246 - accuracy: 0.2316 - val_loss: 6.7871 - val_accuracy: 0.1951\n",
      "Epoch 6/100\n",
      "285/285 [==============================] - 6s 22ms/step - loss: 6.7246 - accuracy: 0.2316 - val_loss: 6.7871 - val_accuracy: 0.1951\n",
      "203/203 [==============================] - 1s 5ms/step\n",
      "Train on 284 samples, validate on 123 samples\n",
      "Epoch 1/100\n",
      "284/284 [==============================] - 8s 29ms/step - loss: 5.3983 - accuracy: 0.6241 - val_loss: 5.6749 - val_accuracy: 0.6301\n",
      "Epoch 2/100\n",
      "284/284 [==============================] - 9s 30ms/step - loss: 5.7273 - accuracy: 0.6276 - val_loss: 5.6749 - val_accuracy: 0.6301\n",
      "Epoch 3/100\n",
      "284/284 [==============================] - 9s 30ms/step - loss: 5.7273 - accuracy: 0.6276 - val_loss: 5.6749 - val_accuracy: 0.6301\n",
      "Epoch 4/100\n",
      "284/284 [==============================] - 9s 30ms/step - loss: 5.7273 - accuracy: 0.6276 - val_loss: 5.6749 - val_accuracy: 0.6301\n",
      "Epoch 5/100\n",
      "284/284 [==============================] - 9s 31ms/step - loss: 5.7273 - accuracy: 0.6276 - val_loss: 5.6749 - val_accuracy: 0.6301\n",
      "Epoch 6/100\n",
      "284/284 [==============================] - 9s 31ms/step - loss: 5.7273 - accuracy: 0.6276 - val_loss: 5.6749 - val_accuracy: 0.6301\n",
      "204/204 [==============================] - 1s 6ms/step\n",
      "Train on 284 samples, validate on 123 samples\n",
      "Epoch 1/100\n",
      "284/284 [==============================] - 9s 32ms/step - loss: 6.3117 - accuracy: 0.5731 - val_loss: 6.1737 - val_accuracy: 0.5976\n",
      "Epoch 2/100\n",
      "284/284 [==============================] - 9s 33ms/step - loss: 6.6211 - accuracy: 0.5695 - val_loss: 6.1737 - val_accuracy: 0.5976\n",
      "Epoch 3/100\n",
      "284/284 [==============================] - 9s 33ms/step - loss: 6.6211 - accuracy: 0.5695 - val_loss: 6.1737 - val_accuracy: 0.5976\n",
      "Epoch 4/100\n",
      "284/284 [==============================] - 10s 34ms/step - loss: 6.6211 - accuracy: 0.5695 - val_loss: 6.1737 - val_accuracy: 0.5976\n",
      "Epoch 5/100\n",
      "284/284 [==============================] - 10s 34ms/step - loss: 6.6211 - accuracy: 0.5695 - val_loss: 6.1737 - val_accuracy: 0.5976\n",
      "Epoch 6/100\n",
      "284/284 [==============================] - 10s 34ms/step - loss: 6.6211 - accuracy: 0.5695 - val_loss: 6.1737 - val_accuracy: 0.5976\n",
      "204/204 [==============================] - 1s 7ms/step\n",
      "Train on 285 samples, validate on 123 samples\n",
      "Epoch 1/100\n",
      "285/285 [==============================] - 10s 35ms/step - loss: 4.8943 - accuracy: 0.6544 - val_loss: 5.0514 - val_accuracy: 0.6707\n"
     ]
    },
    {
     "name": "stdout",
     "output_type": "stream",
     "text": [
      "Epoch 2/100\n",
      "285/285 [==============================] - 8s 30ms/step - loss: 5.1813 - accuracy: 0.6632 - val_loss: 5.0514 - val_accuracy: 0.6707\n",
      "Epoch 3/100\n",
      "285/285 [==============================] - 8s 27ms/step - loss: 5.1813 - accuracy: 0.6632 - val_loss: 5.0514 - val_accuracy: 0.6707\n",
      "Epoch 4/100\n",
      "285/285 [==============================] - 8s 29ms/step - loss: 5.1813 - accuracy: 0.6632 - val_loss: 5.0514 - val_accuracy: 0.6707\n",
      "Epoch 5/100\n",
      "285/285 [==============================] - 9s 30ms/step - loss: 5.1813 - accuracy: 0.6632 - val_loss: 5.0514 - val_accuracy: 0.6707\n",
      "Epoch 6/100\n",
      "285/285 [==============================] - 9s 31ms/step - loss: 5.1813 - accuracy: 0.6632 - val_loss: 5.0514 - val_accuracy: 0.6707\n",
      "203/203 [==============================] - 1s 6ms/step\n",
      "Train on 284 samples, validate on 123 samples\n",
      "Epoch 1/100\n",
      "284/284 [==============================] - 4s 16ms/step - loss: 570.5434 - accuracy: 0.3275 - val_loss: 1.4570 - val_accuracy: 0.3577\n",
      "Epoch 2/100\n",
      "284/284 [==============================] - 4s 16ms/step - loss: 1.4549 - accuracy: 0.3662 - val_loss: 1.4499 - val_accuracy: 0.3577\n",
      "Epoch 3/100\n",
      "284/284 [==============================] - 4s 16ms/step - loss: 1.4552 - accuracy: 0.3662 - val_loss: 1.4547 - val_accuracy: 0.3577\n",
      "Epoch 4/100\n",
      "284/284 [==============================] - 5s 16ms/step - loss: 1.4539 - accuracy: 0.3662 - val_loss: 1.4531 - val_accuracy: 0.3577\n",
      "Epoch 5/100\n",
      "284/284 [==============================] - 5s 16ms/step - loss: 1.4490 - accuracy: 0.3662 - val_loss: 1.4600 - val_accuracy: 0.3577\n",
      "Epoch 6/100\n",
      "284/284 [==============================] - 5s 16ms/step - loss: 1.4527 - accuracy: 0.3662 - val_loss: 1.4544 - val_accuracy: 0.3577\n",
      "Epoch 7/100\n",
      "284/284 [==============================] - 5s 16ms/step - loss: 1.4560 - accuracy: 0.3662 - val_loss: 1.4484 - val_accuracy: 0.3577\n",
      "Epoch 8/100\n",
      "284/284 [==============================] - 5s 16ms/step - loss: 1.4793 - accuracy: 0.3662 - val_loss: 1.4670 - val_accuracy: 0.3577\n",
      "Epoch 9/100\n",
      "284/284 [==============================] - 5s 17ms/step - loss: 1.4663 - accuracy: 0.3239 - val_loss: 1.4645 - val_accuracy: 0.3577\n",
      "Epoch 10/100\n",
      "284/284 [==============================] - 7s 23ms/step - loss: 1.4562 - accuracy: 0.3662 - val_loss: 1.4542 - val_accuracy: 0.3577\n",
      "Epoch 11/100\n",
      "284/284 [==============================] - 5s 18ms/step - loss: 1.4583 - accuracy: 0.3275 - val_loss: 1.4566 - val_accuracy: 0.3577\n",
      "Epoch 12/100\n",
      "284/284 [==============================] - 5s 17ms/step - loss: 1.4820 - accuracy: 0.3662 - val_loss: 1.4578 - val_accuracy: 0.3577\n",
      "204/204 [==============================] - 1s 5ms/step\n",
      "Train on 284 samples, validate on 123 samples\n",
      "Epoch 1/100\n",
      "284/284 [==============================] - 5s 17ms/step - loss: 528.7334 - accuracy: 0.2535 - val_loss: 1.4529 - val_accuracy: 0.3577\n",
      "Epoch 2/100\n",
      "284/284 [==============================] - 5s 17ms/step - loss: 1.4845 - accuracy: 0.3521 - val_loss: 1.4592 - val_accuracy: 0.3577\n",
      "Epoch 3/100\n",
      "284/284 [==============================] - 5s 17ms/step - loss: 1.4875 - accuracy: 0.3521 - val_loss: 1.4540 - val_accuracy: 0.3577\n",
      "Epoch 4/100\n",
      "284/284 [==============================] - 5s 17ms/step - loss: 1.4865 - accuracy: 0.2887 - val_loss: 1.4689 - val_accuracy: 0.3577\n",
      "Epoch 5/100\n",
      "284/284 [==============================] - 5s 17ms/step - loss: 1.4872 - accuracy: 0.3521 - val_loss: 1.4559 - val_accuracy: 0.3577\n",
      "Epoch 6/100\n",
      "284/284 [==============================] - 4s 16ms/step - loss: 1.4915 - accuracy: 0.2782 - val_loss: 1.4688 - val_accuracy: 0.3577\n",
      "204/204 [==============================] - 1s 4ms/step\n",
      "Train on 285 samples, validate on 123 samples\n",
      "Epoch 1/100\n",
      "285/285 [==============================] - 4s 15ms/step - loss: 229.7092 - accuracy: 0.3228 - val_loss: 1.4404 - val_accuracy: 0.3740\n",
      "Epoch 2/100\n",
      "285/285 [==============================] - 4s 15ms/step - loss: 1.4759 - accuracy: 0.3579 - val_loss: 1.4384 - val_accuracy: 0.3740\n",
      "Epoch 3/100\n",
      "285/285 [==============================] - 4s 15ms/step - loss: 1.4763 - accuracy: 0.3579 - val_loss: 1.4372 - val_accuracy: 0.3740\n",
      "Epoch 4/100\n",
      "285/285 [==============================] - 4s 15ms/step - loss: 1.4838 - accuracy: 0.2947 - val_loss: 1.4435 - val_accuracy: 0.3740\n",
      "Epoch 5/100\n",
      "285/285 [==============================] - 5s 16ms/step - loss: 1.4725 - accuracy: 0.3579 - val_loss: 1.4413 - val_accuracy: 0.3740\n",
      "Epoch 6/100\n",
      "285/285 [==============================] - 5s 16ms/step - loss: 1.4819 - accuracy: 0.3579 - val_loss: 1.4468 - val_accuracy: 0.3740\n",
      "Epoch 7/100\n",
      "285/285 [==============================] - 5s 16ms/step - loss: 1.4905 - accuracy: 0.3088 - val_loss: 1.4473 - val_accuracy: 0.3740\n",
      "Epoch 8/100\n",
      "285/285 [==============================] - 5s 16ms/step - loss: 1.4832 - accuracy: 0.3579 - val_loss: 1.4374 - val_accuracy: 0.3740\n",
      "203/203 [==============================] - 1s 5ms/step\n",
      "Train on 427 samples, validate on 184 samples\n",
      "Epoch 1/100\n",
      "427/427 [==============================] - 7s 16ms/step - loss: 2.5262 - accuracy: 0.6265 - val_loss: 2.5583 - val_accuracy: 0.5842\n",
      "Epoch 2/100\n",
      "427/427 [==============================] - 7s 16ms/step - loss: 2.6079 - accuracy: 0.6171 - val_loss: 2.2921 - val_accuracy: 0.5842\n",
      "Epoch 3/100\n",
      "427/427 [==============================] - 7s 16ms/step - loss: 2.8168 - accuracy: 0.6393 - val_loss: 2.9657 - val_accuracy: 0.6658\n",
      "Epoch 4/100\n",
      "427/427 [==============================] - 7s 16ms/step - loss: 2.5058 - accuracy: 0.6569 - val_loss: 2.2813 - val_accuracy: 0.6658\n",
      "Epoch 5/100\n",
      "427/427 [==============================] - 7s 17ms/step - loss: 2.4911 - accuracy: 0.6347 - val_loss: 2.3390 - val_accuracy: 0.6658\n",
      "Epoch 6/100\n",
      "427/427 [==============================] - 7s 17ms/step - loss: 2.2703 - accuracy: 0.6458 - val_loss: 1.3716 - val_accuracy: 0.6753\n",
      "Epoch 7/100\n",
      "427/427 [==============================] - 7s 17ms/step - loss: 2.2995 - accuracy: 0.6458 - val_loss: 3.8315 - val_accuracy: 0.6196\n",
      "Epoch 8/100\n",
      "427/427 [==============================] - 7s 17ms/step - loss: 2.2903 - accuracy: 0.6464 - val_loss: 2.1710 - val_accuracy: 0.6658\n",
      "Epoch 9/100\n",
      "427/427 [==============================] - 7s 17ms/step - loss: 1.8917 - accuracy: 0.6446 - val_loss: 1.5488 - val_accuracy: 0.6196\n",
      "Epoch 10/100\n",
      "427/427 [==============================] - 7s 17ms/step - loss: 1.3885 - accuracy: 0.6862 - val_loss: 1.3486 - val_accuracy: 0.7106\n",
      "Epoch 11/100\n",
      "427/427 [==============================] - 8s 18ms/step - loss: 1.4543 - accuracy: 0.6516 - val_loss: 1.5128 - val_accuracy: 0.6658\n",
      "Epoch 12/100\n",
      "427/427 [==============================] - 8s 18ms/step - loss: 1.3338 - accuracy: 0.6827 - val_loss: 1.3335 - val_accuracy: 0.7052\n",
      "Epoch 13/100\n",
      "427/427 [==============================] - 8s 18ms/step - loss: 1.3474 - accuracy: 0.6903 - val_loss: 1.5024 - val_accuracy: 0.6196\n",
      "Epoch 14/100\n",
      "427/427 [==============================] - 8s 18ms/step - loss: 1.3643 - accuracy: 0.6628 - val_loss: 1.5564 - val_accuracy: 0.6658\n",
      "Epoch 15/100\n",
      "427/427 [==============================] - 7s 17ms/step - loss: 1.3488 - accuracy: 0.6815 - val_loss: 1.4385 - val_accuracy: 0.6658\n",
      "Epoch 16/100\n",
      "427/427 [==============================] - 6s 15ms/step - loss: 1.4120 - accuracy: 0.6639 - val_loss: 1.8446 - val_accuracy: 0.6658\n",
      "Epoch 17/100\n",
      "427/427 [==============================] - 7s 15ms/step - loss: 1.5817 - accuracy: 0.6534 - val_loss: 1.5944 - val_accuracy: 0.5842\n"
     ]
    }
   ],
   "source": [
    "result = random_search.fit(x_train,y_train,validation_split=0.3,callbacks = [early_stopping,modelCheckpoint])"
   ]
  },
  {
   "cell_type": "code",
   "execution_count": 11,
   "id": "388f3e95",
   "metadata": {},
   "outputs": [
    {
     "data": {
      "text/plain": [
       "{'loss_f': 'binary_crossentropy',\n",
       " 'learning_rate': 0.0001,\n",
       " 'kernel': 2,\n",
       " 'epochs': 100,\n",
       " 'batch_size': 10,\n",
       " 'acti_output': 'softmax',\n",
       " 'acti_function': 'sigmoid'}"
      ]
     },
     "execution_count": 11,
     "metadata": {},
     "output_type": "execute_result"
    }
   ],
   "source": [
    "result.best_params_"
   ]
  },
  {
   "cell_type": "code",
   "execution_count": 17,
   "id": "1b123948",
   "metadata": {},
   "outputs": [],
   "source": [
    "best_model = create_model(learning_rate = 0.0001 , kernel = 2, acti_function = 'sigmoid',\n",
    "                          acti_output = 'softmax', loss_f = 'binary_crossentropy')"
   ]
  },
  {
   "cell_type": "code",
   "execution_count": 18,
   "id": "83f45348",
   "metadata": {},
   "outputs": [
    {
     "name": "stdout",
     "output_type": "stream",
     "text": [
      "Train on 427 samples, validate on 184 samples\n",
      "Epoch 1/100\n",
      "427/427 [==============================] - 6s 15ms/step - loss: 1.8851 - accuracy: 0.6429 - val_loss: 1.4428 - val_accuracy: 0.5856\n",
      "Epoch 2/100\n",
      "427/427 [==============================] - 6s 15ms/step - loss: 1.3601 - accuracy: 0.6797 - val_loss: 1.5516 - val_accuracy: 0.6658\n",
      "Epoch 3/100\n",
      "427/427 [==============================] - 6s 15ms/step - loss: 1.4791 - accuracy: 0.6797 - val_loss: 1.6605 - val_accuracy: 0.5924\n",
      "Epoch 4/100\n",
      "427/427 [==============================] - 7s 16ms/step - loss: 1.4263 - accuracy: 0.6528 - val_loss: 1.4087 - val_accuracy: 0.6359\n",
      "Epoch 5/100\n",
      "427/427 [==============================] - 7s 15ms/step - loss: 1.4044 - accuracy: 0.6780 - val_loss: 1.4726 - val_accuracy: 0.6345\n",
      "Epoch 6/100\n",
      "427/427 [==============================] - 6s 15ms/step - loss: 1.2976 - accuracy: 0.7026 - val_loss: 1.3211 - val_accuracy: 0.7079\n",
      "Epoch 7/100\n",
      "427/427 [==============================] - 6s 15ms/step - loss: 1.2879 - accuracy: 0.7178 - val_loss: 1.3681 - val_accuracy: 0.7065\n",
      "Epoch 8/100\n",
      "427/427 [==============================] - 6s 15ms/step - loss: 1.2542 - accuracy: 0.7465 - val_loss: 1.5490 - val_accuracy: 0.5938\n",
      "Epoch 9/100\n",
      "427/427 [==============================] - 6s 15ms/step - loss: 1.3362 - accuracy: 0.7073 - val_loss: 1.3582 - val_accuracy: 0.6658\n",
      "Epoch 10/100\n",
      "427/427 [==============================] - 6s 15ms/step - loss: 1.2931 - accuracy: 0.7149 - val_loss: 1.5942 - val_accuracy: 0.6223\n",
      "Epoch 11/100\n",
      "427/427 [==============================] - 7s 15ms/step - loss: 1.2147 - accuracy: 0.7687 - val_loss: 1.3440 - val_accuracy: 0.6671\n"
     ]
    }
   ],
   "source": [
    "h_callback = best_model.fit(x_train, y_train,epochs = 100, batch_size = 10,\n",
    "                    callbacks = [early_stopping,modelCheckpoint],\n",
    "                    validation_split = 0.3)"
   ]
  },
  {
   "cell_type": "code",
   "execution_count": 19,
   "id": "e419b159",
   "metadata": {},
   "outputs": [
    {
     "name": "stdout",
     "output_type": "stream",
     "text": [
      "611/611 [==============================] - 2s 3ms/step\n"
     ]
    },
    {
     "data": {
      "text/plain": [
       "[1.2305397579595811, 0.756137490272522]"
      ]
     },
     "execution_count": 19,
     "metadata": {},
     "output_type": "execute_result"
    }
   ],
   "source": [
    "best_model.evaluate(x_train,y_train)"
   ]
  },
  {
   "cell_type": "code",
   "execution_count": 21,
   "id": "d0c3b99c",
   "metadata": {},
   "outputs": [
    {
     "name": "stdout",
     "output_type": "stream",
     "text": [
      "263/263 [==============================] - 1s 3ms/step\n"
     ]
    },
    {
     "data": {
      "text/plain": [
       "[1.0784535238044797, 0.6834600567817688]"
      ]
     },
     "execution_count": 21,
     "metadata": {},
     "output_type": "execute_result"
    }
   ],
   "source": [
    "best_model.evaluate(x_test,y_test)"
   ]
  },
  {
   "cell_type": "code",
   "execution_count": 22,
   "id": "b3e2209d",
   "metadata": {},
   "outputs": [
    {
     "data": {
      "image/png": "[encoded data removed]",
      "text/plain": [
       "<Figure size 432x288 with 1 Axes>"
      ]
     },
     "metadata": {
      "needs_background": "light"
     },
     "output_type": "display_data"
    },
    {
     "data": {
      "image/png": "[encoded data removed]",
      "text/plain": [
       "<Figure size 432x288 with 1 Axes>"
      ]
     },
     "metadata": {
      "needs_background": "light"
     },
     "output_type": "display_data"
    }
   ],
   "source": [
    "# Plot train vs test loss during training\n",
    "plot_loss(h_callback.history['loss'], h_callback.history['val_loss'])\n",
    "# Plot train vs test accuracy during training\n",
    "plot_accuracy(h_callback.history['accuracy'], h_callback.history['val_accuracy'])"
   ]
  },
  {
   "cell_type": "code",
   "execution_count": null,
   "id": "890bb332",
   "metadata": {},
   "outputs": [],
   "source": []
  }
 ],
 "metadata": {
  "kernelspec": {
   "display_name": "Python 3",
   "language": "python",
   "name": "python3"
  },
  "language_info": {
   "codemirror_mode": {
    "name": "ipython",
    "version": 3
   },
   "file_extension": ".py",
   "mimetype": "text/x-python",
   "name": "python",
   "nbconvert_exporter": "python",
   "pygments_lexer": "ipython3",
   "version": "3.6.13"
  }
 },
 "nbformat": 4,
 "nbformat_minor": 5
}
