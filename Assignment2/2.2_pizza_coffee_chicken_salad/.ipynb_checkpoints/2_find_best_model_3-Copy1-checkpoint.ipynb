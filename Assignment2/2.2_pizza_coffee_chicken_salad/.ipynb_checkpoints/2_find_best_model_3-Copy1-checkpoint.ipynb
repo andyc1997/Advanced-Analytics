{
 "cells": [
  {
   "cell_type": "code",
   "execution_count": 1,
   "id": "9b513a89",
   "metadata": {},
   "outputs": [
    {
     "name": "stderr",
     "output_type": "stream",
     "text": [
      "Using TensorFlow backend.\n"
     ]
    }
   ],
   "source": [
    "import numpy as np\n",
    "import pandas as pd\n",
    "import matplotlib.pyplot as plt\n",
    "# import keras library\n",
    "import keras\n",
    "# import Sequential from the keras models module\n",
    "from keras import Sequential\n",
    "# import Dense, Dropout, Flatten, Conv2D, MaxPooling2D from the keras layers module\n",
    "from keras.layers import Dense,Flatten, Conv2D, MaxPooling2D\n",
    "from keras.optimizers import Adam\n",
    "from keras.callbacks import EarlyStopping, ModelCheckpoint"
   ]
  },
  {
   "cell_type": "code",
   "execution_count": 2,
   "id": "62761956",
   "metadata": {},
   "outputs": [
    {
     "name": "stdout",
     "output_type": "stream",
     "text": [
      "x_train shape: (611, 200, 200, 3)\n",
      "611 train samples\n",
      "263 test samples\n",
      "(874, 4)\n"
     ]
    }
   ],
   "source": [
    "y = pd.read_csv(\"C:/Users/david/Documents/0_kul/1_ma_stds_1/1_advanced_analytics/assignment_2/data/pizza/y.csv\",delimiter=',')\n",
    "x = np.load('C:/Users/david/Documents/0_kul/1_ma_stds_1/1_advanced_analytics/assignment_2/data/pizza/image_pixel_200.npy') # loading it\n",
    "from sklearn.model_selection import train_test_split\n",
    "x_train,x_test,y_train,y_test = train_test_split(x,y,test_size=0.3,random_state=42)\n",
    "# examine number of samples in train, test, and validation sets\n",
    "print('x_train shape:', x_train.shape)\n",
    "print(x_train.shape[0], 'train samples')\n",
    "print(x_test.shape[0], 'test samples')\n",
    "print(y.shape)"
   ]
  },
  {
   "cell_type": "code",
   "execution_count": 3,
   "id": "5a94ad94",
   "metadata": {},
   "outputs": [],
   "source": [
    "def plot_loss(loss,val_loss):\n",
    "  plt.figure()\n",
    "  plt.plot(loss)\n",
    "  plt.plot(val_loss)\n",
    "  plt.title('Model loss')\n",
    "  plt.ylabel('Loss')\n",
    "  plt.xlabel('Epoch')\n",
    "  plt.legend(['Train', 'Test'], loc='upper right')\n",
    "  plt.show()"
   ]
  },
  {
   "cell_type": "code",
   "execution_count": 4,
   "id": "00f2e7f2",
   "metadata": {},
   "outputs": [],
   "source": [
    "def plot_accuracy(acc,val_acc):\n",
    "  # Plot training & validation accuracy values\n",
    "  plt.figure()\n",
    "  plt.plot(acc)\n",
    "  plt.plot(val_acc)\n",
    "  plt.title('Model accuracy')\n",
    "  plt.ylabel('Accuracy')\n",
    "  plt.xlabel('Epoch')\n",
    "  plt.legend(['Train', 'Test'], loc='upper left')\n",
    "  plt.show()"
   ]
  },
  {
   "cell_type": "code",
   "execution_count": 5,
   "id": "67700a07",
   "metadata": {},
   "outputs": [],
   "source": [
    "early_stopping = EarlyStopping(monitor='val_loss',patience=5)\n",
    "modelCheckpoint = ModelCheckpoint('best_model.hdf5',save_best_only=True)"
   ]
  },
  {
   "cell_type": "code",
   "execution_count": 6,
   "id": "6cee9539",
   "metadata": {},
   "outputs": [],
   "source": [
    "def create_model(learning_rate,kernel,acti_function,acti_output,loss_f):\n",
    "    opt = Adam(lr=learning_rate)\n",
    "    model = Sequential()\n",
    "    model.add(Conv2D(50,kernel_size=kernel,activation=acti_function,input_shape=(200,200,3)))\n",
    "    model.add(MaxPooling2D(4))\n",
    "    model.add(Conv2D(25,kernel_size=kernel,activation=acti_function))\n",
    "    model.add(MaxPooling2D(3))\n",
    "    model.add(Flatten())\n",
    "    model.add(Dense(4,activation=acti_output))\n",
    "    model.compile(optimizer = opt, loss=loss_f,metrics=['accuracy'])\n",
    "    return model"
   ]
  },
  {
   "cell_type": "code",
   "execution_count": 7,
   "id": "d83dbee6",
   "metadata": {},
   "outputs": [],
   "source": [
    "# Import KerasClassifier from keras scikit learn wrappers\n",
    "from keras.wrappers.scikit_learn import KerasClassifier\n",
    "# Create a KerasClassifier\n",
    "model = KerasClassifier(build_fn = create_model)"
   ]
  },
  {
   "cell_type": "code",
   "execution_count": 8,
   "id": "d981a68b",
   "metadata": {},
   "outputs": [],
   "source": [
    "# Define the parameters to try out\n",
    "params = {'acti_function': ['relu', 'tanh' , 'sigmoid'], 'kernel': [3,2,4],\n",
    "          'acti_output' : ['softmax','sigmoid'], 'loss_f' : ['binary_crossentropy','categorical_crossentropy'],\n",
    "           'epochs' : [100] ,'batch_size' : [10,20], 'learning_rate': [0.1,0.01,0.001,0.0001]}"
   ]
  },
  {
   "cell_type": "code",
   "execution_count": 9,
   "id": "6fb9d61e",
   "metadata": {},
   "outputs": [],
   "source": [
    "from sklearn.model_selection import RandomizedSearchCV\n",
    "from sklearn.model_selection import KFold\n",
    "# Create a randomize search cv object passing in the parameters to try\n",
    "random_search = RandomizedSearchCV(model, param_distributions = params,n_iter=6,cv = KFold(3))"
   ]
  },
  {
   "cell_type": "code",
   "execution_count": null,
   "id": "98e51499",
   "metadata": {},
   "outputs": [
    {
     "name": "stdout",
     "output_type": "stream",
     "text": [
      "Train on 284 samples, validate on 123 samples\n",
      "Epoch 1/100\n",
      "284/284 [==============================] - 6s 22ms/step - loss: 29.7405 - accuracy: 0.2782 - val_loss: 1.5187 - val_accuracy: 0.3415\n",
      "Epoch 2/100\n",
      "284/284 [==============================] - 6s 22ms/step - loss: 1.4615 - accuracy: 0.3521 - val_loss: 1.5583 - val_accuracy: 0.2764\n",
      "Epoch 3/100\n",
      "284/284 [==============================] - 6s 22ms/step - loss: 1.4124 - accuracy: 0.3838 - val_loss: 1.6240 - val_accuracy: 0.2846\n",
      "Epoch 4/100\n",
      "284/284 [==============================] - 6s 22ms/step - loss: 1.2969 - accuracy: 0.4085 - val_loss: 1.7377 - val_accuracy: 0.2846\n",
      "Epoch 5/100\n",
      "284/284 [==============================] - 6s 22ms/step - loss: 1.1802 - accuracy: 0.5000 - val_loss: 2.0471 - val_accuracy: 0.2927\n",
      "Epoch 6/100\n",
      "284/284 [==============================] - 7s 23ms/step - loss: 1.0877 - accuracy: 0.5845 - val_loss: 2.0585 - val_accuracy: 0.3008\n",
      "204/204 [==============================] - 1s 5ms/step\n",
      "Train on 284 samples, validate on 123 samples\n",
      "Epoch 1/100\n",
      "284/284 [==============================] - 6s 21ms/step - loss: 20.3470 - accuracy: 0.3169 - val_loss: 1.8575 - val_accuracy: 0.2114\n",
      "Epoch 2/100\n",
      "284/284 [==============================] - 6s 21ms/step - loss: 1.5018 - accuracy: 0.3345 - val_loss: 1.6413 - val_accuracy: 0.3008\n",
      "Epoch 3/100\n",
      "284/284 [==============================] - 6s 22ms/step - loss: 1.3601 - accuracy: 0.3979 - val_loss: 1.8036 - val_accuracy: 0.2764\n",
      "Epoch 4/100\n",
      "284/284 [==============================] - 7s 23ms/step - loss: 1.2191 - accuracy: 0.5282 - val_loss: 1.8014 - val_accuracy: 0.2520\n",
      "Epoch 5/100\n",
      "284/284 [==============================] - 7s 23ms/step - loss: 1.0893 - accuracy: 0.6021 - val_loss: 2.1284 - val_accuracy: 0.2602\n",
      "Epoch 6/100\n",
      "284/284 [==============================] - 6s 23ms/step - loss: 0.9151 - accuracy: 0.6761 - val_loss: 2.2947 - val_accuracy: 0.2358\n",
      "Epoch 7/100\n",
      "284/284 [==============================] - 6s 23ms/step - loss: 0.8146 - accuracy: 0.7113 - val_loss: 3.3003 - val_accuracy: 0.3089\n",
      "204/204 [==============================] - 1s 5ms/step\n",
      "Train on 285 samples, validate on 123 samples\n",
      "Epoch 1/100\n",
      "285/285 [==============================] - 6s 23ms/step - loss: 33.9560 - accuracy: 0.2772 - val_loss: 1.5667 - val_accuracy: 0.2520\n",
      "Epoch 2/100\n",
      "285/285 [==============================] - 6s 22ms/step - loss: 1.5084 - accuracy: 0.3579 - val_loss: 1.8843 - val_accuracy: 0.2683\n",
      "Epoch 3/100\n",
      "285/285 [==============================] - 6s 22ms/step - loss: 1.4713 - accuracy: 0.3684 - val_loss: 1.6244 - val_accuracy: 0.2927\n",
      "Epoch 4/100\n",
      "285/285 [==============================] - 6s 22ms/step - loss: 1.3550 - accuracy: 0.3965 - val_loss: 1.6667 - val_accuracy: 0.2927\n",
      "Epoch 5/100\n",
      "285/285 [==============================] - 6s 22ms/step - loss: 1.2452 - accuracy: 0.5158 - val_loss: 1.9782 - val_accuracy: 0.2927\n",
      "Epoch 6/100\n",
      "285/285 [==============================] - 6s 21ms/step - loss: 1.1167 - accuracy: 0.5965 - val_loss: 1.9335 - val_accuracy: 0.2927\n",
      "203/203 [==============================] - 1s 5ms/step\n",
      "Train on 284 samples, validate on 123 samples\n",
      "Epoch 1/100\n",
      "284/284 [==============================] - 6s 21ms/step - loss: 0.5871 - accuracy: 0.7333 - val_loss: 0.6263 - val_accuracy: 0.7012\n",
      "Epoch 2/100\n",
      "284/284 [==============================] - 6s 20ms/step - loss: 0.5418 - accuracy: 0.7456 - val_loss: 0.5934 - val_accuracy: 0.7236\n",
      "Epoch 3/100\n",
      "284/284 [==============================] - 6s 21ms/step - loss: 0.5093 - accuracy: 0.7588 - val_loss: 0.6041 - val_accuracy: 0.7215\n",
      "Epoch 4/100\n",
      "284/284 [==============================] - 6s 21ms/step - loss: 0.4806 - accuracy: 0.7755 - val_loss: 0.5884 - val_accuracy: 0.7256\n",
      "Epoch 5/100\n",
      "284/284 [==============================] - 6s 21ms/step - loss: 0.4568 - accuracy: 0.7949 - val_loss: 0.5942 - val_accuracy: 0.7256\n",
      "Epoch 6/100\n",
      "284/284 [==============================] - 6s 20ms/step - loss: 0.4365 - accuracy: 0.8011 - val_loss: 0.5774 - val_accuracy: 0.7337\n",
      "Epoch 7/100\n",
      "284/284 [==============================] - 6s 21ms/step - loss: 0.4111 - accuracy: 0.8275 - val_loss: 0.5743 - val_accuracy: 0.7419\n",
      "Epoch 8/100\n",
      "284/284 [==============================] - 7s 24ms/step - loss: 0.3944 - accuracy: 0.8433 - val_loss: 0.5776 - val_accuracy: 0.7398\n",
      "Epoch 9/100\n",
      "284/284 [==============================] - 6s 22ms/step - loss: 0.3746 - accuracy: 0.8371 - val_loss: 0.5761 - val_accuracy: 0.7358\n",
      "Epoch 10/100\n",
      "284/284 [==============================] - 6s 22ms/step - loss: 0.3563 - accuracy: 0.8565 - val_loss: 0.5665 - val_accuracy: 0.7398\n",
      "Epoch 11/100\n",
      " 60/284 [=====>........................] - ETA: 4s - loss: 0.3503 - accuracy: 0.8542"
     ]
    }
   ],
   "source": [
    "result = random_search.fit(x_train,y_train,validation_split=0.3,callbacks = [early_stopping,modelCheckpoint])"
   ]
  },
  {
   "cell_type": "code",
   "execution_count": null,
   "id": "35fecf26",
   "metadata": {},
   "outputs": [],
   "source": [
    "result.best_params_"
   ]
  },
  {
   "cell_type": "code",
   "execution_count": null,
   "id": "67795a0d",
   "metadata": {},
   "outputs": [],
   "source": []
  }
 ],
 "metadata": {
  "kernelspec": {
   "display_name": "Python 3",
   "language": "python",
   "name": "python3"
  },
  "language_info": {
   "codemirror_mode": {
    "name": "ipython",
    "version": 3
   },
   "file_extension": ".py",
   "mimetype": "text/x-python",
   "name": "python",
   "nbconvert_exporter": "python",
   "pygments_lexer": "ipython3",
   "version": "3.6.13"
  }
 },
 "nbformat": 4,
 "nbformat_minor": 5
}
