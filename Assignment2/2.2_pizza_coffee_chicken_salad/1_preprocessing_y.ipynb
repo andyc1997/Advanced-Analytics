{
 "cells": [
  {
   "cell_type": "code",
   "execution_count": 2,
   "id": "21803244",
   "metadata": {},
   "outputs": [],
   "source": [
    "import pandas as pd\n",
    "import numpy as np\n",
    "df = pd.read_csv('C:/Users/david/Documents/0_kul/1_ma_stds_1/1_advanced_analytics/assignment_2/data/pizza/recipe_without_empty.csv')"
   ]
  },
  {
   "cell_type": "code",
   "execution_count": 3,
   "id": "d0c3bc0f",
   "metadata": {},
   "outputs": [
    {
     "data": {
      "text/plain": [
       "Index(['photo_id', 'url', 'may_be', 'likes', 'timestamp', 'scraped_at', 'diff',\n",
       "       'tag_healthy', 'tag_tasty', 'tag_dinner',\n",
       "       ...\n",
       "       'tag_egg', 'tag_oatmeal', 'tag_natural', 'tag_beef', 'tag_noodles',\n",
       "       'tag_italian', 'tag_drinks', 'tag_steak', 'tag_sandwich',\n",
       "       'tag_strawberry'],\n",
       "      dtype='object', length=104)"
      ]
     },
     "execution_count": 3,
     "metadata": {},
     "output_type": "execute_result"
    }
   ],
   "source": [
    "df.columns"
   ]
  },
  {
   "cell_type": "code",
   "execution_count": 4,
   "id": "0eb4da17",
   "metadata": {},
   "outputs": [],
   "source": [
    "keep = ['tag_pizza','tag_chicken','tag_coffee','tag_salad']\n",
    "keep_2 = ['photo_id', 'url', 'may_be', 'likes', 'timestamp', 'scraped_at', 'diff','tag_pizza','tag_chicken','tag_coffee','tag_salad']"
   ]
  },
  {
   "cell_type": "code",
   "execution_count": 5,
   "id": "d30dc683",
   "metadata": {},
   "outputs": [
    {
     "data": {
      "text/html": [
       "<div>\n",
       "<style scoped>\n",
       "    .dataframe tbody tr th:only-of-type {\n",
       "        vertical-align: middle;\n",
       "    }\n",
       "\n",
       "    .dataframe tbody tr th {\n",
       "        vertical-align: top;\n",
       "    }\n",
       "\n",
       "    .dataframe thead th {\n",
       "        text-align: right;\n",
       "    }\n",
       "</style>\n",
       "<table border=\"1\" class=\"dataframe\">\n",
       "  <thead>\n",
       "    <tr style=\"text-align: right;\">\n",
       "      <th></th>\n",
       "      <th>photo_id</th>\n",
       "      <th>url</th>\n",
       "      <th>may_be</th>\n",
       "      <th>likes</th>\n",
       "      <th>timestamp</th>\n",
       "      <th>scraped_at</th>\n",
       "      <th>diff</th>\n",
       "      <th>tag_pizza</th>\n",
       "      <th>tag_chicken</th>\n",
       "      <th>tag_coffee</th>\n",
       "      <th>tag_salad</th>\n",
       "    </tr>\n",
       "  </thead>\n",
       "  <tbody>\n",
       "    <tr>\n",
       "      <th>7</th>\n",
       "      <td>CMPD1lBJbbq</td>\n",
       "      <td>https://www.instagram.com/p/CMPD1lBJbbq/</td>\n",
       "      <td>food</td>\n",
       "      <td>2</td>\n",
       "      <td>2021-03-10T10:44:20</td>\n",
       "      <td>2021-03-10T11:49:34</td>\n",
       "      <td>1.09</td>\n",
       "      <td>0</td>\n",
       "      <td>0</td>\n",
       "      <td>0</td>\n",
       "      <td>1</td>\n",
       "    </tr>\n",
       "    <tr>\n",
       "      <th>18</th>\n",
       "      <td>CMPDgGEFXA5</td>\n",
       "      <td>https://www.instagram.com/p/CMPDgGEFXA5/</td>\n",
       "      <td>indoor</td>\n",
       "      <td>7</td>\n",
       "      <td>2021-03-10T10:41:24</td>\n",
       "      <td>2021-03-10T11:50:30</td>\n",
       "      <td>1.15</td>\n",
       "      <td>0</td>\n",
       "      <td>0</td>\n",
       "      <td>0</td>\n",
       "      <td>1</td>\n",
       "    </tr>\n",
       "    <tr>\n",
       "      <th>24</th>\n",
       "      <td>CMPDYtDhqVV</td>\n",
       "      <td>https://www.instagram.com/p/CMPDYtDhqVV/</td>\n",
       "      <td>dessert</td>\n",
       "      <td>22</td>\n",
       "      <td>2021-03-10T10:44:58</td>\n",
       "      <td>2021-03-10T11:50:58</td>\n",
       "      <td>1.10</td>\n",
       "      <td>1</td>\n",
       "      <td>0</td>\n",
       "      <td>0</td>\n",
       "      <td>0</td>\n",
       "    </tr>\n",
       "    <tr>\n",
       "      <th>36</th>\n",
       "      <td>CMPCmZdHCcY</td>\n",
       "      <td>https://www.instagram.com/p/CMPCmZdHCcY/</td>\n",
       "      <td>chow mein and indoor</td>\n",
       "      <td>2</td>\n",
       "      <td>2021-03-10T10:33:32</td>\n",
       "      <td>2021-03-10T11:52:49</td>\n",
       "      <td>1.32</td>\n",
       "      <td>0</td>\n",
       "      <td>1</td>\n",
       "      <td>0</td>\n",
       "      <td>0</td>\n",
       "    </tr>\n",
       "    <tr>\n",
       "      <th>42</th>\n",
       "      <td>CMPCOauKjrK</td>\n",
       "      <td>https://www.instagram.com/p/CMPCOauKjrK/</td>\n",
       "      <td>food and indoor</td>\n",
       "      <td>3</td>\n",
       "      <td>2021-03-10T10:30:45</td>\n",
       "      <td>2021-03-10T11:53:28</td>\n",
       "      <td>1.38</td>\n",
       "      <td>0</td>\n",
       "      <td>1</td>\n",
       "      <td>0</td>\n",
       "      <td>0</td>\n",
       "    </tr>\n",
       "    <tr>\n",
       "      <th>56</th>\n",
       "      <td>CMPBmMfh2pF</td>\n",
       "      <td>https://www.instagram.com/p/CMPBmMfh2pF/</td>\n",
       "      <td>sky and monument</td>\n",
       "      <td>6</td>\n",
       "      <td>2021-03-10T10:24:46</td>\n",
       "      <td>2021-03-10T11:55:57</td>\n",
       "      <td>1.52</td>\n",
       "      <td>0</td>\n",
       "      <td>0</td>\n",
       "      <td>1</td>\n",
       "      <td>0</td>\n",
       "    </tr>\n",
       "    <tr>\n",
       "      <th>59</th>\n",
       "      <td>CMPBhill_rI</td>\n",
       "      <td>https://www.instagram.com/p/CMPBhill_rI/</td>\n",
       "      <td>food and indoor</td>\n",
       "      <td>85</td>\n",
       "      <td>2021-03-10T10:24:07</td>\n",
       "      <td>2021-03-10T11:56:11</td>\n",
       "      <td>1.53</td>\n",
       "      <td>0</td>\n",
       "      <td>0</td>\n",
       "      <td>0</td>\n",
       "      <td>1</td>\n",
       "    </tr>\n",
       "    <tr>\n",
       "      <th>60</th>\n",
       "      <td>CMPBfV7BYVV</td>\n",
       "      <td>https://www.instagram.com/p/CMPBfV7BYVV/</td>\n",
       "      <td>outdoors</td>\n",
       "      <td>3</td>\n",
       "      <td>2021-03-10T10:23:49</td>\n",
       "      <td>2021-03-10T11:56:19</td>\n",
       "      <td>1.54</td>\n",
       "      <td>0</td>\n",
       "      <td>0</td>\n",
       "      <td>1</td>\n",
       "      <td>0</td>\n",
       "    </tr>\n",
       "    <tr>\n",
       "      <th>63</th>\n",
       "      <td>CMPBbxIhvHf</td>\n",
       "      <td>https://www.instagram.com/p/CMPBbxIhvHf/</td>\n",
       "      <td>sky and the Arno River</td>\n",
       "      <td>12</td>\n",
       "      <td>2021-03-10T10:23:20</td>\n",
       "      <td>2021-03-10T11:56:32</td>\n",
       "      <td>1.55</td>\n",
       "      <td>0</td>\n",
       "      <td>0</td>\n",
       "      <td>1</td>\n",
       "      <td>0</td>\n",
       "    </tr>\n",
       "    <tr>\n",
       "      <th>65</th>\n",
       "      <td>CMPBSqoFsEo</td>\n",
       "      <td>https://www.instagram.com/p/CMPBSqoFsEo/</td>\n",
       "      <td>dessert and indoor</td>\n",
       "      <td>8</td>\n",
       "      <td>2021-03-10T10:35:22</td>\n",
       "      <td>2021-03-10T11:56:44</td>\n",
       "      <td>1.36</td>\n",
       "      <td>0</td>\n",
       "      <td>0</td>\n",
       "      <td>0</td>\n",
       "      <td>1</td>\n",
       "    </tr>\n",
       "  </tbody>\n",
       "</table>\n",
       "</div>"
      ],
      "text/plain": [
       "       photo_id                                       url  \\\n",
       "7   CMPD1lBJbbq  https://www.instagram.com/p/CMPD1lBJbbq/   \n",
       "18  CMPDgGEFXA5  https://www.instagram.com/p/CMPDgGEFXA5/   \n",
       "24  CMPDYtDhqVV  https://www.instagram.com/p/CMPDYtDhqVV/   \n",
       "36  CMPCmZdHCcY  https://www.instagram.com/p/CMPCmZdHCcY/   \n",
       "42  CMPCOauKjrK  https://www.instagram.com/p/CMPCOauKjrK/   \n",
       "56  CMPBmMfh2pF  https://www.instagram.com/p/CMPBmMfh2pF/   \n",
       "59  CMPBhill_rI  https://www.instagram.com/p/CMPBhill_rI/   \n",
       "60  CMPBfV7BYVV  https://www.instagram.com/p/CMPBfV7BYVV/   \n",
       "63  CMPBbxIhvHf  https://www.instagram.com/p/CMPBbxIhvHf/   \n",
       "65  CMPBSqoFsEo  https://www.instagram.com/p/CMPBSqoFsEo/   \n",
       "\n",
       "                    may_be  likes            timestamp           scraped_at  \\\n",
       "7                     food      2  2021-03-10T10:44:20  2021-03-10T11:49:34   \n",
       "18                  indoor      7  2021-03-10T10:41:24  2021-03-10T11:50:30   \n",
       "24                 dessert     22  2021-03-10T10:44:58  2021-03-10T11:50:58   \n",
       "36    chow mein and indoor      2  2021-03-10T10:33:32  2021-03-10T11:52:49   \n",
       "42         food and indoor      3  2021-03-10T10:30:45  2021-03-10T11:53:28   \n",
       "56        sky and monument      6  2021-03-10T10:24:46  2021-03-10T11:55:57   \n",
       "59         food and indoor     85  2021-03-10T10:24:07  2021-03-10T11:56:11   \n",
       "60                outdoors      3  2021-03-10T10:23:49  2021-03-10T11:56:19   \n",
       "63  sky and the Arno River     12  2021-03-10T10:23:20  2021-03-10T11:56:32   \n",
       "65      dessert and indoor      8  2021-03-10T10:35:22  2021-03-10T11:56:44   \n",
       "\n",
       "    diff  tag_pizza  tag_chicken  tag_coffee  tag_salad  \n",
       "7   1.09          0            0           0          1  \n",
       "18  1.15          0            0           0          1  \n",
       "24  1.10          1            0           0          0  \n",
       "36  1.32          0            1           0          0  \n",
       "42  1.38          0            1           0          0  \n",
       "56  1.52          0            0           1          0  \n",
       "59  1.53          0            0           0          1  \n",
       "60  1.54          0            0           1          0  \n",
       "63  1.55          0            0           1          0  \n",
       "65  1.36          0            0           0          1  "
      ]
     },
     "execution_count": 5,
     "metadata": {},
     "output_type": "execute_result"
    }
   ],
   "source": [
    "df_recipe = df[keep_2]\n",
    "df = df_recipe[(df_recipe.iloc[:,7:11].T != 0).any()] # keep only relevant pictures\n",
    "df.head(10)"
   ]
  },
  {
   "cell_type": "code",
   "execution_count": 6,
   "id": "4dcf7b1e",
   "metadata": {},
   "outputs": [
    {
     "data": {
      "text/html": [
       "<div>\n",
       "<style scoped>\n",
       "    .dataframe tbody tr th:only-of-type {\n",
       "        vertical-align: middle;\n",
       "    }\n",
       "\n",
       "    .dataframe tbody tr th {\n",
       "        vertical-align: top;\n",
       "    }\n",
       "\n",
       "    .dataframe thead th {\n",
       "        text-align: right;\n",
       "    }\n",
       "</style>\n",
       "<table border=\"1\" class=\"dataframe\">\n",
       "  <thead>\n",
       "    <tr style=\"text-align: right;\">\n",
       "      <th></th>\n",
       "      <th>tag_pizza</th>\n",
       "      <th>tag_chicken</th>\n",
       "      <th>tag_coffee</th>\n",
       "      <th>tag_salad</th>\n",
       "    </tr>\n",
       "  </thead>\n",
       "  <tbody>\n",
       "    <tr>\n",
       "      <th>7</th>\n",
       "      <td>0</td>\n",
       "      <td>0</td>\n",
       "      <td>0</td>\n",
       "      <td>1</td>\n",
       "    </tr>\n",
       "    <tr>\n",
       "      <th>18</th>\n",
       "      <td>0</td>\n",
       "      <td>0</td>\n",
       "      <td>0</td>\n",
       "      <td>1</td>\n",
       "    </tr>\n",
       "    <tr>\n",
       "      <th>24</th>\n",
       "      <td>1</td>\n",
       "      <td>0</td>\n",
       "      <td>0</td>\n",
       "      <td>0</td>\n",
       "    </tr>\n",
       "    <tr>\n",
       "      <th>36</th>\n",
       "      <td>0</td>\n",
       "      <td>1</td>\n",
       "      <td>0</td>\n",
       "      <td>0</td>\n",
       "    </tr>\n",
       "    <tr>\n",
       "      <th>42</th>\n",
       "      <td>0</td>\n",
       "      <td>1</td>\n",
       "      <td>0</td>\n",
       "      <td>0</td>\n",
       "    </tr>\n",
       "  </tbody>\n",
       "</table>\n",
       "</div>"
      ],
      "text/plain": [
       "    tag_pizza  tag_chicken  tag_coffee  tag_salad\n",
       "7           0            0           0          1\n",
       "18          0            0           0          1\n",
       "24          1            0           0          0\n",
       "36          0            1           0          0\n",
       "42          0            1           0          0"
      ]
     },
     "execution_count": 6,
     "metadata": {},
     "output_type": "execute_result"
    }
   ],
   "source": [
    "y = df[keep]\n",
    "y.head(5)"
   ]
  },
  {
   "cell_type": "code",
   "execution_count": 17,
   "id": "c4c53fb3",
   "metadata": {},
   "outputs": [],
   "source": [
    "y.iloc[0].sum()\n",
    "list = []"
   ]
  },
  {
   "cell_type": "code",
   "execution_count": 18,
   "id": "c3cdcca4",
   "metadata": {},
   "outputs": [],
   "source": [
    "for i in range(0,200):\n",
    "    result = y.iloc[i].sum()\n",
    "    list.append(result)"
   ]
  },
  {
   "cell_type": "code",
   "execution_count": 19,
   "id": "b0694695",
   "metadata": {},
   "outputs": [
    {
     "name": "stdout",
     "output_type": "stream",
     "text": [
      "[1, 1, 1, 1, 1, 1, 1, 1, 1, 1, 1, 1, 1, 1, 1, 1, 1, 1, 1, 1, 1, 1, 1, 1, 1, 1, 1, 1, 1, 1, 2, 1, 1, 1, 1, 1, 1, 2, 1, 1, 1, 1, 1, 2, 1, 1, 1, 1, 1, 2, 1, 1, 1, 1, 1, 1, 1, 1, 1, 1, 1, 1, 1, 2, 1, 1, 1, 1, 1, 1, 1, 1, 1, 1, 2, 1, 1, 1, 1, 1, 1, 1, 1, 1, 1, 1, 1, 1, 1, 1, 1, 1, 1, 1, 1, 1, 1, 1, 1, 1, 1, 1, 1, 1, 1, 2, 2, 2, 2, 1, 1, 1, 1, 1, 1, 1, 1, 1, 1, 1, 1, 1, 1, 1, 1, 1, 1, 1, 1, 1, 1, 1, 1, 1, 1, 1, 1, 1, 1, 1, 1, 1, 1, 1, 1, 1, 1, 1, 1, 1, 1, 1, 1, 1, 1, 1, 1, 1, 1, 1, 1, 1, 1, 1, 1, 1, 1, 1, 1, 1, 1, 1, 1, 1, 1, 1, 1, 1, 2, 2, 2, 1, 1, 1, 1, 1, 1, 1, 1, 1, 1, 1, 1, 1, 1, 1, 1, 1, 1, 1]\n"
     ]
    }
   ],
   "source": [
    "print(list)"
   ]
  },
  {
   "cell_type": "code",
   "execution_count": 9,
   "id": "6a115091",
   "metadata": {},
   "outputs": [
    {
     "data": {
      "text/plain": [
       "(874, 11)"
      ]
     },
     "execution_count": 9,
     "metadata": {},
     "output_type": "execute_result"
    }
   ],
   "source": [
    "y.shape\n",
    "df.shape"
   ]
  },
  {
   "cell_type": "code",
   "execution_count": 6,
   "id": "704f148a",
   "metadata": {},
   "outputs": [],
   "source": [
    "y.to_csv(\"C:/Users/david/Documents/0_kul/1_ma_stds_1/1_advanced_analytics/assignment_2/data/pizza/y.csv\",index=False)"
   ]
  },
  {
   "cell_type": "code",
   "execution_count": 10,
   "id": "53494c33",
   "metadata": {},
   "outputs": [],
   "source": [
    "df.to_csv(\"C:/Users/david/Documents/0_kul/1_ma_stds_1/1_advanced_analytics/assignment_2/data/pizza/df.csv\",index=False)"
   ]
  },
  {
   "cell_type": "code",
   "execution_count": null,
   "id": "ca708303",
   "metadata": {},
   "outputs": [],
   "source": []
  },
  {
   "cell_type": "code",
   "execution_count": null,
   "id": "8be89a0c",
   "metadata": {},
   "outputs": [],
   "source": []
  },
  {
   "cell_type": "code",
   "execution_count": null,
   "id": "8c559f6c",
   "metadata": {},
   "outputs": [],
   "source": []
  },
  {
   "cell_type": "code",
   "execution_count": null,
   "id": "532fbee9",
   "metadata": {},
   "outputs": [],
   "source": []
  }
 ],
 "metadata": {
  "kernelspec": {
   "display_name": "Python 3",
   "language": "python",
   "name": "python3"
  },
  "language_info": {
   "codemirror_mode": {
    "name": "ipython",
    "version": 3
   },
   "file_extension": ".py",
   "mimetype": "text/x-python",
   "name": "python",
   "nbconvert_exporter": "python",
   "pygments_lexer": "ipython3",
   "version": "3.6.13"
  }
 },
 "nbformat": 4,
 "nbformat_minor": 5
}
