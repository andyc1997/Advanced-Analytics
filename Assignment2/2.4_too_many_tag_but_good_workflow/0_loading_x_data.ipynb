{
 "cells": [
  {
   "cell_type": "code",
   "execution_count": 1,
   "id": "e1582ef2",
   "metadata": {},
   "outputs": [],
   "source": [
    "from tensorflow.keras.preprocessing import image\n",
    "import numpy as np\n",
    "import pandas as pd\n",
    "import os\n",
    "os.chdir('C:/Users/david/Documents/0_kul/1_ma_stds_1/1_advanced_analytics/assignment_2/data/images')"
   ]
  },
  {
   "cell_type": "code",
   "execution_count": 2,
   "id": "a9cc441d",
   "metadata": {},
   "outputs": [],
   "source": [
    "# creating function to extract pixel from png\n",
    "def get_images(path):\n",
    "    X = []\n",
    "    for img_path in path:\n",
    "        img = image.load_img(img_path,target_size=(200,200)) # it is easier to work with one size. we set it to 200x200\n",
    "        x = image.img_to_array(img)\n",
    "        X.append(x)\n",
    "    return np.array(X)"
   ]
  },
  {
   "cell_type": "code",
   "execution_count": 3,
   "id": "00e848b7",
   "metadata": {},
   "outputs": [],
   "source": [
    "# loading the label dataset\n",
    "df = pd.read_csv(\"C:/Users/david/Documents/0_kul/1_ma_stds_1/1_advanced_analytics/assignment_2/data/processed/recipe_without_empty.csv\",delimiter=',')"
   ]
  },
  {
   "cell_type": "code",
   "execution_count": 4,
   "id": "b4a07c96",
   "metadata": {},
   "outputs": [
    {
     "name": "stdout",
     "output_type": "stream",
     "text": [
      "['CMPELQqh_nh' 'CMPEHqppR-t' 'CMPEBY9Buko' ... 'CMsOrPOrSkl' 'CMsOnHuFxoF'\n",
      " 'CMsOZ0MpBbu']\n",
      "(11685,)\n"
     ]
    }
   ],
   "source": [
    "# Use the index of this unwanted dataframe to drop the rows from the original dataframe.\n",
    "id = df.photo_id.values\n",
    "print(id)\n",
    "print(id.shape)"
   ]
  },
  {
   "cell_type": "code",
   "execution_count": 5,
   "id": "ed39ec60",
   "metadata": {},
   "outputs": [
    {
     "data": {
      "text/plain": [
       "array(['CMPELQqh_nh.png', 'CMPEHqppR-t.png', 'CMPEBY9Buko.png', ...,\n",
       "       'CMsOrPOrSkl.png', 'CMsOnHuFxoF.png', 'CMsOZ0MpBbu.png'],\n",
       "      dtype=object)"
      ]
     },
     "execution_count": 5,
     "metadata": {},
     "output_type": "execute_result"
    }
   ],
   "source": [
    "# creating the path\n",
    "my_path = id +'.png'\n",
    "my_path"
   ]
  },
  {
   "cell_type": "code",
   "execution_count": 6,
   "id": "1e9a60fa",
   "metadata": {},
   "outputs": [],
   "source": [
    "# Extracting the pixels from the images\n",
    "pixel = get_images(my_path)"
   ]
  },
  {
   "cell_type": "code",
   "execution_count": 7,
   "id": "59af6745",
   "metadata": {},
   "outputs": [
    {
     "name": "stdout",
     "output_type": "stream",
     "text": [
      "<class 'numpy.ndarray'>\n",
      "(11685, 200, 200, 3)\n"
     ]
    }
   ],
   "source": [
    "print(type(pixel))\n",
    "print(pixel.shape)"
   ]
  },
  {
   "cell_type": "code",
   "execution_count": 8,
   "id": "2bf19778",
   "metadata": {},
   "outputs": [],
   "source": [
    "np.save('C:/Users/david/Documents/0_kul/1_ma_stds_1/1_advanced_analytics/assignment_2/data/processed/image_pixel', pixel) # saving it"
   ]
  },
  {
   "cell_type": "code",
   "execution_count": 9,
   "id": "4db5e815",
   "metadata": {},
   "outputs": [],
   "source": [
    "loaded_array = np.load('C:/Users/david/Documents/0_kul/1_ma_stds_1/1_advanced_analytics/assignment_2/data/processed/image_pixel.npy') # loading it"
   ]
  }
 ],
 "metadata": {
  "kernelspec": {
   "display_name": "Python 3",
   "language": "python",
   "name": "python3"
  },
  "language_info": {
   "codemirror_mode": {
    "name": "ipython",
    "version": 3
   },
   "file_extension": ".py",
   "mimetype": "text/x-python",
   "name": "python",
   "nbconvert_exporter": "python",
   "pygments_lexer": "ipython3",
   "version": "3.6.13"
  }
 },
 "nbformat": 4,
 "nbformat_minor": 5
}
