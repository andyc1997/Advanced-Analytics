{
 "cells": [
  {
   "cell_type": "code",
   "execution_count": 1,
   "id": "5a3a575f",
   "metadata": {},
   "outputs": [
    {
     "name": "stdout",
     "output_type": "stream",
     "text": [
      "(11685, 100, 100, 3) (11685, 68)\n"
     ]
    }
   ],
   "source": [
    "import numpy as np\n",
    "import pandas as pd\n",
    "from sklearn.model_selection import train_test_split\n",
    "x = np.load('C:/Users/david/Documents/0_kul/1_ma_stds_1/1_advanced_analytics/assignment_2/data/processed/image_pixel_100.npy') # loading it\n",
    "y = pd.read_csv(\"C:/Users/david/Documents/0_kul/1_ma_stds_1/1_advanced_analytics/assignment_2/data/processed/y.csv\",delimiter=',')\n",
    "print(x.shape,y.shape)\n",
    "x_interim, x_eval, y_interim, y_eval = train_test_split(x,y,test_size=0.2,random_state=42)\n",
    "x_train,x_test,y_train,y_test = train_test_split(x_interim,y_interim,test_size=0.4,random_state=42)"
   ]
  },
  {
   "cell_type": "code",
   "execution_count": 3,
   "id": "d9a7d72c",
   "metadata": {},
   "outputs": [],
   "source": [
    "# import keras library\n",
    "import keras\n",
    "# import Sequential from the keras models module\n",
    "from keras import Sequential\n",
    "# import Dense, Dropout, Flatten, Conv2D, MaxPooling2D from the keras layers module\n",
    "from keras.layers import Dense,Flatten, Conv2D\n",
    "model = Sequential()\n",
    "# Add a convolutional layer (15 units)\n",
    "model.add(Conv2D(30,activation='relu',kernel_size=3,input_shape=(100,100,3)))\n",
    "# Add another convolutional layer (5 units)\n",
    "model.add(Conv2D(10,activation='relu',kernel_size=3))\n",
    "# Flatten and feed to output layer\n",
    "model.add(Flatten())\n",
    "model.add(Dense(68, activation='softmax'))\n",
    "# Compile model\n",
    "model.compile(optimizer='adam', \n",
    "              loss='binary_crossentropy', \n",
    "              metrics=['accuracy'])"
   ]
  },
  {
   "cell_type": "code",
   "execution_count": 4,
   "id": "bf6ca4c4",
   "metadata": {},
   "outputs": [
    {
     "name": "stdout",
     "output_type": "stream",
     "text": [
      "Train on 4486 samples, validate on 1122 samples\n",
      "Epoch 1/3\n",
      "4486/4486 [==============================] - 70s 16ms/step - loss: 0.4869 - accuracy: 0.9683 - val_loss: 0.4917 - val_accuracy: 0.9680\n",
      "Epoch 2/3\n",
      "4486/4486 [==============================] - 76s 17ms/step - loss: 0.4870 - accuracy: 0.9683 - val_loss: 0.4917 - val_accuracy: 0.9680\n",
      "Epoch 3/3\n",
      "4486/4486 [==============================] - 76s 17ms/step - loss: 0.4870 - accuracy: 0.9683 - val_loss: 0.4917 - val_accuracy: 0.9680\n"
     ]
    },
    {
     "data": {
      "text/plain": [
       "<keras.callbacks.callbacks.History at 0x1be82c7d518>"
      ]
     },
     "execution_count": 4,
     "metadata": {},
     "output_type": "execute_result"
    }
   ],
   "source": [
    "# Fit the model to training data \n",
    "model.fit(x_train,y_train, \n",
    "          validation_split=0.2, \n",
    "          epochs=3, batch_size=10)"
   ]
  },
  {
   "cell_type": "code",
   "execution_count": 5,
   "id": "63ff2759",
   "metadata": {},
   "outputs": [
    {
     "name": "stdout",
     "output_type": "stream",
     "text": [
      "3740/3740 [==============================] - 5s 1ms/step\n"
     ]
    },
    {
     "data": {
      "text/plain": [
       "[0.4934673484235524, 0.9678440690040588]"
      ]
     },
     "execution_count": 5,
     "metadata": {},
     "output_type": "execute_result"
    }
   ],
   "source": [
    "# Evaluate the model on test data\n",
    "model.evaluate(x_test,y_test, batch_size=10)"
   ]
  },
  {
   "cell_type": "code",
   "execution_count": 4,
   "id": "0b4e77ed",
   "metadata": {},
   "outputs": [],
   "source": [
    "from keras.models import model_from_json"
   ]
  },
  {
   "cell_type": "code",
   "execution_count": 5,
   "id": "d95b0585",
   "metadata": {},
   "outputs": [
    {
     "name": "stdout",
     "output_type": "stream",
     "text": [
      "Saved model to disk\n"
     ]
    }
   ],
   "source": [
    "# serialize model to JSON\n",
    "model_json = model.to_json()\n",
    "with open(\"model.json\", \"w\") as json_file:\n",
    "    json_file.write(model_json)\n",
    "# serialize weights to HDF5\n",
    "model.save_weights(\"model.h5\")\n",
    "print(\"Saved model to disk\")"
   ]
  },
  {
   "cell_type": "code",
   "execution_count": 5,
   "id": "d6e1fb5a",
   "metadata": {},
   "outputs": [
    {
     "data": {
      "image/png": "[encoded data removed]",
      "text/plain": [
       "<Figure size 432x288 with 1 Axes>"
      ]
     },
     "metadata": {
      "needs_background": "light"
     },
     "output_type": "display_data"
    }
   ],
   "source": [
    "#Plot the learning curves\n",
    "import matplotlib.pyplot as plt\n",
    "# Extract the history from the training object\n",
    "history = model.history\n",
    "# Plot the training loss \n",
    "plt.plot(history.history['loss'])\n",
    "# Plot the validation loss\n",
    "plt.plot(history.history['val_loss'])\n",
    "# Show the figure\n",
    "plt.show()"
   ]
  },
  {
   "cell_type": "code",
   "execution_count": null,
   "id": "2044196c",
   "metadata": {},
   "outputs": [],
   "source": []
  },
  {
   "cell_type": "code",
   "execution_count": 6,
   "id": "ba6ac0f1",
   "metadata": {},
   "outputs": [
    {
     "data": {
      "text/plain": [
       "(3740, 100, 100, 3)"
      ]
     },
     "execution_count": 6,
     "metadata": {},
     "output_type": "execute_result"
    }
   ],
   "source": [
    "x_test.shape"
   ]
  },
  {
   "cell_type": "code",
   "execution_count": 7,
   "id": "12459988",
   "metadata": {},
   "outputs": [
    {
     "data": {
      "text/plain": [
       "array([[0., 0., 0., 0., 0., 0., 0., 0., 0., 0., 0., 0., 0., 0., 0., 0.,\n",
       "        0., 0., 0., 0., 0., 0., 0., 0., 0., 0., 0., 0., 0., 0., 0., 0.,\n",
       "        0., 0., 0., 0., 0., 0., 0., 0., 0., 0., 0., 0., 0., 0., 0., 1.,\n",
       "        0., 0., 0., 0., 0., 0., 0., 0., 0., 0., 0., 0., 0., 0., 0., 0.,\n",
       "        0., 0., 0., 0.]], dtype=float32)"
      ]
     },
     "execution_count": 7,
     "metadata": {},
     "output_type": "execute_result"
    }
   ],
   "source": [
    "model.predict(x_test[0:1])"
   ]
  },
  {
   "cell_type": "code",
   "execution_count": 8,
   "id": "11a119a8",
   "metadata": {},
   "outputs": [
    {
     "data": {
      "text/plain": [
       "array([47, 47, 47, ..., 47, 47, 47], dtype=int64)"
      ]
     },
     "execution_count": 8,
     "metadata": {},
     "output_type": "execute_result"
    }
   ],
   "source": [
    "model.predict_classes(x_test[0:2000])"
   ]
  },
  {
   "cell_type": "code",
   "execution_count": 9,
   "id": "37d9f41c",
   "metadata": {},
   "outputs": [
    {
     "data": {
      "text/html": [
       "<div>\n",
       "<style scoped>\n",
       "    .dataframe tbody tr th:only-of-type {\n",
       "        vertical-align: middle;\n",
       "    }\n",
       "\n",
       "    .dataframe tbody tr th {\n",
       "        vertical-align: top;\n",
       "    }\n",
       "\n",
       "    .dataframe thead th {\n",
       "        text-align: right;\n",
       "    }\n",
       "</style>\n",
       "<table border=\"1\" class=\"dataframe\">\n",
       "  <thead>\n",
       "    <tr style=\"text-align: right;\">\n",
       "      <th></th>\n",
       "      <th>tag_sweet_concept</th>\n",
       "      <th>tag_vegetarian_concept</th>\n",
       "    </tr>\n",
       "  </thead>\n",
       "  <tbody>\n",
       "    <tr>\n",
       "      <th>0</th>\n",
       "      <td>0</td>\n",
       "      <td>0</td>\n",
       "    </tr>\n",
       "    <tr>\n",
       "      <th>1</th>\n",
       "      <td>0</td>\n",
       "      <td>1</td>\n",
       "    </tr>\n",
       "    <tr>\n",
       "      <th>2</th>\n",
       "      <td>0</td>\n",
       "      <td>0</td>\n",
       "    </tr>\n",
       "    <tr>\n",
       "      <th>3</th>\n",
       "      <td>0</td>\n",
       "      <td>0</td>\n",
       "    </tr>\n",
       "    <tr>\n",
       "      <th>4</th>\n",
       "      <td>1</td>\n",
       "      <td>0</td>\n",
       "    </tr>\n",
       "    <tr>\n",
       "      <th>...</th>\n",
       "      <td>...</td>\n",
       "      <td>...</td>\n",
       "    </tr>\n",
       "    <tr>\n",
       "      <th>11680</th>\n",
       "      <td>0</td>\n",
       "      <td>0</td>\n",
       "    </tr>\n",
       "    <tr>\n",
       "      <th>11681</th>\n",
       "      <td>0</td>\n",
       "      <td>0</td>\n",
       "    </tr>\n",
       "    <tr>\n",
       "      <th>11682</th>\n",
       "      <td>0</td>\n",
       "      <td>0</td>\n",
       "    </tr>\n",
       "    <tr>\n",
       "      <th>11683</th>\n",
       "      <td>0</td>\n",
       "      <td>0</td>\n",
       "    </tr>\n",
       "    <tr>\n",
       "      <th>11684</th>\n",
       "      <td>0</td>\n",
       "      <td>0</td>\n",
       "    </tr>\n",
       "  </tbody>\n",
       "</table>\n",
       "<p>11685 rows × 2 columns</p>\n",
       "</div>"
      ],
      "text/plain": [
       "       tag_sweet_concept  tag_vegetarian_concept\n",
       "0                      0                       0\n",
       "1                      0                       1\n",
       "2                      0                       0\n",
       "3                      0                       0\n",
       "4                      1                       0\n",
       "...                  ...                     ...\n",
       "11680                  0                       0\n",
       "11681                  0                       0\n",
       "11682                  0                       0\n",
       "11683                  0                       0\n",
       "11684                  0                       0\n",
       "\n",
       "[11685 rows x 2 columns]"
      ]
     },
     "execution_count": 9,
     "metadata": {},
     "output_type": "execute_result"
    }
   ],
   "source": [
    "y.iloc[:,59:61]"
   ]
  },
  {
   "cell_type": "code",
   "execution_count": null,
   "id": "905ae0d6",
   "metadata": {},
   "outputs": [],
   "source": []
  }
 ],
 "metadata": {
  "kernelspec": {
   "display_name": "Python 3",
   "language": "python",
   "name": "python3"
  },
  "language_info": {
   "codemirror_mode": {
    "name": "ipython",
    "version": 3
   },
   "file_extension": ".py",
   "mimetype": "text/x-python",
   "name": "python",
   "nbconvert_exporter": "python",
   "pygments_lexer": "ipython3",
   "version": "3.6.13"
  }
 },
 "nbformat": 4,
 "nbformat_minor": 5
}
