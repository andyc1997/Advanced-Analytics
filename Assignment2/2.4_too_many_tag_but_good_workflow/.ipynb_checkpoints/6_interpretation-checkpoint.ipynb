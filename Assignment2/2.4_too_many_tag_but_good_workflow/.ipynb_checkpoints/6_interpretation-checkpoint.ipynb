{
 "cells": [
  {
   "cell_type": "code",
   "execution_count": 7,
   "id": "eefc1fba",
   "metadata": {},
   "outputs": [],
   "source": [
    "import numpy as np\n",
    "import pandas as pd\n",
    "from sklearn.model_selection import train_test_split\n",
    "x = np.load('C:/Users/david/Documents/0_kul/1_ma_stds_1/1_advanced_analytics/assignment_2/data/processed/image_pixel.npy') # loading it"
   ]
  },
  {
   "cell_type": "code",
   "execution_count": 54,
   "id": "e33ec1b7",
   "metadata": {},
   "outputs": [],
   "source": [
    "labels = pd.read_csv(\"C:/Users/david/Documents/0_kul/1_ma_stds_1/1_advanced_analytics/assignment_2/data/processed/labels.csv\",delimiter=',')"
   ]
  },
  {
   "cell_type": "code",
   "execution_count": 55,
   "id": "5153906a",
   "metadata": {},
   "outputs": [],
   "source": [
    "from keras.models import model_from_json"
   ]
  },
  {
   "cell_type": "code",
   "execution_count": 42,
   "id": "75abd48c",
   "metadata": {},
   "outputs": [
    {
     "name": "stdout",
     "output_type": "stream",
     "text": [
      "Loaded model from disk\n"
     ]
    }
   ],
   "source": [
    "# load json and create model\n",
    "json_file = open('model.json', 'r')\n",
    "loaded_model_json = json_file.read()\n",
    "json_file.close()\n",
    "loaded_model = model_from_json(loaded_model_json)\n",
    "# load weights into new model\n",
    "loaded_model.load_weights(\"model.h5\")\n",
    "print(\"Loaded model from disk\")"
   ]
  },
  {
   "cell_type": "code",
   "execution_count": 43,
   "id": "38a4f8f5",
   "metadata": {},
   "outputs": [],
   "source": [
    "loaded_model.compile(optimizer='adam', \n",
    "              loss='binary_crossentropy', \n",
    "              metrics=['accuracy'])"
   ]
  },
  {
   "cell_type": "code",
   "execution_count": 56,
   "id": "f567cd2e",
   "metadata": {},
   "outputs": [
    {
     "data": {
      "text/plain": [
       "(11685, 75)"
      ]
     },
     "execution_count": 56,
     "metadata": {},
     "output_type": "execute_result"
    }
   ],
   "source": [
    "labels.shape"
   ]
  },
  {
   "cell_type": "code",
   "execution_count": 57,
   "id": "8a30c6a1",
   "metadata": {},
   "outputs": [],
   "source": [
    "labels.index = labels['photo_id']"
   ]
  },
  {
   "cell_type": "code",
   "execution_count": 58,
   "id": "dd758aac",
   "metadata": {},
   "outputs": [
    {
     "data": {
      "text/html": [
       "<div>\n",
       "<style scoped>\n",
       "    .dataframe tbody tr th:only-of-type {\n",
       "        vertical-align: middle;\n",
       "    }\n",
       "\n",
       "    .dataframe tbody tr th {\n",
       "        vertical-align: top;\n",
       "    }\n",
       "\n",
       "    .dataframe thead th {\n",
       "        text-align: right;\n",
       "    }\n",
       "</style>\n",
       "<table border=\"1\" class=\"dataframe\">\n",
       "  <thead>\n",
       "    <tr style=\"text-align: right;\">\n",
       "      <th></th>\n",
       "      <th>photo_id</th>\n",
       "      <th>url</th>\n",
       "      <th>may_be</th>\n",
       "      <th>likes</th>\n",
       "      <th>timestamp</th>\n",
       "      <th>scraped_at</th>\n",
       "      <th>diff</th>\n",
       "      <th>tag_tasty</th>\n",
       "      <th>tag_dinner</th>\n",
       "      <th>tag_lunch</th>\n",
       "      <th>...</th>\n",
       "      <th>tag_pasta_concept</th>\n",
       "      <th>tag_sweet_concept</th>\n",
       "      <th>tag_vegetarian_concept</th>\n",
       "      <th>tag_egg_concept</th>\n",
       "      <th>tag_meat_concept</th>\n",
       "      <th>tag_diet_concept</th>\n",
       "      <th>tag_chocolate_concept</th>\n",
       "      <th>tag_bake_concept</th>\n",
       "      <th>tag_breakfast_concept</th>\n",
       "      <th>tag_fish_concept</th>\n",
       "    </tr>\n",
       "    <tr>\n",
       "      <th>photo_id</th>\n",
       "      <th></th>\n",
       "      <th></th>\n",
       "      <th></th>\n",
       "      <th></th>\n",
       "      <th></th>\n",
       "      <th></th>\n",
       "      <th></th>\n",
       "      <th></th>\n",
       "      <th></th>\n",
       "      <th></th>\n",
       "      <th></th>\n",
       "      <th></th>\n",
       "      <th></th>\n",
       "      <th></th>\n",
       "      <th></th>\n",
       "      <th></th>\n",
       "      <th></th>\n",
       "      <th></th>\n",
       "      <th></th>\n",
       "      <th></th>\n",
       "      <th></th>\n",
       "    </tr>\n",
       "  </thead>\n",
       "  <tbody>\n",
       "    <tr>\n",
       "      <th>CMPELQqh_nh</th>\n",
       "      <td>CMPELQqh_nh</td>\n",
       "      <td>https://www.instagram.com/p/CMPELQqh_nh/</td>\n",
       "      <td>dessert and indoor</td>\n",
       "      <td>3</td>\n",
       "      <td>2021-03-10T10:47:18</td>\n",
       "      <td>2021-03-10T11:48:52</td>\n",
       "      <td>1.03</td>\n",
       "      <td>0</td>\n",
       "      <td>1</td>\n",
       "      <td>0</td>\n",
       "      <td>...</td>\n",
       "      <td>0</td>\n",
       "      <td>0</td>\n",
       "      <td>0</td>\n",
       "      <td>0</td>\n",
       "      <td>0</td>\n",
       "      <td>0</td>\n",
       "      <td>0</td>\n",
       "      <td>0</td>\n",
       "      <td>0</td>\n",
       "      <td>0</td>\n",
       "    </tr>\n",
       "    <tr>\n",
       "      <th>CMPEHqppR-t</th>\n",
       "      <td>CMPEHqppR-t</td>\n",
       "      <td>https://www.instagram.com/p/CMPEHqppR-t/</td>\n",
       "      <td>pasta and indoor</td>\n",
       "      <td>3</td>\n",
       "      <td>2021-03-10T10:46:48</td>\n",
       "      <td>2021-03-10T11:48:59</td>\n",
       "      <td>1.04</td>\n",
       "      <td>0</td>\n",
       "      <td>0</td>\n",
       "      <td>0</td>\n",
       "      <td>...</td>\n",
       "      <td>0</td>\n",
       "      <td>0</td>\n",
       "      <td>1</td>\n",
       "      <td>0</td>\n",
       "      <td>0</td>\n",
       "      <td>0</td>\n",
       "      <td>0</td>\n",
       "      <td>0</td>\n",
       "      <td>0</td>\n",
       "      <td>0</td>\n",
       "    </tr>\n",
       "    <tr>\n",
       "      <th>CMPEBY9Buko</th>\n",
       "      <td>CMPEBY9Buko</td>\n",
       "      <td>https://www.instagram.com/p/CMPEBY9Buko/</td>\n",
       "      <td>cake and indoor</td>\n",
       "      <td>2</td>\n",
       "      <td>2021-03-10T10:45:57</td>\n",
       "      <td>2021-03-10T11:49:08</td>\n",
       "      <td>1.05</td>\n",
       "      <td>0</td>\n",
       "      <td>0</td>\n",
       "      <td>0</td>\n",
       "      <td>...</td>\n",
       "      <td>0</td>\n",
       "      <td>0</td>\n",
       "      <td>0</td>\n",
       "      <td>0</td>\n",
       "      <td>0</td>\n",
       "      <td>0</td>\n",
       "      <td>0</td>\n",
       "      <td>0</td>\n",
       "      <td>0</td>\n",
       "      <td>0</td>\n",
       "    </tr>\n",
       "    <tr>\n",
       "      <th>CMPEAvhF9i1</th>\n",
       "      <td>CMPEAvhF9i1</td>\n",
       "      <td>https://www.instagram.com/p/CMPEAvhF9i1/</td>\n",
       "      <td>food</td>\n",
       "      <td>1</td>\n",
       "      <td>2021-03-10T10:45:52</td>\n",
       "      <td>2021-03-10T11:49:12</td>\n",
       "      <td>1.06</td>\n",
       "      <td>1</td>\n",
       "      <td>0</td>\n",
       "      <td>0</td>\n",
       "      <td>...</td>\n",
       "      <td>0</td>\n",
       "      <td>0</td>\n",
       "      <td>0</td>\n",
       "      <td>0</td>\n",
       "      <td>0</td>\n",
       "      <td>0</td>\n",
       "      <td>0</td>\n",
       "      <td>0</td>\n",
       "      <td>0</td>\n",
       "      <td>0</td>\n",
       "    </tr>\n",
       "    <tr>\n",
       "      <th>CMPD73jJssJ</th>\n",
       "      <td>CMPD73jJssJ</td>\n",
       "      <td>https://www.instagram.com/p/CMPD73jJssJ/</td>\n",
       "      <td>dessert</td>\n",
       "      <td>2</td>\n",
       "      <td>2021-03-10T10:45:12</td>\n",
       "      <td>2021-03-10T11:49:16</td>\n",
       "      <td>1.07</td>\n",
       "      <td>0</td>\n",
       "      <td>0</td>\n",
       "      <td>0</td>\n",
       "      <td>...</td>\n",
       "      <td>0</td>\n",
       "      <td>1</td>\n",
       "      <td>0</td>\n",
       "      <td>0</td>\n",
       "      <td>0</td>\n",
       "      <td>0</td>\n",
       "      <td>0</td>\n",
       "      <td>0</td>\n",
       "      <td>0</td>\n",
       "      <td>0</td>\n",
       "    </tr>\n",
       "  </tbody>\n",
       "</table>\n",
       "<p>5 rows × 75 columns</p>\n",
       "</div>"
      ],
      "text/plain": [
       "                photo_id                                       url  \\\n",
       "photo_id                                                             \n",
       "CMPELQqh_nh  CMPELQqh_nh  https://www.instagram.com/p/CMPELQqh_nh/   \n",
       "CMPEHqppR-t  CMPEHqppR-t  https://www.instagram.com/p/CMPEHqppR-t/   \n",
       "CMPEBY9Buko  CMPEBY9Buko  https://www.instagram.com/p/CMPEBY9Buko/   \n",
       "CMPEAvhF9i1  CMPEAvhF9i1  https://www.instagram.com/p/CMPEAvhF9i1/   \n",
       "CMPD73jJssJ  CMPD73jJssJ  https://www.instagram.com/p/CMPD73jJssJ/   \n",
       "\n",
       "                         may_be  likes            timestamp  \\\n",
       "photo_id                                                      \n",
       "CMPELQqh_nh  dessert and indoor      3  2021-03-10T10:47:18   \n",
       "CMPEHqppR-t    pasta and indoor      3  2021-03-10T10:46:48   \n",
       "CMPEBY9Buko     cake and indoor      2  2021-03-10T10:45:57   \n",
       "CMPEAvhF9i1                food      1  2021-03-10T10:45:52   \n",
       "CMPD73jJssJ             dessert      2  2021-03-10T10:45:12   \n",
       "\n",
       "                      scraped_at  diff  tag_tasty  tag_dinner  tag_lunch  ...  \\\n",
       "photo_id                                                                  ...   \n",
       "CMPELQqh_nh  2021-03-10T11:48:52  1.03          0           1          0  ...   \n",
       "CMPEHqppR-t  2021-03-10T11:48:59  1.04          0           0          0  ...   \n",
       "CMPEBY9Buko  2021-03-10T11:49:08  1.05          0           0          0  ...   \n",
       "CMPEAvhF9i1  2021-03-10T11:49:12  1.06          1           0          0  ...   \n",
       "CMPD73jJssJ  2021-03-10T11:49:16  1.07          0           0          0  ...   \n",
       "\n",
       "             tag_pasta_concept  tag_sweet_concept  tag_vegetarian_concept  \\\n",
       "photo_id                                                                    \n",
       "CMPELQqh_nh                  0                  0                       0   \n",
       "CMPEHqppR-t                  0                  0                       1   \n",
       "CMPEBY9Buko                  0                  0                       0   \n",
       "CMPEAvhF9i1                  0                  0                       0   \n",
       "CMPD73jJssJ                  0                  1                       0   \n",
       "\n",
       "             tag_egg_concept  tag_meat_concept  tag_diet_concept  \\\n",
       "photo_id                                                           \n",
       "CMPELQqh_nh                0                 0                 0   \n",
       "CMPEHqppR-t                0                 0                 0   \n",
       "CMPEBY9Buko                0                 0                 0   \n",
       "CMPEAvhF9i1                0                 0                 0   \n",
       "CMPD73jJssJ                0                 0                 0   \n",
       "\n",
       "             tag_chocolate_concept  tag_bake_concept  tag_breakfast_concept  \\\n",
       "photo_id                                                                      \n",
       "CMPELQqh_nh                      0                 0                      0   \n",
       "CMPEHqppR-t                      0                 0                      0   \n",
       "CMPEBY9Buko                      0                 0                      0   \n",
       "CMPEAvhF9i1                      0                 0                      0   \n",
       "CMPD73jJssJ                      0                 0                      0   \n",
       "\n",
       "             tag_fish_concept  \n",
       "photo_id                       \n",
       "CMPELQqh_nh                 0  \n",
       "CMPEHqppR-t                 0  \n",
       "CMPEBY9Buko                 0  \n",
       "CMPEAvhF9i1                 0  \n",
       "CMPD73jJssJ                 0  \n",
       "\n",
       "[5 rows x 75 columns]"
      ]
     },
     "execution_count": 58,
     "metadata": {},
     "output_type": "execute_result"
    }
   ],
   "source": [
    "labels.head()"
   ]
  },
  {
   "cell_type": "code",
   "execution_count": 60,
   "id": "2409f6aa",
   "metadata": {},
   "outputs": [
    {
     "name": "stdout",
     "output_type": "stream",
     "text": [
      "(7,)\n",
      "Index(['photo_id', 'url', 'may_be', 'likes', 'timestamp', 'scraped_at',\n",
      "       'diff'],\n",
      "      dtype='object')\n"
     ]
    }
   ],
   "source": [
    "columns = labels.columns[:7]\n",
    "print(columns.shape)\n",
    "print(columns)"
   ]
  },
  {
   "cell_type": "code",
   "execution_count": 64,
   "id": "64767137",
   "metadata": {},
   "outputs": [],
   "source": [
    "labels.drop(columns,inplace=True,axis=1)"
   ]
  },
  {
   "cell_type": "code",
   "execution_count": 65,
   "id": "6117fea6",
   "metadata": {},
   "outputs": [
    {
     "data": {
      "text/html": [
       "<div>\n",
       "<style scoped>\n",
       "    .dataframe tbody tr th:only-of-type {\n",
       "        vertical-align: middle;\n",
       "    }\n",
       "\n",
       "    .dataframe tbody tr th {\n",
       "        vertical-align: top;\n",
       "    }\n",
       "\n",
       "    .dataframe thead th {\n",
       "        text-align: right;\n",
       "    }\n",
       "</style>\n",
       "<table border=\"1\" class=\"dataframe\">\n",
       "  <thead>\n",
       "    <tr style=\"text-align: right;\">\n",
       "      <th></th>\n",
       "      <th>tag_tasty</th>\n",
       "      <th>tag_dinner</th>\n",
       "      <th>tag_lunch</th>\n",
       "      <th>tag_easyrecipes</th>\n",
       "      <th>tag_sweet</th>\n",
       "      <th>tag_glutenfree</th>\n",
       "      <th>tag_chicken</th>\n",
       "      <th>tag_cheese</th>\n",
       "      <th>tag_salad</th>\n",
       "      <th>tag_fresh</th>\n",
       "      <th>...</th>\n",
       "      <th>tag_pasta_concept</th>\n",
       "      <th>tag_sweet_concept</th>\n",
       "      <th>tag_vegetarian_concept</th>\n",
       "      <th>tag_egg_concept</th>\n",
       "      <th>tag_meat_concept</th>\n",
       "      <th>tag_diet_concept</th>\n",
       "      <th>tag_chocolate_concept</th>\n",
       "      <th>tag_bake_concept</th>\n",
       "      <th>tag_breakfast_concept</th>\n",
       "      <th>tag_fish_concept</th>\n",
       "    </tr>\n",
       "    <tr>\n",
       "      <th>photo_id</th>\n",
       "      <th></th>\n",
       "      <th></th>\n",
       "      <th></th>\n",
       "      <th></th>\n",
       "      <th></th>\n",
       "      <th></th>\n",
       "      <th></th>\n",
       "      <th></th>\n",
       "      <th></th>\n",
       "      <th></th>\n",
       "      <th></th>\n",
       "      <th></th>\n",
       "      <th></th>\n",
       "      <th></th>\n",
       "      <th></th>\n",
       "      <th></th>\n",
       "      <th></th>\n",
       "      <th></th>\n",
       "      <th></th>\n",
       "      <th></th>\n",
       "      <th></th>\n",
       "    </tr>\n",
       "  </thead>\n",
       "  <tbody>\n",
       "    <tr>\n",
       "      <th>CMPELQqh_nh</th>\n",
       "      <td>0</td>\n",
       "      <td>1</td>\n",
       "      <td>0</td>\n",
       "      <td>0</td>\n",
       "      <td>0</td>\n",
       "      <td>0</td>\n",
       "      <td>0</td>\n",
       "      <td>0</td>\n",
       "      <td>0</td>\n",
       "      <td>0</td>\n",
       "      <td>...</td>\n",
       "      <td>0</td>\n",
       "      <td>0</td>\n",
       "      <td>0</td>\n",
       "      <td>0</td>\n",
       "      <td>0</td>\n",
       "      <td>0</td>\n",
       "      <td>0</td>\n",
       "      <td>0</td>\n",
       "      <td>0</td>\n",
       "      <td>0</td>\n",
       "    </tr>\n",
       "    <tr>\n",
       "      <th>CMPEHqppR-t</th>\n",
       "      <td>0</td>\n",
       "      <td>0</td>\n",
       "      <td>0</td>\n",
       "      <td>0</td>\n",
       "      <td>0</td>\n",
       "      <td>0</td>\n",
       "      <td>0</td>\n",
       "      <td>0</td>\n",
       "      <td>0</td>\n",
       "      <td>0</td>\n",
       "      <td>...</td>\n",
       "      <td>0</td>\n",
       "      <td>0</td>\n",
       "      <td>1</td>\n",
       "      <td>0</td>\n",
       "      <td>0</td>\n",
       "      <td>0</td>\n",
       "      <td>0</td>\n",
       "      <td>0</td>\n",
       "      <td>0</td>\n",
       "      <td>0</td>\n",
       "    </tr>\n",
       "    <tr>\n",
       "      <th>CMPEBY9Buko</th>\n",
       "      <td>0</td>\n",
       "      <td>0</td>\n",
       "      <td>0</td>\n",
       "      <td>0</td>\n",
       "      <td>0</td>\n",
       "      <td>0</td>\n",
       "      <td>0</td>\n",
       "      <td>0</td>\n",
       "      <td>0</td>\n",
       "      <td>0</td>\n",
       "      <td>...</td>\n",
       "      <td>0</td>\n",
       "      <td>0</td>\n",
       "      <td>0</td>\n",
       "      <td>0</td>\n",
       "      <td>0</td>\n",
       "      <td>0</td>\n",
       "      <td>0</td>\n",
       "      <td>0</td>\n",
       "      <td>0</td>\n",
       "      <td>0</td>\n",
       "    </tr>\n",
       "    <tr>\n",
       "      <th>CMPEAvhF9i1</th>\n",
       "      <td>1</td>\n",
       "      <td>0</td>\n",
       "      <td>0</td>\n",
       "      <td>0</td>\n",
       "      <td>0</td>\n",
       "      <td>0</td>\n",
       "      <td>0</td>\n",
       "      <td>0</td>\n",
       "      <td>0</td>\n",
       "      <td>0</td>\n",
       "      <td>...</td>\n",
       "      <td>0</td>\n",
       "      <td>0</td>\n",
       "      <td>0</td>\n",
       "      <td>0</td>\n",
       "      <td>0</td>\n",
       "      <td>0</td>\n",
       "      <td>0</td>\n",
       "      <td>0</td>\n",
       "      <td>0</td>\n",
       "      <td>0</td>\n",
       "    </tr>\n",
       "    <tr>\n",
       "      <th>CMPD73jJssJ</th>\n",
       "      <td>0</td>\n",
       "      <td>0</td>\n",
       "      <td>0</td>\n",
       "      <td>1</td>\n",
       "      <td>1</td>\n",
       "      <td>0</td>\n",
       "      <td>0</td>\n",
       "      <td>0</td>\n",
       "      <td>0</td>\n",
       "      <td>0</td>\n",
       "      <td>...</td>\n",
       "      <td>0</td>\n",
       "      <td>1</td>\n",
       "      <td>0</td>\n",
       "      <td>0</td>\n",
       "      <td>0</td>\n",
       "      <td>0</td>\n",
       "      <td>0</td>\n",
       "      <td>0</td>\n",
       "      <td>0</td>\n",
       "      <td>0</td>\n",
       "    </tr>\n",
       "  </tbody>\n",
       "</table>\n",
       "<p>5 rows × 68 columns</p>\n",
       "</div>"
      ],
      "text/plain": [
       "             tag_tasty  tag_dinner  tag_lunch  tag_easyrecipes  tag_sweet  \\\n",
       "photo_id                                                                    \n",
       "CMPELQqh_nh          0           1          0                0          0   \n",
       "CMPEHqppR-t          0           0          0                0          0   \n",
       "CMPEBY9Buko          0           0          0                0          0   \n",
       "CMPEAvhF9i1          1           0          0                0          0   \n",
       "CMPD73jJssJ          0           0          0                1          1   \n",
       "\n",
       "             tag_glutenfree  tag_chicken  tag_cheese  tag_salad  tag_fresh  \\\n",
       "photo_id                                                                     \n",
       "CMPELQqh_nh               0            0           0          0          0   \n",
       "CMPEHqppR-t               0            0           0          0          0   \n",
       "CMPEBY9Buko               0            0           0          0          0   \n",
       "CMPEAvhF9i1               0            0           0          0          0   \n",
       "CMPD73jJssJ               0            0           0          0          0   \n",
       "\n",
       "             ...  tag_pasta_concept  tag_sweet_concept  \\\n",
       "photo_id     ...                                         \n",
       "CMPELQqh_nh  ...                  0                  0   \n",
       "CMPEHqppR-t  ...                  0                  0   \n",
       "CMPEBY9Buko  ...                  0                  0   \n",
       "CMPEAvhF9i1  ...                  0                  0   \n",
       "CMPD73jJssJ  ...                  0                  1   \n",
       "\n",
       "             tag_vegetarian_concept  tag_egg_concept  tag_meat_concept  \\\n",
       "photo_id                                                                 \n",
       "CMPELQqh_nh                       0                0                 0   \n",
       "CMPEHqppR-t                       1                0                 0   \n",
       "CMPEBY9Buko                       0                0                 0   \n",
       "CMPEAvhF9i1                       0                0                 0   \n",
       "CMPD73jJssJ                       0                0                 0   \n",
       "\n",
       "             tag_diet_concept  tag_chocolate_concept  tag_bake_concept  \\\n",
       "photo_id                                                                 \n",
       "CMPELQqh_nh                 0                      0                 0   \n",
       "CMPEHqppR-t                 0                      0                 0   \n",
       "CMPEBY9Buko                 0                      0                 0   \n",
       "CMPEAvhF9i1                 0                      0                 0   \n",
       "CMPD73jJssJ                 0                      0                 0   \n",
       "\n",
       "             tag_breakfast_concept  tag_fish_concept  \n",
       "photo_id                                              \n",
       "CMPELQqh_nh                      0                 0  \n",
       "CMPEHqppR-t                      0                 0  \n",
       "CMPEBY9Buko                      0                 0  \n",
       "CMPEAvhF9i1                      0                 0  \n",
       "CMPD73jJssJ                      0                 0  \n",
       "\n",
       "[5 rows x 68 columns]"
      ]
     },
     "execution_count": 65,
     "metadata": {},
     "output_type": "execute_result"
    }
   ],
   "source": [
    "labels.head()"
   ]
  },
  {
   "cell_type": "code",
   "execution_count": null,
   "id": "6b490486",
   "metadata": {},
   "outputs": [],
   "source": [
    "# Load the weights from file\n",
    "#model.load_weights('weights.hdf5')"
   ]
  },
  {
   "cell_type": "code",
   "execution_count": 106,
   "id": "8d86f70a",
   "metadata": {},
   "outputs": [
    {
     "name": "stdout",
     "output_type": "stream",
     "text": [
      "(50, 68)\n"
     ]
    }
   ],
   "source": [
    "# Predict from the first three images in the test data\n",
    "predict = loaded_model.predict(x[0:50])\n",
    "print(predict.shape)"
   ]
  },
  {
   "cell_type": "code",
   "execution_count": 107,
   "id": "9a95f601",
   "metadata": {},
   "outputs": [],
   "source": [
    "saved = pd.DataFrame(data=predict,columns=labels.columns.values)"
   ]
  },
  {
   "cell_type": "code",
   "execution_count": 108,
   "id": "3c7de778",
   "metadata": {},
   "outputs": [
    {
     "data": {
      "text/plain": [
       "tag_tasty                0.0\n",
       "tag_dinner               0.0\n",
       "tag_lunch                0.0\n",
       "tag_easyrecipes          0.0\n",
       "tag_sweet                0.0\n",
       "                        ... \n",
       "tag_diet_concept         0.0\n",
       "tag_chocolate_concept    0.0\n",
       "tag_bake_concept         0.0\n",
       "tag_breakfast_concept    0.0\n",
       "tag_fish_concept         0.0\n",
       "Name: 6, Length: 68, dtype: float32"
      ]
     },
     "execution_count": 108,
     "metadata": {},
     "output_type": "execute_result"
    }
   ],
   "source": [
    "saved.loc[6]"
   ]
  },
  {
   "cell_type": "code",
   "execution_count": 109,
   "id": "1de88869",
   "metadata": {},
   "outputs": [
    {
     "data": {
      "text/plain": [
       "tag_cookies    1.0\n",
       "Name: 6, dtype: float32"
      ]
     },
     "execution_count": 109,
     "metadata": {},
     "output_type": "execute_result"
    }
   ],
   "source": [
    "bool = saved.loc[6]>=1\n",
    "my = saved.loc[6]\n",
    "my[bool==True]"
   ]
  },
  {
   "cell_type": "code",
   "execution_count": 110,
   "id": "05102df1",
   "metadata": {},
   "outputs": [
    {
     "data": {
      "text/plain": [
       "tag_tasty          1\n",
       "tag_easyrecipes    1\n",
       "tag_cheese         1\n",
       "tag_easy           1\n",
       "tag_garlic         1\n",
       "Name: CMMqLGmBzII, dtype: int64"
      ]
     },
     "execution_count": 110,
     "metadata": {},
     "output_type": "execute_result"
    }
   ],
   "source": [
    "bool_true = labels.iloc[35]>=1\n",
    "my_true = labels.iloc[35]\n",
    "my_true[bool_true]"
   ]
  },
  {
   "cell_type": "code",
   "execution_count": null,
   "id": "5cbd3c63",
   "metadata": {},
   "outputs": [],
   "source": [
    "y.head(5)"
   ]
  },
  {
   "cell_type": "code",
   "execution_count": null,
   "id": "8e77f331",
   "metadata": {},
   "outputs": [],
   "source": [
    "x[4]"
   ]
  },
  {
   "cell_type": "code",
   "execution_count": null,
   "id": "37f266cb",
   "metadata": {},
   "outputs": [],
   "source": [
    "data = x[1200]"
   ]
  },
  {
   "cell_type": "code",
   "execution_count": null,
   "id": "218670c2",
   "metadata": {},
   "outputs": [],
   "source": [
    "data.shape"
   ]
  },
  {
   "cell_type": "code",
   "execution_count": null,
   "id": "f5f2a194",
   "metadata": {},
   "outputs": [],
   "source": [
    "img = Image.fromarray(data, 'RGB')\n",
    "img.save('my.png')\n",
    "img.show()"
   ]
  },
  {
   "cell_type": "code",
   "execution_count": 101,
   "id": "46712d5a",
   "metadata": {},
   "outputs": [
    {
     "data": {
      "image/png": "[encoded data removed]",
      "text/plain": [
       "<PIL.Image.Image image mode=RGB size=100x100 at 0x2A69DCB59B0>"
      ]
     },
     "execution_count": 101,
     "metadata": {},
     "output_type": "execute_result"
    }
   ],
   "source": [
    "from tensorflow.keras.preprocessing import image\n",
    "img_64 = image.array_to_img(x[35,:,:,:])\n",
    "img_64"
   ]
  },
  {
   "cell_type": "code",
   "execution_count": null,
   "id": "8d496dbc",
   "metadata": {},
   "outputs": [],
   "source": []
  },
  {
   "cell_type": "code",
   "execution_count": null,
   "id": "46138fb8",
   "metadata": {},
   "outputs": [],
   "source": []
  },
  {
   "cell_type": "code",
   "execution_count": null,
   "id": "1985ea67",
   "metadata": {},
   "outputs": [],
   "source": []
  },
  {
   "cell_type": "code",
   "execution_count": null,
   "id": "cbb84074",
   "metadata": {},
   "outputs": [],
   "source": []
  },
  {
   "cell_type": "markdown",
   "id": "8d0b422c",
   "metadata": {},
   "source": [
    "# Case study"
   ]
  },
  {
   "cell_type": "code",
   "execution_count": 93,
   "id": "3c10a290",
   "metadata": {},
   "outputs": [
    {
     "name": "stdout",
     "output_type": "stream",
     "text": [
      "tag_tasty                1\n",
      "tag_dinner               0\n",
      "tag_lunch                0\n",
      "tag_easyrecipes          1\n",
      "tag_sweet                0\n",
      "                        ..\n",
      "tag_diet_concept         0\n",
      "tag_chocolate_concept    0\n",
      "tag_bake_concept         0\n",
      "tag_breakfast_concept    0\n",
      "tag_fish_concept         0\n",
      "Name: CMMqLGmBzII, Length: 68, dtype: int64\n"
     ]
    }
   ],
   "source": [
    "print(labels.iloc[35]) # the labelled dataset (given)"
   ]
  },
  {
   "cell_type": "code",
   "execution_count": 105,
   "id": "2a9d0671",
   "metadata": {},
   "outputs": [
    {
     "data": {
      "text/plain": [
       "tag_tasty          1\n",
       "tag_easyrecipes    1\n",
       "tag_cheese         1\n",
       "tag_easy           1\n",
       "tag_garlic         1\n",
       "Name: CMMqLGmBzII, dtype: int64"
      ]
     },
     "execution_count": 105,
     "metadata": {},
     "output_type": "execute_result"
    }
   ],
   "source": [
    "bool_true = labels.iloc[35]>=1 # the tags that are originally given\n",
    "my_true = labels.iloc[35]\n",
    "my_true[bool_true]"
   ]
  },
  {
   "cell_type": "code",
   "execution_count": 103,
   "id": "90ed17d9",
   "metadata": {},
   "outputs": [
    {
     "data": {
      "image/png": "[encoded data removed]",
      "text/plain": [
       "<PIL.Image.Image image mode=RGB size=100x100 at 0x2A69DCB5CF8>"
      ]
     },
     "execution_count": 103,
     "metadata": {},
     "output_type": "execute_result"
    }
   ],
   "source": [
    "img_35 = image.array_to_img(x[35,:,:,:]) # the image data converted back to image to check if correct\n",
    "img_35"
   ]
  },
  {
   "cell_type": "code",
   "execution_count": 104,
   "id": "395c991f",
   "metadata": {},
   "outputs": [
    {
     "name": "stdout",
     "output_type": "stream",
     "text": [
      "[[[0. 0. 0.]\n",
      "  [0. 0. 0.]\n",
      "  [0. 0. 0.]\n",
      "  ...\n",
      "  [0. 0. 0.]\n",
      "  [0. 0. 0.]\n",
      "  [0. 0. 0.]]\n",
      "\n",
      " [[0. 0. 0.]\n",
      "  [0. 0. 0.]\n",
      "  [0. 0. 0.]\n",
      "  ...\n",
      "  [0. 0. 0.]\n",
      "  [0. 0. 0.]\n",
      "  [0. 0. 0.]]\n",
      "\n",
      " [[0. 0. 0.]\n",
      "  [0. 0. 0.]\n",
      "  [0. 0. 0.]\n",
      "  ...\n",
      "  [0. 0. 0.]\n",
      "  [0. 0. 0.]\n",
      "  [0. 0. 0.]]\n",
      "\n",
      " ...\n",
      "\n",
      " [[0. 0. 0.]\n",
      "  [0. 0. 0.]\n",
      "  [0. 0. 0.]\n",
      "  ...\n",
      "  [0. 0. 0.]\n",
      "  [0. 0. 0.]\n",
      "  [0. 0. 0.]]\n",
      "\n",
      " [[0. 0. 0.]\n",
      "  [0. 0. 0.]\n",
      "  [0. 0. 0.]\n",
      "  ...\n",
      "  [0. 0. 0.]\n",
      "  [0. 0. 0.]\n",
      "  [0. 0. 0.]]\n",
      "\n",
      " [[0. 0. 0.]\n",
      "  [0. 0. 0.]\n",
      "  [0. 0. 0.]\n",
      "  ...\n",
      "  [0. 0. 0.]\n",
      "  [0. 0. 0.]\n",
      "  [0. 0. 0.]]]\n"
     ]
    }
   ],
   "source": [
    "print(x[35,:,:,:]) # the pixel retrieved from loading the data set and converting the image into pixels"
   ]
  },
  {
   "cell_type": "code",
   "execution_count": 117,
   "id": "03a3d61e",
   "metadata": {},
   "outputs": [
    {
     "data": {
      "text/plain": [
       "tag_cookies    1.0\n",
       "Name: 45, dtype: float32"
      ]
     },
     "execution_count": 117,
     "metadata": {},
     "output_type": "execute_result"
    }
   ],
   "source": [
    "# the tags that are given by the cnn\n",
    "bool = saved.loc[45]>=1\n",
    "my = saved.loc[45]\n",
    "my[bool==True]"
   ]
  },
  {
   "cell_type": "code",
   "execution_count": null,
   "id": "5c02aaa2",
   "metadata": {},
   "outputs": [],
   "source": []
  }
 ],
 "metadata": {
  "kernelspec": {
   "display_name": "Python 3",
   "language": "python",
   "name": "python3"
  },
  "language_info": {
   "codemirror_mode": {
    "name": "ipython",
    "version": 3
   },
   "file_extension": ".py",
   "mimetype": "text/x-python",
   "name": "python",
   "nbconvert_exporter": "python",
   "pygments_lexer": "ipython3",
   "version": "3.6.13"
  }
 },
 "nbformat": 4,
 "nbformat_minor": 5
}
