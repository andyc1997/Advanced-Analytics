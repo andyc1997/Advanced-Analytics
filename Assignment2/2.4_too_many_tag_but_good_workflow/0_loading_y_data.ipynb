{
 "cells": [
  {
   "cell_type": "code",
   "execution_count": 1,
   "id": "335d17bb",
   "metadata": {},
   "outputs": [],
   "source": [
    "import pandas as pd"
   ]
  },
  {
   "cell_type": "code",
   "execution_count": 2,
   "id": "4859f78c",
   "metadata": {},
   "outputs": [],
   "source": [
    "# loading the label dataset\n",
    "df = pd.read_csv('C:/Users/david/Documents/0_kul/1_ma_stds_1/1_advanced_analytics/assignment_2/data/recipes.csv',delimiter=';')"
   ]
  },
  {
   "cell_type": "code",
   "execution_count": 3,
   "id": "e67a211e",
   "metadata": {},
   "outputs": [
    {
     "data": {
      "text/html": [
       "<div>\n",
       "<style scoped>\n",
       "    .dataframe tbody tr th:only-of-type {\n",
       "        vertical-align: middle;\n",
       "    }\n",
       "\n",
       "    .dataframe tbody tr th {\n",
       "        vertical-align: top;\n",
       "    }\n",
       "\n",
       "    .dataframe thead th {\n",
       "        text-align: right;\n",
       "    }\n",
       "</style>\n",
       "<table border=\"1\" class=\"dataframe\">\n",
       "  <thead>\n",
       "    <tr style=\"text-align: right;\">\n",
       "      <th></th>\n",
       "      <th>photo_id</th>\n",
       "      <th>url</th>\n",
       "      <th>may_be</th>\n",
       "      <th>likes</th>\n",
       "      <th>timestamp</th>\n",
       "      <th>scraped_at</th>\n",
       "      <th>diff</th>\n",
       "      <th>tag_healthy</th>\n",
       "      <th>tag_tasty</th>\n",
       "      <th>tag_dinner</th>\n",
       "      <th>...</th>\n",
       "      <th>tag_egg</th>\n",
       "      <th>tag_oatmeal</th>\n",
       "      <th>tag_natural</th>\n",
       "      <th>tag_beef</th>\n",
       "      <th>tag_noodles</th>\n",
       "      <th>tag_italian</th>\n",
       "      <th>tag_drinks</th>\n",
       "      <th>tag_steak</th>\n",
       "      <th>tag_sandwich</th>\n",
       "      <th>tag_strawberry</th>\n",
       "    </tr>\n",
       "  </thead>\n",
       "  <tbody>\n",
       "    <tr>\n",
       "      <th>0</th>\n",
       "      <td>CMPELQqh_nh</td>\n",
       "      <td>https://www.instagram.com/p/CMPELQqh_nh/</td>\n",
       "      <td>dessert and indoor</td>\n",
       "      <td>3</td>\n",
       "      <td>2021-03-10T10:47:18</td>\n",
       "      <td>2021-03-10T11:48:52</td>\n",
       "      <td>1.03</td>\n",
       "      <td>0</td>\n",
       "      <td>0</td>\n",
       "      <td>1</td>\n",
       "      <td>...</td>\n",
       "      <td>0</td>\n",
       "      <td>0</td>\n",
       "      <td>0</td>\n",
       "      <td>0</td>\n",
       "      <td>0</td>\n",
       "      <td>0</td>\n",
       "      <td>0</td>\n",
       "      <td>0</td>\n",
       "      <td>0</td>\n",
       "      <td>0</td>\n",
       "    </tr>\n",
       "    <tr>\n",
       "      <th>1</th>\n",
       "      <td>CMPEHqppR-t</td>\n",
       "      <td>https://www.instagram.com/p/CMPEHqppR-t/</td>\n",
       "      <td>pasta and indoor</td>\n",
       "      <td>3</td>\n",
       "      <td>2021-03-10T10:46:48</td>\n",
       "      <td>2021-03-10T11:48:59</td>\n",
       "      <td>1.04</td>\n",
       "      <td>0</td>\n",
       "      <td>0</td>\n",
       "      <td>0</td>\n",
       "      <td>...</td>\n",
       "      <td>0</td>\n",
       "      <td>0</td>\n",
       "      <td>0</td>\n",
       "      <td>0</td>\n",
       "      <td>0</td>\n",
       "      <td>0</td>\n",
       "      <td>0</td>\n",
       "      <td>0</td>\n",
       "      <td>0</td>\n",
       "      <td>0</td>\n",
       "    </tr>\n",
       "    <tr>\n",
       "      <th>2</th>\n",
       "      <td>CMPEBY9Buko</td>\n",
       "      <td>https://www.instagram.com/p/CMPEBY9Buko/</td>\n",
       "      <td>cake and indoor</td>\n",
       "      <td>2</td>\n",
       "      <td>2021-03-10T10:45:57</td>\n",
       "      <td>2021-03-10T11:49:08</td>\n",
       "      <td>1.05</td>\n",
       "      <td>0</td>\n",
       "      <td>0</td>\n",
       "      <td>0</td>\n",
       "      <td>...</td>\n",
       "      <td>0</td>\n",
       "      <td>0</td>\n",
       "      <td>0</td>\n",
       "      <td>0</td>\n",
       "      <td>0</td>\n",
       "      <td>0</td>\n",
       "      <td>0</td>\n",
       "      <td>0</td>\n",
       "      <td>0</td>\n",
       "      <td>0</td>\n",
       "    </tr>\n",
       "    <tr>\n",
       "      <th>3</th>\n",
       "      <td>CMPEAvhF9i1</td>\n",
       "      <td>https://www.instagram.com/p/CMPEAvhF9i1/</td>\n",
       "      <td>food</td>\n",
       "      <td>1</td>\n",
       "      <td>2021-03-10T10:45:52</td>\n",
       "      <td>2021-03-10T11:49:12</td>\n",
       "      <td>1.06</td>\n",
       "      <td>0</td>\n",
       "      <td>1</td>\n",
       "      <td>0</td>\n",
       "      <td>...</td>\n",
       "      <td>0</td>\n",
       "      <td>0</td>\n",
       "      <td>0</td>\n",
       "      <td>0</td>\n",
       "      <td>0</td>\n",
       "      <td>0</td>\n",
       "      <td>0</td>\n",
       "      <td>0</td>\n",
       "      <td>0</td>\n",
       "      <td>0</td>\n",
       "    </tr>\n",
       "    <tr>\n",
       "      <th>4</th>\n",
       "      <td>CMPD73jJssJ</td>\n",
       "      <td>https://www.instagram.com/p/CMPD73jJssJ/</td>\n",
       "      <td>dessert</td>\n",
       "      <td>2</td>\n",
       "      <td>2021-03-10T10:45:12</td>\n",
       "      <td>2021-03-10T11:49:16</td>\n",
       "      <td>1.07</td>\n",
       "      <td>0</td>\n",
       "      <td>0</td>\n",
       "      <td>0</td>\n",
       "      <td>...</td>\n",
       "      <td>0</td>\n",
       "      <td>0</td>\n",
       "      <td>0</td>\n",
       "      <td>0</td>\n",
       "      <td>0</td>\n",
       "      <td>0</td>\n",
       "      <td>0</td>\n",
       "      <td>0</td>\n",
       "      <td>0</td>\n",
       "      <td>0</td>\n",
       "    </tr>\n",
       "  </tbody>\n",
       "</table>\n",
       "<p>5 rows × 104 columns</p>\n",
       "</div>"
      ],
      "text/plain": [
       "      photo_id                                       url              may_be  \\\n",
       "0  CMPELQqh_nh  https://www.instagram.com/p/CMPELQqh_nh/  dessert and indoor   \n",
       "1  CMPEHqppR-t  https://www.instagram.com/p/CMPEHqppR-t/    pasta and indoor   \n",
       "2  CMPEBY9Buko  https://www.instagram.com/p/CMPEBY9Buko/     cake and indoor   \n",
       "3  CMPEAvhF9i1  https://www.instagram.com/p/CMPEAvhF9i1/                food   \n",
       "4  CMPD73jJssJ  https://www.instagram.com/p/CMPD73jJssJ/             dessert   \n",
       "\n",
       "   likes            timestamp           scraped_at  diff  tag_healthy  \\\n",
       "0      3  2021-03-10T10:47:18  2021-03-10T11:48:52  1.03            0   \n",
       "1      3  2021-03-10T10:46:48  2021-03-10T11:48:59  1.04            0   \n",
       "2      2  2021-03-10T10:45:57  2021-03-10T11:49:08  1.05            0   \n",
       "3      1  2021-03-10T10:45:52  2021-03-10T11:49:12  1.06            0   \n",
       "4      2  2021-03-10T10:45:12  2021-03-10T11:49:16  1.07            0   \n",
       "\n",
       "   tag_tasty  tag_dinner  ...  tag_egg  tag_oatmeal  tag_natural  tag_beef  \\\n",
       "0          0           1  ...        0            0            0         0   \n",
       "1          0           0  ...        0            0            0         0   \n",
       "2          0           0  ...        0            0            0         0   \n",
       "3          1           0  ...        0            0            0         0   \n",
       "4          0           0  ...        0            0            0         0   \n",
       "\n",
       "   tag_noodles  tag_italian  tag_drinks  tag_steak  tag_sandwich  \\\n",
       "0            0            0           0          0             0   \n",
       "1            0            0           0          0             0   \n",
       "2            0            0           0          0             0   \n",
       "3            0            0           0          0             0   \n",
       "4            0            0           0          0             0   \n",
       "\n",
       "   tag_strawberry  \n",
       "0               0  \n",
       "1               0  \n",
       "2               0  \n",
       "3               0  \n",
       "4               0  \n",
       "\n",
       "[5 rows x 104 columns]"
      ]
     },
     "execution_count": 3,
     "metadata": {},
     "output_type": "execute_result"
    }
   ],
   "source": [
    "df.head()"
   ]
  },
  {
   "cell_type": "code",
   "execution_count": 4,
   "id": "91be4591",
   "metadata": {},
   "outputs": [],
   "source": [
    "# Make a dataframe with unwanted rows/data.\n",
    "empty = ['CMbgB5tjSJa', 'CMbJFC-F3Tz',' CMmV2A2sBvY', 'CMMyIsZgX31', 'CMO5_RRDV5z',\n",
    "'CMO98R3n1M3', 'CMO967MAl3V','CMOOv-qh1fN', 'CMP4fSDrLhn', 'CMT_uYYFJIp', 'CMTz1OZqDAG','CMmV2A2sBvY']"
   ]
  },
  {
   "cell_type": "code",
   "execution_count": 5,
   "id": "602c9f33",
   "metadata": {},
   "outputs": [],
   "source": [
    "df_undesired = df[df['photo_id'].isin(empty)]"
   ]
  },
  {
   "cell_type": "code",
   "execution_count": 6,
   "id": "2eac4b36",
   "metadata": {},
   "outputs": [
    {
     "data": {
      "text/plain": [
       "Int64Index([190, 191, 274, 939, 3393, 6272, 6608, 7058, 8198, 8422, 10457], dtype='int64')"
      ]
     },
     "execution_count": 6,
     "metadata": {},
     "output_type": "execute_result"
    }
   ],
   "source": [
    "df_undesired.index"
   ]
  },
  {
   "cell_type": "code",
   "execution_count": 7,
   "id": "e8a350d4",
   "metadata": {},
   "outputs": [],
   "source": [
    "df_cleaned = df.drop(df_undesired.index)"
   ]
  },
  {
   "cell_type": "code",
   "execution_count": 8,
   "id": "91c0a191",
   "metadata": {},
   "outputs": [
    {
     "data": {
      "text/plain": [
       "(11685, 104)"
      ]
     },
     "execution_count": 8,
     "metadata": {},
     "output_type": "execute_result"
    }
   ],
   "source": [
    "df_cleaned.shape"
   ]
  },
  {
   "cell_type": "code",
   "execution_count": 9,
   "id": "445ee67f",
   "metadata": {},
   "outputs": [
    {
     "data": {
      "text/plain": [
       "(11696, 104)"
      ]
     },
     "execution_count": 9,
     "metadata": {},
     "output_type": "execute_result"
    }
   ],
   "source": [
    "df.shape"
   ]
  },
  {
   "cell_type": "code",
   "execution_count": 10,
   "id": "15ca7eaf",
   "metadata": {},
   "outputs": [],
   "source": [
    "# save as csv file\n",
    "df_cleaned.to_csv(\"C:/Users/david/Documents/0_kul/1_ma_stds_1/1_advanced_analytics/assignment_2/data/processed/recipe_without_empty.csv\",index=False)"
   ]
  },
  {
   "cell_type": "code",
   "execution_count": null,
   "id": "dca55ba2",
   "metadata": {},
   "outputs": [],
   "source": []
  }
 ],
 "metadata": {
  "kernelspec": {
   "display_name": "Python 3",
   "language": "python",
   "name": "python3"
  },
  "language_info": {
   "codemirror_mode": {
    "name": "ipython",
    "version": 3
   },
   "file_extension": ".py",
   "mimetype": "text/x-python",
   "name": "python",
   "nbconvert_exporter": "python",
   "pygments_lexer": "ipython3",
   "version": "3.6.13"
  }
 },
 "nbformat": 4,
 "nbformat_minor": 5
}
