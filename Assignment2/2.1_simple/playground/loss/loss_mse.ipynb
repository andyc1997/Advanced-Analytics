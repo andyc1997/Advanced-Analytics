{
 "cells": [
  {
   "cell_type": "code",
   "execution_count": 1,
   "id": "e70ecaca",
   "metadata": {},
   "outputs": [
    {
     "name": "stderr",
     "output_type": "stream",
     "text": [
      "Using TensorFlow backend.\n"
     ]
    }
   ],
   "source": [
    "# import keras library\n",
    "import keras\n",
    "# import Sequential from the keras models module\n",
    "from keras import Sequential\n",
    "# import Dense, Dropout, Flatten, Conv2D, MaxPooling2D from the keras layers module\n",
    "from keras.layers import Dense,Flatten, Conv2D"
   ]
  },
  {
   "cell_type": "code",
   "execution_count": 2,
   "id": "a1fe487d",
   "metadata": {},
   "outputs": [],
   "source": [
    "import numpy as np\n",
    "import pandas as pd\n",
    "y = pd.read_csv(\"C:/Users/david/Documents/0_kul/1_ma_stds_1/1_advanced_analytics/assignment_2/data/simple/y.csv\",delimiter=',')\n",
    "x = np.load('C:/Users/david/Documents/0_kul/1_ma_stds_1/1_advanced_analytics/assignment_2/data/simple/image_pixel_100.npy') # loading it\n",
    "from sklearn.model_selection import train_test_split\n",
    "x_train,x_test,y_train,y_test = train_test_split(x,y,test_size=0.3,random_state=42)"
   ]
  },
  {
   "cell_type": "code",
   "execution_count": 3,
   "id": "672198f1",
   "metadata": {},
   "outputs": [
    {
     "name": "stdout",
     "output_type": "stream",
     "text": [
      "Model: \"sequential_1\"\n",
      "_________________________________________________________________\n",
      "Layer (type)                 Output Shape              Param #   \n",
      "=================================================================\n",
      "conv2d_1 (Conv2D)            (None, 98, 98, 25)        700       \n",
      "_________________________________________________________________\n",
      "conv2d_2 (Conv2D)            (None, 97, 97, 10)        1010      \n",
      "_________________________________________________________________\n",
      "flatten_1 (Flatten)          (None, 94090)             0         \n",
      "_________________________________________________________________\n",
      "dense_1 (Dense)              (None, 3)                 282273    \n",
      "=================================================================\n",
      "Total params: 283,983\n",
      "Trainable params: 283,983\n",
      "Non-trainable params: 0\n",
      "_________________________________________________________________\n"
     ]
    }
   ],
   "source": [
    "model = Sequential()\n",
    "# Add a convolutional layer (15 units)\n",
    "model.add(Conv2D(25,activation='relu',kernel_size=3,input_shape=(100,100,3)))\n",
    "# Add another convolutional layer (5 units)\n",
    "model.add(Conv2D(10,activation='relu',kernel_size=2))\n",
    "# Add another convolutional layer (5 units)\n",
    "model.add(Flatten())\n",
    "model.add(Dense(3, activation='softmax'))\n",
    "model.summary()"
   ]
  },
  {
   "cell_type": "code",
   "execution_count": 4,
   "id": "57aedf98",
   "metadata": {},
   "outputs": [],
   "source": [
    "# Compile model\n",
    "model.compile(optimizer='rmsprop', \n",
    "              loss='mse', \n",
    "              metrics=['accuracy'])"
   ]
  },
  {
   "cell_type": "code",
   "execution_count": 5,
   "id": "9a096570",
   "metadata": {},
   "outputs": [
    {
     "name": "stdout",
     "output_type": "stream",
     "text": [
      "Train on 413 samples, validate on 177 samples\n",
      "Epoch 1/4\n",
      "413/413 [==============================] - 2s 6ms/step - loss: 0.5415 - accuracy: 0.1864 - val_loss: 0.5574 - val_accuracy: 0.1525\n",
      "Epoch 2/4\n",
      "413/413 [==============================] - 2s 5ms/step - loss: 0.5448 - accuracy: 0.1816 - val_loss: 0.5574 - val_accuracy: 0.1525\n",
      "Epoch 3/4\n",
      "413/413 [==============================] - 2s 6ms/step - loss: 0.5448 - accuracy: 0.1816 - val_loss: 0.5574 - val_accuracy: 0.1525\n",
      "Epoch 4/4\n",
      "413/413 [==============================] - 2s 6ms/step - loss: 0.5448 - accuracy: 0.1816 - val_loss: 0.5574 - val_accuracy: 0.1525\n"
     ]
    },
    {
     "data": {
      "text/plain": [
       "<keras.callbacks.callbacks.History at 0x2ebd2901630>"
      ]
     },
     "execution_count": 5,
     "metadata": {},
     "output_type": "execute_result"
    }
   ],
   "source": [
    "# Fit the model to training data \n",
    "model.fit(x_train,y_train, \n",
    "          validation_split=0.3, \n",
    "          epochs=4, batch_size=12)"
   ]
  },
  {
   "cell_type": "code",
   "execution_count": 6,
   "id": "61dabbe7",
   "metadata": {},
   "outputs": [
    {
     "name": "stdout",
     "output_type": "stream",
     "text": [
      "590/590 [==============================] - 1s 1ms/step\n"
     ]
    },
    {
     "data": {
      "text/plain": [
       "[0.5485875545921972, 0.1728813499212265]"
      ]
     },
     "execution_count": 6,
     "metadata": {},
     "output_type": "execute_result"
    }
   ],
   "source": [
    "model.evaluate(x_train,y_train)"
   ]
  },
  {
   "cell_type": "code",
   "execution_count": 7,
   "id": "445b5ca0",
   "metadata": {},
   "outputs": [
    {
     "name": "stdout",
     "output_type": "stream",
     "text": [
      "253/253 [==============================] - 0s 1ms/step\n"
     ]
    },
    {
     "data": {
      "text/plain": [
       "[0.4953886704011397, 0.260869562625885]"
      ]
     },
     "execution_count": 7,
     "metadata": {},
     "output_type": "execute_result"
    }
   ],
   "source": [
    "model.evaluate(x_test,y_test)"
   ]
  }
 ],
 "metadata": {
  "kernelspec": {
   "display_name": "Python 3",
   "language": "python",
   "name": "python3"
  },
  "language_info": {
   "codemirror_mode": {
    "name": "ipython",
    "version": 3
   },
   "file_extension": ".py",
   "mimetype": "text/x-python",
   "name": "python",
   "nbconvert_exporter": "python",
   "pygments_lexer": "ipython3",
   "version": "3.6.13"
  }
 },
 "nbformat": 4,
 "nbformat_minor": 5
}
