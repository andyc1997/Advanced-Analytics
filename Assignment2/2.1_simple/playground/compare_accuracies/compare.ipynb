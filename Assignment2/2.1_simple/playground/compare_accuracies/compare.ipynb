{
 "cells": [
  {
   "cell_type": "code",
   "execution_count": null,
   "id": "428b4735",
   "metadata": {},
   "outputs": [],
   "source": [
    "def compare_histories_acc(h1,h2):\n",
    "  plt.plot(h1.history['acc'])\n",
    "  plt.plot(h1.history['val_acc'])\n",
    "  plt.plot(h2.history['acc'])\n",
    "  plt.plot(h2.history['val_acc'])\n",
    "  plt.title(\"Batch Normalization Effects\")\n",
    "  plt.xlabel('Epoch')\n",
    "  plt.ylabel('Accuracy')\n",
    "  plt.legend(['Train', 'Test', 'Train with Batch Normalization', 'Test with Batch Normalization'], loc='best')\n",
    "  plt.show()"
   ]
  }
 ],
 "metadata": {
  "kernelspec": {
   "display_name": "Python 3",
   "language": "python",
   "name": "python3"
  },
  "language_info": {
   "codemirror_mode": {
    "name": "ipython",
    "version": 3
   },
   "file_extension": ".py",
   "mimetype": "text/x-python",
   "name": "python",
   "nbconvert_exporter": "python",
   "pygments_lexer": "ipython3",
   "version": "3.6.13"
  }
 },
 "nbformat": 4,
 "nbformat_minor": 5
}
