{
 "cells": [
  {
   "cell_type": "code",
   "execution_count": 1,
   "id": "d50270f2",
   "metadata": {},
   "outputs": [
    {
     "name": "stderr",
     "output_type": "stream",
     "text": [
      "Using TensorFlow backend.\n"
     ]
    }
   ],
   "source": [
    "# import keras library\n",
    "import keras\n",
    "# import Sequential from the keras models module\n",
    "from keras import Sequential\n",
    "# import Dense, Dropout, Flatten, Conv2D, MaxPooling2D from the keras layers module\n",
    "from keras.layers import Dense,Flatten, Conv2D"
   ]
  },
  {
   "cell_type": "code",
   "execution_count": 2,
   "id": "2e7c9562",
   "metadata": {},
   "outputs": [],
   "source": [
    "import numpy as np\n",
    "import pandas as pd\n",
    "y = pd.read_csv(\"C:/Users/david/Documents/0_kul/1_ma_stds_1/1_advanced_analytics/assignment_2/data/simple/y.csv\",delimiter=',')\n",
    "x = np.load('C:/Users/david/Documents/0_kul/1_ma_stds_1/1_advanced_analytics/assignment_2/data/simple/image_pixel_100.npy') # loading it\n",
    "from sklearn.model_selection import train_test_split\n",
    "x_train,x_test,y_train,y_test = train_test_split(x,y,test_size=0.3,random_state=42)"
   ]
  },
  {
   "cell_type": "code",
   "execution_count": 3,
   "id": "467fba91",
   "metadata": {},
   "outputs": [
    {
     "name": "stdout",
     "output_type": "stream",
     "text": [
      "x_train shape: (590, 100, 100, 3)\n",
      "590 train samples\n",
      "253 test samples\n"
     ]
    }
   ],
   "source": [
    "# examine number of samples in train, test, and validation sets\n",
    "print('x_train shape:', x_train.shape)\n",
    "print(x_train.shape[0], 'train samples')\n",
    "print(x_test.shape[0], 'test samples')"
   ]
  },
  {
   "cell_type": "code",
   "execution_count": 4,
   "id": "4daed87c",
   "metadata": {},
   "outputs": [
    {
     "name": "stdout",
     "output_type": "stream",
     "text": [
      "Model: \"sequential_1\"\n",
      "_________________________________________________________________\n",
      "Layer (type)                 Output Shape              Param #   \n",
      "=================================================================\n",
      "conv2d_1 (Conv2D)            (None, 98, 98, 25)        700       \n",
      "_________________________________________________________________\n",
      "conv2d_2 (Conv2D)            (None, 97, 97, 10)        1010      \n",
      "_________________________________________________________________\n",
      "flatten_1 (Flatten)          (None, 94090)             0         \n",
      "_________________________________________________________________\n",
      "dense_1 (Dense)              (None, 3)                 282273    \n",
      "=================================================================\n",
      "Total params: 283,983\n",
      "Trainable params: 283,983\n",
      "Non-trainable params: 0\n",
      "_________________________________________________________________\n"
     ]
    }
   ],
   "source": [
    "model = Sequential()\n",
    "# Add a convolutional layer (15 units)\n",
    "model.add(Conv2D(25,activation='relu',kernel_size=3,input_shape=(100,100,3)))\n",
    "# Add another convolutional layer (5 units)\n",
    "model.add(Conv2D(10,activation='relu',kernel_size=2))\n",
    "# Add another convolutional layer (5 units)\n",
    "model.add(Flatten())\n",
    "model.add(Dense(3, activation='softmax'))\n",
    "model.summary()"
   ]
  },
  {
   "cell_type": "code",
   "execution_count": 5,
   "id": "6e770753",
   "metadata": {},
   "outputs": [],
   "source": [
    "# Compile model\n",
    "model.compile(optimizer='rmsprop', \n",
    "              loss='categorical_crossentropy', \n",
    "              metrics=['accuracy'])"
   ]
  },
  {
   "cell_type": "code",
   "execution_count": 6,
   "id": "341adad6",
   "metadata": {},
   "outputs": [
    {
     "name": "stdout",
     "output_type": "stream",
     "text": [
      "Train on 413 samples, validate on 177 samples\n",
      "Epoch 1/10\n",
      "413/413 [==============================] - 3s 6ms/step - loss: 568.3003 - accuracy: 0.5424 - val_loss: 7.9475 - val_accuracy: 0.4915\n",
      "Epoch 2/10\n",
      "413/413 [==============================] - 2s 6ms/step - loss: 2.8951 - accuracy: 0.7918 - val_loss: 5.1956 - val_accuracy: 0.6723\n",
      "Epoch 3/10\n",
      "413/413 [==============================] - 2s 6ms/step - loss: 0.8725 - accuracy: 0.9128 - val_loss: 6.1251 - val_accuracy: 0.6102\n",
      "Epoch 4/10\n",
      "413/413 [==============================] - 2s 6ms/step - loss: 0.9102 - accuracy: 0.9564 - val_loss: 12.2795 - val_accuracy: 0.6667\n",
      "Epoch 5/10\n",
      "413/413 [==============================] - 2s 6ms/step - loss: 4.9855 - accuracy: 0.9322 - val_loss: 10.2690 - val_accuracy: 0.6667\n",
      "Epoch 6/10\n",
      "413/413 [==============================] - 2s 6ms/step - loss: 1.2451 - accuracy: 0.9564 - val_loss: 43.3215 - val_accuracy: 0.6893\n",
      "Epoch 7/10\n",
      "413/413 [==============================] - 2s 6ms/step - loss: 8.1756 - accuracy: 0.9249 - val_loss: 13.1725 - val_accuracy: 0.4802\n",
      "Epoch 8/10\n",
      "413/413 [==============================] - 2s 6ms/step - loss: 3.4819 - accuracy: 0.9346 - val_loss: 26.8240 - val_accuracy: 0.6497\n",
      "Epoch 9/10\n",
      "413/413 [==============================] - 2s 6ms/step - loss: 13.1126 - accuracy: 0.9298 - val_loss: 23.2446 - val_accuracy: 0.5819\n",
      "Epoch 10/10\n",
      "413/413 [==============================] - 2s 6ms/step - loss: 12.6862 - accuracy: 0.9395 - val_loss: 43.8891 - val_accuracy: 0.6554\n"
     ]
    },
    {
     "data": {
      "text/plain": [
       "<keras.callbacks.callbacks.History at 0x254d28a0630>"
      ]
     },
     "execution_count": 6,
     "metadata": {},
     "output_type": "execute_result"
    }
   ],
   "source": [
    "# Fit the model to training data \n",
    "model.fit(x_train,y_train, \n",
    "          validation_split=0.3, \n",
    "          epochs=10, batch_size=12)"
   ]
  },
  {
   "cell_type": "code",
   "execution_count": 8,
   "id": "65796d74",
   "metadata": {},
   "outputs": [
    {
     "name": "stdout",
     "output_type": "stream",
     "text": [
      "590/590 [==============================] - 1s 1ms/step\n"
     ]
    },
    {
     "data": {
      "text/plain": [
       "[14.614733202174559, 0.8813559412956238]"
      ]
     },
     "execution_count": 8,
     "metadata": {},
     "output_type": "execute_result"
    }
   ],
   "source": [
    "model.evaluate(x_train,y_train)"
   ]
  },
  {
   "cell_type": "code",
   "execution_count": 9,
   "id": "f66eb045",
   "metadata": {},
   "outputs": [
    {
     "name": "stdout",
     "output_type": "stream",
     "text": [
      "253/253 [==============================] - 0s 1ms/step\n"
     ]
    },
    {
     "data": {
      "text/plain": [
       "[51.30732211388147, 0.573122501373291]"
      ]
     },
     "execution_count": 9,
     "metadata": {},
     "output_type": "execute_result"
    }
   ],
   "source": [
    "model.evaluate(x_test,y_test)"
   ]
  },
  {
   "cell_type": "code",
   "execution_count": null,
   "id": "c1e7f245",
   "metadata": {},
   "outputs": [],
   "source": []
  }
 ],
 "metadata": {
  "kernelspec": {
   "display_name": "Python 3",
   "language": "python",
   "name": "python3"
  },
  "language_info": {
   "codemirror_mode": {
    "name": "ipython",
    "version": 3
   },
   "file_extension": ".py",
   "mimetype": "text/x-python",
   "name": "python",
   "nbconvert_exporter": "python",
   "pygments_lexer": "ipython3",
   "version": "3.6.13"
  }
 },
 "nbformat": 4,
 "nbformat_minor": 5
}
