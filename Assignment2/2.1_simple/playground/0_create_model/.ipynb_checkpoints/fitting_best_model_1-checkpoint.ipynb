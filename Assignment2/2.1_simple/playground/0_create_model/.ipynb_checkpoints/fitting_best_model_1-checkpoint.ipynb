{
 "cells": [
  {
   "cell_type": "code",
   "execution_count": 1,
   "id": "ddf183fa",
   "metadata": {},
   "outputs": [
    {
     "name": "stderr",
     "output_type": "stream",
     "text": [
      "Using TensorFlow backend.\n"
     ]
    }
   ],
   "source": [
    "# import keras library\n",
    "import keras\n",
    "# import Sequential from the keras models module\n",
    "from keras import Sequential\n",
    "# import Dense, Dropout, Flatten, Conv2D, MaxPooling2D from the keras layers module\n",
    "from keras.layers import Dense,Flatten, Conv2D\n",
    "from keras.optimizers import Adam"
   ]
  },
  {
   "cell_type": "code",
   "execution_count": 2,
   "id": "abd37015",
   "metadata": {},
   "outputs": [],
   "source": [
    "import numpy as np\n",
    "import pandas as pd\n",
    "y = pd.read_csv(\"C:/Users/david/Documents/0_kul/1_ma_stds_1/1_advanced_analytics/assignment_2/data/simple/y.csv\",delimiter=',')\n",
    "x = np.load('C:/Users/david/Documents/0_kul/1_ma_stds_1/1_advanced_analytics/assignment_2/data/simple/image_pixel_100.npy') # loading it\n",
    "from sklearn.model_selection import train_test_split\n",
    "x_train,x_test,y_train,y_test = train_test_split(x,y,test_size=0.3,random_state=42)"
   ]
  },
  {
   "cell_type": "code",
   "execution_count": 8,
   "id": "dd6e298d",
   "metadata": {},
   "outputs": [],
   "source": [
    "def create_model(learning_rate,kernel,acti_function):\n",
    "    opt = Adam(lr=learning_rate)\n",
    "    model = Sequential()\n",
    "    model.add(Conv2D(15,kernel_size=kernel,activation=acti_function,input_shape=(100,100,3)))\n",
    "    model.add(Conv2D(5,kernel_size=kernel,activation=acti_function))\n",
    "    model.add(Flatten())\n",
    "    model.add(Dense(3,activation='softmax'))\n",
    "    model.compile(optimizer = opt, loss='categorical_crossentropy',metrics=['accuracy'])\n",
    "    return model"
   ]
  },
  {
   "cell_type": "code",
   "execution_count": 9,
   "id": "81558e7e",
   "metadata": {},
   "outputs": [],
   "source": [
    "model = create_model(learning_rate=0.001,kernel=4,acti_function='tanh')"
   ]
  },
  {
   "cell_type": "code",
   "execution_count": 10,
   "id": "31ce0a1a",
   "metadata": {},
   "outputs": [
    {
     "name": "stdout",
     "output_type": "stream",
     "text": [
      "Train on 354 samples, validate on 236 samples\n",
      "Epoch 1/6\n",
      "354/354 [==============================] - 3s 9ms/step - loss: 4.8247 - accuracy: 0.5904 - val_loss: 1.7925 - val_accuracy: 0.6822\n",
      "Epoch 2/6\n",
      "354/354 [==============================] - 3s 9ms/step - loss: 0.7224 - accuracy: 0.8333 - val_loss: 1.3298 - val_accuracy: 0.6229\n",
      "Epoch 3/6\n",
      "354/354 [==============================] - 3s 9ms/step - loss: 0.2195 - accuracy: 0.9266 - val_loss: 2.2588 - val_accuracy: 0.6822\n",
      "Epoch 4/6\n",
      "354/354 [==============================] - 3s 9ms/step - loss: 0.1180 - accuracy: 0.9605 - val_loss: 1.7579 - val_accuracy: 0.4534\n",
      "Epoch 5/6\n",
      "354/354 [==============================] - 3s 9ms/step - loss: 0.1850 - accuracy: 0.9576 - val_loss: 1.6465 - val_accuracy: 0.5297\n",
      "Epoch 6/6\n",
      "354/354 [==============================] - 3s 9ms/step - loss: 1.2536 - accuracy: 0.8644 - val_loss: 4.2313 - val_accuracy: 0.6441\n"
     ]
    },
    {
     "data": {
      "text/plain": [
       "<keras.callbacks.callbacks.History at 0x14ca9614940>"
      ]
     },
     "execution_count": 10,
     "metadata": {},
     "output_type": "execute_result"
    }
   ],
   "source": [
    "model.fit(x_train,y_train,validation_split=0.4,epochs=6,batch_size=10)"
   ]
  },
  {
   "cell_type": "code",
   "execution_count": 6,
   "id": "eb362bd3",
   "metadata": {},
   "outputs": [
    {
     "name": "stdout",
     "output_type": "stream",
     "text": [
      "590/590 [==============================] - 1s 1ms/step\n"
     ]
    },
    {
     "data": {
      "text/plain": [
       "[3.7883015205541657, 0.8152542114257812]"
      ]
     },
     "execution_count": 6,
     "metadata": {},
     "output_type": "execute_result"
    }
   ],
   "source": [
    "model.evaluate(x_train,y_train)"
   ]
  },
  {
   "cell_type": "code",
   "execution_count": 7,
   "id": "504bf795",
   "metadata": {},
   "outputs": [
    {
     "name": "stdout",
     "output_type": "stream",
     "text": [
      "253/253 [==============================] - 0s 1ms/step\n"
     ]
    },
    {
     "data": {
      "text/plain": [
       "[8.065898105561027, 0.49802371859550476]"
      ]
     },
     "execution_count": 7,
     "metadata": {},
     "output_type": "execute_result"
    }
   ],
   "source": [
    "model.evaluate(x_test,y_test)"
   ]
  },
  {
   "cell_type": "code",
   "execution_count": null,
   "id": "75bb1240",
   "metadata": {},
   "outputs": [],
   "source": []
  }
 ],
 "metadata": {
  "kernelspec": {
   "display_name": "Python 3",
   "language": "python",
   "name": "python3"
  },
  "language_info": {
   "codemirror_mode": {
    "name": "ipython",
    "version": 3
   },
   "file_extension": ".py",
   "mimetype": "text/x-python",
   "name": "python",
   "nbconvert_exporter": "python",
   "pygments_lexer": "ipython3",
   "version": "3.6.13"
  }
 },
 "nbformat": 4,
 "nbformat_minor": 5
}
