{
 "cells": [
  {
   "cell_type": "code",
   "execution_count": 1,
   "id": "49f99b99",
   "metadata": {},
   "outputs": [
    {
     "name": "stderr",
     "output_type": "stream",
     "text": [
      "Using TensorFlow backend.\n"
     ]
    }
   ],
   "source": [
    "import numpy as np\n",
    "import pandas as pd\n",
    "import matplotlib.pyplot as plt\n",
    "# import keras library\n",
    "import keras\n",
    "# import Sequential from the keras models module\n",
    "from keras import Sequential\n",
    "# import Dense, Dropout, Flatten, Conv2D, MaxPooling2D from the keras layers module\n",
    "from keras.layers import Dense,Flatten, Conv2D, MaxPooling2D\n",
    "from keras.optimizers import Adam\n",
    "from keras.callbacks import EarlyStopping, ModelCheckpoint"
   ]
  },
  {
   "cell_type": "code",
   "execution_count": 2,
   "id": "9ef83ee5",
   "metadata": {},
   "outputs": [
    {
     "name": "stdout",
     "output_type": "stream",
     "text": [
      "x_train shape: (590, 100, 100, 3)\n",
      "590 train samples\n",
      "253 test samples\n",
      "(843, 3)\n"
     ]
    }
   ],
   "source": [
    "y = pd.read_csv(\"C:/Users/david/Documents/0_kul/1_ma_stds_1/1_advanced_analytics/assignment_2/data/simple/y.csv\",delimiter=',')\n",
    "x = np.load('C:/Users/david/Documents/0_kul/1_ma_stds_1/1_advanced_analytics/assignment_2/data/simple/image_pixel_100.npy') # loading it\n",
    "from sklearn.model_selection import train_test_split\n",
    "x_train,x_test,y_train,y_test = train_test_split(x,y,test_size=0.3,random_state=42)\n",
    "# examine number of samples in train, test, and validation sets\n",
    "print('x_train shape:', x_train.shape)\n",
    "print(x_train.shape[0], 'train samples')\n",
    "print(x_test.shape[0], 'test samples')\n",
    "print(y.shape)"
   ]
  },
  {
   "cell_type": "code",
   "execution_count": 3,
   "id": "3e8bad67",
   "metadata": {},
   "outputs": [],
   "source": [
    "def plot_loss(loss,val_loss):\n",
    "  plt.figure()\n",
    "  plt.plot(loss)\n",
    "  plt.plot(val_loss)\n",
    "  plt.title('Model loss')\n",
    "  plt.ylabel('Loss')\n",
    "  plt.xlabel('Epoch')\n",
    "  plt.legend(['Train', 'Test'], loc='upper right')\n",
    "  plt.show()"
   ]
  },
  {
   "cell_type": "code",
   "execution_count": 4,
   "id": "e0d5e70b",
   "metadata": {},
   "outputs": [],
   "source": [
    "def plot_accuracy(acc,val_acc):\n",
    "  # Plot training & validation accuracy values\n",
    "  plt.figure()\n",
    "  plt.plot(acc)\n",
    "  plt.plot(val_acc)\n",
    "  plt.title('Model accuracy')\n",
    "  plt.ylabel('Accuracy')\n",
    "  plt.xlabel('Epoch')\n",
    "  plt.legend(['Train', 'Test'], loc='upper left')\n",
    "  plt.show()"
   ]
  },
  {
   "cell_type": "code",
   "execution_count": 5,
   "id": "3ec7680a",
   "metadata": {},
   "outputs": [],
   "source": [
    "early_stopping = EarlyStopping(monitor='val_loss',patience=5)\n",
    "modelCheckpoint = ModelCheckpoint('best_model.hdf5',save_best_only=True)"
   ]
  },
  {
   "cell_type": "code",
   "execution_count": 6,
   "id": "12ee33e6",
   "metadata": {},
   "outputs": [],
   "source": [
    "def create_model(learning_rate,kernel,acti_function,acti_output,loss_f):\n",
    "    opt = Adam(lr=learning_rate)\n",
    "    model = Sequential()\n",
    "    model.add(Conv2D(50,kernel_size=kernel,activation=acti_function,input_shape=(100,100,3)))\n",
    "    model.add(MaxPooling2D(4))\n",
    "    model.add(Conv2D(25,kernel_size=kernel,activation=acti_function))\n",
    "    model.add(MaxPooling2D(3))\n",
    "    model.add(Flatten())\n",
    "    model.add(Dense(3,activation=acti_output))\n",
    "    model.compile(optimizer = opt, loss=loss_f,metrics=['accuracy'])\n",
    "    return model"
   ]
  },
  {
   "cell_type": "code",
   "execution_count": 7,
   "id": "f594383e",
   "metadata": {},
   "outputs": [],
   "source": [
    "best_model = create_model(learning_rate = 0.001 , kernel = 2, acti_function = 'sigmoid',\n",
    "                          acti_output = 'sigmoid', loss_f = 'binary_crossentropy')"
   ]
  },
  {
   "cell_type": "code",
   "execution_count": 8,
   "id": "8c89b608",
   "metadata": {},
   "outputs": [
    {
     "name": "stdout",
     "output_type": "stream",
     "text": [
      "Train on 413 samples, validate on 177 samples\n",
      "Epoch 1/100\n",
      "413/413 [==============================] - 2s 5ms/step - loss: 0.5213 - accuracy: 0.7926 - val_loss: 0.5017 - val_accuracy: 0.7928\n",
      "Epoch 2/100\n",
      "413/413 [==============================] - 2s 4ms/step - loss: 0.5040 - accuracy: 0.7926 - val_loss: 0.4965 - val_accuracy: 0.7928\n",
      "Epoch 3/100\n",
      "413/413 [==============================] - 2s 4ms/step - loss: 0.4960 - accuracy: 0.7926 - val_loss: 0.4910 - val_accuracy: 0.7928\n",
      "Epoch 4/100\n",
      "413/413 [==============================] - 2s 4ms/step - loss: 0.4812 - accuracy: 0.7926 - val_loss: 0.4881 - val_accuracy: 0.7928\n",
      "Epoch 5/100\n",
      "413/413 [==============================] - 2s 4ms/step - loss: 0.4770 - accuracy: 0.7926 - val_loss: 0.4934 - val_accuracy: 0.7947\n",
      "Epoch 6/100\n",
      "413/413 [==============================] - 2s 4ms/step - loss: 0.4713 - accuracy: 0.7918 - val_loss: 0.4866 - val_accuracy: 0.7928\n",
      "Epoch 7/100\n",
      "413/413 [==============================] - 2s 4ms/step - loss: 0.4728 - accuracy: 0.7950 - val_loss: 0.4665 - val_accuracy: 0.7928\n",
      "Epoch 8/100\n",
      "413/413 [==============================] - 2s 4ms/step - loss: 0.4584 - accuracy: 0.7950 - val_loss: 0.4604 - val_accuracy: 0.7928\n",
      "Epoch 9/100\n",
      "413/413 [==============================] - 2s 4ms/step - loss: 0.4449 - accuracy: 0.7974 - val_loss: 0.4717 - val_accuracy: 0.7928\n",
      "Epoch 10/100\n",
      "413/413 [==============================] - 2s 4ms/step - loss: 0.4435 - accuracy: 0.8031 - val_loss: 0.4457 - val_accuracy: 0.8060\n",
      "Epoch 11/100\n",
      "413/413 [==============================] - 2s 4ms/step - loss: 0.4435 - accuracy: 0.8023 - val_loss: 0.4666 - val_accuracy: 0.7797\n",
      "Epoch 12/100\n",
      "413/413 [==============================] - 2s 4ms/step - loss: 0.4356 - accuracy: 0.8071 - val_loss: 0.4385 - val_accuracy: 0.8060\n",
      "Epoch 13/100\n",
      "413/413 [==============================] - 2s 4ms/step - loss: 0.4091 - accuracy: 0.8087 - val_loss: 0.4355 - val_accuracy: 0.8004\n",
      "Epoch 14/100\n",
      "413/413 [==============================] - 2s 4ms/step - loss: 0.3984 - accuracy: 0.8136 - val_loss: 0.4486 - val_accuracy: 0.8117\n",
      "Epoch 15/100\n",
      "413/413 [==============================] - 2s 4ms/step - loss: 0.4043 - accuracy: 0.8200 - val_loss: 0.4492 - val_accuracy: 0.8041\n",
      "Epoch 16/100\n",
      "413/413 [==============================] - 2s 4ms/step - loss: 0.3923 - accuracy: 0.8176 - val_loss: 0.4432 - val_accuracy: 0.8154\n",
      "Epoch 17/100\n",
      "413/413 [==============================] - 2s 4ms/step - loss: 0.3830 - accuracy: 0.8257 - val_loss: 0.4324 - val_accuracy: 0.8192\n",
      "Epoch 18/100\n",
      "413/413 [==============================] - 2s 4ms/step - loss: 0.3794 - accuracy: 0.8249 - val_loss: 0.4208 - val_accuracy: 0.8192\n",
      "Epoch 19/100\n",
      "413/413 [==============================] - 2s 4ms/step - loss: 0.3866 - accuracy: 0.8232 - val_loss: 0.4436 - val_accuracy: 0.8098\n",
      "Epoch 20/100\n",
      "413/413 [==============================] - 2s 4ms/step - loss: 0.3662 - accuracy: 0.8329 - val_loss: 0.4320 - val_accuracy: 0.8154\n",
      "Epoch 21/100\n",
      "413/413 [==============================] - 2s 4ms/step - loss: 0.3557 - accuracy: 0.8394 - val_loss: 0.4203 - val_accuracy: 0.8230\n",
      "Epoch 22/100\n",
      "413/413 [==============================] - 2s 4ms/step - loss: 0.3483 - accuracy: 0.8434 - val_loss: 0.4216 - val_accuracy: 0.8211\n",
      "Epoch 23/100\n",
      "413/413 [==============================] - 2s 4ms/step - loss: 0.3498 - accuracy: 0.8426 - val_loss: 0.4218 - val_accuracy: 0.8192\n",
      "Epoch 24/100\n",
      "413/413 [==============================] - 2s 4ms/step - loss: 0.3480 - accuracy: 0.8337 - val_loss: 0.4473 - val_accuracy: 0.8173\n",
      "Epoch 25/100\n",
      "413/413 [==============================] - 2s 4ms/step - loss: 0.3384 - accuracy: 0.8499 - val_loss: 0.4291 - val_accuracy: 0.8136\n",
      "Epoch 26/100\n",
      "413/413 [==============================] - 2s 4ms/step - loss: 0.3409 - accuracy: 0.8628 - val_loss: 0.4186 - val_accuracy: 0.8267\n",
      "Epoch 27/100\n",
      "413/413 [==============================] - 2s 4ms/step - loss: 0.3417 - accuracy: 0.8450 - val_loss: 0.4251 - val_accuracy: 0.8230\n",
      "Epoch 28/100\n",
      "413/413 [==============================] - 2s 4ms/step - loss: 0.3408 - accuracy: 0.8563 - val_loss: 0.4475 - val_accuracy: 0.7928\n",
      "Epoch 29/100\n",
      "413/413 [==============================] - 2s 4ms/step - loss: 0.3337 - accuracy: 0.8644 - val_loss: 0.4266 - val_accuracy: 0.8249\n",
      "Epoch 30/100\n",
      "413/413 [==============================] - 2s 4ms/step - loss: 0.3237 - accuracy: 0.8547 - val_loss: 0.4351 - val_accuracy: 0.8211\n",
      "Epoch 31/100\n",
      "413/413 [==============================] - 2s 4ms/step - loss: 0.3146 - accuracy: 0.8588 - val_loss: 0.4231 - val_accuracy: 0.8211\n"
     ]
    }
   ],
   "source": [
    "h_callback = best_model.fit(x_train, y_train,epochs = 100, batch_size = 20,\n",
    "                    callbacks = [early_stopping,modelCheckpoint],\n",
    "                    validation_split = 0.3)"
   ]
  },
  {
   "cell_type": "code",
   "execution_count": 9,
   "id": "85118dfc",
   "metadata": {},
   "outputs": [
    {
     "name": "stdout",
     "output_type": "stream",
     "text": [
      "590/590 [==============================] - 1s 1ms/step\n"
     ]
    },
    {
     "data": {
      "text/plain": [
       "[0.34364904791621836, 0.8621469140052795]"
      ]
     },
     "execution_count": 9,
     "metadata": {},
     "output_type": "execute_result"
    }
   ],
   "source": [
    "best_model.evaluate(x_train,y_train)"
   ]
  },
  {
   "cell_type": "code",
   "execution_count": 10,
   "id": "c46c06c9",
   "metadata": {},
   "outputs": [
    {
     "name": "stdout",
     "output_type": "stream",
     "text": [
      "253/253 [==============================] - 0s 1ms/step\n"
     ]
    },
    {
     "data": {
      "text/plain": [
       "[0.4921684354661482, 0.7615283727645874]"
      ]
     },
     "execution_count": 10,
     "metadata": {},
     "output_type": "execute_result"
    }
   ],
   "source": [
    "best_model.evaluate(x_test,y_test)"
   ]
  },
  {
   "cell_type": "code",
   "execution_count": 11,
   "id": "aca16475",
   "metadata": {},
   "outputs": [
    {
     "data": {
      "image/png": "[encoded data removed]",
      "text/plain": [
       "<Figure size 432x288 with 1 Axes>"
      ]
     },
     "metadata": {
      "needs_background": "light"
     },
     "output_type": "display_data"
    },
    {
     "data": {
      "image/png": "[encoded data removed]",
      "text/plain": [
       "<Figure size 432x288 with 1 Axes>"
      ]
     },
     "metadata": {
      "needs_background": "light"
     },
     "output_type": "display_data"
    }
   ],
   "source": [
    "# Plot train vs test loss during training\n",
    "plot_loss(h_callback.history['loss'], h_callback.history['val_loss'])\n",
    "# Plot train vs test accuracy during training\n",
    "plot_accuracy(h_callback.history['accuracy'], h_callback.history['val_accuracy'])"
   ]
  },
  {
   "cell_type": "code",
   "execution_count": 15,
   "id": "3252da02",
   "metadata": {},
   "outputs": [
    {
     "name": "stdout",
     "output_type": "stream",
     "text": [
      "Saved model to disk\n"
     ]
    }
   ],
   "source": [
    "from keras.models import model_from_json\n",
    "#serialize model to JSON\n",
    "model_json = best_model.to_json()\n",
    "with open(\"model.json\", \"w\") as json_file:\n",
    "    json_file.write(model_json)\n",
    "# serialize weights to HDF5\n",
    "best_model.save_weights(\"model.h5\")\n",
    "print(\"Saved model to disk\")"
   ]
  },
  {
   "cell_type": "code",
   "execution_count": null,
   "id": "bdf120ff",
   "metadata": {},
   "outputs": [],
   "source": []
  }
 ],
 "metadata": {
  "kernelspec": {
   "display_name": "Python 3",
   "language": "python",
   "name": "python3"
  },
  "language_info": {
   "codemirror_mode": {
    "name": "ipython",
    "version": 3
   },
   "file_extension": ".py",
   "mimetype": "text/x-python",
   "name": "python",
   "nbconvert_exporter": "python",
   "pygments_lexer": "ipython3",
   "version": "3.6.13"
  }
 },
 "nbformat": 4,
 "nbformat_minor": 5
}
