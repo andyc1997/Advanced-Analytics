{
 "cells": [
  {
   "cell_type": "code",
   "execution_count": 1,
   "id": "3d7828d9",
   "metadata": {},
   "outputs": [
    {
     "name": "stderr",
     "output_type": "stream",
     "text": [
      "Using TensorFlow backend.\n"
     ]
    }
   ],
   "source": [
    "from keras.callbacks import ModelCheckpoint\n",
    "from keras.callbacks import EarlyStopping"
   ]
  },
  {
   "cell_type": "code",
   "execution_count": 2,
   "id": "f783a37e",
   "metadata": {},
   "outputs": [],
   "source": [
    "modelCheckpoint = ModelCheckpoint('best_model.hdf5',save_best_only=True)\n",
    "monitor_val_acc = EarlyStopping(monitor = 'val_loss', patience = 5)\n"
   ]
  },
  {
   "cell_type": "code",
   "execution_count": 3,
   "id": "2b8ff89e",
   "metadata": {},
   "outputs": [],
   "source": [
    "# import keras library\n",
    "import keras\n",
    "# import Sequential from the keras models module\n",
    "from keras import Sequential\n",
    "# import Dense, Dropout, Flatten, Conv2D, MaxPooling2D from the keras layers module\n",
    "from keras.layers import Dense,Flatten, Conv2D"
   ]
  },
  {
   "cell_type": "code",
   "execution_count": 4,
   "id": "bae05d51",
   "metadata": {},
   "outputs": [],
   "source": [
    "import numpy as np\n",
    "import pandas as pd\n",
    "y = pd.read_csv(\"C:/Users/david/Documents/0_kul/1_ma_stds_1/1_advanced_analytics/assignment_2/data/simple/y.csv\",delimiter=',')\n",
    "x = np.load('C:/Users/david/Documents/0_kul/1_ma_stds_1/1_advanced_analytics/assignment_2/data/simple/image_pixel_100.npy') # loading it\n",
    "from sklearn.model_selection import train_test_split\n",
    "x_train,x_test,y_train,y_test = train_test_split(x,y,test_size=0.3,random_state=42)"
   ]
  },
  {
   "cell_type": "code",
   "execution_count": 5,
   "id": "17f2e768",
   "metadata": {},
   "outputs": [
    {
     "name": "stdout",
     "output_type": "stream",
     "text": [
      "x_train shape: (590, 100, 100, 3)\n",
      "590 train samples\n",
      "253 test samples\n"
     ]
    }
   ],
   "source": [
    "# examine number of samples in train, test, and validation sets\n",
    "print('x_train shape:', x_train.shape)\n",
    "print(x_train.shape[0], 'train samples')\n",
    "print(x_test.shape[0], 'test samples')"
   ]
  },
  {
   "cell_type": "code",
   "execution_count": 6,
   "id": "9c5c66c4",
   "metadata": {},
   "outputs": [
    {
     "name": "stdout",
     "output_type": "stream",
     "text": [
      "Model: \"sequential_1\"\n",
      "_________________________________________________________________\n",
      "Layer (type)                 Output Shape              Param #   \n",
      "=================================================================\n",
      "conv2d_1 (Conv2D)            (None, 98, 98, 25)        700       \n",
      "_________________________________________________________________\n",
      "conv2d_2 (Conv2D)            (None, 97, 97, 10)        1010      \n",
      "_________________________________________________________________\n",
      "flatten_1 (Flatten)          (None, 94090)             0         \n",
      "_________________________________________________________________\n",
      "dense_1 (Dense)              (None, 3)                 282273    \n",
      "=================================================================\n",
      "Total params: 283,983\n",
      "Trainable params: 283,983\n",
      "Non-trainable params: 0\n",
      "_________________________________________________________________\n"
     ]
    }
   ],
   "source": [
    "model = Sequential()\n",
    "# Add a convolutional layer (15 units)\n",
    "model.add(Conv2D(25,activation='relu',kernel_size=3,input_shape=(100,100,3)))\n",
    "# Add another convolutional layer (5 units)\n",
    "model.add(Conv2D(10,activation='relu',kernel_size=2))\n",
    "# Add another convolutional layer (5 units)\n",
    "model.add(Flatten())\n",
    "model.add(Dense(3, activation='softmax'))\n",
    "model.summary()"
   ]
  },
  {
   "cell_type": "code",
   "execution_count": 7,
   "id": "c31d2f82",
   "metadata": {},
   "outputs": [],
   "source": [
    "# Compile model\n",
    "model.compile(optimizer='rmsprop', \n",
    "              loss='categorical_crossentropy', \n",
    "              metrics=['accuracy'])"
   ]
  },
  {
   "cell_type": "code",
   "execution_count": 8,
   "id": "33e6dfcc",
   "metadata": {},
   "outputs": [
    {
     "name": "stdout",
     "output_type": "stream",
     "text": [
      "Train on 413 samples, validate on 177 samples\n",
      "Epoch 1/1000000000000\n",
      "413/413 [==============================] - 3s 7ms/step - loss: 227.0606 - accuracy: 0.5109 - val_loss: 27.2891 - val_accuracy: 0.6723\n",
      "Epoch 2/1000000000000\n",
      "413/413 [==============================] - 2s 6ms/step - loss: 9.0663 - accuracy: 0.7530 - val_loss: 12.1034 - val_accuracy: 0.4576\n",
      "Epoch 3/1000000000000\n",
      "413/413 [==============================] - 2s 6ms/step - loss: 2.5069 - accuracy: 0.8596 - val_loss: 9.2081 - val_accuracy: 0.6780\n",
      "Epoch 4/1000000000000\n",
      "413/413 [==============================] - 2s 6ms/step - loss: 0.5285 - accuracy: 0.9516 - val_loss: 20.7967 - val_accuracy: 0.7062\n",
      "Epoch 5/1000000000000\n",
      "413/413 [==============================] - 2s 5ms/step - loss: 1.6983 - accuracy: 0.9370 - val_loss: 13.7509 - val_accuracy: 0.6441\n",
      "Epoch 6/1000000000000\n",
      "413/413 [==============================] - 2s 6ms/step - loss: 0.9318 - accuracy: 0.9661 - val_loss: 45.7271 - val_accuracy: 0.3672\n",
      "Epoch 7/1000000000000\n",
      "413/413 [==============================] - 2s 6ms/step - loss: 5.0955 - accuracy: 0.8935 - val_loss: 13.8422 - val_accuracy: 0.6102\n",
      "Epoch 8/1000000000000\n",
      "413/413 [==============================] - 2s 6ms/step - loss: 2.3507 - accuracy: 0.9564 - val_loss: 11.6037 - val_accuracy: 0.5311\n"
     ]
    }
   ],
   "source": [
    "h_callback = model.fit(x_train, y_train,epochs = 1000000000000,\n",
    "                    callbacks = [monitor_val_acc,modelCheckpoint],\n",
    "                    validation_split = 0.3)"
   ]
  },
  {
   "cell_type": "code",
   "execution_count": 9,
   "id": "a83e7461",
   "metadata": {},
   "outputs": [
    {
     "name": "stdout",
     "output_type": "stream",
     "text": [
      "590/590 [==============================] - 1s 1ms/step\n"
     ]
    },
    {
     "data": {
      "text/plain": [
       "[3.971668668350173, 0.8423728942871094]"
      ]
     },
     "execution_count": 9,
     "metadata": {},
     "output_type": "execute_result"
    }
   ],
   "source": [
    "model.evaluate(x_train,y_train)"
   ]
  },
  {
   "cell_type": "code",
   "execution_count": 10,
   "id": "f7cba6be",
   "metadata": {},
   "outputs": [
    {
     "name": "stdout",
     "output_type": "stream",
     "text": [
      "253/253 [==============================] - 0s 1ms/step\n"
     ]
    },
    {
     "data": {
      "text/plain": [
       "[10.902778071377117, 0.52173912525177]"
      ]
     },
     "execution_count": 10,
     "metadata": {},
     "output_type": "execute_result"
    }
   ],
   "source": [
    "model.evaluate(x_test,y_test)"
   ]
  },
  {
   "cell_type": "code",
   "execution_count": null,
   "id": "1191d12c",
   "metadata": {},
   "outputs": [],
   "source": []
  }
 ],
 "metadata": {
  "kernelspec": {
   "display_name": "Python 3",
   "language": "python",
   "name": "python3"
  },
  "language_info": {
   "codemirror_mode": {
    "name": "ipython",
    "version": 3
   },
   "file_extension": ".py",
   "mimetype": "text/x-python",
   "name": "python",
   "nbconvert_exporter": "python",
   "pygments_lexer": "ipython3",
   "version": "3.6.13"
  }
 },
 "nbformat": 4,
 "nbformat_minor": 5
}
