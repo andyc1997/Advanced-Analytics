{
 "cells": [
  {
   "cell_type": "code",
   "execution_count": 1,
   "id": "25f74299",
   "metadata": {},
   "outputs": [],
   "source": [
    "import pandas as pd\n",
    "import numpy as np\n",
    "df = pd.read_csv('C:/Users/david/Documents/0_kul/1_ma_stds_1/1_advanced_analytics/assignment_2/data/simple/recipe_without_empty.csv')"
   ]
  },
  {
   "cell_type": "code",
   "execution_count": 2,
   "id": "7bef8f02",
   "metadata": {},
   "outputs": [],
   "source": [
    "keep = ['tag_chocolate','tag_pizza','tag_lemon']"
   ]
  },
  {
   "cell_type": "code",
   "execution_count": 3,
   "id": "e65beb67",
   "metadata": {},
   "outputs": [],
   "source": [
    "keep_2 = ['photo_id', 'url', 'may_be', 'likes', 'timestamp', 'scraped_at', 'diff'] + keep"
   ]
  },
  {
   "cell_type": "code",
   "execution_count": 4,
   "id": "8b870d5e",
   "metadata": {},
   "outputs": [
    {
     "data": {
      "text/html": [
       "<div>\n",
       "<style scoped>\n",
       "    .dataframe tbody tr th:only-of-type {\n",
       "        vertical-align: middle;\n",
       "    }\n",
       "\n",
       "    .dataframe tbody tr th {\n",
       "        vertical-align: top;\n",
       "    }\n",
       "\n",
       "    .dataframe thead th {\n",
       "        text-align: right;\n",
       "    }\n",
       "</style>\n",
       "<table border=\"1\" class=\"dataframe\">\n",
       "  <thead>\n",
       "    <tr style=\"text-align: right;\">\n",
       "      <th></th>\n",
       "      <th>photo_id</th>\n",
       "      <th>url</th>\n",
       "      <th>may_be</th>\n",
       "      <th>likes</th>\n",
       "      <th>timestamp</th>\n",
       "      <th>scraped_at</th>\n",
       "      <th>diff</th>\n",
       "      <th>tag_chocolate</th>\n",
       "      <th>tag_pizza</th>\n",
       "      <th>tag_lemon</th>\n",
       "    </tr>\n",
       "  </thead>\n",
       "  <tbody>\n",
       "    <tr>\n",
       "      <th>4</th>\n",
       "      <td>CMPD73jJssJ</td>\n",
       "      <td>https://www.instagram.com/p/CMPD73jJssJ/</td>\n",
       "      <td>dessert</td>\n",
       "      <td>2</td>\n",
       "      <td>2021-03-10T10:45:12</td>\n",
       "      <td>2021-03-10T11:49:16</td>\n",
       "      <td>1.07</td>\n",
       "      <td>1</td>\n",
       "      <td>0</td>\n",
       "      <td>0</td>\n",
       "    </tr>\n",
       "    <tr>\n",
       "      <th>16</th>\n",
       "      <td>CMPDgtknaSS</td>\n",
       "      <td>https://www.instagram.com/p/CMPDgtknaSS/</td>\n",
       "      <td>cake and indoor</td>\n",
       "      <td>3</td>\n",
       "      <td>2021-03-10T10:41:29</td>\n",
       "      <td>2021-03-10T11:50:21</td>\n",
       "      <td>1.15</td>\n",
       "      <td>1</td>\n",
       "      <td>0</td>\n",
       "      <td>0</td>\n",
       "    </tr>\n",
       "    <tr>\n",
       "      <th>24</th>\n",
       "      <td>CMPDYtDhqVV</td>\n",
       "      <td>https://www.instagram.com/p/CMPDYtDhqVV/</td>\n",
       "      <td>dessert</td>\n",
       "      <td>22</td>\n",
       "      <td>2021-03-10T10:44:58</td>\n",
       "      <td>2021-03-10T11:50:58</td>\n",
       "      <td>1.10</td>\n",
       "      <td>0</td>\n",
       "      <td>1</td>\n",
       "      <td>0</td>\n",
       "    </tr>\n",
       "    <tr>\n",
       "      <th>59</th>\n",
       "      <td>CMPBhill_rI</td>\n",
       "      <td>https://www.instagram.com/p/CMPBhill_rI/</td>\n",
       "      <td>food and indoor</td>\n",
       "      <td>85</td>\n",
       "      <td>2021-03-10T10:24:07</td>\n",
       "      <td>2021-03-10T11:56:11</td>\n",
       "      <td>1.53</td>\n",
       "      <td>0</td>\n",
       "      <td>0</td>\n",
       "      <td>1</td>\n",
       "    </tr>\n",
       "    <tr>\n",
       "      <th>65</th>\n",
       "      <td>CMPBSqoFsEo</td>\n",
       "      <td>https://www.instagram.com/p/CMPBSqoFsEo/</td>\n",
       "      <td>dessert and indoor</td>\n",
       "      <td>8</td>\n",
       "      <td>2021-03-10T10:35:22</td>\n",
       "      <td>2021-03-10T11:56:44</td>\n",
       "      <td>1.36</td>\n",
       "      <td>0</td>\n",
       "      <td>0</td>\n",
       "      <td>1</td>\n",
       "    </tr>\n",
       "    <tr>\n",
       "      <th>89</th>\n",
       "      <td>CMPAm34lN6-</td>\n",
       "      <td>https://www.instagram.com/p/CMPAm34lN6-/</td>\n",
       "      <td>food</td>\n",
       "      <td>39</td>\n",
       "      <td>2021-03-10T10:44:46</td>\n",
       "      <td>2021-03-10T11:59:14</td>\n",
       "      <td>1.24</td>\n",
       "      <td>1</td>\n",
       "      <td>0</td>\n",
       "      <td>0</td>\n",
       "    </tr>\n",
       "    <tr>\n",
       "      <th>104</th>\n",
       "      <td>CMPAF7-gMkR</td>\n",
       "      <td>https://www.instagram.com/p/CMPAF7-gMkR/</td>\n",
       "      <td>pizza</td>\n",
       "      <td>11</td>\n",
       "      <td>2021-03-10T10:11:39</td>\n",
       "      <td>2021-03-10T12:01:03</td>\n",
       "      <td>1.82</td>\n",
       "      <td>0</td>\n",
       "      <td>1</td>\n",
       "      <td>0</td>\n",
       "    </tr>\n",
       "    <tr>\n",
       "      <th>112</th>\n",
       "      <td>CITkqwwpj8T</td>\n",
       "      <td>https://www.instagram.com/p/CITkqwwpj8T/</td>\n",
       "      <td>pizza</td>\n",
       "      <td>213</td>\n",
       "      <td>2020-12-02T20:02:07</td>\n",
       "      <td>2021-03-10T12:01:37</td>\n",
       "      <td>2343.99</td>\n",
       "      <td>0</td>\n",
       "      <td>1</td>\n",
       "      <td>0</td>\n",
       "    </tr>\n",
       "    <tr>\n",
       "      <th>122</th>\n",
       "      <td>CMO_4iGFPou</td>\n",
       "      <td>https://www.instagram.com/p/CMO_4iGFPou/</td>\n",
       "      <td>food</td>\n",
       "      <td>15</td>\n",
       "      <td>2021-03-10T10:20:45</td>\n",
       "      <td>2021-03-10T12:02:31</td>\n",
       "      <td>1.70</td>\n",
       "      <td>0</td>\n",
       "      <td>1</td>\n",
       "      <td>0</td>\n",
       "    </tr>\n",
       "    <tr>\n",
       "      <th>140</th>\n",
       "      <td>CMO_FZphFfd</td>\n",
       "      <td>https://www.instagram.com/p/CMO_FZphFfd/</td>\n",
       "      <td>food</td>\n",
       "      <td>9</td>\n",
       "      <td>2021-03-10T10:08:29</td>\n",
       "      <td>2021-03-10T12:04:43</td>\n",
       "      <td>1.94</td>\n",
       "      <td>1</td>\n",
       "      <td>0</td>\n",
       "      <td>0</td>\n",
       "    </tr>\n",
       "  </tbody>\n",
       "</table>\n",
       "</div>"
      ],
      "text/plain": [
       "        photo_id                                       url  \\\n",
       "4    CMPD73jJssJ  https://www.instagram.com/p/CMPD73jJssJ/   \n",
       "16   CMPDgtknaSS  https://www.instagram.com/p/CMPDgtknaSS/   \n",
       "24   CMPDYtDhqVV  https://www.instagram.com/p/CMPDYtDhqVV/   \n",
       "59   CMPBhill_rI  https://www.instagram.com/p/CMPBhill_rI/   \n",
       "65   CMPBSqoFsEo  https://www.instagram.com/p/CMPBSqoFsEo/   \n",
       "89   CMPAm34lN6-  https://www.instagram.com/p/CMPAm34lN6-/   \n",
       "104  CMPAF7-gMkR  https://www.instagram.com/p/CMPAF7-gMkR/   \n",
       "112  CITkqwwpj8T  https://www.instagram.com/p/CITkqwwpj8T/   \n",
       "122  CMO_4iGFPou  https://www.instagram.com/p/CMO_4iGFPou/   \n",
       "140  CMO_FZphFfd  https://www.instagram.com/p/CMO_FZphFfd/   \n",
       "\n",
       "                 may_be  likes            timestamp           scraped_at  \\\n",
       "4               dessert      2  2021-03-10T10:45:12  2021-03-10T11:49:16   \n",
       "16      cake and indoor      3  2021-03-10T10:41:29  2021-03-10T11:50:21   \n",
       "24              dessert     22  2021-03-10T10:44:58  2021-03-10T11:50:58   \n",
       "59      food and indoor     85  2021-03-10T10:24:07  2021-03-10T11:56:11   \n",
       "65   dessert and indoor      8  2021-03-10T10:35:22  2021-03-10T11:56:44   \n",
       "89                 food     39  2021-03-10T10:44:46  2021-03-10T11:59:14   \n",
       "104               pizza     11  2021-03-10T10:11:39  2021-03-10T12:01:03   \n",
       "112               pizza    213  2020-12-02T20:02:07  2021-03-10T12:01:37   \n",
       "122                food     15  2021-03-10T10:20:45  2021-03-10T12:02:31   \n",
       "140                food      9  2021-03-10T10:08:29  2021-03-10T12:04:43   \n",
       "\n",
       "        diff  tag_chocolate  tag_pizza  tag_lemon  \n",
       "4       1.07              1          0          0  \n",
       "16      1.15              1          0          0  \n",
       "24      1.10              0          1          0  \n",
       "59      1.53              0          0          1  \n",
       "65      1.36              0          0          1  \n",
       "89      1.24              1          0          0  \n",
       "104     1.82              0          1          0  \n",
       "112  2343.99              0          1          0  \n",
       "122     1.70              0          1          0  \n",
       "140     1.94              1          0          0  "
      ]
     },
     "execution_count": 4,
     "metadata": {},
     "output_type": "execute_result"
    }
   ],
   "source": [
    "df_recipe = df[keep_2]\n",
    "df = df_recipe[(df_recipe.iloc[:,7:11].T != 0).any()] # keep only relevant pictures\n",
    "df.head(10)"
   ]
  },
  {
   "cell_type": "code",
   "execution_count": 5,
   "id": "764958b2",
   "metadata": {},
   "outputs": [
    {
     "data": {
      "text/html": [
       "<div>\n",
       "<style scoped>\n",
       "    .dataframe tbody tr th:only-of-type {\n",
       "        vertical-align: middle;\n",
       "    }\n",
       "\n",
       "    .dataframe tbody tr th {\n",
       "        vertical-align: top;\n",
       "    }\n",
       "\n",
       "    .dataframe thead th {\n",
       "        text-align: right;\n",
       "    }\n",
       "</style>\n",
       "<table border=\"1\" class=\"dataframe\">\n",
       "  <thead>\n",
       "    <tr style=\"text-align: right;\">\n",
       "      <th></th>\n",
       "      <th>tag_chocolate</th>\n",
       "      <th>tag_pizza</th>\n",
       "      <th>tag_lemon</th>\n",
       "    </tr>\n",
       "  </thead>\n",
       "  <tbody>\n",
       "    <tr>\n",
       "      <th>4</th>\n",
       "      <td>1</td>\n",
       "      <td>0</td>\n",
       "      <td>0</td>\n",
       "    </tr>\n",
       "    <tr>\n",
       "      <th>16</th>\n",
       "      <td>1</td>\n",
       "      <td>0</td>\n",
       "      <td>0</td>\n",
       "    </tr>\n",
       "    <tr>\n",
       "      <th>24</th>\n",
       "      <td>0</td>\n",
       "      <td>1</td>\n",
       "      <td>0</td>\n",
       "    </tr>\n",
       "    <tr>\n",
       "      <th>59</th>\n",
       "      <td>0</td>\n",
       "      <td>0</td>\n",
       "      <td>1</td>\n",
       "    </tr>\n",
       "    <tr>\n",
       "      <th>65</th>\n",
       "      <td>0</td>\n",
       "      <td>0</td>\n",
       "      <td>1</td>\n",
       "    </tr>\n",
       "  </tbody>\n",
       "</table>\n",
       "</div>"
      ],
      "text/plain": [
       "    tag_chocolate  tag_pizza  tag_lemon\n",
       "4               1          0          0\n",
       "16              1          0          0\n",
       "24              0          1          0\n",
       "59              0          0          1\n",
       "65              0          0          1"
      ]
     },
     "execution_count": 5,
     "metadata": {},
     "output_type": "execute_result"
    }
   ],
   "source": [
    "y = df[keep]\n",
    "y.head(5)"
   ]
  },
  {
   "cell_type": "code",
   "execution_count": 6,
   "id": "93f6aa58",
   "metadata": {},
   "outputs": [],
   "source": [
    "y.iloc[0].sum()\n",
    "list = []"
   ]
  },
  {
   "cell_type": "code",
   "execution_count": 7,
   "id": "2a69f09e",
   "metadata": {},
   "outputs": [],
   "source": [
    "for i in range(0,200):\n",
    "    result = y.iloc[i].sum()\n",
    "    list.append(result)"
   ]
  },
  {
   "cell_type": "code",
   "execution_count": 8,
   "id": "05f66c87",
   "metadata": {},
   "outputs": [
    {
     "name": "stdout",
     "output_type": "stream",
     "text": [
      "[1, 1, 1, 1, 1, 1, 1, 1, 1, 1, 1, 1, 1, 2, 2, 1, 1, 1, 2, 1, 1, 1, 2, 1, 1, 1, 1, 1, 1, 1, 1, 1, 1, 1, 1, 1, 1, 1, 1, 1, 1, 1, 1, 1, 1, 1, 1, 1, 1, 1, 1, 1, 1, 1, 1, 1, 1, 1, 1, 1, 1, 1, 1, 1, 1, 1, 1, 1, 1, 1, 1, 1, 1, 1, 1, 1, 1, 1, 1, 1, 1, 1, 1, 1, 1, 1, 1, 1, 1, 1, 1, 1, 1, 1, 1, 1, 1, 1, 1, 1, 1, 1, 1, 1, 1, 1, 1, 1, 1, 1, 1, 1, 1, 1, 1, 1, 1, 1, 1, 1, 1, 1, 1, 1, 1, 1, 1, 1, 1, 1, 1, 1, 1, 1, 1, 1, 1, 1, 1, 1, 1, 1, 1, 1, 1, 1, 1, 1, 1, 1, 1, 1, 1, 1, 1, 1, 1, 1, 1, 1, 1, 1, 1, 1, 1, 1, 1, 1, 1, 1, 1, 1, 1, 1, 1, 1, 1, 1, 1, 1, 1, 1, 1, 1, 1, 1, 1, 1, 1, 1, 1, 1, 1, 1, 1, 1, 1, 1, 1, 1]\n"
     ]
    }
   ],
   "source": [
    "print(list)"
   ]
  },
  {
   "cell_type": "code",
   "execution_count": 9,
   "id": "98198069",
   "metadata": {},
   "outputs": [
    {
     "name": "stdout",
     "output_type": "stream",
     "text": [
      "(843, 3)\n",
      "(843, 10)\n"
     ]
    }
   ],
   "source": [
    "print(y.shape)\n",
    "print(df.shape)"
   ]
  },
  {
   "cell_type": "code",
   "execution_count": 10,
   "id": "69d230d2",
   "metadata": {},
   "outputs": [],
   "source": [
    "y.to_csv(\"C:/Users/david/Documents/0_kul/1_ma_stds_1/1_advanced_analytics/assignment_2/data/simple/y.csv\",index=False)"
   ]
  },
  {
   "cell_type": "code",
   "execution_count": 11,
   "id": "65f5461b",
   "metadata": {},
   "outputs": [],
   "source": [
    "df.to_csv(\"C:/Users/david/Documents/0_kul/1_ma_stds_1/1_advanced_analytics/assignment_2/data/simple/df.csv\",index=False)"
   ]
  },
  {
   "cell_type": "code",
   "execution_count": null,
   "id": "293d7364",
   "metadata": {},
   "outputs": [],
   "source": []
  }
 ],
 "metadata": {
  "kernelspec": {
   "display_name": "Python 3",
   "language": "python",
   "name": "python3"
  },
  "language_info": {
   "codemirror_mode": {
    "name": "ipython",
    "version": 3
   },
   "file_extension": ".py",
   "mimetype": "text/x-python",
   "name": "python",
   "nbconvert_exporter": "python",
   "pygments_lexer": "ipython3",
   "version": "3.6.13"
  }
 },
 "nbformat": 4,
 "nbformat_minor": 5
}
