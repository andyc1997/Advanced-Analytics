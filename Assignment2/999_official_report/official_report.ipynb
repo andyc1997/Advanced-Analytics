{
 "cells": [
  {
   "cell_type": "markdown",
   "id": "582f4843",
   "metadata": {},
   "source": [
    "<h1> Assignment 2: deep learning on images </h1>\n",
    "<p> In this assignment, more than 11 000 pictures will be used to create a model able to recognize the food content on a picture. The images used are scrapped from instagram having the hashtag #recipe. The codes for scrapping the instagram pictures are <a href=\"http://seppe.net/aa/assignment2/instagram-scraper.py\">given here</a>.\n",
    "The actual pictures can be downloaded from <a href=\"https://drive.google.com/file/d/1RnQa3nrjHGqj6fM_St9GU_4CrFV0EaZB/view\">this google drive</a>. Next to the raw images we have meta-data for each image in the google drive. This is in a csv file available in the repository \"recipes.csv\". </p>\n",
    "<p> We will try to stick to a typical Data Science workflow for this assignment. Let's get started !  <p>"
   ]
  },
  {
   "cell_type": "markdown",
   "id": "c4b36bf7",
   "metadata": {},
   "source": [
    "<h2> 1. Loading images </h2>\n",
    "We start by loading the data described above. The challenge is to load more than 11 000 raw images (6GB) in our Python world into a format that we can work with (pixels)."
   ]
  },
  {
   "cell_type": "code",
   "execution_count": 1,
   "id": "ca2aabf0",
   "metadata": {},
   "outputs": [],
   "source": [
    "from tensorflow.keras.preprocessing import image\n",
    "import numpy as np\n",
    "import pandas as pd\n",
    "import os\n",
    "os.chdir('C:/Users/david/Documents/0_kul/1_ma_stds_1/1_advanced_analytics/assignment_2/data/images')"
   ]
  },
  {
   "cell_type": "code",
   "execution_count": 22,
   "id": "621ece81",
   "metadata": {},
   "outputs": [],
   "source": [
    "# creating function to extract pixel from png\n",
    "def get_images(path):\n",
    "    X = []\n",
    "    for img_path in path:\n",
    "        img = image.load_img(img_path,target_size=(100,100)) # it is easier to work with one size. we set it to 200x200\n",
    "        x = image.img_to_array(img)\n",
    "        X.append(x)\n",
    "    return np.array(X)"
   ]
  },
  {
   "cell_type": "markdown",
   "id": "7d86cfd5",
   "metadata": {},
   "source": [
    "Unfortunaly calling this new defined function gives us an error. We quickly find out that some images in the dataset are empty, and thus need to be removed. It is easily done manually. On top of that, we add the undesired id of the images in a list to remove them  from the meta-data."
   ]
  },
  {
   "cell_type": "code",
   "execution_count": 23,
   "id": "1ef707d3",
   "metadata": {},
   "outputs": [],
   "source": [
    "# Make a dataframe with unwanted rows/data.\n",
    "empty = ['CMbgB5tjSJa', 'CMbJFC-F3Tz',' CMmV2A2sBvY', 'CMMyIsZgX31', 'CMO5_RRDV5z',\n",
    "'CMO98R3n1M3', 'CMO967MAl3V','CMOOv-qh1fN', 'CMP4fSDrLhn', 'CMT_uYYFJIp', 'CMTz1OZqDAG','CMmV2A2sBvY']"
   ]
  },
  {
   "cell_type": "code",
   "execution_count": 24,
   "id": "8513ce2f",
   "metadata": {},
   "outputs": [
    {
     "data": {
      "text/plain": [
       "(11685, 104)"
      ]
     },
     "execution_count": 24,
     "metadata": {},
     "output_type": "execute_result"
    }
   ],
   "source": [
    "# loading the label dataset\n",
    "df = pd.read_csv('C:/Users/david/Documents/0_kul/1_ma_stds_1/1_advanced_analytics/assignment_2/data/recipes.csv',delimiter=';')\n",
    "# Use the index of this unwanted dataframe to drop the rows from the original dataframe.\n",
    "df = df.drop(df_undesired.index,axis=0)\n",
    "df.shape"
   ]
  },
  {
   "cell_type": "code",
   "execution_count": 25,
   "id": "ede1e1f5",
   "metadata": {},
   "outputs": [
    {
     "data": {
      "text/plain": [
       "array(['CMPELQqh_nh.png', 'CMPEHqppR-t.png', 'CMPEBY9Buko.png', ...,\n",
       "       'CMsOrPOrSkl.png', 'CMsOnHuFxoF.png', 'CMsOZ0MpBbu.png'],\n",
       "      dtype=object)"
      ]
     },
     "execution_count": 25,
     "metadata": {},
     "output_type": "execute_result"
    }
   ],
   "source": [
    "# creating the path\n",
    "my_path = df.photo_id.values+'.png'\n",
    "my_path"
   ]
  },
  {
   "cell_type": "code",
   "execution_count": 26,
   "id": "55db9d2d",
   "metadata": {},
   "outputs": [],
   "source": [
    "# Extracting the pixels from the images\n",
    "pixel = get_images(my_path)"
   ]
  },
  {
   "cell_type": "code",
   "execution_count": 27,
   "id": "69542be1",
   "metadata": {},
   "outputs": [
    {
     "name": "stdout",
     "output_type": "stream",
     "text": [
      "<class 'numpy.ndarray'>\n",
      "(11685, 100, 100, 3)\n"
     ]
    }
   ],
   "source": [
    "print(type(pixel))\n",
    "print(pixel.shape)"
   ]
  },
  {
   "cell_type": "markdown",
   "id": "ab11d5c0",
   "metadata": {},
   "source": [
    "<h2> 2. Saving the files </h2>\n",
    "In order to ease the process of working with the data we save the pixel format."
   ]
  },
  {
   "cell_type": "code",
   "execution_count": 35,
   "id": "2be2a41d",
   "metadata": {},
   "outputs": [],
   "source": [
    "np.save('image_pixel', pixel) # saving it\n",
    "loaded_array = np.load('image_pixel.npy') # loading it"
   ]
  },
  {
   "cell_type": "markdown",
   "id": "1a6bd3e8",
   "metadata": {},
   "source": [
    "<h2> 3. Preprocessing the files </h2>\n",
    "There a few things we need to take care of before we fit a deep learning model. We have a heavy dataset.\n",
    "Deciding which tags we want to use. perhaps merge some.\n",
    "downscale the images. (which we kind of did already) or image augmentation."
   ]
  },
  {
   "cell_type": "code",
   "execution_count": 42,
   "id": "f53c37b7",
   "metadata": {},
   "outputs": [
    {
     "ename": "MemoryError",
     "evalue": "Unable to allocate 1.31 GiB for an array with shape (350550000,) and data type float32",
     "output_type": "error",
     "traceback": [
      "\u001b[1;31m---------------------------------------------------------------------------\u001b[0m",
      "\u001b[1;31mMemoryError\u001b[0m                               Traceback (most recent call last)",
      "\u001b[1;32m<ipython-input-42-be6eb5406ff2>\u001b[0m in \u001b[0;36m<module>\u001b[1;34m\u001b[0m\n\u001b[0;32m      1\u001b[0m \u001b[1;31m# loading the pixel format dataset\u001b[0m\u001b[1;33m\u001b[0m\u001b[1;33m\u001b[0m\u001b[1;33m\u001b[0m\u001b[0m\n\u001b[1;32m----> 2\u001b[1;33m \u001b[0mx\u001b[0m \u001b[1;33m=\u001b[0m \u001b[0mnp\u001b[0m\u001b[1;33m.\u001b[0m\u001b[0mload\u001b[0m\u001b[1;33m(\u001b[0m\u001b[1;34m'C:/Users/david/Documents/0_kul/1_ma_stds_1/1_advanced_analytics/assignment_2/data/processed/image_pixel.npy'\u001b[0m\u001b[1;33m)\u001b[0m \u001b[1;31m# loading it\u001b[0m\u001b[1;33m\u001b[0m\u001b[1;33m\u001b[0m\u001b[0m\n\u001b[0m",
      "\u001b[1;32m~\\anaconda3\\envs\\cnn\\lib\\site-packages\\numpy\\lib\\npyio.py\u001b[0m in \u001b[0;36mload\u001b[1;34m(file, mmap_mode, allow_pickle, fix_imports, encoding)\u001b[0m\n\u001b[0;32m    438\u001b[0m             \u001b[1;32melse\u001b[0m\u001b[1;33m:\u001b[0m\u001b[1;33m\u001b[0m\u001b[1;33m\u001b[0m\u001b[0m\n\u001b[0;32m    439\u001b[0m                 return format.read_array(fid, allow_pickle=allow_pickle,\n\u001b[1;32m--> 440\u001b[1;33m                                          pickle_kwargs=pickle_kwargs)\n\u001b[0m\u001b[0;32m    441\u001b[0m         \u001b[1;32melse\u001b[0m\u001b[1;33m:\u001b[0m\u001b[1;33m\u001b[0m\u001b[1;33m\u001b[0m\u001b[0m\n\u001b[0;32m    442\u001b[0m             \u001b[1;31m# Try a pickle\u001b[0m\u001b[1;33m\u001b[0m\u001b[1;33m\u001b[0m\u001b[1;33m\u001b[0m\u001b[0m\n",
      "\u001b[1;32m~\\anaconda3\\envs\\cnn\\lib\\site-packages\\numpy\\lib\\format.py\u001b[0m in \u001b[0;36mread_array\u001b[1;34m(fp, allow_pickle, pickle_kwargs)\u001b[0m\n\u001b[0;32m    739\u001b[0m         \u001b[1;32mif\u001b[0m \u001b[0misfileobj\u001b[0m\u001b[1;33m(\u001b[0m\u001b[0mfp\u001b[0m\u001b[1;33m)\u001b[0m\u001b[1;33m:\u001b[0m\u001b[1;33m\u001b[0m\u001b[1;33m\u001b[0m\u001b[0m\n\u001b[0;32m    740\u001b[0m             \u001b[1;31m# We can use the fast fromfile() function.\u001b[0m\u001b[1;33m\u001b[0m\u001b[1;33m\u001b[0m\u001b[1;33m\u001b[0m\u001b[0m\n\u001b[1;32m--> 741\u001b[1;33m             \u001b[0marray\u001b[0m \u001b[1;33m=\u001b[0m \u001b[0mnumpy\u001b[0m\u001b[1;33m.\u001b[0m\u001b[0mfromfile\u001b[0m\u001b[1;33m(\u001b[0m\u001b[0mfp\u001b[0m\u001b[1;33m,\u001b[0m \u001b[0mdtype\u001b[0m\u001b[1;33m=\u001b[0m\u001b[0mdtype\u001b[0m\u001b[1;33m,\u001b[0m \u001b[0mcount\u001b[0m\u001b[1;33m=\u001b[0m\u001b[0mcount\u001b[0m\u001b[1;33m)\u001b[0m\u001b[1;33m\u001b[0m\u001b[1;33m\u001b[0m\u001b[0m\n\u001b[0m\u001b[0;32m    742\u001b[0m         \u001b[1;32melse\u001b[0m\u001b[1;33m:\u001b[0m\u001b[1;33m\u001b[0m\u001b[1;33m\u001b[0m\u001b[0m\n\u001b[0;32m    743\u001b[0m             \u001b[1;31m# This is not a real file. We have to read it the\u001b[0m\u001b[1;33m\u001b[0m\u001b[1;33m\u001b[0m\u001b[1;33m\u001b[0m\u001b[0m\n",
      "\u001b[1;31mMemoryError\u001b[0m: Unable to allocate 1.31 GiB for an array with shape (350550000,) and data type float32"
     ]
    }
   ],
   "source": [
    "# loading the pixel format dataset\n",
    "x = np.load('C:/Users/david/Documents/0_kul/1_ma_stds_1/1_advanced_analytics/assignment_2/data/processed/image_pixel.npy') # loading it"
   ]
  },
  {
   "cell_type": "markdown",
   "id": "4eb6eb54",
   "metadata": {},
   "source": [
    "<h3> 3.1 New Tags </h3>"
   ]
  },
  {
   "cell_type": "code",
   "execution_count": 28,
   "id": "6f5131fe",
   "metadata": {},
   "outputs": [],
   "source": [
    "df['tag_keto_concept'] = df['tag_keto'] + df['tag_ketodiet'] + df['tag_lowcarb']\n",
    "df['tag_italy_concept'] = df['tag_italy'] + df['tag_italia'] + df['tag_italianfood']\n",
    "df['tag_oat_concept'] = df['tag_oats'] + df['tag_oatmeal']\n",
    "df['tag_vegan_concept'] = df['tag_vegan'] + df['tag_veganfood'] + df['tag_plantbased'] + df['tag_veganrecipe']\n",
    "df['tag_pasta_concept'] = df['tag_pasta'] + df['tag_pastalover']\n",
    "df['tag_sweet_concept'] = df['tag_desserts'] + df['tag_sweets'] + df['tag_dessert'] + df['tag_sweettooth']\n",
    "df['tag_vegetarian_concept'] = df['tag_vegetarian'] + df['tag_vegetarianrecipes'] + df['tag_veggie']\n",
    "df['tag_egg_concept'] = df['tag_egg'] + df['tag_eggs']\n",
    "df['tag_meat_concept'] = df['tag_meat'] + df['tag_beef'] + df['tag_bbq']\n",
    "df['tag_diet_concept'] = df['tag_diet'] + df['tag_weightloss'] + df['tag_fitness'] + df['tag_healthy']\n",
    "df['tag_chocolate_concept'] = df['tag_chocolat'] + df['tag_chocolate']\n",
    "df['tag_bake_concept'] = df['tag_baking'] + df['tag_cake'] + df['tag_bake'] + df['tag_bakery'] + df['tag_cakes'] + df['tag_pastry'] + df['tag_baker']\n",
    "df['tag_breakfast_concept'] = df['tag_breakfast'] + df['tag_breakfastideas']\n",
    "df['tag_fish_concept'] = df['tag_fish'] + df['tag_salmon']"
   ]
  },
  {
   "cell_type": "code",
   "execution_count": 29,
   "id": "f626f180",
   "metadata": {},
   "outputs": [
    {
     "data": {
      "text/html": [
       "<div>\n",
       "<style scoped>\n",
       "    .dataframe tbody tr th:only-of-type {\n",
       "        vertical-align: middle;\n",
       "    }\n",
       "\n",
       "    .dataframe tbody tr th {\n",
       "        vertical-align: top;\n",
       "    }\n",
       "\n",
       "    .dataframe thead th {\n",
       "        text-align: right;\n",
       "    }\n",
       "</style>\n",
       "<table border=\"1\" class=\"dataframe\">\n",
       "  <thead>\n",
       "    <tr style=\"text-align: right;\">\n",
       "      <th></th>\n",
       "      <th>photo_id</th>\n",
       "      <th>url</th>\n",
       "      <th>may_be</th>\n",
       "      <th>likes</th>\n",
       "      <th>timestamp</th>\n",
       "      <th>scraped_at</th>\n",
       "      <th>diff</th>\n",
       "      <th>tag_tasty</th>\n",
       "      <th>tag_dinner</th>\n",
       "      <th>tag_lunch</th>\n",
       "      <th>...</th>\n",
       "      <th>tag_pasta_concept</th>\n",
       "      <th>tag_sweet_concept</th>\n",
       "      <th>tag_vegetarian_concept</th>\n",
       "      <th>tag_egg_concept</th>\n",
       "      <th>tag_meat_concept</th>\n",
       "      <th>tag_diet_concept</th>\n",
       "      <th>tag_chocolate_concept</th>\n",
       "      <th>tag_bake_concept</th>\n",
       "      <th>tag_breakfast_concept</th>\n",
       "      <th>tag_fish_concept</th>\n",
       "    </tr>\n",
       "  </thead>\n",
       "  <tbody>\n",
       "    <tr>\n",
       "      <th>0</th>\n",
       "      <td>CMPELQqh_nh</td>\n",
       "      <td>https://www.instagram.com/p/CMPELQqh_nh/</td>\n",
       "      <td>dessert and indoor</td>\n",
       "      <td>3</td>\n",
       "      <td>2021-03-10T10:47:18</td>\n",
       "      <td>2021-03-10T11:48:52</td>\n",
       "      <td>1.03</td>\n",
       "      <td>0</td>\n",
       "      <td>1</td>\n",
       "      <td>0</td>\n",
       "      <td>...</td>\n",
       "      <td>0</td>\n",
       "      <td>0</td>\n",
       "      <td>0</td>\n",
       "      <td>0</td>\n",
       "      <td>0</td>\n",
       "      <td>0</td>\n",
       "      <td>0</td>\n",
       "      <td>0</td>\n",
       "      <td>0</td>\n",
       "      <td>0</td>\n",
       "    </tr>\n",
       "    <tr>\n",
       "      <th>1</th>\n",
       "      <td>CMPEHqppR-t</td>\n",
       "      <td>https://www.instagram.com/p/CMPEHqppR-t/</td>\n",
       "      <td>pasta and indoor</td>\n",
       "      <td>3</td>\n",
       "      <td>2021-03-10T10:46:48</td>\n",
       "      <td>2021-03-10T11:48:59</td>\n",
       "      <td>1.04</td>\n",
       "      <td>0</td>\n",
       "      <td>0</td>\n",
       "      <td>0</td>\n",
       "      <td>...</td>\n",
       "      <td>0</td>\n",
       "      <td>0</td>\n",
       "      <td>2</td>\n",
       "      <td>0</td>\n",
       "      <td>0</td>\n",
       "      <td>0</td>\n",
       "      <td>0</td>\n",
       "      <td>0</td>\n",
       "      <td>0</td>\n",
       "      <td>0</td>\n",
       "    </tr>\n",
       "    <tr>\n",
       "      <th>2</th>\n",
       "      <td>CMPEBY9Buko</td>\n",
       "      <td>https://www.instagram.com/p/CMPEBY9Buko/</td>\n",
       "      <td>cake and indoor</td>\n",
       "      <td>2</td>\n",
       "      <td>2021-03-10T10:45:57</td>\n",
       "      <td>2021-03-10T11:49:08</td>\n",
       "      <td>1.05</td>\n",
       "      <td>0</td>\n",
       "      <td>0</td>\n",
       "      <td>0</td>\n",
       "      <td>...</td>\n",
       "      <td>0</td>\n",
       "      <td>0</td>\n",
       "      <td>0</td>\n",
       "      <td>0</td>\n",
       "      <td>0</td>\n",
       "      <td>1</td>\n",
       "      <td>0</td>\n",
       "      <td>1</td>\n",
       "      <td>0</td>\n",
       "      <td>0</td>\n",
       "    </tr>\n",
       "    <tr>\n",
       "      <th>3</th>\n",
       "      <td>CMPEAvhF9i1</td>\n",
       "      <td>https://www.instagram.com/p/CMPEAvhF9i1/</td>\n",
       "      <td>food</td>\n",
       "      <td>1</td>\n",
       "      <td>2021-03-10T10:45:52</td>\n",
       "      <td>2021-03-10T11:49:12</td>\n",
       "      <td>1.06</td>\n",
       "      <td>1</td>\n",
       "      <td>0</td>\n",
       "      <td>0</td>\n",
       "      <td>...</td>\n",
       "      <td>0</td>\n",
       "      <td>0</td>\n",
       "      <td>0</td>\n",
       "      <td>0</td>\n",
       "      <td>0</td>\n",
       "      <td>0</td>\n",
       "      <td>0</td>\n",
       "      <td>0</td>\n",
       "      <td>0</td>\n",
       "      <td>0</td>\n",
       "    </tr>\n",
       "    <tr>\n",
       "      <th>4</th>\n",
       "      <td>CMPD73jJssJ</td>\n",
       "      <td>https://www.instagram.com/p/CMPD73jJssJ/</td>\n",
       "      <td>dessert</td>\n",
       "      <td>2</td>\n",
       "      <td>2021-03-10T10:45:12</td>\n",
       "      <td>2021-03-10T11:49:16</td>\n",
       "      <td>1.07</td>\n",
       "      <td>0</td>\n",
       "      <td>0</td>\n",
       "      <td>0</td>\n",
       "      <td>...</td>\n",
       "      <td>0</td>\n",
       "      <td>2</td>\n",
       "      <td>0</td>\n",
       "      <td>0</td>\n",
       "      <td>0</td>\n",
       "      <td>0</td>\n",
       "      <td>1</td>\n",
       "      <td>0</td>\n",
       "      <td>0</td>\n",
       "      <td>0</td>\n",
       "    </tr>\n",
       "    <tr>\n",
       "      <th>...</th>\n",
       "      <td>...</td>\n",
       "      <td>...</td>\n",
       "      <td>...</td>\n",
       "      <td>...</td>\n",
       "      <td>...</td>\n",
       "      <td>...</td>\n",
       "      <td>...</td>\n",
       "      <td>...</td>\n",
       "      <td>...</td>\n",
       "      <td>...</td>\n",
       "      <td>...</td>\n",
       "      <td>...</td>\n",
       "      <td>...</td>\n",
       "      <td>...</td>\n",
       "      <td>...</td>\n",
       "      <td>...</td>\n",
       "      <td>...</td>\n",
       "      <td>...</td>\n",
       "      <td>...</td>\n",
       "      <td>...</td>\n",
       "      <td>...</td>\n",
       "    </tr>\n",
       "    <tr>\n",
       "      <th>11691</th>\n",
       "      <td>CMsOtSZhtSx</td>\n",
       "      <td>https://www.instagram.com/p/CMsOtSZhtSx/</td>\n",
       "      <td>dessert and indoor</td>\n",
       "      <td>10</td>\n",
       "      <td>2021-03-21T18:59:16</td>\n",
       "      <td>2021-03-22T10:08:38</td>\n",
       "      <td>15.16</td>\n",
       "      <td>0</td>\n",
       "      <td>0</td>\n",
       "      <td>0</td>\n",
       "      <td>...</td>\n",
       "      <td>0</td>\n",
       "      <td>0</td>\n",
       "      <td>0</td>\n",
       "      <td>0</td>\n",
       "      <td>0</td>\n",
       "      <td>0</td>\n",
       "      <td>0</td>\n",
       "      <td>1</td>\n",
       "      <td>0</td>\n",
       "      <td>0</td>\n",
       "    </tr>\n",
       "    <tr>\n",
       "      <th>11692</th>\n",
       "      <td>CMsOstJAXEJ</td>\n",
       "      <td>https://www.instagram.com/p/CMsOstJAXEJ/</td>\n",
       "      <td>strawberry</td>\n",
       "      <td>16</td>\n",
       "      <td>2021-03-21T18:37:13</td>\n",
       "      <td>2021-03-22T10:08:42</td>\n",
       "      <td>15.52</td>\n",
       "      <td>0</td>\n",
       "      <td>0</td>\n",
       "      <td>0</td>\n",
       "      <td>...</td>\n",
       "      <td>0</td>\n",
       "      <td>1</td>\n",
       "      <td>0</td>\n",
       "      <td>0</td>\n",
       "      <td>0</td>\n",
       "      <td>0</td>\n",
       "      <td>0</td>\n",
       "      <td>0</td>\n",
       "      <td>0</td>\n",
       "      <td>0</td>\n",
       "    </tr>\n",
       "    <tr>\n",
       "      <th>11693</th>\n",
       "      <td>CMsOrPOrSkl</td>\n",
       "      <td>https://www.instagram.com/p/CMsOrPOrSkl/</td>\n",
       "      <td>food</td>\n",
       "      <td>15</td>\n",
       "      <td>2021-03-21T18:56:11</td>\n",
       "      <td>2021-03-22T10:08:50</td>\n",
       "      <td>15.21</td>\n",
       "      <td>0</td>\n",
       "      <td>0</td>\n",
       "      <td>0</td>\n",
       "      <td>...</td>\n",
       "      <td>0</td>\n",
       "      <td>0</td>\n",
       "      <td>0</td>\n",
       "      <td>0</td>\n",
       "      <td>0</td>\n",
       "      <td>0</td>\n",
       "      <td>0</td>\n",
       "      <td>0</td>\n",
       "      <td>1</td>\n",
       "      <td>0</td>\n",
       "    </tr>\n",
       "    <tr>\n",
       "      <th>11694</th>\n",
       "      <td>CMsOnHuFxoF</td>\n",
       "      <td>https://www.instagram.com/p/CMsOnHuFxoF/</td>\n",
       "      <td>food</td>\n",
       "      <td>23</td>\n",
       "      <td>2021-03-21T21:31:55</td>\n",
       "      <td>2021-03-22T10:09:03</td>\n",
       "      <td>12.62</td>\n",
       "      <td>0</td>\n",
       "      <td>0</td>\n",
       "      <td>0</td>\n",
       "      <td>...</td>\n",
       "      <td>0</td>\n",
       "      <td>0</td>\n",
       "      <td>0</td>\n",
       "      <td>0</td>\n",
       "      <td>0</td>\n",
       "      <td>0</td>\n",
       "      <td>0</td>\n",
       "      <td>0</td>\n",
       "      <td>0</td>\n",
       "      <td>0</td>\n",
       "    </tr>\n",
       "    <tr>\n",
       "      <th>11695</th>\n",
       "      <td>CMsOZ0MpBbu</td>\n",
       "      <td>https://www.instagram.com/p/CMsOZ0MpBbu/</td>\n",
       "      <td>food and indoor</td>\n",
       "      <td>21</td>\n",
       "      <td>2021-03-21T18:43:47</td>\n",
       "      <td>2021-03-22T10:09:09</td>\n",
       "      <td>15.42</td>\n",
       "      <td>0</td>\n",
       "      <td>0</td>\n",
       "      <td>0</td>\n",
       "      <td>...</td>\n",
       "      <td>0</td>\n",
       "      <td>0</td>\n",
       "      <td>0</td>\n",
       "      <td>1</td>\n",
       "      <td>0</td>\n",
       "      <td>0</td>\n",
       "      <td>0</td>\n",
       "      <td>0</td>\n",
       "      <td>1</td>\n",
       "      <td>0</td>\n",
       "    </tr>\n",
       "  </tbody>\n",
       "</table>\n",
       "<p>11685 rows × 75 columns</p>\n",
       "</div>"
      ],
      "text/plain": [
       "          photo_id                                       url  \\\n",
       "0      CMPELQqh_nh  https://www.instagram.com/p/CMPELQqh_nh/   \n",
       "1      CMPEHqppR-t  https://www.instagram.com/p/CMPEHqppR-t/   \n",
       "2      CMPEBY9Buko  https://www.instagram.com/p/CMPEBY9Buko/   \n",
       "3      CMPEAvhF9i1  https://www.instagram.com/p/CMPEAvhF9i1/   \n",
       "4      CMPD73jJssJ  https://www.instagram.com/p/CMPD73jJssJ/   \n",
       "...            ...                                       ...   \n",
       "11691  CMsOtSZhtSx  https://www.instagram.com/p/CMsOtSZhtSx/   \n",
       "11692  CMsOstJAXEJ  https://www.instagram.com/p/CMsOstJAXEJ/   \n",
       "11693  CMsOrPOrSkl  https://www.instagram.com/p/CMsOrPOrSkl/   \n",
       "11694  CMsOnHuFxoF  https://www.instagram.com/p/CMsOnHuFxoF/   \n",
       "11695  CMsOZ0MpBbu  https://www.instagram.com/p/CMsOZ0MpBbu/   \n",
       "\n",
       "                   may_be  likes            timestamp           scraped_at  \\\n",
       "0      dessert and indoor      3  2021-03-10T10:47:18  2021-03-10T11:48:52   \n",
       "1        pasta and indoor      3  2021-03-10T10:46:48  2021-03-10T11:48:59   \n",
       "2         cake and indoor      2  2021-03-10T10:45:57  2021-03-10T11:49:08   \n",
       "3                    food      1  2021-03-10T10:45:52  2021-03-10T11:49:12   \n",
       "4                 dessert      2  2021-03-10T10:45:12  2021-03-10T11:49:16   \n",
       "...                   ...    ...                  ...                  ...   \n",
       "11691  dessert and indoor     10  2021-03-21T18:59:16  2021-03-22T10:08:38   \n",
       "11692          strawberry     16  2021-03-21T18:37:13  2021-03-22T10:08:42   \n",
       "11693                food     15  2021-03-21T18:56:11  2021-03-22T10:08:50   \n",
       "11694                food     23  2021-03-21T21:31:55  2021-03-22T10:09:03   \n",
       "11695     food and indoor     21  2021-03-21T18:43:47  2021-03-22T10:09:09   \n",
       "\n",
       "        diff  tag_tasty  tag_dinner  tag_lunch  ...  tag_pasta_concept  \\\n",
       "0       1.03          0           1          0  ...                  0   \n",
       "1       1.04          0           0          0  ...                  0   \n",
       "2       1.05          0           0          0  ...                  0   \n",
       "3       1.06          1           0          0  ...                  0   \n",
       "4       1.07          0           0          0  ...                  0   \n",
       "...      ...        ...         ...        ...  ...                ...   \n",
       "11691  15.16          0           0          0  ...                  0   \n",
       "11692  15.52          0           0          0  ...                  0   \n",
       "11693  15.21          0           0          0  ...                  0   \n",
       "11694  12.62          0           0          0  ...                  0   \n",
       "11695  15.42          0           0          0  ...                  0   \n",
       "\n",
       "       tag_sweet_concept  tag_vegetarian_concept  tag_egg_concept  \\\n",
       "0                      0                       0                0   \n",
       "1                      0                       2                0   \n",
       "2                      0                       0                0   \n",
       "3                      0                       0                0   \n",
       "4                      2                       0                0   \n",
       "...                  ...                     ...              ...   \n",
       "11691                  0                       0                0   \n",
       "11692                  1                       0                0   \n",
       "11693                  0                       0                0   \n",
       "11694                  0                       0                0   \n",
       "11695                  0                       0                1   \n",
       "\n",
       "       tag_meat_concept  tag_diet_concept  tag_chocolate_concept  \\\n",
       "0                     0                 0                      0   \n",
       "1                     0                 0                      0   \n",
       "2                     0                 1                      0   \n",
       "3                     0                 0                      0   \n",
       "4                     0                 0                      1   \n",
       "...                 ...               ...                    ...   \n",
       "11691                 0                 0                      0   \n",
       "11692                 0                 0                      0   \n",
       "11693                 0                 0                      0   \n",
       "11694                 0                 0                      0   \n",
       "11695                 0                 0                      0   \n",
       "\n",
       "       tag_bake_concept  tag_breakfast_concept  tag_fish_concept  \n",
       "0                     0                      0                 0  \n",
       "1                     0                      0                 0  \n",
       "2                     1                      0                 0  \n",
       "3                     0                      0                 0  \n",
       "4                     0                      0                 0  \n",
       "...                 ...                    ...               ...  \n",
       "11691                 1                      0                 0  \n",
       "11692                 0                      0                 0  \n",
       "11693                 0                      1                 0  \n",
       "11694                 0                      0                 0  \n",
       "11695                 0                      1                 0  \n",
       "\n",
       "[11685 rows x 75 columns]"
      ]
     },
     "execution_count": 29,
     "metadata": {},
     "output_type": "execute_result"
    }
   ],
   "source": [
    "remove = ['tag_keto','tag_ketodiet','tag_lowcarb','tag_italy','tag_italia',\n",
    "'tag_italianfood','tag_oats','tag_oatmeal','tag_vegan','tag_veganfood',\n",
    "'tag_plantbased','tag_veganrecipe','tag_pasta','tag_pastalover','tag_desserts',\n",
    "'tag_sweets','tag_dessert','tag_sweettooth','tag_vegetarian','tag_vegetarianrecipes',\n",
    "'tag_veggie','tag_egg','tag_eggs','tag_meat','tag_beef',\n",
    "'tag_bbq','tag_diet','tag_weightloss','tag_fitness','tag_healthy',\n",
    "'tag_chocolat','tag_chocolate','tag_baking','tag_cake','tag_bake',\n",
    "'tag_bakery','tag_cakes','tag_pastry','tag_baker','tag_breakfast',\n",
    "'tag_breakfastideas','tag_fish','tag_salmon']\n",
    "df.drop(remove,axis=1)"
   ]
  },
  {
   "cell_type": "code",
   "execution_count": 30,
   "id": "84c6cd5c",
   "metadata": {},
   "outputs": [],
   "source": [
    "df['tag_keto_concept']= np.where(df['tag_keto_concept']<=1, 0, 1)\n",
    "df['tag_italy_concept']= np.where(df['tag_italy_concept']<=1, 0, 1)\n",
    "df['tag_oat_concept']= np.where(df['tag_oat_concept']<=1, 0, 1)\n",
    "df['tag_vegan_concept']= np.where(df['tag_vegan_concept']<=1, 0, 1)\n",
    "df['tag_pasta_concept']= np.where(df['tag_pasta_concept']<=1, 0, 1)\n",
    "df['tag_sweet_concept']= np.where(df['tag_sweet_concept']<=1, 0, 1)\n",
    "df['tag_vegetarian_concept']= np.where(df['tag_vegetarian_concept']<=1, 0, 1)\n",
    "df['tag_egg_concept']= np.where(df['tag_egg_concept']<=1, 0, 1)\n",
    "df['tag_meat_concept']= np.where(df['tag_meat_concept']<=1, 0, 1)\n",
    "df['tag_diet_concept']= np.where(df['tag_diet_concept']<=1, 0, 1)\n",
    "df['tag_chocolate_concept']= np.where(df['tag_chocolate_concept']<=1, 0, 1)\n",
    "df['tag_baking']= np.where(df['tag_baking']<=1, 0, 1)\n",
    "df['tag_breakfast_concept']= np.where(df['tag_breakfast_concept']<=1, 0, 1)\n",
    "df['tag_fish_concept']= np.where(df['tag_fish_concept']<=1, 0, 1)"
   ]
  },
  {
   "cell_type": "markdown",
   "id": "bd0cbc64",
   "metadata": {},
   "source": [
    "<h3> 3.2 Downscale images </h3>"
   ]
  },
  {
   "cell_type": "markdown",
   "id": "f6b33e86",
   "metadata": {},
   "source": [
    "<h2> 4. Splitting into train, test and evaluation </h2>"
   ]
  },
  {
   "cell_type": "code",
   "execution_count": 31,
   "id": "7db3ee55",
   "metadata": {},
   "outputs": [],
   "source": [
    "necessary_columns = df.columns[7:]"
   ]
  },
  {
   "cell_type": "code",
   "execution_count": 37,
   "id": "08845a9f",
   "metadata": {},
   "outputs": [
    {
     "name": "stdout",
     "output_type": "stream",
     "text": [
      "(11685, 111)\n"
     ]
    }
   ],
   "source": [
    "# prepping y variable. necessary columns should be all the tags we want\n",
    "y = df[necessary_columns]\n",
    "print(y.shape)"
   ]
  },
  {
   "cell_type": "code",
   "execution_count": 38,
   "id": "c010f733",
   "metadata": {},
   "outputs": [],
   "source": [
    "from sklearn.model_selection import train_test_split"
   ]
  },
  {
   "cell_type": "code",
   "execution_count": 40,
   "id": "152389bd",
   "metadata": {},
   "outputs": [
    {
     "ename": "MemoryError",
     "evalue": "Unable to allocate 2.51 GiB for an array with shape (5608, 200, 200, 3) and data type float32",
     "output_type": "error",
     "traceback": [
      "\u001b[1;31m---------------------------------------------------------------------------\u001b[0m",
      "\u001b[1;31mMemoryError\u001b[0m                               Traceback (most recent call last)",
      "\u001b[1;32m<ipython-input-40-19a09800dc3f>\u001b[0m in \u001b[0;36m<module>\u001b[1;34m\u001b[0m\n\u001b[0;32m      1\u001b[0m \u001b[0mx_interim\u001b[0m\u001b[1;33m,\u001b[0m \u001b[0mx_eval\u001b[0m\u001b[1;33m,\u001b[0m \u001b[0my_interim\u001b[0m\u001b[1;33m,\u001b[0m \u001b[0my_eval\u001b[0m \u001b[1;33m=\u001b[0m \u001b[0mtrain_test_split\u001b[0m\u001b[1;33m(\u001b[0m\u001b[0mx\u001b[0m\u001b[1;33m,\u001b[0m\u001b[0my\u001b[0m\u001b[1;33m,\u001b[0m\u001b[0mtest_size\u001b[0m\u001b[1;33m=\u001b[0m\u001b[1;36m0.2\u001b[0m\u001b[1;33m,\u001b[0m\u001b[0mrandom_state\u001b[0m\u001b[1;33m=\u001b[0m\u001b[1;36m42\u001b[0m\u001b[1;33m)\u001b[0m\u001b[1;33m\u001b[0m\u001b[1;33m\u001b[0m\u001b[0m\n\u001b[1;32m----> 2\u001b[1;33m \u001b[0mx_train\u001b[0m\u001b[1;33m,\u001b[0m\u001b[0mx_test\u001b[0m\u001b[1;33m,\u001b[0m\u001b[0my_train\u001b[0m\u001b[1;33m,\u001b[0m\u001b[0my_test\u001b[0m \u001b[1;33m=\u001b[0m \u001b[0mtrain_test_split\u001b[0m\u001b[1;33m(\u001b[0m\u001b[0mx_interim\u001b[0m\u001b[1;33m,\u001b[0m\u001b[0my_interim\u001b[0m\u001b[1;33m,\u001b[0m\u001b[0mtest_size\u001b[0m\u001b[1;33m=\u001b[0m\u001b[1;36m0.4\u001b[0m\u001b[1;33m,\u001b[0m\u001b[0mrandom_state\u001b[0m\u001b[1;33m=\u001b[0m\u001b[1;36m42\u001b[0m\u001b[1;33m)\u001b[0m\u001b[1;33m\u001b[0m\u001b[1;33m\u001b[0m\u001b[0m\n\u001b[0m",
      "\u001b[1;32m~\\anaconda3\\envs\\cnn\\lib\\site-packages\\sklearn\\model_selection\\_split.py\u001b[0m in \u001b[0;36mtrain_test_split\u001b[1;34m(test_size, train_size, random_state, shuffle, stratify, *arrays)\u001b[0m\n\u001b[0;32m   2198\u001b[0m \u001b[1;33m\u001b[0m\u001b[0m\n\u001b[0;32m   2199\u001b[0m     return list(chain.from_iterable((_safe_indexing(a, train),\n\u001b[1;32m-> 2200\u001b[1;33m                                      _safe_indexing(a, test)) for a in arrays))\n\u001b[0m\u001b[0;32m   2201\u001b[0m \u001b[1;33m\u001b[0m\u001b[0m\n\u001b[0;32m   2202\u001b[0m \u001b[1;33m\u001b[0m\u001b[0m\n",
      "\u001b[1;32m~\\anaconda3\\envs\\cnn\\lib\\site-packages\\sklearn\\model_selection\\_split.py\u001b[0m in \u001b[0;36m<genexpr>\u001b[1;34m(.0)\u001b[0m\n\u001b[0;32m   2198\u001b[0m \u001b[1;33m\u001b[0m\u001b[0m\n\u001b[0;32m   2199\u001b[0m     return list(chain.from_iterable((_safe_indexing(a, train),\n\u001b[1;32m-> 2200\u001b[1;33m                                      _safe_indexing(a, test)) for a in arrays))\n\u001b[0m\u001b[0;32m   2201\u001b[0m \u001b[1;33m\u001b[0m\u001b[0m\n\u001b[0;32m   2202\u001b[0m \u001b[1;33m\u001b[0m\u001b[0m\n",
      "\u001b[1;32m~\\anaconda3\\envs\\cnn\\lib\\site-packages\\sklearn\\utils\\__init__.py\u001b[0m in \u001b[0;36m_safe_indexing\u001b[1;34m(X, indices, axis)\u001b[0m\n\u001b[0;32m    342\u001b[0m         \u001b[1;32mreturn\u001b[0m \u001b[0m_pandas_indexing\u001b[0m\u001b[1;33m(\u001b[0m\u001b[0mX\u001b[0m\u001b[1;33m,\u001b[0m \u001b[0mindices\u001b[0m\u001b[1;33m,\u001b[0m \u001b[0mindices_dtype\u001b[0m\u001b[1;33m,\u001b[0m \u001b[0maxis\u001b[0m\u001b[1;33m=\u001b[0m\u001b[0maxis\u001b[0m\u001b[1;33m)\u001b[0m\u001b[1;33m\u001b[0m\u001b[1;33m\u001b[0m\u001b[0m\n\u001b[0;32m    343\u001b[0m     \u001b[1;32melif\u001b[0m \u001b[0mhasattr\u001b[0m\u001b[1;33m(\u001b[0m\u001b[0mX\u001b[0m\u001b[1;33m,\u001b[0m \u001b[1;34m\"shape\"\u001b[0m\u001b[1;33m)\u001b[0m\u001b[1;33m:\u001b[0m\u001b[1;33m\u001b[0m\u001b[1;33m\u001b[0m\u001b[0m\n\u001b[1;32m--> 344\u001b[1;33m         \u001b[1;32mreturn\u001b[0m \u001b[0m_array_indexing\u001b[0m\u001b[1;33m(\u001b[0m\u001b[0mX\u001b[0m\u001b[1;33m,\u001b[0m \u001b[0mindices\u001b[0m\u001b[1;33m,\u001b[0m \u001b[0mindices_dtype\u001b[0m\u001b[1;33m,\u001b[0m \u001b[0maxis\u001b[0m\u001b[1;33m=\u001b[0m\u001b[0maxis\u001b[0m\u001b[1;33m)\u001b[0m\u001b[1;33m\u001b[0m\u001b[1;33m\u001b[0m\u001b[0m\n\u001b[0m\u001b[0;32m    345\u001b[0m     \u001b[1;32melse\u001b[0m\u001b[1;33m:\u001b[0m\u001b[1;33m\u001b[0m\u001b[1;33m\u001b[0m\u001b[0m\n\u001b[0;32m    346\u001b[0m         \u001b[1;32mreturn\u001b[0m \u001b[0m_list_indexing\u001b[0m\u001b[1;33m(\u001b[0m\u001b[0mX\u001b[0m\u001b[1;33m,\u001b[0m \u001b[0mindices\u001b[0m\u001b[1;33m,\u001b[0m \u001b[0mindices_dtype\u001b[0m\u001b[1;33m)\u001b[0m\u001b[1;33m\u001b[0m\u001b[1;33m\u001b[0m\u001b[0m\n",
      "\u001b[1;32m~\\anaconda3\\envs\\cnn\\lib\\site-packages\\sklearn\\utils\\__init__.py\u001b[0m in \u001b[0;36m_array_indexing\u001b[1;34m(array, key, key_dtype, axis)\u001b[0m\n\u001b[0;32m    177\u001b[0m     \u001b[1;32mif\u001b[0m \u001b[0misinstance\u001b[0m\u001b[1;33m(\u001b[0m\u001b[0mkey\u001b[0m\u001b[1;33m,\u001b[0m \u001b[0mtuple\u001b[0m\u001b[1;33m)\u001b[0m\u001b[1;33m:\u001b[0m\u001b[1;33m\u001b[0m\u001b[1;33m\u001b[0m\u001b[0m\n\u001b[0;32m    178\u001b[0m         \u001b[0mkey\u001b[0m \u001b[1;33m=\u001b[0m \u001b[0mlist\u001b[0m\u001b[1;33m(\u001b[0m\u001b[0mkey\u001b[0m\u001b[1;33m)\u001b[0m\u001b[1;33m\u001b[0m\u001b[1;33m\u001b[0m\u001b[0m\n\u001b[1;32m--> 179\u001b[1;33m     \u001b[1;32mreturn\u001b[0m \u001b[0marray\u001b[0m\u001b[1;33m[\u001b[0m\u001b[0mkey\u001b[0m\u001b[1;33m]\u001b[0m \u001b[1;32mif\u001b[0m \u001b[0maxis\u001b[0m \u001b[1;33m==\u001b[0m \u001b[1;36m0\u001b[0m \u001b[1;32melse\u001b[0m \u001b[0marray\u001b[0m\u001b[1;33m[\u001b[0m\u001b[1;33m:\u001b[0m\u001b[1;33m,\u001b[0m \u001b[0mkey\u001b[0m\u001b[1;33m]\u001b[0m\u001b[1;33m\u001b[0m\u001b[1;33m\u001b[0m\u001b[0m\n\u001b[0m\u001b[0;32m    180\u001b[0m \u001b[1;33m\u001b[0m\u001b[0m\n\u001b[0;32m    181\u001b[0m \u001b[1;33m\u001b[0m\u001b[0m\n",
      "\u001b[1;31mMemoryError\u001b[0m: Unable to allocate 2.51 GiB for an array with shape (5608, 200, 200, 3) and data type float32"
     ]
    }
   ],
   "source": [
    "x_interim, x_eval, y_interim, y_eval = train_test_split(x,y,test_size=0.2,random_state=42)\n",
    "x_train,x_test,y_train,y_test = train_test_split(x_interim,y_interim,test_size=0.4,random_state=42)"
   ]
  },
  {
   "cell_type": "code",
   "execution_count": null,
   "id": "bf9b5220",
   "metadata": {},
   "outputs": [],
   "source": [
    "# examine number of samples in train, test, and validation sets\n",
    "print('x_train shape:', x_train.shape)\n",
    "print(x_train.shape[0], 'train samples')\n",
    "print(x_test.shape[0], 'test samples')\n",
    "print(x_eval.shape[0], 'eval samples')"
   ]
  },
  {
   "cell_type": "markdown",
   "id": "f2b73204",
   "metadata": {},
   "source": [
    "<h2> 5. Model Building </h2>\n",
    "We choose for a Sequential model, and add two layers of 15 and 5 respectively. Both layers have a kernel of size 3."
   ]
  },
  {
   "cell_type": "code",
   "execution_count": null,
   "id": "a66a5df9",
   "metadata": {},
   "outputs": [],
   "source": [
    "model = Sequential()"
   ]
  },
  {
   "cell_type": "code",
   "execution_count": null,
   "id": "c7308b2b",
   "metadata": {},
   "outputs": [],
   "source": [
    "# Add a convolutional layer (15 units)\n",
    "model.add(Conv2D(15,activation='relu',kernel_size=3,input_shape=(200,200,3)))\n",
    "# Add another convolutional layer (5 units)\n",
    "model.add(Conv2D(5,activation='relu',kernel_size=3))\n",
    "# Flatten and feed to output layer\n",
    "model.add(Flatten())\n",
    "model.add(Dense(97, activation='softmax'))"
   ]
  },
  {
   "cell_type": "code",
   "execution_count": null,
   "id": "53cfea0b",
   "metadata": {},
   "outputs": [],
   "source": [
    "# Compile model\n",
    "model.compile(optimizer='adam', \n",
    "              loss='binary_crossentropy', \n",
    "              metrics=['accuracy'])"
   ]
  },
  {
   "cell_type": "markdown",
   "id": "7bce8b18",
   "metadata": {},
   "source": [
    "<h2> 6. Fit the model to train data </h2>"
   ]
  },
  {
   "cell_type": "code",
   "execution_count": null,
   "id": "782f0fa0",
   "metadata": {},
   "outputs": [],
   "source": [
    "# Fit the model to training data \n",
    "model.fit(x_train,y_train, \n",
    "          validation_split=0.2, \n",
    "          epochs=3, batch_size=10)"
   ]
  },
  {
   "cell_type": "markdown",
   "id": "972c635a",
   "metadata": {},
   "source": [
    "<h2> 7. Evaluate the model with test data </h2>"
   ]
  },
  {
   "cell_type": "code",
   "execution_count": null,
   "id": "2f0197fc",
   "metadata": {},
   "outputs": [],
   "source": [
    "# Evaluate the model on test data\n",
    "model.evaluate(x_test,y_test, batch_size=10)"
   ]
  },
  {
   "cell_type": "markdown",
   "id": "5d4c04f6",
   "metadata": {},
   "source": [
    "<h2> 8. Interpreting our model </h2>"
   ]
  },
  {
   "cell_type": "code",
   "execution_count": null,
   "id": "f84d5d4e",
   "metadata": {},
   "outputs": [],
   "source": []
  },
  {
   "cell_type": "code",
   "execution_count": null,
   "id": "812ca337",
   "metadata": {},
   "outputs": [],
   "source": []
  },
  {
   "cell_type": "markdown",
   "id": "fa02a114",
   "metadata": {},
   "source": [
    "<h2> 9. Testing the model on some of our dishes </h2>"
   ]
  },
  {
   "cell_type": "code",
   "execution_count": null,
   "id": "6669560e",
   "metadata": {},
   "outputs": [],
   "source": []
  },
  {
   "cell_type": "code",
   "execution_count": null,
   "id": "9b6d6fa7",
   "metadata": {},
   "outputs": [],
   "source": []
  },
  {
   "cell_type": "markdown",
   "id": "ab07a9e9",
   "metadata": {},
   "source": [
    "<h2> 10. Conclusion </h2>"
   ]
  },
  {
   "cell_type": "code",
   "execution_count": null,
   "id": "206c6054",
   "metadata": {},
   "outputs": [],
   "source": []
  }
 ],
 "metadata": {
  "kernelspec": {
   "display_name": "Python 3",
   "language": "python",
   "name": "python3"
  },
  "language_info": {
   "codemirror_mode": {
    "name": "ipython",
    "version": 3
   },
   "file_extension": ".py",
   "mimetype": "text/x-python",
   "name": "python",
   "nbconvert_exporter": "python",
   "pygments_lexer": "ipython3",
   "version": "3.6.13"
  }
 },
 "nbformat": 4,
 "nbformat_minor": 5
}
