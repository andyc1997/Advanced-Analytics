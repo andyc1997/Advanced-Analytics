{
 "cells": [
  {
   "cell_type": "markdown",
   "metadata": {},
   "source": [
    "## Assignment 3\n",
    "\n",
    "\n",
    "### Goals\n",
    "\n",
    "- First: the original hashtags have been blanked out from the tweet. Build a predictive model that can predict the hashtag used based on the rest of the tweet text\n",
    "- Second: show that your model can make predictions in a deployed streaming setting using Spark\n"
   ]
  },
  {
   "cell_type": "markdown",
   "metadata": {},
   "source": [
    "#### Tasks\n",
    "Using Spark, your task for this assignment is as follows:\n",
    "\n",
    "- [X] Construct a historical data set using the provided stream\n",
    "- [ ] Construct a predictive model to predict the used hashtag based on the tweet text\n",
    "     - [X] load historical data \n",
    "     - [X] set histdata (.json) as dataframe\n",
    "     - [X] featurization text_tweet\n",
    "     - [ ] ...\n",
    "- [ ] Use your trained model to show you can make predictions as the stream comes in"
   ]
  },
  {
   "cell_type": "markdown",
   "metadata": {},
   "source": [
    "    * Important: get started with this as soon as possible. We will discuss text mining in more detail later on, but you can already start gathering your data\n",
    "    * Make sure to set up Spark first using the instructions posted above if you haven't done so already\n",
    "        * The streaming server is running at seppe.net:7778, as shown in the example notebooks\n",
    "\n",
    "The stream is text-based with each line containing one tweet (one instance) formatted as a JSON dictionary with the following keys (features): \"tweet_id\" (id of the tweet, not to be used), \"tweet_text\" (the tweet with the hashtags blanked out) and \"label\" (the target) You can use extra data and libraries if you want, but this is not required You are strongly encouraged to build your model using spark.ml (MLlib), but you can use scikit-learn as a fallback if things don't work out\n",
    "I.e. show that you can connect to the data source, preprocess/featurize incoming tweets, have your model predict the label, and show it, similar to \"spark_streaming_example_predicting.py.ipynb\" (but hopefully using a smarter, real predictive model) This means that you'll need to look for a way to save and load your trained model"
   ]
  },
  {
   "cell_type": "code",
   "execution_count": 1,
   "metadata": {},
   "outputs": [],
   "source": [
    "import os\n",
    "import pandas as pd\n",
    "import numpy as np\n",
    "import joblib\n",
    "import matplotlib.pyplot as plt\n",
    "import nltk\n",
    "import string\n",
    "import wordcloud\n",
    "import seaborn as sns\n",
    "import spacy\n",
    "impos"
   ]
  },
  {
   "cell_type": "code",
   "execution_count": 3,
   "metadata": {},
   "outputs": [],
   "source": [
    "from nltk.corpus import stopwords\n",
    "from sklearn.pipeline import Pipeline\n",
    "from nltk.tokenize import word_tokenize\n",
    "from nltk.stem import SnowballStemmer\n",
    "from sklearn.feature_extraction.text import TfidfVectorizer, HashingVectorizer, CountVectorizer\n",
    "from wordcloud import WordCloud, STOPWORDS\n",
    "from sklearn.model_selection import train_test_split\n",
    "from sklearn.feature_selection import SelectFromModel\n",
    "from sklearn.linear_model import RidgeClassifier\n",
    "from sklearn.pipeline import Pipeline\n",
    "from sklearn.svm import LinearSVC\n",
    "from sklearn.linear_model import SGDClassifier, Perceptron, PassiveAggressiveClassifier\n",
    "from sklearn.naive_bayes import BernoulliNB, ComplementNB, MultinomialNB\n",
    "from sklearn.neighbors import KNeighborsClassifier, NearestCentroid\n",
    "from sklearn.ensemble import RandomForestClassifier\n",
    "from sklearn.utils.extmath import density\n",
    "from sklearn import metrics"
   ]
  },
  {
   "cell_type": "code",
   "execution_count": 5,
   "metadata": {},
   "outputs": [
    {
     "name": "stderr",
     "output_type": "stream",
     "text": [
      "[nltk_data] Downloading package punkt to\n",
      "[nltk_data]     /Users/amgiraldov/nltk_data...\n",
      "[nltk_data]   Package punkt is already up-to-date!\n"
     ]
    },
    {
     "data": {
      "text/plain": [
       "True"
      ]
     },
     "execution_count": 5,
     "metadata": {},
     "output_type": "execute_result"
    }
   ],
   "source": [
    "english_stemmer = SnowballStemmer('english')\n",
    "nlp = spacy.load('es_core_news_sm')\n",
    "stop_words = set(stopwords.words('english'))\n",
    "punctuation = set(string.punctuation)\n",
    "nltk.download(\"punkt\")"
   ]
  },
  {
   "cell_type": "code",
   "execution_count": 6,
   "metadata": {},
   "outputs": [],
   "source": [
    "# Functions ==================================================================\n",
    "\n",
    "def tokenize(text):\n",
    "    doc = nlp(text)\n",
    "    words = [t.orth_ for t in doc if not t.is_punct | t.is_stop]\n",
    "    lexical_tokens = [t.lower() for t in words if t.isalpha()]\n",
    "    stems = [english_stemmer.stem(token) for token in lexical_tokens]\n",
    "    return stems\n",
    "\n",
    "def tokenize1(text):\n",
    "    doc = nlp(text)\n",
    "    words = [t.orth_ for t in doc if not t.is_punct | t.is_stop]\n",
    "    lexical_tokens = [t.lower() for t in words if t.isalpha()]\n",
    "    return lexical_tokens\n"
   ]
  },
  {
   "cell_type": "markdown",
   "metadata": {},
   "source": [
    "#### Load data"
   ]
  },
  {
   "cell_type": "code",
   "execution_count": 7,
   "metadata": {},
   "outputs": [
    {
     "data": {
      "text/plain": [
       "'/Users/amgiraldov/OneDrive - KU Leuven/Advanced Analytics'"
      ]
     },
     "execution_count": 7,
     "metadata": {},
     "output_type": "execute_result"
    }
   ],
   "source": [
    "os.chdir('/Users/amgiraldov/OneDrive - KU Leuven/Advanced Analytics')\n",
    "os.getcwd()"
   ]
  },
  {
   "cell_type": "code",
   "execution_count": 8,
   "metadata": {},
   "outputs": [],
   "source": [
    "# Load data from the training set\n",
    "# ------------------------------------\n",
    "\n",
    "df = pd.read_csv(\"tweet_00.csv\", header = None)\n",
    "df1 = pd.read_csv(\"tweet_01.csv\", header = None)\n",
    "df2 = pd.read_csv(\"tweet_02.csv\", header = None)\n",
    "df3 = pd.read_csv(\"tweet_03.csv\", header = None)\n",
    "df4 = pd.read_csv(\"tweet_04.csv\", header = None)\n",
    "df5 = pd.read_csv(\"tweet_05.csv\", header = None)\n",
    "df = pd.concat([df, df1, df2, df3, df4, df5]).drop_duplicates()"
   ]
  },
  {
   "cell_type": "code",
   "execution_count": 9,
   "metadata": {},
   "outputs": [
    {
     "data": {
      "text/plain": [
       "(10949, 3)"
      ]
     },
     "execution_count": 9,
     "metadata": {},
     "output_type": "execute_result"
    }
   ],
   "source": [
    "df.shape"
   ]
  },
  {
   "cell_type": "code",
   "execution_count": 10,
   "metadata": {},
   "outputs": [],
   "source": [
    "df.columns = ['label', 'tweet_id', 'tweet_text']\n",
    "dummyTag = pd.get_dummies(df[\"label\"])\n",
    "dummyTag = pd.concat([df[[\"tweet_id\",\"tweet_text\"]], dummyTag], axis = 1).drop_duplicates()"
   ]
  },
  {
   "cell_type": "code",
   "execution_count": 11,
   "metadata": {},
   "outputs": [
    {
     "data": {
      "text/plain": [
       "Text(0.5, 0, 'Hashtag')"
      ]
     },
     "execution_count": 11,
     "metadata": {},
     "output_type": "execute_result"
    },
    {
     "data": {
      "image/png": "[encoded data removed]",
      "text/plain": [
       "<Figure size 720x288 with 1 Axes>"
      ]
     },
     "metadata": {
      "needs_background": "light"
     },
     "output_type": "display_data"
    }
   ],
   "source": [
    "plt.figure(figsize=(10,4))\n",
    "g2 = sns.countplot(x = 'label', data = df, color = 'cadetblue').set_title('Distribution of hashtags')\n",
    "plt.ylabel(\"Number of hashtags\")\n",
    "plt.xlabel(\"Hashtag\")"
   ]
  },
  {
   "cell_type": "code",
   "execution_count": 12,
   "metadata": {},
   "outputs": [
    {
     "data": {
      "text/plain": [
       "#vaccine          0.270801\n",
       "#covid            0.246415\n",
       "#china            0.207325\n",
       "#biden            0.159010\n",
       "#stopasianhate    0.082382\n",
       "#inflation        0.034067\n",
       "Name: label, dtype: float64"
      ]
     },
     "execution_count": 12,
     "metadata": {},
     "output_type": "execute_result"
    }
   ],
   "source": [
    "df['label'].value_counts()/10949"
   ]
  },
  {
   "cell_type": "code",
   "execution_count": 13,
   "metadata": {},
   "outputs": [
    {
     "data": {
      "image/png": "[encoded data removed]",
      "text/plain": [
       "<Figure size 720x720 with 1 Axes>"
      ]
     },
     "metadata": {
      "needs_background": "light"
     },
     "output_type": "display_data"
    }
   ],
   "source": [
    "from wordcloud import WordCloud, STOPWORDS\n",
    "\n",
    "stopwords = set(STOPWORDS)\n",
    "wordcloud = WordCloud(background_color='white',\n",
    "                      stopwords=stopwords,\n",
    "                      max_words=1000).generate(str(df['tweet_text']))\n",
    "fig = plt.figure(1,figsize=(10,10))\n",
    "plt.imshow(wordcloud)\n",
    "plt.axis('off');"
   ]
  },
  {
   "cell_type": "code",
   "execution_count": 14,
   "metadata": {},
   "outputs": [],
   "source": [
    "from nltk.corpus import stopwords\n",
    "from sklearn.feature_extraction.text import CountVectorizer\n",
    "stop_words = nltk.corpus.stopwords.words('english')\n",
    "newStopWords = ['https']\n",
    "stop_words.extend(newStopWords)"
   ]
  },
  {
   "cell_type": "code",
   "execution_count": 15,
   "metadata": {},
   "outputs": [],
   "source": [
    "def get_top_n_words(corpus, n=1,k=1):\n",
    "    vec = CountVectorizer(ngram_range=(k,k), stop_words = stop_words).fit(corpus)\n",
    "    bag_of_words = vec.transform(corpus)\n",
    "    sum_words = bag_of_words.sum(axis=0) \n",
    "    words_freq = [(word, sum_words[0, idx]) for word, idx in vec.vocabulary_.items()]\n",
    "    words_freq =sorted(words_freq, key = lambda x: x[1], reverse=True)\n",
    "    return words_freq[:n]"
   ]
  },
  {
   "cell_type": "code",
   "execution_count": 16,
   "metadata": {},
   "outputs": [
    {
     "name": "stdout",
     "output_type": "stream",
     "text": [
      "co 9597\n",
      "amp 1635\n",
      "vaccine 1088\n",
      "19 1065\n",
      "covid 954\n",
      "us 799\n",
      "people 766\n",
      "get 621\n",
      "china 603\n",
      "new 570\n",
      "one 525\n",
      "like 415\n",
      "cases 389\n",
      "first 388\n",
      "world 382\n",
      "time 378\n",
      "today 373\n",
      "via 363\n",
      "need 356\n",
      "biden 353\n",
      "asian 352\n",
      "take 326\n",
      "india 313\n",
      "vaccines 310\n",
      "2021 307\n",
      "news 304\n",
      "please 299\n",
      "know 297\n",
      "year 288\n",
      "stop 284\n"
     ]
    }
   ],
   "source": [
    "common_words = get_top_n_words(df['tweet_text'], 30, 1)\n",
    "for word, freq in common_words:\n",
    "    print(word, freq)"
   ]
  },
  {
   "cell_type": "markdown",
   "metadata": {},
   "source": [
    "# Multiclass models"
   ]
  },
  {
   "cell_type": "code",
   "execution_count": 17,
   "metadata": {},
   "outputs": [],
   "source": [
    "data_train, data_test, train_labels, test_labels = train_test_split(df[\"tweet_text\"], \n",
    "                                                                    df[\"label\"],\n",
    "                                                                    stratify = df[\"label\"],\n",
    "                                                                    test_size = 0.20)"
   ]
  },
  {
   "cell_type": "code",
   "execution_count": 18,
   "metadata": {},
   "outputs": [
    {
     "data": {
      "text/plain": [
       "2845    UF's Johnson won't enter draft, awaits OK to p...\n",
       "2840    My first book just published today - The Polit...\n",
       "4863    #███████  \\n#███████  \\n#███████ \\n#███████\\n#...\n",
       "3951    #███████ Calls for Boycott of #███████ 🇨🇳 Made...\n",
       "Name: tweet_text, dtype: object"
      ]
     },
     "execution_count": 18,
     "metadata": {},
     "output_type": "execute_result"
    }
   ],
   "source": [
    "data_train.sample(4)"
   ]
  },
  {
   "cell_type": "markdown",
   "metadata": {},
   "source": [
    "## Selecting the vectorizer and tokenizer options"
   ]
  },
  {
   "cell_type": "markdown",
   "metadata": {},
   "source": [
    "Like we mentioned, we applied two different tokenizer in order to compare the results"
   ]
  },
  {
   "cell_type": "markdown",
   "metadata": {},
   "source": [
    "### Stemming = YES and TfidfVectorizer"
   ]
  },
  {
   "cell_type": "code",
   "execution_count": 21,
   "metadata": {},
   "outputs": [],
   "source": [
    "vectorizer = TfidfVectorizer(ngram_range=(1,1), use_idf=True, tokenizer = tokenize)"
   ]
  },
  {
   "cell_type": "code",
   "execution_count": 22,
   "metadata": {},
   "outputs": [],
   "source": [
    "X_train = vectorizer.fit_transform(data_train)\n",
    "X_test = vectorizer.transform(data_test)"
   ]
  },
  {
   "cell_type": "code",
   "execution_count": 23,
   "metadata": {},
   "outputs": [
    {
     "name": "stdout",
     "output_type": "stream",
     "text": [
      "================================================================================\n",
      "Training: \n",
      "RidgeClassifier(solver='sag', tol=0.01)\n"
     ]
    },
    {
     "name": "stderr",
     "output_type": "stream",
     "text": [
      "/opt/anaconda3/envs/Assignment3/lib/python3.7/site-packages/sklearn/linear_model/_ridge.py:556: UserWarning: \"sag\" solver requires many iterations to fit an intercept with sparse inputs. Either set the solver to \"auto\" or \"sparse_cg\", or set a low \"tol\" and a high \"max_iter\" (especially if inputs are not standardized).\n",
      "  '\"sag\" solver requires many iterations to fit '\n"
     ]
    },
    {
     "name": "stdout",
     "output_type": "stream",
     "text": [
      "accuracy:   0.646\n",
      "dimensionality: 11397\n",
      "density: 1.000000\n",
      "classification report:\n",
      "                precision    recall  f1-score   support\n",
      "\n",
      "        #biden       0.67      0.62      0.65       348\n",
      "        #china       0.64      0.64      0.64       454\n",
      "        #covid       0.59      0.60      0.60       540\n",
      "    #inflation       0.86      0.51      0.64        75\n",
      "#stopasianhate       0.81      0.69      0.74       180\n",
      "      #vaccine       0.63      0.71      0.67       593\n",
      "\n",
      "      accuracy                           0.65      2190\n",
      "     macro avg       0.70      0.63      0.66      2190\n",
      "  weighted avg       0.65      0.65      0.65      2190\n",
      "\n",
      "confusion matrix:\n",
      "[[216  47  38   1   8  38]\n",
      " [ 43 290  55   2  10  54]\n",
      " [ 26  47 323   2   8 134]\n",
      " [  7  11  10  38   2   7]\n",
      " [ 12   7  17   0 124  20]\n",
      " [ 17  49 101   1   2 423]]\n",
      "================================================================================\n",
      "\n",
      "================================================================================\n",
      "Training: \n",
      "Perceptron(max_iter=50)\n",
      "accuracy:   0.586\n",
      "dimensionality: 11397\n",
      "density: 0.513776\n",
      "classification report:\n",
      "                precision    recall  f1-score   support\n",
      "\n",
      "        #biden       0.61      0.51      0.56       348\n",
      "        #china       0.61      0.60      0.61       454\n",
      "        #covid       0.53      0.53      0.53       540\n",
      "    #inflation       0.47      0.48      0.48        75\n",
      "#stopasianhate       0.66      0.71      0.68       180\n",
      "      #vaccine       0.59      0.65      0.62       593\n",
      "\n",
      "      accuracy                           0.59      2190\n",
      "     macro avg       0.58      0.58      0.58      2190\n",
      "  weighted avg       0.59      0.59      0.59      2190\n",
      "\n",
      "confusion matrix:\n",
      "[[179  55  48   6  13  47]\n",
      " [ 43 272  62   6  18  53]\n",
      " [ 29  49 286  17  21 138]\n",
      " [  7  14   9  36   2   7]\n",
      " [  9   9  16   2 127  17]\n",
      " [ 25  46 117   9  12 384]]\n",
      "================================================================================\n",
      "\n",
      "================================================================================\n",
      "Training: \n",
      "PassiveAggressiveClassifier(max_iter=50)\n"
     ]
    },
    {
     "name": "stderr",
     "output_type": "stream",
     "text": [
      "/opt/anaconda3/envs/Assignment3/lib/python3.7/site-packages/sklearn/linear_model/_stochastic_gradient.py:577: ConvergenceWarning: Maximum number of iteration reached before convergence. Consider increasing max_iter to improve the fit.\n",
      "  ConvergenceWarning)\n"
     ]
    },
    {
     "name": "stdout",
     "output_type": "stream",
     "text": [
      "accuracy:   0.573\n",
      "dimensionality: 11397\n",
      "density: 0.774253\n",
      "classification report:\n",
      "                precision    recall  f1-score   support\n",
      "\n",
      "        #biden       0.55      0.51      0.53       348\n",
      "        #china       0.61      0.58      0.59       454\n",
      "        #covid       0.52      0.53      0.52       540\n",
      "    #inflation       0.53      0.48      0.50        75\n",
      "#stopasianhate       0.69      0.72      0.70       180\n",
      "      #vaccine       0.58      0.61      0.59       593\n",
      "\n",
      "      accuracy                           0.57      2190\n",
      "     macro avg       0.58      0.57      0.57      2190\n",
      "  weighted avg       0.57      0.57      0.57      2190\n",
      "\n",
      "confusion matrix:\n",
      "[[177  52  51   5  15  48]\n",
      " [ 50 263  68   6  15  52]\n",
      " [ 36  46 287  13  15 143]\n",
      " [  7  11  10  36   2   9]\n",
      " [ 12   8  16   1 129  14]\n",
      " [ 37  52 125   7  10 362]]\n",
      "================================================================================\n",
      "\n",
      "================================================================================\n",
      "Training: \n",
      "LinearSVC(dual=False, penalty='l1', tol=0.001)\n",
      "accuracy:   0.630\n",
      "dimensionality: 11397\n",
      "density: 0.117165\n",
      "classification report:\n",
      "                precision    recall  f1-score   support\n",
      "\n",
      "        #biden       0.64      0.61      0.62       348\n",
      "        #china       0.63      0.64      0.64       454\n",
      "        #covid       0.60      0.58      0.59       540\n",
      "    #inflation       0.71      0.45      0.55        75\n",
      "#stopasianhate       0.77      0.66      0.71       180\n",
      "      #vaccine       0.61      0.69      0.65       593\n",
      "\n",
      "      accuracy                           0.63      2190\n",
      "     macro avg       0.66      0.61      0.63      2190\n",
      "  weighted avg       0.63      0.63      0.63      2190\n",
      "\n",
      "confusion matrix:\n",
      "[[211  47  40   3   8  39]\n",
      " [ 44 292  43   3  12  60]\n",
      " [ 30  47 315   6  14 128]\n",
      " [  8  14   9  34   1   9]\n",
      " [ 14  10  15   1 119  21]\n",
      " [ 25  53 105   1   1 408]]\n",
      "================================================================================\n",
      "\n",
      "================================================================================\n",
      "Training: \n",
      "LinearSVC(dual=False, tol=0.001)\n",
      "accuracy:   0.639\n",
      "dimensionality: 11397\n",
      "density: 1.000000\n",
      "classification report:\n",
      "                precision    recall  f1-score   support\n",
      "\n",
      "        #biden       0.62      0.60      0.61       348\n",
      "        #china       0.63      0.63      0.63       454\n",
      "        #covid       0.61      0.61      0.61       540\n",
      "    #inflation       0.78      0.52      0.62        75\n",
      "#stopasianhate       0.79      0.69      0.74       180\n",
      "      #vaccine       0.63      0.70      0.66       593\n",
      "\n",
      "      accuracy                           0.64      2190\n",
      "     macro avg       0.68      0.62      0.65      2190\n",
      "  weighted avg       0.64      0.64      0.64      2190\n",
      "\n",
      "confusion matrix:\n",
      "[[210  51  36   1   8  42]\n",
      " [ 49 286  52   4  10  53]\n",
      " [ 28  47 327   3  12 123]\n",
      " [  6  12   9  39   2   7]\n",
      " [ 14   8  14   0 125  19]\n",
      " [ 30  51  94   3   2 413]]\n",
      "================================================================================\n",
      "\n",
      "================================================================================\n",
      "Training: \n",
      "SGDClassifier(max_iter=50, penalty='l1')\n",
      "accuracy:   0.631\n",
      "dimensionality: 11397\n",
      "density: 0.049209\n",
      "classification report:\n",
      "                precision    recall  f1-score   support\n",
      "\n",
      "        #biden       0.59      0.62      0.61       348\n",
      "        #china       0.64      0.60      0.62       454\n",
      "        #covid       0.62      0.61      0.61       540\n",
      "    #inflation       0.61      0.41      0.49        75\n",
      "#stopasianhate       0.73      0.67      0.70       180\n",
      "      #vaccine       0.63      0.70      0.66       593\n",
      "\n",
      "      accuracy                           0.63      2190\n",
      "     macro avg       0.64      0.60      0.62      2190\n",
      "  weighted avg       0.63      0.63      0.63      2190\n",
      "\n",
      "confusion matrix:\n",
      "[[215  44  39   6  11  33]\n",
      " [ 55 274  46   5  16  58]\n",
      " [ 35  37 328   4  12 124]\n",
      " [ 14  11  11  31   1   7]\n",
      " [ 17  12  14   0 121  16]\n",
      " [ 26  53  92   5   4 413]]\n",
      "================================================================================\n",
      "\n",
      "================================================================================\n",
      "Training: \n",
      "SGDClassifier(max_iter=50, penalty='elasticnet')\n",
      "accuracy:   0.654\n",
      "dimensionality: 11397\n",
      "density: 0.392048\n",
      "classification report:\n",
      "                precision    recall  f1-score   support\n",
      "\n",
      "        #biden       0.64      0.63      0.63       348\n",
      "        #china       0.66      0.66      0.66       454\n",
      "        #covid       0.63      0.60      0.61       540\n",
      "    #inflation       0.76      0.49      0.60        75\n",
      "#stopasianhate       0.79      0.69      0.74       180\n",
      "      #vaccine       0.64      0.72      0.68       593\n",
      "\n",
      "      accuracy                           0.65      2190\n",
      "     macro avg       0.68      0.63      0.65      2190\n",
      "  weighted avg       0.66      0.65      0.65      2190\n",
      "\n",
      "confusion matrix:\n",
      "[[220  45  35   3   8  37]\n",
      " [ 46 300  45   3  11  49]\n",
      " [ 34  44 322   4  10 126]\n",
      " [  9  10   8  37   1  10]\n",
      " [ 15   9  14   0 125  17]\n",
      " [ 22  50  87   2   3 429]]\n",
      "================================================================================\n",
      "\n",
      "================================================================================\n",
      "Training: \n",
      "BernoulliNB(alpha=0.01)\n",
      "accuracy:   0.618\n",
      "dimensionality: 11397\n",
      "density: 1.000000\n",
      "classification report:\n",
      "                precision    recall  f1-score   support\n",
      "\n",
      "        #biden       0.58      0.61      0.60       348\n",
      "        #china       0.61      0.61      0.61       454\n",
      "        #covid       0.59      0.59      0.59       540\n",
      "    #inflation       0.64      0.47      0.54        75\n",
      "#stopasianhate       0.77      0.71      0.73       180\n",
      "      #vaccine       0.64      0.65      0.64       593\n",
      "\n",
      "      accuracy                           0.62      2190\n",
      "     macro avg       0.64      0.61      0.62      2190\n",
      "  weighted avg       0.62      0.62      0.62      2190\n",
      "\n",
      "confusion matrix:\n",
      "[[214  56  29   3  14  32]\n",
      " [ 58 275  56   8  12  45]\n",
      " [ 38  49 320   4   6 123]\n",
      " [  7  14   8  35   2   9]\n",
      " [ 17  12  12   1 127  11]\n",
      " [ 33  46 122   4   5 383]]\n",
      "================================================================================\n",
      "\n"
     ]
    },
    {
     "name": "stderr",
     "output_type": "stream",
     "text": [
      "/opt/anaconda3/envs/Assignment3/lib/python3.7/site-packages/sklearn/utils/deprecation.py:101: FutureWarning: Attribute coef_ was deprecated in version 0.24 and will be removed in 1.1 (renaming of 0.26).\n",
      "  warnings.warn(msg, category=FutureWarning)\n"
     ]
    }
   ],
   "source": [
    "   for classify in ((RidgeClassifier(tol=1e-2, solver=\"sag\")),\n",
    "                 (Perceptron(max_iter=50)),\n",
    "                 (PassiveAggressiveClassifier(max_iter=50)),\n",
    "                 (LinearSVC(penalty=\"l1\", dual=False, tol=1e-3)),\n",
    "                 (LinearSVC(penalty=\"l2\", dual=False, tol=1e-3)),\n",
    "                 (SGDClassifier(alpha=.0001, max_iter=50, penalty='l1')),\n",
    "                 (SGDClassifier(alpha=.0001, max_iter=50,\n",
    "                                       penalty=\"elasticnet\")),\n",
    "                 (BernoulliNB(alpha=.01))):\n",
    "                  print('=' * 80)\n",
    "                  print(\"Training: \")\n",
    "                  print(classify)\n",
    "                  classify.fit(X_train, train_labels)\n",
    "                  pred = classify.predict(X_test)\n",
    "                  score = metrics.accuracy_score(test_labels, pred)\n",
    "                  print(\"accuracy:   %0.3f\" % score)\n",
    "                  print(\"dimensionality: %d\" % classify.coef_.shape[1])\n",
    "                  print(\"density: %f\" % density(classify.coef_))\n",
    "                  print(\"classification report:\")\n",
    "                  print(metrics.classification_report(test_labels, pred))\n",
    "                  print(\"confusion matrix:\")\n",
    "                  print(metrics.confusion_matrix(test_labels, pred))\n",
    "                  print('=' * 80)\n",
    "                  print()"
   ]
  },
  {
   "cell_type": "markdown",
   "metadata": {},
   "source": [
    "### Stemming = NO and TfidfVectorizer"
   ]
  },
  {
   "cell_type": "code",
   "execution_count": 24,
   "metadata": {},
   "outputs": [],
   "source": [
    "vectorizer = TfidfVectorizer(ngram_range=(1,1), use_idf=True, tokenizer = tokenize1)"
   ]
  },
  {
   "cell_type": "code",
   "execution_count": 27,
   "metadata": {},
   "outputs": [],
   "source": [
    "X_train = vectorizer.fit_transform(data_train)\n",
    "X_test = vectorizer.transform(data_test)"
   ]
  },
  {
   "cell_type": "code",
   "execution_count": 28,
   "metadata": {},
   "outputs": [
    {
     "name": "stdout",
     "output_type": "stream",
     "text": [
      "================================================================================\n",
      "Training: \n",
      "RidgeClassifier(solver='sag', tol=0.01)\n"
     ]
    },
    {
     "name": "stderr",
     "output_type": "stream",
     "text": [
      "/opt/anaconda3/envs/Assignment3/lib/python3.7/site-packages/sklearn/linear_model/_ridge.py:556: UserWarning: \"sag\" solver requires many iterations to fit an intercept with sparse inputs. Either set the solver to \"auto\" or \"sparse_cg\", or set a low \"tol\" and a high \"max_iter\" (especially if inputs are not standardized).\n",
      "  '\"sag\" solver requires many iterations to fit '\n"
     ]
    },
    {
     "name": "stdout",
     "output_type": "stream",
     "text": [
      "accuracy:   0.647\n",
      "dimensionality: 16330\n",
      "classification report:\n",
      "                precision    recall  f1-score   support\n",
      "\n",
      "        #biden       0.68      0.62      0.65       348\n",
      "        #china       0.64      0.67      0.65       454\n",
      "        #covid       0.60      0.60      0.60       540\n",
      "    #inflation       0.86      0.48      0.62        75\n",
      "#stopasianhate       0.79      0.65      0.71       180\n",
      "      #vaccine       0.63      0.71      0.67       593\n",
      "\n",
      "      accuracy                           0.65      2190\n",
      "     macro avg       0.70      0.62      0.65      2190\n",
      "  weighted avg       0.65      0.65      0.65      2190\n",
      "\n",
      "confusion matrix:\n",
      "[[215  50  42   2  10  29]\n",
      " [ 34 302  51   2  10  55]\n",
      " [ 24  49 325   1  10 131]\n",
      " [  8  11  11  36   0   9]\n",
      " [ 13  11  17   0 117  22]\n",
      " [ 22  52  95   1   2 421]]\n",
      "================================================================================\n",
      "\n",
      "================================================================================\n",
      "Training: \n",
      "Perceptron(max_iter=50)\n",
      "accuracy:   0.580\n",
      "dimensionality: 16330\n",
      "classification report:\n",
      "                precision    recall  f1-score   support\n",
      "\n",
      "        #biden       0.56      0.58      0.57       348\n",
      "        #china       0.63      0.59      0.61       454\n",
      "        #covid       0.53      0.48      0.50       540\n",
      "    #inflation       0.55      0.51      0.53        75\n",
      "#stopasianhate       0.69      0.69      0.69       180\n",
      "      #vaccine       0.57      0.64      0.61       593\n",
      "\n",
      "      accuracy                           0.58      2190\n",
      "     macro avg       0.59      0.58      0.58      2190\n",
      "  weighted avg       0.58      0.58      0.58      2190\n",
      "\n",
      "confusion matrix:\n",
      "[[202  43  37   7  16  43]\n",
      " [ 58 269  54   5  17  51]\n",
      " [ 44  50 257  10  10 169]\n",
      " [  7  15   8  38   1   6]\n",
      " [ 14  11  16   0 125  14]\n",
      " [ 36  40 117   9  11 380]]\n",
      "================================================================================\n",
      "\n",
      "================================================================================\n",
      "Training: \n",
      "PassiveAggressiveClassifier(max_iter=50)\n",
      "accuracy:   0.584\n",
      "dimensionality: 16330\n",
      "classification report:\n",
      "                precision    recall  f1-score   support\n",
      "\n",
      "        #biden       0.56      0.57      0.56       348\n",
      "        #china       0.61      0.61      0.61       454\n",
      "        #covid       0.53      0.53      0.53       540\n",
      "    #inflation       0.62      0.52      0.57        75\n",
      "#stopasianhate       0.69      0.67      0.68       180\n",
      "      #vaccine       0.59      0.61      0.60       593\n",
      "\n",
      "      accuracy                           0.58      2190\n",
      "     macro avg       0.60      0.58      0.59      2190\n",
      "  weighted avg       0.58      0.58      0.58      2190\n",
      "\n",
      "confusion matrix:\n",
      "[[197  52  44   8  11  36]\n",
      " [ 53 276  59   4  15  47]\n",
      " [ 39  52 287   7  16 139]\n",
      " [  8  10   9  39   1   8]\n",
      " [ 14  11  16   0 120  19]\n",
      " [ 40  50 129   5  10 359]]\n",
      "================================================================================\n",
      "\n",
      "================================================================================\n",
      "Training: \n",
      "LinearSVC(dual=False, penalty='l1', tol=0.001)\n",
      "accuracy:   0.634\n",
      "dimensionality: 16330\n",
      "classification report:\n",
      "                precision    recall  f1-score   support\n",
      "\n",
      "        #biden       0.65      0.61      0.63       348\n",
      "        #china       0.65      0.65      0.65       454\n",
      "        #covid       0.58      0.60      0.59       540\n",
      "    #inflation       0.74      0.49      0.59        75\n",
      "#stopasianhate       0.77      0.65      0.70       180\n",
      "      #vaccine       0.62      0.68      0.65       593\n",
      "\n",
      "      accuracy                           0.63      2190\n",
      "     macro avg       0.67      0.61      0.64      2190\n",
      "  weighted avg       0.64      0.63      0.63      2190\n",
      "\n",
      "confusion matrix:\n",
      "[[212  39  40   4  13  40]\n",
      " [ 46 295  48   3  10  52]\n",
      " [ 28  48 324   5   8 127]\n",
      " [  8   8  14  37   0   8]\n",
      " [ 10  11  21   0 117  21]\n",
      " [ 23  55 107   1   4 403]]\n",
      "================================================================================\n",
      "\n",
      "================================================================================\n",
      "Training: \n",
      "LinearSVC(dual=False, tol=0.001)\n",
      "accuracy:   0.643\n",
      "dimensionality: 16330\n",
      "classification report:\n",
      "                precision    recall  f1-score   support\n",
      "\n",
      "        #biden       0.65      0.63      0.64       348\n",
      "        #china       0.64      0.65      0.64       454\n",
      "        #covid       0.60      0.60      0.60       540\n",
      "    #inflation       0.78      0.51      0.61        75\n",
      "#stopasianhate       0.78      0.67      0.72       180\n",
      "      #vaccine       0.63      0.70      0.66       593\n",
      "\n",
      "      accuracy                           0.64      2190\n",
      "     macro avg       0.68      0.62      0.65      2190\n",
      "  weighted avg       0.65      0.64      0.64      2190\n",
      "\n",
      "confusion matrix:\n",
      "[[218  47  37   4   9  33]\n",
      " [ 44 296  50   3  11  50]\n",
      " [ 27  48 323   3  10 129]\n",
      " [  7  11   9  38   1   9]\n",
      " [ 15   9  17   0 120  19]\n",
      " [ 24  53  99   1   3 413]]\n",
      "================================================================================\n",
      "\n",
      "================================================================================\n",
      "Training: \n",
      "SGDClassifier(max_iter=50, penalty='l1')\n",
      "accuracy:   0.626\n",
      "dimensionality: 16330\n",
      "classification report:\n",
      "                precision    recall  f1-score   support\n",
      "\n",
      "        #biden       0.63      0.57      0.60       348\n",
      "        #china       0.63      0.61      0.62       454\n",
      "        #covid       0.62      0.59      0.61       540\n",
      "    #inflation       0.43      0.47      0.45        75\n",
      "#stopasianhate       0.76      0.62      0.69       180\n",
      "      #vaccine       0.62      0.72      0.67       593\n",
      "\n",
      "      accuracy                           0.63      2190\n",
      "     macro avg       0.62      0.60      0.60      2190\n",
      "  weighted avg       0.63      0.63      0.63      2190\n",
      "\n",
      "confusion matrix:\n",
      "[[199  46  35   7  13  48]\n",
      " [ 43 278  49  14  13  57]\n",
      " [ 27  43 320  11   7 132]\n",
      " [ 14  10   9  35   0   7]\n",
      " [ 11  14  18   5 112  20]\n",
      " [ 20  52  83   9   2 427]]\n",
      "================================================================================\n",
      "\n",
      "================================================================================\n",
      "Training: \n",
      "SGDClassifier(max_iter=50, penalty='elasticnet')\n",
      "accuracy:   0.651\n",
      "dimensionality: 16330\n",
      "classification report:\n",
      "                precision    recall  f1-score   support\n",
      "\n",
      "        #biden       0.67      0.65      0.66       348\n",
      "        #china       0.65      0.66      0.65       454\n",
      "        #covid       0.61      0.60      0.61       540\n",
      "    #inflation       0.84      0.48      0.61        75\n",
      "#stopasianhate       0.77      0.67      0.72       180\n",
      "      #vaccine       0.64      0.70      0.67       593\n",
      "\n",
      "      accuracy                           0.65      2190\n",
      "     macro avg       0.69      0.63      0.65      2190\n",
      "  weighted avg       0.66      0.65      0.65      2190\n",
      "\n",
      "confusion matrix:\n",
      "[[227  44  33   1  13  30]\n",
      " [ 43 300  53   2  11  45]\n",
      " [ 29  43 325   2  10 131]\n",
      " [  7  11  12  36   0   9]\n",
      " [ 12  13  12   0 121  22]\n",
      " [ 19  54  98   2   3 417]]\n",
      "================================================================================\n",
      "\n",
      "================================================================================\n",
      "Training: \n",
      "BernoulliNB(alpha=0.01)\n",
      "accuracy:   0.613\n",
      "dimensionality: 16330\n",
      "classification report:\n",
      "                precision    recall  f1-score   support\n",
      "\n",
      "        #biden       0.59      0.62      0.60       348\n",
      "        #china       0.62      0.61      0.62       454\n",
      "        #covid       0.56      0.57      0.57       540\n",
      "    #inflation       0.63      0.51      0.56        75\n",
      "#stopasianhate       0.78      0.68      0.72       180\n",
      "      #vaccine       0.62      0.64      0.63       593\n",
      "\n",
      "      accuracy                           0.61      2190\n",
      "     macro avg       0.63      0.60      0.62      2190\n",
      "  weighted avg       0.61      0.61      0.61      2190\n",
      "\n",
      "confusion matrix:\n",
      "[[215  54  37   2  12  28]\n",
      " [ 56 279  56  10  10  43]\n",
      " [ 35  44 309   6   6 140]\n",
      " [  7  14   8  38   1   7]\n",
      " [ 18   7  19   0 122  14]\n",
      " [ 34  52 118   4   6 379]]\n",
      "================================================================================\n",
      "\n"
     ]
    },
    {
     "name": "stderr",
     "output_type": "stream",
     "text": [
      "/opt/anaconda3/envs/Assignment3/lib/python3.7/site-packages/sklearn/utils/deprecation.py:101: FutureWarning: Attribute coef_ was deprecated in version 0.24 and will be removed in 1.1 (renaming of 0.26).\n",
      "  warnings.warn(msg, category=FutureWarning)\n"
     ]
    }
   ],
   "source": [
    "   for classify in ((RidgeClassifier(tol=1e-2, solver=\"sag\")),\n",
    "                 (Perceptron(max_iter=50)),\n",
    "                 (PassiveAggressiveClassifier(max_iter=50)),\n",
    "                 (LinearSVC(penalty=\"l1\", dual=False, tol=1e-3)),\n",
    "                 (LinearSVC(penalty=\"l2\", dual=False, tol=1e-3)),\n",
    "                 (SGDClassifier(alpha=.0001, max_iter=50, penalty='l1')),\n",
    "                 (SGDClassifier(alpha=.0001, max_iter=50,\n",
    "                                       penalty=\"elasticnet\")),\n",
    "                 (BernoulliNB(alpha=.01))):\n",
    "                  print('=' * 80)\n",
    "                  print(\"Training: \")\n",
    "                  print(classify)\n",
    "                  classify.fit(X_train, train_labels)\n",
    "                  pred = classify.predict(X_test)\n",
    "                  score = metrics.accuracy_score(test_labels, pred)\n",
    "                  print(\"accuracy:   %0.3f\" % score)\n",
    "                  print(\"dimensionality: %d\" % classify.coef_.shape[1])\n",
    "                  print(\"classification report:\")\n",
    "                  print(metrics.classification_report(test_labels, pred))\n",
    "                  print(\"confusion matrix:\")\n",
    "                  print(metrics.confusion_matrix(test_labels, pred))\n",
    "                  print('=' * 80)\n",
    "                  print()"
   ]
  },
  {
   "cell_type": "markdown",
   "metadata": {},
   "source": [
    "**Conclusion: The stemming did not improve the results.**"
   ]
  },
  {
   "cell_type": "markdown",
   "metadata": {},
   "source": [
    "### Stemming = NO and HashingVectorizer"
   ]
  },
  {
   "cell_type": "code",
   "execution_count": 34,
   "metadata": {},
   "outputs": [],
   "source": [
    "vectorizer = HashingVectorizer(ngram_range=(1,1), tokenizer = tokenize1)"
   ]
  },
  {
   "cell_type": "code",
   "execution_count": 35,
   "metadata": {},
   "outputs": [
    {
     "name": "stderr",
     "output_type": "stream",
     "text": [
      "/opt/anaconda3/envs/Assignment3/lib/python3.7/site-packages/sklearn/feature_extraction/text.py:489: UserWarning: The parameter 'token_pattern' will not be used since 'tokenizer' is not None'\n",
      "  warnings.warn(\"The parameter 'token_pattern' will not be used\"\n"
     ]
    }
   ],
   "source": [
    "X_train = vectorizer.fit_transform(data_train)\n",
    "X_test = vectorizer.transform(data_test)"
   ]
  },
  {
   "cell_type": "code",
   "execution_count": 36,
   "metadata": {},
   "outputs": [
    {
     "name": "stdout",
     "output_type": "stream",
     "text": [
      "================================================================================\n",
      "Training: \n",
      "RidgeClassifier(solver='sag', tol=0.01)\n"
     ]
    },
    {
     "name": "stderr",
     "output_type": "stream",
     "text": [
      "/opt/anaconda3/envs/Assignment3/lib/python3.7/site-packages/sklearn/linear_model/_ridge.py:556: UserWarning: \"sag\" solver requires many iterations to fit an intercept with sparse inputs. Either set the solver to \"auto\" or \"sparse_cg\", or set a low \"tol\" and a high \"max_iter\" (especially if inputs are not standardized).\n",
      "  '\"sag\" solver requires many iterations to fit '\n"
     ]
    },
    {
     "name": "stdout",
     "output_type": "stream",
     "text": [
      "accuracy:   0.637\n",
      "dimensionality: 1048576\n",
      "classification report:\n",
      "                precision    recall  f1-score   support\n",
      "\n",
      "        #biden       0.67      0.60      0.63       348\n",
      "        #china       0.63      0.65      0.64       454\n",
      "        #covid       0.59      0.59      0.59       540\n",
      "    #inflation       0.94      0.45      0.61        75\n",
      "#stopasianhate       0.82      0.64      0.72       180\n",
      "      #vaccine       0.61      0.72      0.66       593\n",
      "\n",
      "      accuracy                           0.64      2190\n",
      "     macro avg       0.71      0.61      0.64      2190\n",
      "  weighted avg       0.65      0.64      0.64      2190\n",
      "\n",
      "confusion matrix:\n",
      "[[210  50  41   0   8  39]\n",
      " [ 41 294  56   1   9  53]\n",
      " [ 26  51 318   0   7 138]\n",
      " [  9  11  10  34   0  11]\n",
      " [ 10  10  18   0 115  27]\n",
      " [ 19  54  92   1   2 425]]\n",
      "================================================================================\n",
      "\n",
      "================================================================================\n",
      "Training: \n",
      "Perceptron(max_iter=50)\n",
      "accuracy:   0.586\n",
      "dimensionality: 1048576\n",
      "classification report:\n",
      "                precision    recall  f1-score   support\n",
      "\n",
      "        #biden       0.56      0.55      0.56       348\n",
      "        #china       0.63      0.59      0.61       454\n",
      "        #covid       0.54      0.52      0.53       540\n",
      "    #inflation       0.56      0.52      0.54        75\n",
      "#stopasianhate       0.66      0.69      0.68       180\n",
      "      #vaccine       0.59      0.64      0.61       593\n",
      "\n",
      "      accuracy                           0.59      2190\n",
      "     macro avg       0.59      0.59      0.59      2190\n",
      "  weighted avg       0.59      0.59      0.59      2190\n",
      "\n",
      "confusion matrix:\n",
      "[[193  48  38   6  18  45]\n",
      " [ 52 267  55  11  18  51]\n",
      " [ 38  45 283  12  13 149]\n",
      " [ 10  10   7  39   3   6]\n",
      " [ 15   9  19   0 124  13]\n",
      " [ 34  48 120   2  11 378]]\n",
      "================================================================================\n",
      "\n",
      "================================================================================\n",
      "Training: \n",
      "PassiveAggressiveClassifier(max_iter=50)\n"
     ]
    },
    {
     "name": "stderr",
     "output_type": "stream",
     "text": [
      "/opt/anaconda3/envs/Assignment3/lib/python3.7/site-packages/sklearn/linear_model/_stochastic_gradient.py:577: ConvergenceWarning: Maximum number of iteration reached before convergence. Consider increasing max_iter to improve the fit.\n",
      "  ConvergenceWarning)\n"
     ]
    },
    {
     "name": "stdout",
     "output_type": "stream",
     "text": [
      "accuracy:   0.588\n",
      "dimensionality: 1048576\n",
      "classification report:\n",
      "                precision    recall  f1-score   support\n",
      "\n",
      "        #biden       0.57      0.55      0.56       348\n",
      "        #china       0.61      0.59      0.60       454\n",
      "        #covid       0.53      0.54      0.53       540\n",
      "    #inflation       0.62      0.49      0.55        75\n",
      "#stopasianhate       0.72      0.68      0.70       180\n",
      "      #vaccine       0.60      0.63      0.61       593\n",
      "\n",
      "      accuracy                           0.59      2190\n",
      "     macro avg       0.61      0.58      0.59      2190\n",
      "  weighted avg       0.59      0.59      0.59      2190\n",
      "\n",
      "confusion matrix:\n",
      "[[193  53  45   9  11  37]\n",
      " [ 49 270  67   5  14  49]\n",
      " [ 38  51 293   5  14 139]\n",
      " [ 11  11   9  37   2   5]\n",
      " [ 10  14  16   0 122  18]\n",
      " [ 36  47 127   4   6 373]]\n",
      "================================================================================\n",
      "\n",
      "================================================================================\n",
      "Training: \n",
      "LinearSVC(dual=False, penalty='l1', tol=0.001)\n",
      "accuracy:   0.636\n",
      "dimensionality: 1048576\n",
      "classification report:\n",
      "                precision    recall  f1-score   support\n",
      "\n",
      "        #biden       0.65      0.58      0.61       348\n",
      "        #china       0.64      0.67      0.65       454\n",
      "        #covid       0.60      0.61      0.60       540\n",
      "    #inflation       0.79      0.45      0.58        75\n",
      "#stopasianhate       0.78      0.66      0.71       180\n",
      "      #vaccine       0.62      0.69      0.65       593\n",
      "\n",
      "      accuracy                           0.64      2190\n",
      "     macro avg       0.68      0.61      0.63      2190\n",
      "  weighted avg       0.64      0.64      0.64      2190\n",
      "\n",
      "confusion matrix:\n",
      "[[201  47  39   3  10  48]\n",
      " [ 40 302  47   3  11  51]\n",
      " [ 28  46 327   2  10 127]\n",
      " [  9  11  11  34   0  10]\n",
      " [ 13  10  20   0 118  19]\n",
      " [ 18  57 103   1   3 411]]\n",
      "================================================================================\n",
      "\n",
      "================================================================================\n",
      "Training: \n",
      "LinearSVC(dual=False, tol=0.001)\n",
      "accuracy:   0.643\n",
      "dimensionality: 1048576\n",
      "classification report:\n",
      "                precision    recall  f1-score   support\n",
      "\n",
      "        #biden       0.64      0.62      0.63       348\n",
      "        #china       0.63      0.66      0.65       454\n",
      "        #covid       0.61      0.59      0.60       540\n",
      "    #inflation       0.88      0.49      0.63        75\n",
      "#stopasianhate       0.79      0.66      0.72       180\n",
      "      #vaccine       0.63      0.70      0.67       593\n",
      "\n",
      "      accuracy                           0.64      2190\n",
      "     macro avg       0.70      0.62      0.65      2190\n",
      "  weighted avg       0.65      0.64      0.64      2190\n",
      "\n",
      "confusion matrix:\n",
      "[[217  49  40   0   9  33]\n",
      " [ 43 299  49   3   9  51]\n",
      " [ 33  48 319   0  10 130]\n",
      " [  7  11   9  37   1  10]\n",
      " [ 14   9  18   0 118  21]\n",
      " [ 25  55  90   2   3 418]]\n",
      "================================================================================\n",
      "\n",
      "================================================================================\n",
      "Training: \n",
      "SGDClassifier(max_iter=50, penalty='l1')\n",
      "accuracy:   0.607\n",
      "dimensionality: 1048576\n",
      "classification report:\n",
      "                precision    recall  f1-score   support\n",
      "\n",
      "        #biden       0.59      0.54      0.57       348\n",
      "        #china       0.60      0.60      0.60       454\n",
      "        #covid       0.62      0.58      0.60       540\n",
      "    #inflation       0.36      0.48      0.41        75\n",
      "#stopasianhate       0.69      0.64      0.67       180\n",
      "      #vaccine       0.62      0.68      0.65       593\n",
      "\n",
      "      accuracy                           0.61      2190\n",
      "     macro avg       0.58      0.59      0.58      2190\n",
      "  weighted avg       0.61      0.61      0.61      2190\n",
      "\n",
      "confusion matrix:\n",
      "[[188  60  34  10  18  38]\n",
      " [ 45 272  45  20  15  57]\n",
      " [ 27  41 312  15  14 131]\n",
      " [ 13  13   8  36   1   4]\n",
      " [ 13  10  19   5 116  17]\n",
      " [ 30  56  85  13   3 406]]\n",
      "================================================================================\n",
      "\n",
      "================================================================================\n",
      "Training: \n",
      "SGDClassifier(max_iter=50, penalty='elasticnet')\n",
      "accuracy:   0.639\n",
      "dimensionality: 1048576\n",
      "classification report:\n",
      "                precision    recall  f1-score   support\n",
      "\n",
      "        #biden       0.66      0.61      0.63       348\n",
      "        #china       0.61      0.66      0.63       454\n",
      "        #covid       0.63      0.56      0.60       540\n",
      "    #inflation       0.87      0.52      0.65        75\n",
      "#stopasianhate       0.71      0.69      0.70       180\n",
      "      #vaccine       0.62      0.71      0.67       593\n",
      "\n",
      "      accuracy                           0.64      2190\n",
      "     macro avg       0.68      0.63      0.65      2190\n",
      "  weighted avg       0.64      0.64      0.64      2190\n",
      "\n",
      "confusion matrix:\n",
      "[[213  51  35   1  14  34]\n",
      " [ 44 298  43   2  17  50]\n",
      " [ 26  57 303   1  13 140]\n",
      " [  7  14   6  39   0   9]\n",
      " [ 10  13  11   0 125  21]\n",
      " [ 24  58  80   2   7 422]]\n",
      "================================================================================\n",
      "\n",
      "================================================================================\n",
      "Training: \n",
      "BernoulliNB(alpha=0.01)\n",
      "accuracy:   0.486\n",
      "dimensionality: 1048576\n",
      "classification report:\n",
      "                precision    recall  f1-score   support\n",
      "\n",
      "        #biden       0.62      0.33      0.43       348\n",
      "        #china       0.53      0.49      0.51       454\n",
      "        #covid       0.45      0.48      0.46       540\n",
      "    #inflation       0.00      0.00      0.00        75\n",
      "#stopasianhate       1.00      0.30      0.46       180\n",
      "      #vaccine       0.43      0.70      0.54       593\n",
      "\n",
      "      accuracy                           0.49      2190\n",
      "     macro avg       0.51      0.38      0.40      2190\n",
      "  weighted avg       0.52      0.49      0.47      2190\n",
      "\n",
      "confusion matrix:\n",
      "[[116  62  59   0   0 111]\n",
      " [ 28 221  79   0   0 126]\n",
      " [ 15  39 257   0   0 229]\n",
      " [ 13  22  21   0   0  19]\n",
      " [  7  25  35   0  54  59]\n",
      " [  7  45 124   0   0 417]]\n",
      "================================================================================\n",
      "\n"
     ]
    },
    {
     "name": "stderr",
     "output_type": "stream",
     "text": [
      "/opt/anaconda3/envs/Assignment3/lib/python3.7/site-packages/sklearn/utils/deprecation.py:101: FutureWarning: Attribute coef_ was deprecated in version 0.24 and will be removed in 1.1 (renaming of 0.26).\n",
      "  warnings.warn(msg, category=FutureWarning)\n",
      "/opt/anaconda3/envs/Assignment3/lib/python3.7/site-packages/sklearn/metrics/_classification.py:1248: UndefinedMetricWarning: Precision and F-score are ill-defined and being set to 0.0 in labels with no predicted samples. Use `zero_division` parameter to control this behavior.\n",
      "  _warn_prf(average, modifier, msg_start, len(result))\n",
      "/opt/anaconda3/envs/Assignment3/lib/python3.7/site-packages/sklearn/metrics/_classification.py:1248: UndefinedMetricWarning: Precision and F-score are ill-defined and being set to 0.0 in labels with no predicted samples. Use `zero_division` parameter to control this behavior.\n",
      "  _warn_prf(average, modifier, msg_start, len(result))\n",
      "/opt/anaconda3/envs/Assignment3/lib/python3.7/site-packages/sklearn/metrics/_classification.py:1248: UndefinedMetricWarning: Precision and F-score are ill-defined and being set to 0.0 in labels with no predicted samples. Use `zero_division` parameter to control this behavior.\n",
      "  _warn_prf(average, modifier, msg_start, len(result))\n"
     ]
    }
   ],
   "source": [
    "   for classify in ((RidgeClassifier(tol=1e-2, solver=\"sag\")),\n",
    "                 (Perceptron(max_iter=50)),\n",
    "                 (PassiveAggressiveClassifier(max_iter=50)),\n",
    "                 (LinearSVC(penalty=\"l1\", dual=False, tol=1e-3)),\n",
    "                 (LinearSVC(penalty=\"l2\", dual=False, tol=1e-3)),\n",
    "                 (SGDClassifier(alpha=.0001, max_iter=50, penalty='l1')),\n",
    "                 (SGDClassifier(alpha=.0001, max_iter=50,\n",
    "                                       penalty=\"elasticnet\")),\n",
    "                 (BernoulliNB(alpha=.01))):\n",
    "                  print('=' * 80)\n",
    "                  print(\"Training: \")\n",
    "                  print(classify)\n",
    "                  classify.fit(X_train, train_labels)\n",
    "                  pred = classify.predict(X_test)\n",
    "                  score = metrics.accuracy_score(test_labels, pred)\n",
    "                  print(\"accuracy:   %0.3f\" % score)\n",
    "                  print(\"dimensionality: %d\" % classify.coef_.shape[1])\n",
    "                  print(\"classification report:\")\n",
    "                  print(metrics.classification_report(test_labels, pred))\n",
    "                  print(\"confusion matrix:\")\n",
    "                  print(metrics.confusion_matrix(test_labels, pred))\n",
    "                  print('=' * 80)\n",
    "                  print()"
   ]
  }
 ],
 "metadata": {
  "kernelspec": {
   "display_name": "Python 3",
   "language": "python",
   "name": "python3"
  },
  "language_info": {
   "codemirror_mode": {
    "name": "ipython",
    "version": 3
   },
   "file_extension": ".py",
   "mimetype": "text/x-python",
   "name": "python",
   "nbconvert_exporter": "python",
   "pygments_lexer": "ipython3",
   "version": "3.7.10"
  }
 },
 "nbformat": 4,
 "nbformat_minor": 4
}
