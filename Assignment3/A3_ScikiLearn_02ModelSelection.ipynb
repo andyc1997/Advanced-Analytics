{
 "cells": [
  {
   "cell_type": "markdown",
   "metadata": {},
   "source": [
    "## Assignment 3\n",
    "\n",
    "\n",
    "### Goals\n",
    "\n",
    "- First: the original hashtags have been blanked out from the tweet. Build a predictive model that can predict the hashtag used based on the rest of the tweet text\n",
    "- Second: show that your model can make predictions in a deployed streaming setting using Spark\n"
   ]
  },
  {
   "cell_type": "code",
   "execution_count": 39,
   "metadata": {},
   "outputs": [],
   "source": [
    "import os\n",
    "import pandas as pd\n",
    "import numpy as np\n",
    "import joblib\n",
    "import matplotlib.pyplot as plt\n",
    "import nltk\n",
    "import string\n",
    "import wordcloud\n",
    "import seaborn as sns\n",
    "import spacy\n",
    "import joblib"
   ]
  },
  {
   "cell_type": "code",
   "execution_count": 32,
   "metadata": {},
   "outputs": [],
   "source": [
    "from nltk.corpus import stopwords\n",
    "from sklearn.pipeline import Pipeline\n",
    "from nltk.tokenize import word_tokenize\n",
    "from nltk.stem import SnowballStemmer\n",
    "from sklearn.feature_extraction.text import TfidfVectorizer, HashingVectorizer, CountVectorizer\n",
    "from wordcloud import WordCloud, STOPWORDS\n",
    "from sklearn.model_selection import train_test_split\n",
    "from sklearn.feature_selection import SelectFromModel\n",
    "from sklearn.linear_model import RidgeClassifier\n",
    "from sklearn.pipeline import Pipeline\n",
    "from sklearn.svm import LinearSVC\n",
    "from sklearn.linear_model import SGDClassifier\n",
    "from sklearn.naive_bayes import BernoulliNB\n",
    "from sklearn.model_selection import GridSearchCV\n",
    "from sklearn.ensemble import RandomForestClassifier\n",
    "from sklearn import metrics\n",
    "from sklearn.metrics import plot_confusion_matrix"
   ]
  },
  {
   "cell_type": "code",
   "execution_count": 3,
   "metadata": {},
   "outputs": [
    {
     "name": "stderr",
     "output_type": "stream",
     "text": [
      "[nltk_data] Downloading package punkt to\n",
      "[nltk_data]     /Users/amgiraldov/nltk_data...\n",
      "[nltk_data]   Package punkt is already up-to-date!\n"
     ]
    },
    {
     "data": {
      "text/plain": [
       "True"
      ]
     },
     "execution_count": 3,
     "metadata": {},
     "output_type": "execute_result"
    }
   ],
   "source": [
    "english_stemmer = SnowballStemmer('english')\n",
    "nlp = spacy.load('es_core_news_sm')\n",
    "stop_words = set(stopwords.words('english'))\n",
    "punctuation = set(string.punctuation)\n",
    "nltk.download(\"punkt\")"
   ]
  },
  {
   "cell_type": "code",
   "execution_count": 4,
   "metadata": {},
   "outputs": [],
   "source": [
    "def tokenize1(text):\n",
    "    doc = nlp(text)\n",
    "    words = [t.orth_ for t in doc if not t.is_punct | t.is_stop]\n",
    "    lexical_tokens = [t.lower() for t in words if t.isalpha()]\n",
    "    return lexical_tokens\n"
   ]
  },
  {
   "cell_type": "markdown",
   "metadata": {},
   "source": [
    "#### Load data"
   ]
  },
  {
   "cell_type": "code",
   "execution_count": 5,
   "metadata": {},
   "outputs": [
    {
     "data": {
      "text/plain": [
       "'/Users/amgiraldov/OneDrive - KU Leuven/Advanced Analytics'"
      ]
     },
     "execution_count": 5,
     "metadata": {},
     "output_type": "execute_result"
    }
   ],
   "source": [
    "os.chdir('/Users/amgiraldov/OneDrive - KU Leuven/Advanced Analytics')\n",
    "os.getcwd()"
   ]
  },
  {
   "cell_type": "code",
   "execution_count": 11,
   "metadata": {},
   "outputs": [],
   "source": [
    "# Load data from the training set\n",
    "# ------------------------------------\n",
    "\n",
    "df = pd.read_csv(\"tweet_00.csv\", header = None)\n",
    "df1 = pd.read_csv(\"tweet_01.csv\", header = None)\n",
    "df2 = pd.read_csv(\"tweet_02.csv\", header = None)\n",
    "df3 = pd.read_csv(\"tweet_03.csv\", header = None)\n",
    "df4 = pd.read_csv(\"tweet_04.csv\", header = None)\n",
    "df5 = pd.read_csv(\"tweet_05.csv\", header = None)\n",
    "df = pd.concat([df, df1, df2, df3, df4, df5]).drop_duplicates()\n",
    "\n",
    "df.columns = ['label', 'tweet_id', 'tweet_text']\n",
    "dummyTag = pd.get_dummies(df[\"label\"])\n",
    "dummyTag = pd.concat([df[[\"tweet_id\",\"tweet_text\"]], dummyTag], axis = 1).drop_duplicates()"
   ]
  },
  {
   "cell_type": "markdown",
   "metadata": {},
   "source": [
    "# Multiclass models"
   ]
  },
  {
   "cell_type": "code",
   "execution_count": 12,
   "metadata": {},
   "outputs": [],
   "source": [
    "data_train, data_test, train_labels, test_labels = train_test_split(df[\"tweet_text\"], \n",
    "                                                                    df[\"label\"],\n",
    "                                                                    stratify = df[\"label\"],\n",
    "                                                                    test_size = 0.20)"
   ]
  },
  {
   "cell_type": "code",
   "execution_count": 13,
   "metadata": {},
   "outputs": [],
   "source": [
    "vectorizer = TfidfVectorizer(ngram_range=(1,1), use_idf=True, tokenizer = tokenize1)"
   ]
  },
  {
   "cell_type": "code",
   "execution_count": 14,
   "metadata": {},
   "outputs": [],
   "source": [
    "X_train = vectorizer.fit_transform(data_train)\n",
    "X_test = vectorizer.transform(data_test)"
   ]
  },
  {
   "cell_type": "code",
   "execution_count": 16,
   "metadata": {},
   "outputs": [
    {
     "name": "stdout",
     "output_type": "stream",
     "text": [
      "================================================================================\n",
      "Training: \n",
      "RidgeClassifier()\n",
      "accuracy:   0.642\n",
      "classification report:\n",
      "                precision    recall  f1-score   support\n",
      "\n",
      "        #biden       0.67      0.57      0.62       348\n",
      "        #china       0.65      0.69      0.67       454\n",
      "        #covid       0.59      0.61      0.60       540\n",
      "    #inflation       0.83      0.45      0.59        75\n",
      "#stopasianhate       0.80      0.66      0.72       180\n",
      "      #vaccine       0.62      0.69      0.65       593\n",
      "\n",
      "      accuracy                           0.64      2190\n",
      "     macro avg       0.69      0.61      0.64      2190\n",
      "  weighted avg       0.65      0.64      0.64      2190\n",
      "\n",
      "confusion matrix:\n",
      "[[197  57  42   3   9  40]\n",
      " [ 31 314  46   1   9  53]\n",
      " [ 26  38 330   2   4 140]\n",
      " [  7  14  12  34   0   8]\n",
      " [ 11  16  19   0 118  16]\n",
      " [ 20  46 107   1   7 412]]\n",
      "================================================================================\n",
      "\n",
      "================================================================================\n",
      "Training: \n",
      "LinearSVC()\n",
      "accuracy:   0.633\n",
      "classification report:\n",
      "                precision    recall  f1-score   support\n",
      "\n",
      "        #biden       0.66      0.59      0.62       348\n",
      "        #china       0.65      0.67      0.66       454\n",
      "        #covid       0.58      0.61      0.60       540\n",
      "    #inflation       0.76      0.47      0.58        75\n",
      "#stopasianhate       0.74      0.67      0.71       180\n",
      "      #vaccine       0.62      0.66      0.64       593\n",
      "\n",
      "      accuracy                           0.63      2190\n",
      "     macro avg       0.67      0.61      0.63      2190\n",
      "  weighted avg       0.64      0.63      0.63      2190\n",
      "\n",
      "confusion matrix:\n",
      "[[204  56  40   3   9  36]\n",
      " [ 38 302  43   3  13  55]\n",
      " [ 28  37 331   2   9 133]\n",
      " [  7  14  12  35   0   7]\n",
      " [ 13  14  18   1 121  13]\n",
      " [ 21  44 122   2  11 393]]\n",
      "================================================================================\n",
      "\n",
      "================================================================================\n",
      "Training: \n",
      "SGDClassifier()\n",
      "accuracy:   0.642\n",
      "classification report:\n",
      "                precision    recall  f1-score   support\n",
      "\n",
      "        #biden       0.66      0.60      0.63       348\n",
      "        #china       0.66      0.66      0.66       454\n",
      "        #covid       0.59      0.61      0.60       540\n",
      "    #inflation       0.76      0.47      0.58        75\n",
      "#stopasianhate       0.76      0.69      0.72       180\n",
      "      #vaccine       0.63      0.69      0.66       593\n",
      "\n",
      "      accuracy                           0.64      2190\n",
      "     macro avg       0.68      0.62      0.64      2190\n",
      "  weighted avg       0.65      0.64      0.64      2190\n",
      "\n",
      "confusion matrix:\n",
      "[[209  49  37   3  10  40]\n",
      " [ 39 298  50   3  15  49]\n",
      " [ 31  33 330   2   6 138]\n",
      " [  8  12  12  35   1   7]\n",
      " [ 11  12  22   1 125   9]\n",
      " [ 21  45 108   2   8 409]]\n",
      "================================================================================\n",
      "\n",
      "================================================================================\n",
      "Training: \n",
      "RandomForestClassifier()\n",
      "accuracy:   0.605\n",
      "classification report:\n",
      "                precision    recall  f1-score   support\n",
      "\n",
      "        #biden       0.69      0.50      0.58       348\n",
      "        #china       0.59      0.64      0.61       454\n",
      "        #covid       0.54      0.58      0.56       540\n",
      "    #inflation       0.86      0.41      0.56        75\n",
      "#stopasianhate       0.83      0.60      0.70       180\n",
      "      #vaccine       0.58      0.69      0.63       593\n",
      "\n",
      "      accuracy                           0.60      2190\n",
      "     macro avg       0.68      0.57      0.61      2190\n",
      "  weighted avg       0.62      0.60      0.60      2190\n",
      "\n",
      "confusion matrix:\n",
      "[[175  65  52   1   7  48]\n",
      " [ 36 289  61   0   5  63]\n",
      " [ 15  54 311   2   4 154]\n",
      " [  4  12  15  31   0  13]\n",
      " [  8  20  26   1 108  17]\n",
      " [ 15  50 111   1   6 410]]\n",
      "================================================================================\n",
      "\n",
      "================================================================================\n",
      "Training: \n",
      "BernoulliNB()\n",
      "accuracy:   0.576\n",
      "classification report:\n",
      "                precision    recall  f1-score   support\n",
      "\n",
      "        #biden       0.78      0.40      0.53       348\n",
      "        #china       0.67      0.63      0.65       454\n",
      "        #covid       0.54      0.55      0.54       540\n",
      "    #inflation       0.00      0.00      0.00        75\n",
      "#stopasianhate       1.00      0.34      0.51       180\n",
      "      #vaccine       0.49      0.81      0.61       593\n",
      "\n",
      "      accuracy                           0.58      2190\n",
      "     macro avg       0.58      0.45      0.47      2190\n",
      "  weighted avg       0.61      0.58      0.56      2190\n",
      "\n",
      "confusion matrix:\n",
      "[[140  56  45   0   0 107]\n",
      " [ 14 286  55   0   0  99]\n",
      " [ 10  25 295   0   0 210]\n",
      " [  5  24  21   0   0  25]\n",
      " [  7  17  38   0  62  56]\n",
      " [  3  19  93   0   0 478]]\n",
      "================================================================================\n",
      "\n"
     ]
    },
    {
     "name": "stderr",
     "output_type": "stream",
     "text": [
      "/opt/anaconda3/envs/Assignment3/lib/python3.7/site-packages/sklearn/metrics/_classification.py:1248: UndefinedMetricWarning: Precision and F-score are ill-defined and being set to 0.0 in labels with no predicted samples. Use `zero_division` parameter to control this behavior.\n",
      "  _warn_prf(average, modifier, msg_start, len(result))\n",
      "/opt/anaconda3/envs/Assignment3/lib/python3.7/site-packages/sklearn/metrics/_classification.py:1248: UndefinedMetricWarning: Precision and F-score are ill-defined and being set to 0.0 in labels with no predicted samples. Use `zero_division` parameter to control this behavior.\n",
      "  _warn_prf(average, modifier, msg_start, len(result))\n",
      "/opt/anaconda3/envs/Assignment3/lib/python3.7/site-packages/sklearn/metrics/_classification.py:1248: UndefinedMetricWarning: Precision and F-score are ill-defined and being set to 0.0 in labels with no predicted samples. Use `zero_division` parameter to control this behavior.\n",
      "  _warn_prf(average, modifier, msg_start, len(result))\n"
     ]
    }
   ],
   "source": [
    "   for classify in ((RidgeClassifier()),\n",
    "                 (LinearSVC()),\n",
    "                 (SGDClassifier()),\n",
    "                 (RandomForestClassifier()),\n",
    "                 (BernoulliNB())):\n",
    "                  print('=' * 80)\n",
    "                  print(\"Training: \")\n",
    "                  print(classify)\n",
    "                  classify.fit(X_train, train_labels)\n",
    "                  pred = classify.predict(X_test)\n",
    "                  score = metrics.accuracy_score(test_labels, pred)\n",
    "                  print(\"accuracy:   %0.3f\" % score)\n",
    "                  print(\"classification report:\")\n",
    "                  print(metrics.classification_report(test_labels, pred))\n",
    "                  print(\"confusion matrix:\")\n",
    "                  print(metrics.confusion_matrix(test_labels, pred))\n",
    "                  print('=' * 80)\n",
    "                  print()"
   ]
  },
  {
   "cell_type": "markdown",
   "metadata": {},
   "source": [
    "# GridSearch method "
   ]
  },
  {
   "cell_type": "code",
   "execution_count": 20,
   "metadata": {},
   "outputs": [
    {
     "name": "stderr",
     "output_type": "stream",
     "text": [
      "/opt/anaconda3/envs/Assignment3/lib/python3.7/site-packages/sklearn/linear_model/_stochastic_gradient.py:577: ConvergenceWarning: Maximum number of iteration reached before convergence. Consider increasing max_iter to improve the fit.\n",
      "  ConvergenceWarning)\n",
      "/opt/anaconda3/envs/Assignment3/lib/python3.7/site-packages/sklearn/linear_model/_stochastic_gradient.py:577: ConvergenceWarning: Maximum number of iteration reached before convergence. Consider increasing max_iter to improve the fit.\n",
      "  ConvergenceWarning)\n",
      "/opt/anaconda3/envs/Assignment3/lib/python3.7/site-packages/sklearn/linear_model/_stochastic_gradient.py:577: ConvergenceWarning: Maximum number of iteration reached before convergence. Consider increasing max_iter to improve the fit.\n",
      "  ConvergenceWarning)\n",
      "/opt/anaconda3/envs/Assignment3/lib/python3.7/site-packages/sklearn/linear_model/_stochastic_gradient.py:577: ConvergenceWarning: Maximum number of iteration reached before convergence. Consider increasing max_iter to improve the fit.\n",
      "  ConvergenceWarning)\n",
      "/opt/anaconda3/envs/Assignment3/lib/python3.7/site-packages/sklearn/linear_model/_stochastic_gradient.py:577: ConvergenceWarning: Maximum number of iteration reached before convergence. Consider increasing max_iter to improve the fit.\n",
      "  ConvergenceWarning)\n",
      "/opt/anaconda3/envs/Assignment3/lib/python3.7/site-packages/sklearn/linear_model/_stochastic_gradient.py:577: ConvergenceWarning: Maximum number of iteration reached before convergence. Consider increasing max_iter to improve the fit.\n",
      "  ConvergenceWarning)\n",
      "/opt/anaconda3/envs/Assignment3/lib/python3.7/site-packages/sklearn/linear_model/_stochastic_gradient.py:577: ConvergenceWarning: Maximum number of iteration reached before convergence. Consider increasing max_iter to improve the fit.\n",
      "  ConvergenceWarning)\n",
      "/opt/anaconda3/envs/Assignment3/lib/python3.7/site-packages/sklearn/linear_model/_stochastic_gradient.py:577: ConvergenceWarning: Maximum number of iteration reached before convergence. Consider increasing max_iter to improve the fit.\n",
      "  ConvergenceWarning)\n",
      "/opt/anaconda3/envs/Assignment3/lib/python3.7/site-packages/sklearn/linear_model/_stochastic_gradient.py:577: ConvergenceWarning: Maximum number of iteration reached before convergence. Consider increasing max_iter to improve the fit.\n",
      "  ConvergenceWarning)\n",
      "/opt/anaconda3/envs/Assignment3/lib/python3.7/site-packages/sklearn/linear_model/_stochastic_gradient.py:577: ConvergenceWarning: Maximum number of iteration reached before convergence. Consider increasing max_iter to improve the fit.\n",
      "  ConvergenceWarning)\n",
      "/opt/anaconda3/envs/Assignment3/lib/python3.7/site-packages/sklearn/linear_model/_stochastic_gradient.py:577: ConvergenceWarning: Maximum number of iteration reached before convergence. Consider increasing max_iter to improve the fit.\n",
      "  ConvergenceWarning)\n",
      "/opt/anaconda3/envs/Assignment3/lib/python3.7/site-packages/sklearn/linear_model/_stochastic_gradient.py:577: ConvergenceWarning: Maximum number of iteration reached before convergence. Consider increasing max_iter to improve the fit.\n",
      "  ConvergenceWarning)\n",
      "/opt/anaconda3/envs/Assignment3/lib/python3.7/site-packages/sklearn/linear_model/_stochastic_gradient.py:577: ConvergenceWarning: Maximum number of iteration reached before convergence. Consider increasing max_iter to improve the fit.\n",
      "  ConvergenceWarning)\n",
      "/opt/anaconda3/envs/Assignment3/lib/python3.7/site-packages/sklearn/linear_model/_stochastic_gradient.py:577: ConvergenceWarning: Maximum number of iteration reached before convergence. Consider increasing max_iter to improve the fit.\n",
      "  ConvergenceWarning)\n",
      "/opt/anaconda3/envs/Assignment3/lib/python3.7/site-packages/sklearn/linear_model/_stochastic_gradient.py:577: ConvergenceWarning: Maximum number of iteration reached before convergence. Consider increasing max_iter to improve the fit.\n",
      "  ConvergenceWarning)\n",
      "/opt/anaconda3/envs/Assignment3/lib/python3.7/site-packages/sklearn/linear_model/_stochastic_gradient.py:577: ConvergenceWarning: Maximum number of iteration reached before convergence. Consider increasing max_iter to improve the fit.\n",
      "  ConvergenceWarning)\n",
      "/opt/anaconda3/envs/Assignment3/lib/python3.7/site-packages/sklearn/linear_model/_stochastic_gradient.py:577: ConvergenceWarning: Maximum number of iteration reached before convergence. Consider increasing max_iter to improve the fit.\n",
      "  ConvergenceWarning)\n",
      "/opt/anaconda3/envs/Assignment3/lib/python3.7/site-packages/sklearn/linear_model/_stochastic_gradient.py:577: ConvergenceWarning: Maximum number of iteration reached before convergence. Consider increasing max_iter to improve the fit.\n",
      "  ConvergenceWarning)\n",
      "/opt/anaconda3/envs/Assignment3/lib/python3.7/site-packages/sklearn/linear_model/_stochastic_gradient.py:577: ConvergenceWarning: Maximum number of iteration reached before convergence. Consider increasing max_iter to improve the fit.\n",
      "  ConvergenceWarning)\n",
      "/opt/anaconda3/envs/Assignment3/lib/python3.7/site-packages/sklearn/linear_model/_stochastic_gradient.py:577: ConvergenceWarning: Maximum number of iteration reached before convergence. Consider increasing max_iter to improve the fit.\n",
      "  ConvergenceWarning)\n",
      "/opt/anaconda3/envs/Assignment3/lib/python3.7/site-packages/sklearn/linear_model/_stochastic_gradient.py:577: ConvergenceWarning: Maximum number of iteration reached before convergence. Consider increasing max_iter to improve the fit.\n",
      "  ConvergenceWarning)\n",
      "/opt/anaconda3/envs/Assignment3/lib/python3.7/site-packages/sklearn/linear_model/_stochastic_gradient.py:577: ConvergenceWarning: Maximum number of iteration reached before convergence. Consider increasing max_iter to improve the fit.\n",
      "  ConvergenceWarning)\n",
      "/opt/anaconda3/envs/Assignment3/lib/python3.7/site-packages/sklearn/linear_model/_stochastic_gradient.py:577: ConvergenceWarning: Maximum number of iteration reached before convergence. Consider increasing max_iter to improve the fit.\n",
      "  ConvergenceWarning)\n",
      "/opt/anaconda3/envs/Assignment3/lib/python3.7/site-packages/sklearn/linear_model/_stochastic_gradient.py:577: ConvergenceWarning: Maximum number of iteration reached before convergence. Consider increasing max_iter to improve the fit.\n",
      "  ConvergenceWarning)\n",
      "/opt/anaconda3/envs/Assignment3/lib/python3.7/site-packages/sklearn/linear_model/_stochastic_gradient.py:577: ConvergenceWarning: Maximum number of iteration reached before convergence. Consider increasing max_iter to improve the fit.\n",
      "  ConvergenceWarning)\n",
      "/opt/anaconda3/envs/Assignment3/lib/python3.7/site-packages/sklearn/linear_model/_stochastic_gradient.py:577: ConvergenceWarning: Maximum number of iteration reached before convergence. Consider increasing max_iter to improve the fit.\n",
      "  ConvergenceWarning)\n",
      "/opt/anaconda3/envs/Assignment3/lib/python3.7/site-packages/sklearn/linear_model/_stochastic_gradient.py:577: ConvergenceWarning: Maximum number of iteration reached before convergence. Consider increasing max_iter to improve the fit.\n",
      "  ConvergenceWarning)\n",
      "/opt/anaconda3/envs/Assignment3/lib/python3.7/site-packages/sklearn/linear_model/_stochastic_gradient.py:577: ConvergenceWarning: Maximum number of iteration reached before convergence. Consider increasing max_iter to improve the fit.\n",
      "  ConvergenceWarning)\n",
      "/opt/anaconda3/envs/Assignment3/lib/python3.7/site-packages/sklearn/linear_model/_stochastic_gradient.py:577: ConvergenceWarning: Maximum number of iteration reached before convergence. Consider increasing max_iter to improve the fit.\n",
      "  ConvergenceWarning)\n",
      "/opt/anaconda3/envs/Assignment3/lib/python3.7/site-packages/sklearn/linear_model/_stochastic_gradient.py:577: ConvergenceWarning: Maximum number of iteration reached before convergence. Consider increasing max_iter to improve the fit.\n",
      "  ConvergenceWarning)\n",
      "/opt/anaconda3/envs/Assignment3/lib/python3.7/site-packages/sklearn/linear_model/_stochastic_gradient.py:577: ConvergenceWarning: Maximum number of iteration reached before convergence. Consider increasing max_iter to improve the fit.\n",
      "  ConvergenceWarning)\n",
      "/opt/anaconda3/envs/Assignment3/lib/python3.7/site-packages/sklearn/linear_model/_stochastic_gradient.py:577: ConvergenceWarning: Maximum number of iteration reached before convergence. Consider increasing max_iter to improve the fit.\n",
      "  ConvergenceWarning)\n"
     ]
    },
    {
     "name": "stderr",
     "output_type": "stream",
     "text": [
      "/opt/anaconda3/envs/Assignment3/lib/python3.7/site-packages/sklearn/linear_model/_stochastic_gradient.py:577: ConvergenceWarning: Maximum number of iteration reached before convergence. Consider increasing max_iter to improve the fit.\n",
      "  ConvergenceWarning)\n",
      "/opt/anaconda3/envs/Assignment3/lib/python3.7/site-packages/sklearn/linear_model/_stochastic_gradient.py:577: ConvergenceWarning: Maximum number of iteration reached before convergence. Consider increasing max_iter to improve the fit.\n",
      "  ConvergenceWarning)\n",
      "/opt/anaconda3/envs/Assignment3/lib/python3.7/site-packages/sklearn/linear_model/_stochastic_gradient.py:577: ConvergenceWarning: Maximum number of iteration reached before convergence. Consider increasing max_iter to improve the fit.\n",
      "  ConvergenceWarning)\n",
      "/opt/anaconda3/envs/Assignment3/lib/python3.7/site-packages/sklearn/linear_model/_stochastic_gradient.py:577: ConvergenceWarning: Maximum number of iteration reached before convergence. Consider increasing max_iter to improve the fit.\n",
      "  ConvergenceWarning)\n",
      "/opt/anaconda3/envs/Assignment3/lib/python3.7/site-packages/sklearn/linear_model/_stochastic_gradient.py:577: ConvergenceWarning: Maximum number of iteration reached before convergence. Consider increasing max_iter to improve the fit.\n",
      "  ConvergenceWarning)\n",
      "/opt/anaconda3/envs/Assignment3/lib/python3.7/site-packages/sklearn/linear_model/_stochastic_gradient.py:577: ConvergenceWarning: Maximum number of iteration reached before convergence. Consider increasing max_iter to improve the fit.\n",
      "  ConvergenceWarning)\n",
      "/opt/anaconda3/envs/Assignment3/lib/python3.7/site-packages/sklearn/linear_model/_stochastic_gradient.py:577: ConvergenceWarning: Maximum number of iteration reached before convergence. Consider increasing max_iter to improve the fit.\n",
      "  ConvergenceWarning)\n",
      "/opt/anaconda3/envs/Assignment3/lib/python3.7/site-packages/sklearn/linear_model/_stochastic_gradient.py:577: ConvergenceWarning: Maximum number of iteration reached before convergence. Consider increasing max_iter to improve the fit.\n",
      "  ConvergenceWarning)\n"
     ]
    },
    {
     "name": "stdout",
     "output_type": "stream",
     "text": [
      "{'alpha': 0.0001, 'loss': 'hinge', 'penalty': 'elasticnet'}\n"
     ]
    }
   ],
   "source": [
    "params = {\n",
    "    \"loss\" : [\"hinge\", \"log\", \"squared_hinge\", \"modified_huber\", \"perceptron\"],\n",
    "    \"alpha\" : [0.0001, 0.001, 0.01, 0.1],\n",
    "    \"penalty\" : [\"l2\", \"l1\", \"elasticnet\", \"none\"],\n",
    "}\n",
    "\n",
    "clf = SGDClassifier(max_iter=10000)\n",
    "grid = GridSearchCV(clf, param_grid=params, cv=10)\n",
    "\n",
    "\n",
    "grid.fit(X_train, train_labels)\n",
    "\n",
    "print(grid.best_params_) "
   ]
  },
  {
   "cell_type": "code",
   "execution_count": 21,
   "metadata": {},
   "outputs": [
    {
     "data": {
      "text/plain": [
       "GridSearchCV(cv=10, estimator=SGDClassifier(max_iter=10000),\n",
       "             param_grid={'alpha': [0.0001, 0.001, 0.01, 0.1],\n",
       "                         'loss': ['hinge', 'log', 'squared_hinge',\n",
       "                                  'modified_huber', 'perceptron'],\n",
       "                         'penalty': ['l2', 'l1', 'elasticnet', 'none']})"
      ]
     },
     "execution_count": 21,
     "metadata": {},
     "output_type": "execute_result"
    }
   ],
   "source": [
    "grid\n"
   ]
  },
  {
   "cell_type": "code",
   "execution_count": 29,
   "metadata": {},
   "outputs": [],
   "source": [
    "classify = SGDClassifier(alpha =  0.0001, loss = 'hinge', penalty = 'elasticnet')\n",
    "#classify = SGDClassifier()"
   ]
  },
  {
   "cell_type": "code",
   "execution_count": 30,
   "metadata": {},
   "outputs": [
    {
     "name": "stdout",
     "output_type": "stream",
     "text": [
      "accuracy:   0.644\n",
      "classification report:\n",
      "                precision    recall  f1-score   support\n",
      "\n",
      "        #biden       0.66      0.62      0.64       348\n",
      "        #china       0.66      0.66      0.66       454\n",
      "        #covid       0.61      0.59      0.60       540\n",
      "    #inflation       0.80      0.43      0.56        75\n",
      "#stopasianhate       0.75      0.70      0.72       180\n",
      "      #vaccine       0.61      0.71      0.66       593\n",
      "\n",
      "      accuracy                           0.64      2190\n",
      "     macro avg       0.68      0.62      0.64      2190\n",
      "  weighted avg       0.65      0.64      0.64      2190\n",
      "\n",
      "confusion matrix:\n",
      "[[216  48  33   2  11  38]\n",
      " [ 38 299  45   1  15  56]\n",
      " [ 28  32 318   2   7 153]\n",
      " [ 11  13  10  32   1   8]\n",
      " [ 13  11  19   0 126  11]\n",
      " [ 19  47  97   3   8 419]]\n"
     ]
    }
   ],
   "source": [
    "classify.fit(X_train, train_labels)\n",
    "pred = classify.predict(X_test)\n",
    "score = metrics.accuracy_score(test_labels, pred)\n",
    "print(\"accuracy:   %0.3f\" % score)\n",
    "print(\"classification report:\")\n",
    "print(metrics.classification_report(test_labels, pred))\n",
    "print(\"confusion matrix:\")\n",
    "print(metrics.confusion_matrix(test_labels, pred))"
   ]
  },
  {
   "cell_type": "code",
   "execution_count": 38,
   "metadata": {},
   "outputs": [
    {
     "data": {
      "text/plain": [
       "<sklearn.metrics._plot.confusion_matrix.ConfusionMatrixDisplay at 0x7f894e1e5d90>"
      ]
     },
     "execution_count": 38,
     "metadata": {},
     "output_type": "execute_result"
    },
    {
     "data": {
      "image/png": "[encoded data removed]",
      "text/plain": [
       "<Figure size 432x288 with 2 Axes>"
      ]
     },
     "metadata": {
      "needs_background": "light"
     },
     "output_type": "display_data"
    }
   ],
   "source": [
    "plot_confusion_matrix(classify, X_test, test_labels,  normalize = 'true', xticks_rotation = 'vertical')  \n"
   ]
  },
  {
   "cell_type": "markdown",
   "metadata": {},
   "source": [
    "# Saving the trained models"
   ]
  },
  {
   "cell_type": "code",
   "execution_count": 40,
   "metadata": {},
   "outputs": [
    {
     "data": {
      "text/plain": [
       "['classifier.joblib']"
      ]
     },
     "execution_count": 40,
     "metadata": {},
     "output_type": "execute_result"
    }
   ],
   "source": [
    "joblib.dump(vectorizer, \"vectorizer.joblib\")\n",
    "joblib.dump(classify, \"classifier.joblib\")"
   ]
  },
  {
   "cell_type": "code",
   "execution_count": null,
   "metadata": {},
   "outputs": [],
   "source": []
  }
 ],
 "metadata": {
  "kernelspec": {
   "display_name": "Python 3",
   "language": "python",
   "name": "python3"
  },
  "language_info": {
   "codemirror_mode": {
    "name": "ipython",
    "version": 3
   },
   "file_extension": ".py",
   "mimetype": "text/x-python",
   "name": "python",
   "nbconvert_exporter": "python",
   "pygments_lexer": "ipython3",
   "version": "3.7.10"
  }
 },
 "nbformat": 4,
 "nbformat_minor": 4
}
