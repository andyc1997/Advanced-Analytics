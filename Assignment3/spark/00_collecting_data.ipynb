{
 "cells": [
  {
   "cell_type": "code",
   "execution_count": null,
   "metadata": {},
   "outputs": [],
   "source": [
    "# Helper thread in order to have a stream running in the background in Jupyter\n",
    "\n",
    "from threading import Thread\n",
    "\n",
    "class StreamingThread(Thread):\n",
    "    def __init__(self, ssc):\n",
    "        Thread.__init__(self)\n",
    "        self.ssc = ssc\n",
    "    def run(self):\n",
    "        ssc.start()\n",
    "        ssc.awaitTermination()\n",
    "    def stop(self):\n",
    "        print('----- Stopping... this may take a few seconds -----')\n",
    "        self.ssc.stop(stopSparkContext=False, stopGraceFully=True)"
   ]
  },
  {
   "cell_type": "code",
   "execution_count": 2,
   "metadata": {},
   "outputs": [
    {
     "data": {
      "text/html": [
       "\n",
       "        <div>\n",
       "            <p><b>SparkContext</b></p>\n",
       "\n",
       "            <p><a href=\"http://LAPTOP-PJSVL4LK:4040\">Spark UI</a></p>\n",
       "\n",
       "            <dl>\n",
       "              <dt>Version</dt>\n",
       "                <dd><code>v3.1.1</code></dd>\n",
       "              <dt>Master</dt>\n",
       "                <dd><code>local[*]</code></dd>\n",
       "              <dt>AppName</dt>\n",
       "                <dd><code>PySparkShell</code></dd>\n",
       "            </dl>\n",
       "        </div>\n",
       "        "
      ],
      "text/plain": [
       "<SparkContext master=local[*] appName=PySparkShell>"
      ]
     },
     "execution_count": 2,
     "metadata": {},
     "output_type": "execute_result"
    }
   ],
   "source": [
    "sc"
   ]
  },
  {
   "cell_type": "code",
   "execution_count": 3,
   "metadata": {},
   "outputs": [],
   "source": [
    "from pyspark.streaming import StreamingContext"
   ]
  },
  {
   "cell_type": "code",
   "execution_count": 4,
   "metadata": {},
   "outputs": [],
   "source": [
    "ssc = StreamingContext(sc, 300)"
   ]
  },
  {
   "cell_type": "code",
   "execution_count": 5,
   "metadata": {
    "scrolled": true
   },
   "outputs": [],
   "source": [
    "lines = ssc.socketTextStream(\"seppe.net\", 7778)\n",
    "lines.pprint()"
   ]
  },
  {
   "cell_type": "code",
   "execution_count": 6,
   "metadata": {},
   "outputs": [],
   "source": [
    "lines.saveAsTextFiles(\"file:///C:/Users/Marce/OneDrive - KU Leuven/Advanced Analytics/myoutput/\")"
   ]
  },
  {
   "cell_type": "code",
   "execution_count": 7,
   "metadata": {
    "scrolled": true
   },
   "outputs": [
    {
     "name": "stdout",
     "output_type": "stream",
     "text": [
      "-------------------------------------------\n",
      "Time: 2021-04-27 09:50:00\n",
      "-------------------------------------------\n",
      "{\"tweet_id\": 1386947184399060992, \"tweet_text\": \"\\\"If you could wait until the food got cooked, can't you wait till it cools down?\\\" \\u2014 Malayalam proverb\\n\\n#\\u2588\\u2588\\u2588\\u2588\\u2588\\u2588\\u2588 #\\u2588\\u2588\\u2588\\u2588\\u2588\\u2588\\u2588iots https://t.co/aEPuBW0BcE\", \"label\": \"#covid\"}\n",
      "{\"tweet_id\": 1386947158897790980, \"tweet_text\": \"Creative projects give people a chance to express their grief and honour loved ones who died during the #\\u2588\\u2588\\u2588\\u2588\\u2588\\u2588\\u2588 pandemic  \\u2066@IrishHospice\\u2069 \\u2066@creativeirl\\u2069\\nvia @IrishTimes\\nhttps://t.co/p9ArhpYyYE\", \"label\": \"#covid\"}\n",
      "{\"tweet_id\": 1386947140908355587, \"tweet_text\": \"#\\u2588\\u2588\\u2588\\u2588\\u2588\\u2588\\u2588 &amp;(#\\u2588\\u2588\\u2588\\u2588\\u2588\\u2588\\u2588/#MEK #\\u2588\\u2588\\u2588\\u2588\\u2588\\u2588\\u2588): Shiraz University of Medical Sciences spokesperson said: With the arrival of 446 new COVID-19 patients, hospital beds are full. We have 2,792 beds utilized to #\\u2588\\u2588\\u2588\\u2588\\u2588\\u2588\\u2588 patients. (Mehr news agency, April 26, 2021) #\\u2588\\u2588\\u2588\\u2588\\u2588\\u2588\\u2588\\nhttps://t.co/6878Vd3Fq8\", \"label\": \"#covid\"}\n",
      "{\"tweet_id\": 1386947138823753728, \"tweet_text\": \"Heartbreaking scenes from #\\u2588\\u2588\\u2588\\u2588\\u2588\\u2588\\u2588. Australia announces it is suspending flights to prevent the spread of India\\u2019s #\\u2588\\u2588\\u2588\\u2588\\u2588\\u2588\\u2588 variant. #\\u2588\\u2588\\u2588\\u2588\\u2588\\u2588\\u2588 #\\u2588\\u2588\\u2588\\u2588\\u2588\\u2588\\u2588 https://t.co/s1g4YVNAlr\", \"label\": \"#covid\"}\n",
      "{\"tweet_id\": 1386947133325156352, \"tweet_text\": \"In our new issue: the burden of #\\u2588\\u2588\\u2588\\u2588\\u2588\\u2588\\u2588 &amp; ways to strengthen tracing &amp; treatment access; impact of income assistance timing on drug-related harm; risk of #\\u2588\\u2588\\u2588\\u2588\\u2588\\u2588\\u2588 and #\\u2588\\u2588\\u2588\\u2588\\u2588\\u2588\\u2588 in people who are #\\u2588\\u2588\\u2588\\u2588\\u2588\\u2588\\u2588 and inject drugs; epidemiology of #\\u2588\\u2588\\u2588\\u2588\\u2588\\u2588\\u2588 B117, + more! https://t.co/y7DMwsu7NA https://t.co/GhsRtHzDQG\", \"label\": \"#covid\"}\n",
      "{\"tweet_id\": 1386947279462957056, \"tweet_text\": \"#\\u2588\\u2588\\u2588\\u2588\\u2588\\u2588\\u2588  #\\u2588\\u2588\\u2588\\u2588\\u2588\\u2588\\u2588  #\\u2588\\u2588\\u2588\\u2588\\u2588\\u2588\\u2588 #\\u2588\\u2588\\u2588\\u2588\\u2588\\u2588\\u2588#DrLiMengYan1#\\u95eb\\u4e3d\\u68a6 #\\u90ed\\u6587\\u8d35#\\u2588\\u2588\\u2588\\u2588\\u2588\\u2588\\u2588#YanLiMengSHUT UP YOUR MOUTH, DON'T MAKE FAKE NEWS ABOUT COVID-19 Guo Wengui Bannon and Yan Limeng. https://t.co/kGyUwKuEIZ\", \"label\": \"#stopasianhate\"}\n",
      "{\"tweet_id\": 1386947244255977473, \"tweet_text\": \"#\\u2588\\u2588\\u2588\\u2588\\u2588\\u2588\\u2588  \\n#\\u2588\\u2588\\u2588\\u2588\\u2588\\u2588\\u2588\\nProtecting Asians from harm https://t.co/OAzuXILjdt\", \"label\": \"#stopasianhate\"}\n",
      "{\"tweet_id\": 1386947792321486848, \"tweet_text\": \"Urgently need #\\u2588\\u2588\\u2588\\u2588\\u2588\\u2588\\u2588 #\\u2588\\u2588\\u2588\\u2588\\u2588\\u2588\\u2588 please message me if you have any leads \\nplease #\\u2588\\u2588\\u2588\\u2588\\u2588\\u2588\\u2588\\n #\\u2588\\u2588\\u2588\\u2588\\u2588\\u2588\\u2588 #\\u2588\\u2588\\u2588\\u2588\\u2588\\u2588\\u2588 #\\u2588\\u2588\\u2588\\u2588\\u2588\\u2588\\u2588SOS\", \"label\": \"#covid\"}\n",
      "{\"tweet_id\": 1386947988065488896, \"tweet_text\": \"China food security: why the nation\\u2019s \\u2018food crisis\\u2019 is more of a livestock feed challenge \\n#\\u2588\\u2588\\u2588\\u2588\\u2588\\u2588\\u2588 #\\u2588\\u2588\\u2588\\u2588\\u2588\\u2588\\u2588\\nhttps://t.co/oPSIWVn8aV\", \"label\": \"#china\"}\n",
      "{\"tweet_id\": 1386948641949028360, \"tweet_text\": \"#\\u2588\\u2588\\u2588\\u2588\\u2588\\u2588\\u2588 asian hate\\n#\\u2588\\u2588\\u2588\\u2588\\u2588\\u2588\\u2588asianhate\\n#\\u2588\\u2588\\u2588\\u2588\\u2588\\u2588\\u2588  \\n#\\u2588\\u2588\\u2588\\u2588\\u2588\\u2588\\u2588\\n#\\u2588\\u2588\\u2588\\u2588\\u2588\\u2588\\u2588\\n#\\u2588\\u2588\\u2588\\u2588\\u2588\\u2588\\u2588 Wengui\\nStop spreading rumors \\nit's time to settle accounts with Yan limeng https://t.co/oh5UsereTp\", \"label\": \"#stopasianhate\"}\n",
      "...\n",
      "\n"
     ]
    }
   ],
   "source": [
    "ssc_t = StreamingThread(ssc)\n",
    "ssc_t.start()"
   ]
  },
  {
   "cell_type": "code",
   "execution_count": null,
   "metadata": {},
   "outputs": [],
   "source": [
    "# ssc_t.stop()"
   ]
  }
 ],
 "metadata": {
  "kernelspec": {
   "display_name": "Python 3",
   "language": "python",
   "name": "python3"
  },
  "language_info": {
   "codemirror_mode": {
    "name": "ipython",
    "version": 3
   },
   "file_extension": ".py",
   "mimetype": "text/x-python",
   "name": "python",
   "nbconvert_exporter": "python",
   "pygments_lexer": "ipython3",
   "version": "3.8.5"
  },
  "toc": {
   "base_numbering": 1,
   "nav_menu": {},
   "number_sections": true,
   "sideBar": true,
   "skip_h1_title": false,
   "title_cell": "Table of Contents",
   "title_sidebar": "Contents",
   "toc_cell": false,
   "toc_position": {},
   "toc_section_display": true,
   "toc_window_display": false
  }
 },
 "nbformat": 4,
 "nbformat_minor": 2
}
